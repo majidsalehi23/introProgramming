{
 "cells": [
  {
   "cell_type": "markdown",
   "metadata": {
    "slideshow": {
     "slide_type": "slide"
    }
   },
   "source": [
    "# Recursion"
   ]
  },
  {
   "cell_type": "markdown",
   "metadata": {},
   "source": [
    "## Table of Contents\n",
    "\n",
    "- [1. Recursion](#1.-Recursion)\n",
    "- [2. Infinite Recursion](#2.-Infinite-Recursion)\n",
    "- [3. The Factorial Function](#3.-The-Factorial-Function)\n",
    "- [4. The Fibonacci Function](#4.-The-Fibonacci-Function)\n",
    "- [5. The Towers of Hanoi](#5.-The-Towers-of-Hanoi)\n",
    "- [6. Memos](#6.-Memos)\n",
    "- [7. Recursive Data Types](#7.-Recursive-Data-Types)"
   ]
  },
  {
   "cell_type": "markdown",
   "metadata": {
    "slideshow": {
     "slide_type": "slide"
    }
   },
   "source": [
    "## 1. Recursion\n",
    "\n",
    "One of the most powerful but also intriguing features of programming is **recursion**.\n",
    "\n",
    "Rózsa Péter, born Rózsa Politzer, (17 February 1905 – 16 February 1977) was a Hungarian mathematician and logician. She is best known as the \"founding mother of recursion theory\". \n",
    "Péter presented the results of her paper on recursive theory, \"Rekursive Funktionen\", to the International Congress of Mathematicians in Zurich, Switzerland in 1932. \n",
    "\n",
    "<img src=\"assets/220px-RozsaPeter.jpg\" width=400 height=400 />\n",
    "\n",
    "In computer science, **recursion** is a method of solving a computational problem where the solution depends on solutions to smaller instances of the same problem.\n",
    "\n",
    "Recursion solves these recursive problems by using **functions that call themselves** from within their own code. Recursion is one of the central ideas of computer science.\n",
    "\n",
    "\"The power of recursion evidently lies in the possibility of defining an infinite set of objects by a finite statement. In the same manner, an infinite number of computations can be described by a finite recursive program, even if this program contains no explicit repetitions.\" A quote by Niklaus Wirth in his book *Algorithms + Data Structures = Programs*, 1976"
   ]
  },
  {
   "cell_type": "markdown",
   "metadata": {
    "slideshow": {
     "slide_type": "slide"
    }
   },
   "source": [
    "If translated to our Python world, one could say that you define a function in terms of itself.\n",
    "That is, in the definition of the function body a function call to the function you are defining is used.\n",
    "\n",
    "Let us make this more concrete by means of a simple example."
   ]
  },
  {
   "cell_type": "code",
   "execution_count": null,
   "metadata": {
    "slideshow": {
     "slide_type": "fragment"
    }
   },
   "outputs": [],
   "source": [
    "def countdown(n: int) -> None:\n",
    "    \"\"\" \n",
    "    Prints by means of recursion decreasing values from n to 1 \n",
    "    and prints \"Ready!\" for n = 0.\n",
    "    :param n: integer value as counter\n",
    "    \"\"\"\n",
    "    if n <= 0:\n",
    "        print('Ready!')\n",
    "    else:\n",
    "        print(n)\n",
    "        countdown(n - 1)\n",
    " #       print(n)"
   ]
  },
  {
   "cell_type": "markdown",
   "metadata": {
    "slideshow": {
     "slide_type": "fragment"
    }
   },
   "source": [
    "If `n` is `0` or negative, it outputs the word, “Ready!”.\n",
    "\n",
    "Otherwise, it outputs `n` and then calls a function named `countdown` passing `n - 1` as an argument."
   ]
  },
  {
   "cell_type": "code",
   "execution_count": null,
   "metadata": {
    "slideshow": {
     "slide_type": "fragment"
    }
   },
   "outputs": [],
   "source": [
    "countdown(3)"
   ]
  },
  {
   "cell_type": "markdown",
   "metadata": {
    "slideshow": {
     "slide_type": "subslide"
    }
   },
   "source": [
    "The execution of countdown begins with `n=3`, and since `n` is greater than `0`, \n",
    "it outputs the value `3`, and then calls itself...\n",
    "\n",
    "The execution of countdown begins with `n=2`, and since `n` is greater than `0`, \n",
    "it outputs the value 2, and then calls itself...\n",
    "\n",
    "The execution of countdown begins with `n=1`, and since `n` is greater than `0`,\n",
    "it outputs the value 1, and then calls itself...\n",
    "  \n",
    "The execution of countdown begins with `n=0`, and since `n` is\n",
    "not greater than `0`, it outputs the word, “Ready!” and then returns.\n",
    "\n",
    "The countdown that got `n=1` returns.\n",
    "\n",
    "The countdown that got `n=2` returns.\n",
    "\n",
    "The countdown that got `n=3` returns.\n",
    "\n",
    "And then you are back in `__main__`.\n",
    "\n",
    "A function that calls itself is **recursive**; the process of executing it is called **recursion**.\n",
    "\n",
    "We can write a function that prints a string `n` times."
   ]
  },
  {
   "cell_type": "code",
   "execution_count": null,
   "metadata": {
    "slideshow": {
     "slide_type": "fragment"
    }
   },
   "outputs": [],
   "source": [
    "def print_n(s: str, n: int) -> None:\n",
    "    \"\"\" \n",
    "    Prints the string represented by the parameter \"s\" and recursively\n",
    "    calls itself with a string \"<s> <s>\" as long as \"n > 0\".\n",
    "    :param s: the string to be printed\n",
    "    :param n: integer value as a counter\n",
    "    \"\"\"\n",
    "    if n <= 0:\n",
    "        print(\"Ready!\")\n",
    "    else:\n",
    "        print(s)\n",
    "        print_n(f'{s} {s}', n - 1)\n",
    "    \n",
    "print_n('Programming is fun', 5)"
   ]
  },
  {
   "cell_type": "markdown",
   "metadata": {
    "slideshow": {
     "slide_type": "fragment"
    }
   },
   "source": [
    "If `n <= 0` **the return statement exits the function**. \n",
    "\n",
    "The flow of execution immediately returns\n",
    "to the caller, and the remaining lines of the function are not executed.\n",
    "\n",
    "The rest of the function is similar to `countdown`: it displays the string represented by the variable `s` and then calls itself to display\n",
    "`s` `n − 1`  times. \n",
    "\n",
    "For simple examples like this, it is probably easier to use a `for` loop.\n",
    "\n",
    "But we will come across examples that are much harder to write with a `for` loop than with recursion, for instance calculating the **factorials** or the **fibonacci numbers**, see later.\n",
    "\n",
    "However, some care is needed! It is very easy to create a recursive function that does not terminate, it is as easy as creating a loop that does not terminate, when does a loop not terminate?"
   ]
  },
  {
   "cell_type": "markdown",
   "metadata": {
    "jupyter": {
     "source_hidden": true
    },
    "tags": []
   },
   "source": [
    "<div class=\"alert alert-success\">\n",
    "    <b>Do It Yourself!</b><br>\n",
    "    Create the recursive version of the function <i>sum_digits</i>. As before, the function takes a number as input and returns the sum of all the digits of such number. For instance, the output for the input 13450 is 13. \n",
    "</div>"
   ]
  },
  {
   "cell_type": "code",
   "execution_count": null,
   "metadata": {
    "tags": []
   },
   "outputs": [],
   "source": [
    "# Remove this line and add your code here"
   ]
  },
  {
   "cell_type": "code",
   "execution_count": null,
   "metadata": {},
   "outputs": [],
   "source": [
    "while True:\n",
    "    print(\"hi!\")"
   ]
  },
  {
   "cell_type": "markdown",
   "metadata": {
    "slideshow": {
     "slide_type": "slide"
    }
   },
   "source": [
    "## 2. Infinite Recursion\n",
    "\n",
    "Recursion is very powerful and convenient, but there is also a risk, we have to ensure that the recursion terminates.\n",
    "Thus, as a programmer you have to take care of formulating a correct **base case** that terminates the recursion.\n",
    "\n",
    "If you consider both the `countdown` and the `print_n` function you will see that the base case is formulated as\n",
    "`n <= 0`.\n",
    "The reason for using `n <= 0` is to ensure termination of the recursion even if these functions are called with a negative number.\n",
    "\n",
    "If you encounter an infinite recursion by accident, review your function to confirm that\n",
    "there is a base case that does not make a recursive call.\n",
    "And if there is a base case, check whether you are guaranteed to reach it.\n",
    "\n",
    "The `print_n` recursive function, terminate elegantly for values of `n < 10`."
   ]
  },
  {
   "cell_type": "code",
   "execution_count": null,
   "metadata": {
    "slideshow": {
     "slide_type": "fragment"
    }
   },
   "outputs": [],
   "source": [
    "print_n('Programming is fun', -10)"
   ]
  },
  {
   "cell_type": "markdown",
   "metadata": {},
   "source": [
    "An improper definition of the **base case** can be fatal. In the cell below the check is too weak, if the counter starts with an negative value the recursion will not stop."
   ]
  },
  {
   "cell_type": "code",
   "execution_count": null,
   "metadata": {
    "slideshow": {
     "slide_type": "fragment"
    }
   },
   "outputs": [],
   "source": [
    "def print_n(s: str, n: int) -> None:\n",
    "    \"\"\" \n",
    "    Prints the string represented by the parameter \"s\" and recursively\n",
    "    calls itself with a string \"s+ +s\" as long as \"n != 0\".\n",
    "    :param s: the string to be printed\n",
    "    :param n: integer value as counter\n",
    "    \"\"\"\n",
    "    if n == 0:\n",
    "        print(\"Ready!\")\n",
    "    else:\n",
    "        print(s)\n",
    "        print_n(f'{s} {s}', n - 1)\n",
    "    \n",
    "print_n('Machine Learning', -2)"
   ]
  },
  {
   "cell_type": "markdown",
   "metadata": {
    "jupyter": {
     "source_hidden": true
    },
    "tags": []
   },
   "source": [
    "<div class=\"alert alert-success\">\n",
    "    <b>Do It Yourself!</b><br>\n",
    "    Which is the base case of the recursive function <i>sum_digits</i>? \n",
    "</div>"
   ]
  },
  {
   "cell_type": "markdown",
   "metadata": {
    "slideshow": {
     "slide_type": "slide"
    }
   },
   "source": [
    "## 3. The Factorial Function\n",
    "\n",
    "A recursive definition is similar to a circular definition, \n",
    "in the sense that the definition contains a reference to the element being defined. \n",
    "In normal life, this does not make much sense, but in mathematics and programming it is extremely handy.\n",
    "\n",
    "Consider the recursive definition of the factorial function:\n",
    "\n",
    "$0! = 1 \\\\\n",
    " n! = n \\times (n - 1)!$\n",
    " \n",
    "This definition says that the factorial of $0$ is $1$, this is the **base case**, and the factorial of any other value, $n$, is $n$\n",
    "multiplied by the factorial of $n − 1$.\n",
    "\n",
    "So 3! is 3 times 2!, which is 2 times 1!, which is 1 times 0!:  \n",
    "$3! = 3 \\times 2! = 3 \\times 2 \\times 1! = 3 \\times 2 \\times 1 \\times 0!$\n",
    "\n",
    "Putting it all together, 3! equals 3 times 2 times 1 times 1, which is 6:  \n",
    "$3! = 3 \\times 2 \\times 1 \\times 1 = 6$\n",
    "\n",
    "If you can write a recursive definition of something, you can write a Python program to\n",
    "evaluate it. \n",
    "\n",
    "The first step is to decide what the parameters should be. In this case it should\n",
    "be clear that factorial takes an integer:"
   ]
  },
  {
   "cell_type": "code",
   "execution_count": null,
   "metadata": {
    "slideshow": {
     "slide_type": "fragment"
    }
   },
   "outputs": [],
   "source": [
    "def factorial(n: int) -> int:\n",
    "    \"\"\"\n",
    "    Calculates the factorial of its argument n.\n",
    "    :param n: integer value\n",
    "    :returns: factorial value\n",
    "    \"\"\"\n",
    "    if n == 0:\n",
    "        return 1"
   ]
  },
  {
   "cell_type": "markdown",
   "metadata": {
    "slideshow": {
     "slide_type": "fragment"
    }
   },
   "source": [
    "If the argument is $0$ then we return $1$, otherwise we have to make a recursive call to `factorial` to calculate\n",
    "the value of $n - 1$ and multiply this by $n$."
   ]
  },
  {
   "cell_type": "code",
   "execution_count": null,
   "metadata": {
    "slideshow": {
     "slide_type": "fragment"
    }
   },
   "outputs": [],
   "source": [
    "def factorial(n : int) -> int:\n",
    "    \"\"\"\n",
    "    Calculates the factorial of its argument n.\n",
    "    :param n: integer value\n",
    "    :returns: factorial value\n",
    "    \"\"\"\n",
    "    if n == 0:\n",
    "        return 1\n",
    "    else:\n",
    "        i_fac_value: int = factorial(n - 1)\n",
    "        result = n * i_fac_value\n",
    "        return result\n",
    "\n",
    "factorial(10)"
   ]
  },
  {
   "cell_type": "markdown",
   "metadata": {},
   "source": [
    "The body of the `else` part can be written more compactly."
   ]
  },
  {
   "cell_type": "code",
   "execution_count": null,
   "metadata": {
    "slideshow": {
     "slide_type": "fragment"
    }
   },
   "outputs": [],
   "source": [
    "def factorial(n: int) -> int:\n",
    "    \"\"\"\n",
    "    Calculates the factorial of its argument n.\n",
    "    :param n: integer value\n",
    "    :returns: factorial value\n",
    "    \"\"\"\n",
    "    if n == 0:\n",
    "        return 1\n",
    "    else:\n",
    "        return n * factorial(n - 1)\n",
    "\n",
    "factorial(10)"
   ]
  },
  {
   "cell_type": "markdown",
   "metadata": {},
   "source": [
    "If the last statement of the function contains a call to the recursive function, we call this *tail recursion*, we can replace the recursive function by a loop.\n",
    "\n"
   ]
  },
  {
   "cell_type": "code",
   "execution_count": null,
   "metadata": {
    "slideshow": {
     "slide_type": "fragment"
    }
   },
   "outputs": [],
   "source": [
    "def factorial(n : int) -> int:\n",
    "    \"\"\"\n",
    "    Calculates the factorial of its argument n.\n",
    "    :param n: integer value\n",
    "    :returns: factorial value\n",
    "    \"\"\"\n",
    "    fact: int = 1\n",
    "    while n > 0:\n",
    "        fact *= n\n",
    "        n -= 1\n",
    "    \n",
    "    return fact\n",
    "\n",
    "factorial(10)"
   ]
  },
  {
   "cell_type": "markdown",
   "metadata": {},
   "source": [
    "The `factorial` function, but now with proper tests."
   ]
  },
  {
   "cell_type": "code",
   "execution_count": null,
   "metadata": {
    "slideshow": {
     "slide_type": "fragment"
    }
   },
   "outputs": [],
   "source": [
    "def factorial(n: int) -> int:\n",
    "    \"\"\"\n",
    "    Calculates the factorial of its argument n.\n",
    "    :param n: integer value\n",
    "    :returns: factorial value\n",
    "    \n",
    "    >>> factorial(0) # base case\n",
    "    1\n",
    "    >>> factorial(10) # arbitrary number\n",
    "    3628800\n",
    "    \"\"\"\n",
    "    if n == 0:\n",
    "        return 1\n",
    "    else:\n",
    "        i_fac_value: int = factorial(n - 1)\n",
    "        result: int = n * i_fac_value\n",
    "        return result\n",
    "    \n",
    "\n",
    "factorial(10)"
   ]
  },
  {
   "cell_type": "code",
   "execution_count": null,
   "metadata": {},
   "outputs": [],
   "source": [
    "import doctest"
   ]
  },
  {
   "cell_type": "code",
   "execution_count": null,
   "metadata": {},
   "outputs": [],
   "source": [
    "doctest.testmod(verbose=True)  # with details"
   ]
  },
  {
   "cell_type": "markdown",
   "metadata": {
    "jupyter": {
     "source_hidden": true
    },
    "tags": []
   },
   "source": [
    "<div class=\"alert alert-success\">\n",
    "    <b>Do It Yourself!</b><br>\n",
    "    Add at least two tests to check the output of the <i>sum_digits</i> function. Check the base case output and other arbitrary case. Verify the output given by the <i>doctest</i> module.\n",
    "</div>"
   ]
  },
  {
   "cell_type": "code",
   "execution_count": null,
   "metadata": {
    "jupyter": {
     "source_hidden": true
    },
    "tags": []
   },
   "outputs": [],
   "source": [
    "# Remove this line and add your code here"
   ]
  },
  {
   "cell_type": "markdown",
   "metadata": {},
   "source": [
    "## 4. The Fibonacci Function\n",
    "\n",
    "Yet another famous recursive mathematical function is the `fibonacci` function. \n",
    "\n",
    "In mathematics, the Fibonacci numbers, commonly denoted Fn , form a sequence, the Fibonacci sequence, in which each number is the sum of the two preceding ones. The sequence commonly starts from 0 and 1, although some authors omit the initial terms and start the sequence from 1 and 1 or from 1 and 2. Starting from 0 and 1, the first few values in the sequence are:\n",
    "\n",
    "0, 1, 1, 2, 3, 5, 8, 13, 21, 34, 55, 89, 144.\n",
    "\n",
    "The Fibonacci numbers were first described in Indian mathematics.\n",
    "\n",
    "Outside India, the Fibonacci sequence first appears in the book Liber Abaci (The Book of Calculation, 1202) by Fibonacci where it is used to calculate the growth of rabbit populations. Fibonacci considers the growth of an idealized (biologically unrealistic) rabbit population, assuming that: a newly born breeding pair of rabbits are put in a field; each breeding pair mates at the age of one month, and at the end of their second month they always produce another pair of rabbits; and rabbits never die, but continue breeding forever. Fibonacci posed the puzzle: how many pairs will there be in one year?\n",
    "\n",
    "* At the end of the first month, they mate, but there is still only 1 pair.\n",
    "* At the end of the second month they produce a new pair, so there are 2 pairs in the field.\n",
    "* At the end of the third month, the original pair produce a second pair, but the second pair only mate to gestate for a month, so there are 3 pairs in all.\n",
    "* At the end of the fourth month, the original pair has produced yet another new pair, and the pair born two months ago also produces their first pair, making 5 pairs.\n",
    "\n",
    "At the end of the nth month, the number of pairs of rabbits is equal to the number of mature pairs (that is, the number of pairs in month n – 2) plus the number of pairs alive last month (month n – 1). The number in the nth month is the nth Fibonacci number..\n",
    "\n",
    "Growth of trees, biological ones, follow this principle.\n",
    "\n",
    "`fibonacci(0) = 0`\n",
    "\n",
    "`fibonacci(1) = 1`\n",
    "\n",
    "`fibonacci(n) = fibonacci(n - 1) + fibonacci(n - 2)`"
   ]
  },
  {
   "cell_type": "code",
   "execution_count": null,
   "metadata": {
    "slideshow": {
     "slide_type": "fragment"
    }
   },
   "outputs": [],
   "source": [
    "def fibonacci(n: int) -> int:\n",
    "    \"\"\"\n",
    "    Calculates the fibonacci number of its argument, being n > 1.\n",
    "    :param n: integer value \n",
    "    :returns: fibonacci value\n",
    "    \n",
    "    >>> fibonacci(0) # base case 0\n",
    "    0\n",
    "    >>> fibonacci(1) # base case 1\n",
    "    1\n",
    "    >>> fibonacci(13) # arbtriry number\n",
    "    233\n",
    "    \"\"\"\n",
    "    if n == 0:\n",
    "        return 0\n",
    "    elif n == 1:\n",
    "        return 1\n",
    "    else: \n",
    "        return fibonacci(n - 1) + fibonacci(n - 2)\n",
    "\n",
    "fibonacci(15)"
   ]
  },
  {
   "cell_type": "code",
   "execution_count": null,
   "metadata": {},
   "outputs": [],
   "source": [
    "doctest.testmod(verbose=True)  # with details"
   ]
  },
  {
   "cell_type": "code",
   "execution_count": null,
   "metadata": {
    "slideshow": {
     "slide_type": "fragment"
    }
   },
   "outputs": [],
   "source": [
    "[fibonacci(n) for n in range(20)]"
   ]
  },
  {
   "cell_type": "code",
   "execution_count": null,
   "metadata": {
    "slideshow": {
     "slide_type": "fragment"
    }
   },
   "outputs": [],
   "source": [
    "fibonacci(35)"
   ]
  },
  {
   "cell_type": "markdown",
   "metadata": {
    "slideshow": {
     "slide_type": "fragment"
    }
   },
   "source": [
    "Why is it so slow?"
   ]
  },
  {
   "cell_type": "markdown",
   "metadata": {
    "slideshow": {
     "slide_type": "fragment"
    }
   },
   "source": [
    "Let us count the number of `fib` calls."
   ]
  },
  {
   "cell_type": "code",
   "execution_count": null,
   "metadata": {
    "slideshow": {
     "slide_type": "fragment"
    }
   },
   "outputs": [],
   "source": [
    "def fib_calls(n: int) -> int:\n",
    "    \"\"\" \n",
    "    Counts the number of calls to fib to compute fib(n).\n",
    "    :param n: integer value\n",
    "    :returns: the number of recursive calls\n",
    "    \"\"\"\n",
    "    \n",
    "    if n <= 1:\n",
    "        return 0\n",
    "    else:\n",
    "        return 2 + fib_calls(n - 2) + fib_calls(n - 1)"
   ]
  },
  {
   "cell_type": "code",
   "execution_count": null,
   "metadata": {
    "slideshow": {
     "slide_type": "fragment"
    }
   },
   "outputs": [],
   "source": [
    "fib_calls(35)"
   ]
  },
  {
   "cell_type": "markdown",
   "metadata": {
    "slideshow": {
     "slide_type": "fragment"
    }
   },
   "source": [
    "Many Fibonacci values get **recomputed** over and over again.\n",
    "\n",
    "Keep in mind that there are only 35 Fibonacci values smaller than `fib(35)`."
   ]
  },
  {
   "cell_type": "markdown",
   "metadata": {
    "jupyter": {
     "source_hidden": true
    },
    "tags": []
   },
   "source": [
    "<div class=\"alert alert-success\">\n",
    "    <b>Do It Yourself!</b><br>\n",
    "    Create the recursive function <i>countup</i>, which takes an integer as parameter and prints numbers from 1 until the input number in a recursive way.\n",
    "</div>"
   ]
  },
  {
   "cell_type": "code",
   "execution_count": null,
   "metadata": {
    "jupyter": {
     "source_hidden": true
    },
    "tags": []
   },
   "outputs": [],
   "source": [
    "# Remove this line and add your code here"
   ]
  },
  {
   "cell_type": "markdown",
   "metadata": {},
   "source": [
    "## 5. The Towers of Hanoi\n",
    "\n",
    "The **Tower of Hanoi** is a mathematical puzzle where we have three rods and $n$ disks. The objective of the puzzle is to move the entire stack to another rod, obeying the following simple rules: \n",
    "\n",
    "1. Only one disk can be moved at a time. \n",
    "1. Each move consists of taking the upper disk from one of the stacks and placing it on top of another stack, i.e. a disk can only be moved if it is the uppermost disk on a stack. \n",
    "1. No disk may be placed on top of a smaller disk."
   ]
  },
  {
   "cell_type": "markdown",
   "metadata": {},
   "source": [
    "<img src=\"assets/tower-of-hanoi.png\" width=400 height=400 />"
   ]
  },
  {
   "cell_type": "code",
   "execution_count": null,
   "metadata": {},
   "outputs": [],
   "source": [
    "def towers_of_hanoi(n: int , source: str, destination: str, auxiliary: str) -> None:\n",
    "    \"\"\" \n",
    "    Moves towers from source to destination using recursion. \n",
    "    A larger disk may never be on top of a smaller disk.\n",
    "    :param n: integer value representing the number of disks to be moved.\n",
    "    \"\"\"\n",
    "    if n == 1:\n",
    "        print('Move disk 1 from source', source, 'to destination', destination)\n",
    "        return\n",
    "    \n",
    "    towers_of_hanoi(n - 1, source, auxiliary, destination)\n",
    "    print('Move disk', n, 'from source', source, 'to destination', destination)\n",
    "    towers_of_hanoi(n - 1, auxiliary, destination, source)\n",
    "          \n",
    "# Driver code\n",
    "n = 3\n",
    "towers_of_hanoi(n, 'A', 'B', 'C')"
   ]
  },
  {
   "cell_type": "markdown",
   "metadata": {
    "slideshow": {
     "slide_type": "subslide"
    }
   },
   "source": [
    "## 6. Memos\n",
    "\n",
    "### Inefficiency in recursive definitions\n",
    "\n",
    "* The **recursion depth** is the number of concurrently active invocations.\n",
    "* Recursive definitions can be very inefficient, even if the recursion depth is moderate.\n",
    "* **Exponential blowup** when each call can give rise to _multiple_ recursive calls.\n",
    "    \n",
    "How to do better?"
   ]
  },
  {
   "cell_type": "markdown",
   "metadata": {
    "slideshow": {
     "slide_type": "fragment"
    }
   },
   "source": [
    "### Improving efficiency in recursive definitions\n",
    "\n",
    "There are various techniques available to improve the efficiency in recursive definitions:\n",
    "\n",
    "* **Cache** (**memorize**) previously computed results, and reuse them without recalculation.\n",
    "* Introduce **extra variables** to store **intermediate results**, to improve efficiency.\n",
    "* In case of **tail recursion** rewrite the code using a *loop*."
   ]
  },
  {
   "cell_type": "markdown",
   "metadata": {
    "slideshow": {
     "slide_type": "slide"
    }
   },
   "source": [
    "### Memoization\n",
    "When performing calculations, specially in case of calculation that involve recursion, it may be advisable to store intermediate results.\n",
    "\n",
    "Consider the `fibonacci` function. \n",
    "When you are calculating the fibonacci number for larger values, you will observe that this will take some time.\n",
    "The larger the value, the more time it will take.\n",
    "\n",
    "The observation is that when calculating fibonacci numbers you will calculate the value for smaller values multiple times.\n",
    "The calculation of fibonacci numbers can be more efficient by \n",
    "memoizing intermediate values."
   ]
  },
  {
   "cell_type": "code",
   "execution_count": null,
   "metadata": {
    "slideshow": {
     "slide_type": "fragment"
    }
   },
   "outputs": [],
   "source": [
    "fibs_dict = {0: 0, 1: 1}\n",
    "\n",
    "def fibonacci(n: int) -> int:\n",
    "    \"\"\"\n",
    "    Calculates the fibonacci number of its argument by means of a cache.\n",
    "    :param n: integer value\n",
    "    :returns: fibonacci value\n",
    "    \n",
    "    >>> fibonacci(0) # base case 0\n",
    "    0\n",
    "    >>> fibonacci(1) # base case 1\n",
    "    1\n",
    "    >>> fibonacci(13) # arbitrary number\n",
    "    233\n",
    "    \"\"\"\n",
    "    if n in fibs_dict:\n",
    "        return fibs_dict[n]\n",
    "    else:\n",
    "        #calculate unknown fib value for n\n",
    "        res_fib: int = fibonacci(n - 1) + fibonacci(n - 2)\n",
    "        #add fib value for n to dictionary\n",
    "        fibs_dict[n] = res_fib\n",
    "        return res_fib\n",
    "\n",
    "fibonacci(350)\n",
    "#print(known_fibs)"
   ]
  },
  {
   "cell_type": "code",
   "execution_count": null,
   "metadata": {},
   "outputs": [],
   "source": [
    "doctest.testmod(verbose=True)  # with details"
   ]
  },
  {
   "cell_type": "markdown",
   "metadata": {},
   "source": [
    "`known_fibs` is a dictionary that keeps track of the Fibonacci numbers we already know. It starts with two items: `0` maps to `0` and `1` maps to `1`. Whenever `fibonacci` is called, it checks known cases.  If the result is already there, it can return immediately. Otherwise it has to compute the new value, add it to the dictionary, and\n",
    "return it."
   ]
  },
  {
   "cell_type": "markdown",
   "metadata": {},
   "source": [
    "### Solution without memoization\n",
    "\n",
    "It is also possible to use two local variables for remembering the values of previous calculations."
   ]
  },
  {
   "cell_type": "markdown",
   "metadata": {},
   "source": [
    "A bottom-up approach to Fibonacci number generation looks like this:\n",
    "* If n is 0 or 1, return n\n",
    "* Otherwise,\n",
    "  * Create variable `two_behind` to remember the result of `(n−2)` and initialize to `0`\n",
    "  * Create variable `one_behind` to remember the result of `(n−1)` and initialize to `1`  \n",
    "  * Create variable `result` to store the final result and initialize to `0`\n",
    "  * Repeat (n−1) times:\n",
    "      * Update result to the sum of `two_behind` plus `one_behind`\n",
    "      * Update `two_behind` to store the current value of `one_behind`\n",
    "      * Update `one_behind` to store the current value of `result`\n",
    "  * Return `result`"
   ]
  },
  {
   "cell_type": "code",
   "execution_count": null,
   "metadata": {},
   "outputs": [],
   "source": [
    "def non_recursive_fib(n: int) -> int:\n",
    "    \"\"\"\n",
    "    Calculates the fibonacci number of its argument by means of a cache.\n",
    "    :param n: integer value\n",
    "    :returns: fibonacci value\n",
    "    \n",
    "    >>> non_recursive_fib(0) # base case 0\n",
    "    0\n",
    "    >>> non_recursive_fib(1) # base case 1\n",
    "    1\n",
    "    >>> non_recursive_fib(13) # arbitrary number\n",
    "    233\n",
    "    \"\"\"\n",
    "    if (n == 0 | n == 1):\n",
    "        return n;\n",
    "   \n",
    "    two_behind: int = 0\n",
    "    one_behind: int = 1\n",
    "    result: int = 0\n",
    "    i: int = 1\n",
    "    while i < n:\n",
    "        result = two_behind + one_behind\n",
    "        two_behind = one_behind\n",
    "        one_behind = result\n",
    "        i += 1\n",
    "    return result;\n",
    "\n",
    "non_recursive_fib(35)"
   ]
  },
  {
   "cell_type": "markdown",
   "metadata": {},
   "source": [
    "## 7. Recursive Data Types\n",
    "\n",
    "Next to recursive functions it is also possible to define recursive data types.\n",
    "\n",
    "In the cell below, you see an example of a recursive data type in Python that represents a **binary tree**.\n",
    "\n",
    "In computer science, a **binary tree** is a tree data structure in which each node has at most two children, which are referred to as the left child and the right child. A recursive definition is that a (non-empty) binary tree is a tuple $(L, S, R)$, where $L$ and $R$ are binary trees or empty and $S$ is a single element representing the root.\n",
    "\n",
    "A binary tree is a means of accessing nodes based on some value or label associated with each node. Binary trees labelled this way are used to implement binary search trees and binary heaps, and are used for efficient searching and sorting. "
   ]
  },
  {
   "cell_type": "code",
   "execution_count": null,
   "metadata": {},
   "outputs": [],
   "source": [
    "class Tree:\n",
    "    \"\"\"\n",
    "    Represents a binary tree.\n",
    "    :attributes: value, left, right\n",
    "    \"\"\"\n",
    "    def __init__(self, value: int, left: any = None, right: any = None) -> None:\n",
    "        \"\"\"\n",
    "        Initializes a Tree object.\n",
    "        :param value: value of the current node\n",
    "        :param left: Tree object of the left child\n",
    "        :param right: Tree object of the right chils\n",
    "        \"\"\"\n",
    "        self.value = value\n",
    "        self.left = left\n",
    "        self.right = right\n",
    "        \n",
    "    def __str__(self) -> str:\n",
    "        \"\"\"\n",
    "        Returns a string representation of a Tree object.\n",
    "        \"\"\"\n",
    "        return f'Tree({self.value},{self.left},{self.right})'\n",
    "        \n",
    "t1: Tree = Tree(1)\n",
    "t2: Tree = Tree(2)\n",
    "t3: Tree = Tree(3)\n",
    "t4: Tree = Tree(4)\n",
    "t5: Tree = Tree(5, t1, t2)\n",
    "t6: Tree = Tree(6, t3, t4)\n",
    "t7: Tree = Tree(7, t5, t6)\n",
    "print(t7)"
   ]
  },
  {
   "cell_type": "markdown",
   "metadata": {},
   "source": [
    "---\n",
    "\n",
    "# (End of Notebook)\n",
    "\n",
    "&copy; 2023-2024 - **TU/e** - Eindhoven University of Technology"
   ]
  }
 ],
 "metadata": {
  "anaconda-cloud": {},
  "kernelspec": {
   "display_name": "Python 3",
   "language": "python",
   "name": "python3"
  },
  "language_info": {
   "codemirror_mode": {
    "name": "ipython",
    "version": 3
   },
   "file_extension": ".py",
   "mimetype": "text/x-python",
   "name": "python",
   "nbconvert_exporter": "python",
   "pygments_lexer": "ipython3",
   "version": "3.11.5"
  }
 },
 "nbformat": 4,
 "nbformat_minor": 4
}
