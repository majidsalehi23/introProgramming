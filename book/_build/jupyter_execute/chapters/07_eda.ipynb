{
 "cells": [
  {
   "cell_type": "markdown",
   "metadata": {},
   "source": [
    "# Exploratory Data Analysis (EDA) [^intro]\n",
    "\n",
    "[^intro]: This Jupyter Notebook is based on Chapter 1 of {cite}`Bruce2017`, Chapter 1 of {cite}`Diez2010`, and Chapter 3 of {cite}`VanderPlas2019`."
   ]
  },
  {
   "cell_type": "markdown",
   "metadata": {},
   "source": [
    "_(c) 2021, Lina Ochoa Venegas, Eindhoven University of Technology_"
   ]
  },
  {
   "cell_type": "markdown",
   "metadata": {},
   "source": [
    "Probability theory saw its origins in gambling by the end of the 16$^{th}$ century. However, it was truly developed between the 17$^{th}$ and the 19$^{th}$ centuries. Mathematicians and gamblers used games of chance–such as the ones involving dice–to understand the extent to which a situation could happen. This is what we formally know as probability. In short, **probability** is the likelihood that an event will happen in the future or is true. This mathematical theory sets the foundations of **statistics** which is an applied science concerned with the modeling and analysis of data."
   ]
  },
  {
   "cell_type": "markdown",
   "metadata": {},
   "source": [
    "```{admonition} Probability and statistics\n",
    ":class: alert\n",
    "Probability is the likelihood that an event will happen in the future or is true. Wheres, statistics is an applied science concerned with the modeling and analysis of data\n",
    "```"
   ]
  },
  {
   "cell_type": "markdown",
   "metadata": {},
   "source": [
    "### Data Science\n",
    "Statistics is fundamental for data science; its use is orthogonal to any data science problem. But what is data science in the end? **Data science** is an interdisciplinary field that combines *statistics*, *computer science*, and *domain knowledge* methods to extract knowledge from data to solve problems in a given domain. In this sense, \n",
    "\n",
    "* *statistics* are used to model and analyze datasets; \n",
    "* *computer science* is used to design algorithms that help to process, store, and apply statistical methods to the data at hand, and;\n",
    "* *domain knowledge* is used to define a clear problem and provide a concrete answer to it."
   ]
  },
  {
   "cell_type": "markdown",
   "metadata": {},
   "source": [
    "```{admonition} Data science\n",
    ":class: alert\n",
    "Data science is an interdisciplinary field that combines statistics, computer science, and domain knowledge methods to extract knowledge from data to solve problems in a given domain.\n",
    "```"
   ]
  },
  {
   "cell_type": "markdown",
   "metadata": {},
   "source": [
    "### Exploratory Data Analysis\n",
    "In this notebook, we will introduce the notion of **Exploratory Data Analysis (EDA)**, an area of statistics that focuses on getting acquainted with the data at hand. It was promoted by John Tukey in his book \"Exploratory Data Analysis\" (1977), who mentioned the importance of first exploring the data to formulate better hypotheses later and assess previous assumptions. With the current computational power, EDA has gone far beyond expected, providing tools and resources to a variety of disciplines. With this mindset change, a data science project considers at least the following two phases:\n",
    "\n",
    "1. **Exploratory data analysis:** assumptions are verified, methods are chosen, and quality hypotheses are formulated.\n",
    "2. **Confirmatory data analysis:** (also known as statistical hypothesis testing) previously defined hypotheses are tested and conclusions are drawn from the analysis.\n",
    "\n",
    "**Fun fact:** John Tukey also coined the term \"bit\" in 1947, when developing statistical methods for computers when he was working for Bell Labs.\n",
    "\n",
    "Hereafter, we introduce some of the main concepts to undertake the EDA part of a project. Some of these concepts will also be later used during statistical hypothesis testing.\n",
    "\n",
    "\n",
    "```{image} assets/john-tukey.jpeg\n",
    ":alt: John Tukey\n",
    ":width: 400px\n",
    ":align: center\n",
    "```\n",
    "\n",
    "<div style=\"text-align:center\">\n",
    "    <span style=\"font-size:0.9em; font-weight: bold;\">John Tukey (1915–2000), one of the main contributors of statistics. Find the source <a href=\"https://www.amphilsoc.org/item-detail/photograph-john-wilder-tukey\" target=\"_blank\">here</a>.</span>\n",
    "</div>"
   ]
  },
  {
   "cell_type": "markdown",
   "metadata": {},
   "source": [
    "```{admonition} Exploratory Data Analyses (EDA)\n",
    ":class: alert\n",
    "Area of statistics that focuses on getting acquainted with the data to assess assumptions, choose methods, and define hypotheses.\n",
    "```"
   ]
  },
  {
   "cell_type": "markdown",
   "metadata": {},
   "source": [
    "## Structured Data <a class=\"anchor\" id=\"structured\"></a>\n",
    "\n",
    "Data comes from diverse sources such as text, sensors, and images. In the initial stage, this data is unstructured and hard to process; extracting facts out from ambiguous representations is cumbersome. That is why we need to structure our data. Ultimately, we want to have an input to which we can apply the statistical concepts we are learning. And for what? For getting actionable information, for having enough evidence to help us make decisions in a better way! You cannot change the past but you can definitely learn from it to change the future.\n",
    "\n",
    "### Data Types\n",
    "Structured data usually comes in two flavors:\n",
    "* **Numeric:** as its name suggests, we use numbers to represent the data. We consider two special cases:\n",
    "    - **Discrete:** numerical data taking an integer value (e.g. counts). When thinking in Python terms, we consider `int` or `long` values.\n",
    "    - **Continuous:** data taking any numerical value in an interval (e.g. ratios). When thinking in Python terms, we consider `float` values.\n",
    "* **Categorical:** data that only takes a fixed set of values or states. Such values are called **levels**.\n",
    "    - **Nominal:** categorical data with any order among its levels (e.g. \"Yellow\", \"Blue\", \"Red\").\n",
    "    - **Binary:** a special case of nominal data with just two levels: true (1) or false (0).\n",
    "    - **Ordinal:** categorical data with a natural order (e.g. \"Excellent\", \"Good\", \"Bad\")\n",
    "    \n",
    "| Data type   | Category    | Python types  |\n",
    "|-------------|-------------|---------------|\n",
    "| Discrete    | Numeric     | `int`, `long` |\n",
    "| Continuous  | Numeric     | `float`       |\n",
    "| Nominal     | Categorical | `str`, `int`  |\n",
    "| Binary      | Categorical | `bool`        |\n",
    "| Ordinal     | Categorical | `str`, `int`  |"
   ]
  },
  {
   "cell_type": "markdown",
   "metadata": {},
   "source": [
    "Knowing the data type of the variables we are dealing with is important because it will allow us to define the methods to visualize them and analyze the data. Actually, Python improves its computations based on the selected data type."
   ]
  },
  {
   "cell_type": "markdown",
   "metadata": {},
   "source": [
    "```{admonition} Data type\n",
    ":class: alert\n",
    "A classification that defines the type of value that must be assigned to a variable and the possible operations that apply to it. In data science, we consider numeric and categorical types. Numeric values can either be continuous or discrete. Categorial values can be nominal or ordinal. Binary values are a special case of nominal values.\n",
    "```"
   ]
  },
  {
   "cell_type": "markdown",
   "metadata": {},
   "source": [
    "## Rectangular Data <a class=\"anchor\" id=\"rectangular\"></a>\n",
    "\n",
    "In data science, we usually work with a special type of data: rectangular data. Think of it as a spreadsheet. **Rectangular data** is a two-dimensional matrix where columns represent features (a.k.a. **variables**) and rows represent records (a.k.a. **cases**). This data representation is derived from **unstructured data** coming from diverse sources. In Python, we use `pandas`, a special library that helps us representing this type of data. In `pandas` we use the `DataFrame` type: `DataFrame` is a type just as `int`, `str`, or `bool`, the only difference is that it supports other types of operations and is more complex than the types we have just mentioned. Actually, a data frame often contains heterogeneous (data with different data types) and missing data (unknown values for certain features in a record)."
   ]
  },
  {
   "cell_type": "markdown",
   "metadata": {},
   "source": [
    "### Import `pandas`\n",
    "To start interacting with the `DataFrame` type you will first need to install `numpy` and `pandas` in your virtual environment. Afterward, you will be able to import it as follows:"
   ]
  },
  {
   "cell_type": "code",
   "execution_count": 1,
   "metadata": {},
   "outputs": [],
   "source": [
    "import pandas as pd"
   ]
  },
  {
   "cell_type": "markdown",
   "metadata": {},
   "source": [
    "The `as pd` part of the statement just gives an alternative name to the library (a.k.a. **alias**), so we do not have to write the entire name every time we want to access one of its capabilities."
   ]
  },
  {
   "cell_type": "markdown",
   "metadata": {},
   "source": [
    "### The Wines `DataFrame`\n",
    "\n",
    "There are several ways of creating a `DataFrame` with `pandas`. However, for now, we only care about the notion of what a `DataFrame` is and how it looks. Later in the course, we will learn to create instances of this type, so do not panic! For this notebook, we will be using a modified version of the **Wine Reviews** dataset created by Zack Thoutt under a \n",
    "Creative Commons BY-NC-SA 4.0 license, and later updated by David Stroud. You can find the original dataset [here](https://github.com/davestroud/Wine). Zack gathered all data from the [Wine Enthusiast website](https://www.winemag.com/), an influential magazine about wine and drinks that posts wine ratings and other relevant wine-related reports. The ratings are presented by professional sommeliers (wine tasters) that perform a sensory evaluation of the wine (wine tasting). In the dataset, you will find the following variables (columns):\n",
    "\n",
    "| Variable   | Data Type | Category    | Description |\n",
    "|------------|-----------|-------------|-------------|\n",
    "| `title`    | Text*      | -           | Complete name or title of the rated wine |\n",
    "| `country`  | Nominal   | Categorical | Name of the country where the wine is being produced |\n",
    "| `province` | Nominal   | Categorical | The province or state where the wine is from |\n",
    "| `winery`   | Nominal   | Categorical | Name of the company producing the wine |\n",
    "| `designation` | Nominal | Categorical | The name of the wine given to the wine by the winery |\n",
    "| `variety`  | Nominal   | Categorical | Type of wine based on its grape, region, and the winemaker’s art |\n",
    "| `points`   | Discrete  | Numeric     | Points given by a sommelier to the wine after tasting |\n",
    "| `price`    | Discrete  | Numeric     | Price of a bottle of the wine |\n",
    "| `description` | Text*   | -           | Description of the tasted wine given by the sommelier |\n",
    "\n",
    "<sup>* Informative columns. They are not relevant for the data analysis, that is why no categorical or numeric data type has been defined.<sup>\n",
    "\n",
    "In the next cell, we will show you one way of creating a `DataFrame`. In this case, we use *dictionaries* and *lists* as a baseline. (You will learn more about these types next week!) This dataset will contain just a few values taken from the abovementioned dataset, so we can easily understand the main concepts presented in this notebook. Later on, we will load the whole data. In addition, we won't include the `description` variable for the sake of simplicity. From now on, we will refer to this data frame as the `wines` data frame. Now, how does the data frame look like? \n",
    "\n",
    "```{image} assets/wine-tasting.jpeg\n",
    ":alt: Wine tasting\n",
    ":width: 400px\n",
    ":align: center\n",
    "```\n",
    "\n",
    "<div style=\"text-align:center\">\n",
    "    <span style=\"font-size:0.9em; font-weight: bold;\">Wine tasting setting.</span>\n",
    "</div>"
   ]
  },
  {
   "cell_type": "code",
   "execution_count": 2,
   "metadata": {},
   "outputs": [
    {
     "data": {
      "text/html": [
       "<div>\n",
       "<style scoped>\n",
       "    .dataframe tbody tr th:only-of-type {\n",
       "        vertical-align: middle;\n",
       "    }\n",
       "\n",
       "    .dataframe tbody tr th {\n",
       "        vertical-align: top;\n",
       "    }\n",
       "\n",
       "    .dataframe thead th {\n",
       "        text-align: right;\n",
       "    }\n",
       "</style>\n",
       "<table border=\"1\" class=\"dataframe\">\n",
       "  <thead>\n",
       "    <tr style=\"text-align: right;\">\n",
       "      <th></th>\n",
       "      <th>title</th>\n",
       "      <th>country</th>\n",
       "      <th>province</th>\n",
       "      <th>winery</th>\n",
       "      <th>designation</th>\n",
       "      <th>variety</th>\n",
       "      <th>points</th>\n",
       "      <th>price</th>\n",
       "    </tr>\n",
       "  </thead>\n",
       "  <tbody>\n",
       "    <tr>\n",
       "      <th>0</th>\n",
       "      <td>Earthquake 2011 Zinfandel</td>\n",
       "      <td>US</td>\n",
       "      <td>California</td>\n",
       "      <td>Earthquake</td>\n",
       "      <td>NaN</td>\n",
       "      <td>Bordeaux-style Red Blend</td>\n",
       "      <td>84</td>\n",
       "      <td>26.0</td>\n",
       "    </tr>\n",
       "    <tr>\n",
       "      <th>1</th>\n",
       "      <td>Ruinart NV Blanc de Blancs Brut Chardonnay</td>\n",
       "      <td>France</td>\n",
       "      <td>Champagne</td>\n",
       "      <td>Ruinart</td>\n",
       "      <td>Blanc de Blancs Brut</td>\n",
       "      <td>Chardonnay</td>\n",
       "      <td>93</td>\n",
       "      <td>65.0</td>\n",
       "    </tr>\n",
       "    <tr>\n",
       "      <th>2</th>\n",
       "      <td>Undurraga 2012 U Estate Grown Cabernet Sauvignon</td>\n",
       "      <td>Chile</td>\n",
       "      <td>Rapel Valley</td>\n",
       "      <td>Undurraga</td>\n",
       "      <td>U Estate Grown</td>\n",
       "      <td>Touriga Nacional</td>\n",
       "      <td>86</td>\n",
       "      <td>11.0</td>\n",
       "    </tr>\n",
       "    <tr>\n",
       "      <th>3</th>\n",
       "      <td>Grassini 2014 Merlot</td>\n",
       "      <td>US</td>\n",
       "      <td>California</td>\n",
       "      <td>Grassini</td>\n",
       "      <td>NaN</td>\n",
       "      <td>Chardonnay</td>\n",
       "      <td>95</td>\n",
       "      <td>95.0</td>\n",
       "    </tr>\n",
       "  </tbody>\n",
       "</table>\n",
       "</div>"
      ],
      "text/plain": [
       "                                              title country      province  \\\n",
       "0                         Earthquake 2011 Zinfandel      US    California   \n",
       "1        Ruinart NV Blanc de Blancs Brut Chardonnay  France     Champagne   \n",
       "2  Undurraga 2012 U Estate Grown Cabernet Sauvignon   Chile  Rapel Valley   \n",
       "3                              Grassini 2014 Merlot      US    California   \n",
       "\n",
       "       winery           designation                   variety  points  price  \n",
       "0  Earthquake                   NaN  Bordeaux-style Red Blend      84   26.0  \n",
       "1     Ruinart  Blanc de Blancs Brut                Chardonnay      93   65.0  \n",
       "2   Undurraga        U Estate Grown          Touriga Nacional      86   11.0  \n",
       "3    Grassini                   NaN                Chardonnay      95   95.0  "
      ]
     },
     "execution_count": 2,
     "metadata": {},
     "output_type": "execute_result"
    }
   ],
   "source": [
    "# Import pandas\n",
    "import pandas as pd\n",
    "\n",
    "# Gather your data\n",
    "data = {\n",
    "    'title': [\n",
    "        'Earthquake 2011 Zinfandel', \n",
    "        'Ruinart NV Blanc de Blancs Brut Chardonnay', \n",
    "        'Undurraga 2012 U Estate Grown Cabernet Sauvignon', \n",
    "        'Grassini 2014 Merlot'],\n",
    "    'country': ['US', 'France', 'Chile', 'US'],\n",
    "    'province': ['California', 'Champagne', 'Rapel Valley', 'California'],\n",
    "    'winery': ['Earthquake', 'Ruinart', 'Undurraga', 'Grassini'],\n",
    "    'designation': [ 'NaN', 'Blanc de Blancs Brut', 'U Estate Grown', 'NaN'],\n",
    "    'variety': ['Bordeaux-style Red Blend', 'Chardonnay', 'Touriga Nacional', 'Chardonnay'],\n",
    "    'points': [84, 93, 86, 95],\n",
    "    'price': [26.0, 65.0, 11.0, 95.0]\n",
    "}\n",
    "\n",
    "# Create data frame\n",
    "wines = pd.DataFrame(data)\n",
    "\n",
    "# See data frame content\n",
    "wines"
   ]
  },
  {
   "cell_type": "markdown",
   "metadata": {},
   "source": [
    "### Indexes\n",
    "\n",
    "If you look carefully at the previous example, you will notice that a new column was created. (The first column of the matrix before the ones we have explicitly defined.) This column is an integer index that is automatically created every time you create a new data frame and you do not explicitly mention any other type of index. An **index** is a data structure used to improve the efficiency of certain types of operations and queries executed atop the data frame. They are very useful especially when accessing specific records within your data. To access them you can use the `loc` indexer and specify the number of the record you want within the square brackets."
   ]
  },
  {
   "cell_type": "code",
   "execution_count": 3,
   "metadata": {},
   "outputs": [
    {
     "data": {
      "text/plain": [
       "title          Undurraga 2012 U Estate Grown Cabernet Sauvignon\n",
       "country                                                   Chile\n",
       "province                                           Rapel Valley\n",
       "winery                                                Undurraga\n",
       "designation                                      U Estate Grown\n",
       "variety                                        Touriga Nacional\n",
       "points                                                       86\n",
       "price                                                      11.0\n",
       "Name: 2, dtype: object"
      ]
     },
     "execution_count": 3,
     "metadata": {},
     "output_type": "execute_result"
    }
   ],
   "source": [
    "# Get Grassini 2014 Merlot case\n",
    "wines.loc[2]"
   ]
  },
  {
   "cell_type": "markdown",
   "metadata": {},
   "source": [
    "```{admonition} Rectangular data\n",
    ":class: alert\n",
    "Rectangular data is a two-dimensional matrix where columns represent features (a.k.a. variables) and rows represent records (a.k.a. cases). It often contains heterogeneous data.\n",
    "```"
   ]
  },
  {
   "cell_type": "markdown",
   "metadata": {},
   "source": [
    "## Location Measures <a class=\"anchor\" id=\"location\"></a>\n",
    "\n",
    "Numeric variables usually vary within a wide interval of values. When exploring your data, you would like to get an *estimate* of where most of your data is located for each variable. This estimate is known as the **central tendency** of the data, and it shows the typical or central values of your variables. An **estimate** or a **measure** is a value calculated out from a set of records within your data. They are called like this because they are computed based on what you can observe, which is not necessarily the true reality; uncertainty always lies behind it. There are different measures of location, in this notebook, we will talk about three of them:\n",
    "\n",
    "* the mean,\n",
    "* the median, and\n",
    "* the mode."
   ]
  },
  {
   "cell_type": "markdown",
   "metadata": {},
   "source": [
    "```{admonition} Location measure\n",
    ":class: alert\n",
    "Estimate of central tendency that states where most of the data is located for a given variable.\n",
    "```"
   ]
  },
  {
   "cell_type": "markdown",
   "metadata": {},
   "source": [
    "### Mean\n",
    "\n",
    "The **mean** is one of the most basic measures of location and it is also known as *average*. It is represented as $\\overline{x}$ in mathematical notation. To compute it, you must add all values of a given variable, and then divide it by the number of values.\n",
    "\n",
    "$mean = \\overline{x} = \\frac{\\sum_{i}^{n} x_i}{n}$\n",
    "\n",
    "In the formula above $n$ stands for the total number of values and $x_i$ for the $i^{th}$ value in your data, where $i$ ranges from $1$ until $n$ (i.e. $x \\in [i, n]$).\n",
    "\n",
    "For instance, if we consider the data from the `wines` data frame, we can compute the mean of the `points` variable as follows.\n",
    "\n",
    "We have 4 records, then: $n = 4$  \n",
    "Now, we can compute the mean: $\\overline{x} = \\frac{\\sum_{i}^{4} x_i}{4} = \\frac{84 + 93 + 86 + 95}{4} = \\frac{358}{4} = 89.5$\n",
    "\n",
    "However, computing the mean by hand when dealing with a big dataset is not handy anymore. That is why Python offers a ser of libraries that can help you with these common calculations. Two examples are the `statistics` and `pandas` libraries. Let us see how they work."
   ]
  },
  {
   "cell_type": "code",
   "execution_count": 4,
   "metadata": {},
   "outputs": [
    {
     "data": {
      "text/plain": [
       "89.5"
      ]
     },
     "execution_count": 4,
     "metadata": {},
     "output_type": "execute_result"
    }
   ],
   "source": [
    "# Using pure python\n",
    "points = wines['points']\n",
    "mean = sum(points) / len(points)\n",
    "mean"
   ]
  },
  {
   "cell_type": "code",
   "execution_count": 5,
   "metadata": {},
   "outputs": [
    {
     "data": {
      "text/plain": [
       "89.5"
      ]
     },
     "execution_count": 5,
     "metadata": {},
     "output_type": "execute_result"
    }
   ],
   "source": [
    "# Using the statistics library\n",
    "import statistics as st\n",
    "\n",
    "points = wines['points']\n",
    "mean = st.mean(points)\n",
    "mean"
   ]
  },
  {
   "cell_type": "code",
   "execution_count": 6,
   "metadata": {},
   "outputs": [
    {
     "data": {
      "text/plain": [
       "89.5"
      ]
     },
     "execution_count": 6,
     "metadata": {},
     "output_type": "execute_result"
    }
   ],
   "source": [
    "# Using pandas\n",
    "mean = wines['points'].mean() \n",
    "mean"
   ]
  },
  {
   "cell_type": "markdown",
   "metadata": {},
   "source": [
    "There are some variations to the mean. For instance, you can also compute the *trimmed mean* when having outliers (extreme values that alter your results); or the *weighted mean* when you want to give more or less importance to a set of values within your data. This one is especially useful when one of your data sources is not that accurate."
   ]
  },
  {
   "cell_type": "markdown",
   "metadata": {},
   "source": [
    "```{admonition} Mean\n",
    ":class: alert\n",
    "The mean is an estimate of central tendency that computes the average of all values of a given variable.\n",
    "```"
   ]
  },
  {
   "cell_type": "markdown",
   "metadata": {},
   "source": [
    "### Median\n",
    "\n",
    "The **median** is the middle number of a sorted list of values of a given variable. It is represented as $\\widetilde{x}$ in mathematical notation, and it is computed as follows.\n",
    "\n",
    "$median = \\widetilde{x} = x_{(n \\, +\\, 1) \\, / \\, 2}$\n",
    "\n",
    "If the number of values is even, it is computed as the mean between the two middle values of the list as follows. \n",
    "\n",
    "$median = \\widetilde{x} = \\frac{x_{n/2} + x_{n/2 \\, + \\, 1}}{2}$\n",
    "\n",
    "For example, if we consider the data from the `wines` data frame, we can compute the median of the `points` variable as follows.\n",
    "\n",
    "1. Order all values: 84, 86, 93, 95\n",
    "2. Define $n$: $n = 4$\n",
    "3. Identify if $n$ is even or odd: $n \\, \\% \\, 4 = 0$, thus, $n$ is even\n",
    "4. Compute the median: \n",
    "    * $x_{n/2} = x_{4/2} = x_{2} = 86$ \n",
    "    * $x_{n/2 + 1} = x_{4/2 \\, + \\, 1} = x_{3} = 93$\n",
    "    * $\\widetilde{x} = \\frac{x_{n/2} + x_{n/2 \\, + \\, 1}}{2} = \\frac{86 + 93}{2} = \\frac{179}{2} = 89.5$ \n",
    "    \n",
    "Python and the `statistics` and `pandas` libraries can also help us to compute the median. Let us see how they work.!"
   ]
  },
  {
   "cell_type": "code",
   "execution_count": 7,
   "metadata": {},
   "outputs": [
    {
     "data": {
      "text/plain": [
       "89.5"
      ]
     },
     "execution_count": 7,
     "metadata": {},
     "output_type": "execute_result"
    }
   ],
   "source": [
    "# Using pure python\n",
    "points = wines['points']\n",
    "n = len(points)\n",
    "points_sorted = sorted(points)\n",
    "median: float\n",
    "    \n",
    "if n % 2 == 0:\n",
    "    index_1 = int(n / 2) - 1      # Indeces in Python start from 0, we need to substract 1\n",
    "    index_2 = int(n / 2 + 1) - 1  # Same case here\n",
    "    median = (points_sorted[index_1] + points_sorted[index_2]) / 2\n",
    "else:\n",
    "    index = int((n + 1) / 2) - 1  # And here.\n",
    "    median = points_sorted[index]\n",
    "\n",
    "median"
   ]
  },
  {
   "cell_type": "code",
   "execution_count": 8,
   "metadata": {},
   "outputs": [
    {
     "data": {
      "text/plain": [
       "89.5"
      ]
     },
     "execution_count": 8,
     "metadata": {},
     "output_type": "execute_result"
    }
   ],
   "source": [
    "# Using the statistics library\n",
    "import statistics as st\n",
    "\n",
    "points = wines['points']\n",
    "median = st.median(points)\n",
    "median"
   ]
  },
  {
   "cell_type": "code",
   "execution_count": 9,
   "metadata": {},
   "outputs": [
    {
     "data": {
      "text/plain": [
       "89.5"
      ]
     },
     "execution_count": 9,
     "metadata": {},
     "output_type": "execute_result"
    }
   ],
   "source": [
    "# Using pandas\n",
    "median = wines['points'].median() \n",
    "median"
   ]
  },
  {
   "cell_type": "markdown",
   "metadata": {},
   "source": [
    "As you have seen, instead of considering all the observations–as the mean does–the median only considers the central values of the variable. That is why the median is considered a more *robust* measure than the mean; the mean is very sensitive to extreme cases. A **robust** measure is such that its value is not highly impacted by outliers. An **outlier** is a value that is very distant from other values within your data. This does not mean that outliers should be considered as erroneous data, but they are worthy of further analysis.\n",
    "\n",
    "To understand the idea of robustness, let us add the infamous \"Disgusting Wine 2021 Malbec\" record to the `wines` data frame. This case is not part of the real data set."
   ]
  },
  {
   "cell_type": "code",
   "execution_count": 10,
   "metadata": {},
   "outputs": [
    {
     "data": {
      "text/html": [
       "<div>\n",
       "<style scoped>\n",
       "    .dataframe tbody tr th:only-of-type {\n",
       "        vertical-align: middle;\n",
       "    }\n",
       "\n",
       "    .dataframe tbody tr th {\n",
       "        vertical-align: top;\n",
       "    }\n",
       "\n",
       "    .dataframe thead th {\n",
       "        text-align: right;\n",
       "    }\n",
       "</style>\n",
       "<table border=\"1\" class=\"dataframe\">\n",
       "  <thead>\n",
       "    <tr style=\"text-align: right;\">\n",
       "      <th></th>\n",
       "      <th>title</th>\n",
       "      <th>country</th>\n",
       "      <th>province</th>\n",
       "      <th>winery</th>\n",
       "      <th>designation</th>\n",
       "      <th>variety</th>\n",
       "      <th>points</th>\n",
       "      <th>price</th>\n",
       "    </tr>\n",
       "  </thead>\n",
       "  <tbody>\n",
       "    <tr>\n",
       "      <th>0</th>\n",
       "      <td>Earthquake 2011 Zinfandel</td>\n",
       "      <td>US</td>\n",
       "      <td>California</td>\n",
       "      <td>Earthquake</td>\n",
       "      <td>NaN</td>\n",
       "      <td>Bordeaux-style Red Blend</td>\n",
       "      <td>84</td>\n",
       "      <td>26.0</td>\n",
       "    </tr>\n",
       "    <tr>\n",
       "      <th>1</th>\n",
       "      <td>Ruinart NV Blanc de Blancs Brut Chardonnay</td>\n",
       "      <td>France</td>\n",
       "      <td>Champagne</td>\n",
       "      <td>Ruinart</td>\n",
       "      <td>Blanc de Blancs Brut</td>\n",
       "      <td>Chardonnay</td>\n",
       "      <td>93</td>\n",
       "      <td>65.0</td>\n",
       "    </tr>\n",
       "    <tr>\n",
       "      <th>2</th>\n",
       "      <td>Undurraga 2012 U Estate Grown Cabernet Sauvignon</td>\n",
       "      <td>Chile</td>\n",
       "      <td>Rapel Valley</td>\n",
       "      <td>Undurraga</td>\n",
       "      <td>U Estate Grown</td>\n",
       "      <td>Touriga Nacional</td>\n",
       "      <td>86</td>\n",
       "      <td>11.0</td>\n",
       "    </tr>\n",
       "    <tr>\n",
       "      <th>3</th>\n",
       "      <td>Grassini 2014 Merlot</td>\n",
       "      <td>US</td>\n",
       "      <td>California</td>\n",
       "      <td>Grassini</td>\n",
       "      <td>NaN</td>\n",
       "      <td>Chardonnay</td>\n",
       "      <td>95</td>\n",
       "      <td>95.0</td>\n",
       "    </tr>\n",
       "    <tr>\n",
       "      <th>4</th>\n",
       "      <td>Disgusting Wine 2021 Malbec</td>\n",
       "      <td>Bartovia</td>\n",
       "      <td>Brockway</td>\n",
       "      <td>Duff</td>\n",
       "      <td>NaN</td>\n",
       "      <td>Malbec</td>\n",
       "      <td>5</td>\n",
       "      <td>300.0</td>\n",
       "    </tr>\n",
       "  </tbody>\n",
       "</table>\n",
       "</div>"
      ],
      "text/plain": [
       "                                              title   country      province  \\\n",
       "0                         Earthquake 2011 Zinfandel        US    California   \n",
       "1        Ruinart NV Blanc de Blancs Brut Chardonnay    France     Champagne   \n",
       "2  Undurraga 2012 U Estate Grown Cabernet Sauvignon     Chile  Rapel Valley   \n",
       "3                              Grassini 2014 Merlot        US    California   \n",
       "4                       Disgusting Wine 2021 Malbec  Bartovia      Brockway   \n",
       "\n",
       "       winery           designation                   variety  points  price  \n",
       "0  Earthquake                   NaN  Bordeaux-style Red Blend      84   26.0  \n",
       "1     Ruinart  Blanc de Blancs Brut                Chardonnay      93   65.0  \n",
       "2   Undurraga        U Estate Grown          Touriga Nacional      86   11.0  \n",
       "3    Grassini                   NaN                Chardonnay      95   95.0  \n",
       "4        Duff                   NaN                    Malbec       5  300.0  "
      ]
     },
     "execution_count": 10,
     "metadata": {},
     "output_type": "execute_result"
    }
   ],
   "source": [
    "# Import pandas\n",
    "import pandas as pd\n",
    "\n",
    "# Gather your data\n",
    "data = {\n",
    "    'title': [\n",
    "        'Earthquake 2011 Zinfandel', \n",
    "        'Ruinart NV Blanc de Blancs Brut Chardonnay', \n",
    "        'Undurraga 2012 U Estate Grown Cabernet Sauvignon', \n",
    "        'Grassini 2014 Merlot',\n",
    "        'Disgusting Wine 2021 Malbec'],\n",
    "    'country': ['US', 'France', 'Chile', 'US', 'Bartovia'],\n",
    "    'province': ['California', 'Champagne', 'Rapel Valley', 'California', 'Brockway'],\n",
    "    'winery': ['Earthquake', 'Ruinart', 'Undurraga', 'Grassini', 'Duff'],\n",
    "    'designation': [ 'NaN', 'Blanc de Blancs Brut', 'U Estate Grown', 'NaN', 'NaN'],\n",
    "    'variety': ['Bordeaux-style Red Blend', 'Chardonnay', 'Touriga Nacional', 'Chardonnay', 'Malbec'],\n",
    "    'points': [84, 93, 86, 95, 5],\n",
    "    'price': [26.0, 65.0, 11.0, 95.0, 300.0]\n",
    "}\n",
    "\n",
    "# Create data frame\n",
    "wines = pd.DataFrame(data)\n",
    "\n",
    "# See data frame content\n",
    "wines"
   ]
  },
  {
   "cell_type": "markdown",
   "metadata": {},
   "source": [
    "In the previous example, \"Disgusting Wine 2021 Malbec\" is considered an outlier for the `points` variable, given that it is an extreme value distant from other values in the dataset. Now, let us compute again the mean and the median with this modification."
   ]
  },
  {
   "cell_type": "code",
   "execution_count": 11,
   "metadata": {},
   "outputs": [
    {
     "data": {
      "text/plain": [
       "72.6"
      ]
     },
     "execution_count": 11,
     "metadata": {},
     "output_type": "execute_result"
    }
   ],
   "source": [
    "# Using pandas\n",
    "mean = wines['points'].mean() \n",
    "mean"
   ]
  },
  {
   "cell_type": "code",
   "execution_count": 12,
   "metadata": {},
   "outputs": [
    {
     "data": {
      "text/plain": [
       "86.0"
      ]
     },
     "execution_count": 12,
     "metadata": {},
     "output_type": "execute_result"
    }
   ],
   "source": [
    "median = wines['points'].median()\n",
    "median"
   ]
  },
  {
   "cell_type": "markdown",
   "metadata": {},
   "source": [
    "As you can observe, the mean is more sensitive to the modification. Even though most of the wines score between 84 and 95 points, the mean suggests that the central value is 72.6. While the median is less impacted by the new record: the median value is still part of the interval of values reported by the non-outlier groups."
   ]
  },
  {
   "cell_type": "markdown",
   "metadata": {},
   "source": [
    "```{admonition} Median\n",
    ":class: alert\n",
    "The median is an estimate of central tendency. It is the middle number of a sorted list of values.\n",
    "```"
   ]
  },
  {
   "cell_type": "markdown",
   "metadata": {},
   "source": [
    "### Mode\n",
    "\n",
    "The **mode** is the set of values that appear more often for a given variable. You can have more than one value when there are ties. This measure is more useful when describing categorical data.\n",
    "\n",
    "For example, if we consider the `province` variable of the `wines` data frame, we can compute the mode as follows.\n",
    "\n",
    "1. Count the number of occurrences of each value.\n",
    "    * \"California\": appears 2 times\n",
    "    * \"Champagne\": appears 1 time\n",
    "    * \"Rapel Valley\": appears 1 time\n",
    "    * \"Brockway\": appears 1 time\n",
    "2. Define the mode: \"California\"\n",
    "\n",
    "Let us see how to compute the mode with the `statistics` and `pandas` libraries in Python."
   ]
  },
  {
   "cell_type": "code",
   "execution_count": 13,
   "metadata": {},
   "outputs": [
    {
     "data": {
      "text/plain": [
       "'California'"
      ]
     },
     "execution_count": 13,
     "metadata": {},
     "output_type": "execute_result"
    }
   ],
   "source": [
    "# Using the statistics library\n",
    "import statistics as st\n",
    "\n",
    "province = wines['province'].tolist()\n",
    "mode = st.mode(province)\n",
    "mode"
   ]
  },
  {
   "cell_type": "code",
   "execution_count": 14,
   "metadata": {},
   "outputs": [
    {
     "data": {
      "text/plain": [
       "0    California\n",
       "dtype: object"
      ]
     },
     "execution_count": 14,
     "metadata": {},
     "output_type": "execute_result"
    }
   ],
   "source": [
    "# Using pandas\n",
    "mode = wines['province'].mode()\n",
    "mode"
   ]
  },
  {
   "cell_type": "markdown",
   "metadata": {},
   "source": [
    "```{admonition} Mode\n",
    ":class: alert\n",
    "The mode is an estimate of central tendency. It is the set of values that appear more often for a given variable.\n",
    "```"
   ]
  },
  {
   "cell_type": "markdown",
   "metadata": {},
   "source": [
    "## Variability Measures <a class=\"anchor\" id=\"variability\"></a>\n",
    "\n",
    "Location measures are useful when describing a variable, however, understanding how your data varies is also important. Here is when variability measures are relevant: they help you to measure the dispersion of your data. **Dispersion** is the extent to which values of a variable differ from a central point. In short, it tells you if the values are clustered or spread out. The lower the variability in your data, the more consistent it is. When variability is high, the uncertainty of where to find the data point grows and outliers are more likely to appear.\n",
    "\n",
    "As was the case with location, there are different variability measures. In this notebook we will describe three of them:\n",
    "* the variance,\n",
    "* the standard deviation, and\n",
    "* the range."
   ]
  },
  {
   "cell_type": "markdown",
   "metadata": {},
   "source": [
    "```{admonition} Variability measure\n",
    ":class: alert\n",
    "Estimate of dispersion that states the extent to which values of a variable differ from a central point.\n",
    "```"
   ]
  },
  {
   "cell_type": "markdown",
   "metadata": {},
   "source": [
    "### Variance\n",
    "\n",
    "The **deviation** is the distance between observations in your data and a location measure. Deviations give us insights into how dispersed the data is from a central point. In particular, you can compute the deviation of the values of a variable from the mean. In our original `wines` data frame (without the infamous \"Disgusting Wine 2021 Malbec\"), the deviation of each data point of the `points` variable is computed as follows.\n",
    "\n",
    "$x_1 - \\overline{x} = 84 - 89.5 = -5.5$  \n",
    "$x_2 - \\overline{x} = 93 - 89.5 = 3.5$  \n",
    "$x_3 - \\overline{x} = 86 - 89.5 = -3.5$  \n",
    "$x_4 - \\overline{x} = 95 - 89.5 = 5.5$\n",
    "\n",
    "Now that we understood the notion of deviation, the **variance** is defined as the average of squared deviations (Bruce & Bruce, 2017). It is represented as $s^2$ in mathematical notation, and it is computed as follows.\n",
    "\n",
    "$variance = s^2 = \\frac{\\sum_{i}^{n} (x_i - \\overline{x})^2}{n-1}$ \n",
    "\n",
    "Let us now understand this formula:\n",
    "* $x_i - \\overline{x}$ is nothing more than the deviation of the $i^{th}$ observation (just as we computed them above).\n",
    "* The deviation is squared (i.e. $(x_i - \\overline{x})^2$) mainly because if we add positive and negative numbers (as the ones computed above), they will cancel each other. If we squared the deviation we get rid of the negative numbers.\n",
    "* We sum all the squared deviations and we divide them by $n - 1$ to get their average.\n",
    "* But why $n-1$ instead of $n$? In practice, there is not much difference and this is not relevant for understanding what variance is. However, if you want to know, $n-1$ is representing the **degrees of freedom** which is equivalent to the number of observations minus the number of parameters that you need to calculate to compute the measure. In this case, we have one parameter: the mean $\\overline{x}$. That is why we subtract one to $n$. And why do we need to do that? Well, statisticians made this model to define **unbiased measures**.\n",
    "\n",
    "Now, if we use our `wines` data frame, we can calculate the variance of the `points` variable as follows.\n",
    "\n",
    "$s^2 = \\frac{\\sum_{i}^{n} (x_i - \\overline{x})^2}{n-1} = \\frac{\\sum_{i}^{4} (x_i - 89.5)^2}{4-1} = \\frac{\\sum_{i}^{4} (x_i - 89.5)}{3}$  \n",
    "$s^2 = \\frac{(x_1 - 89.5)^2 \\, + \\, (x_2 - 89.5)^2 \\, + \\, (x_3 - 89.5)^2 \\, + \\, (x_4 - 89.5)^2}{3}$  \n",
    "$s^2 = \\frac{(84 - 89.5)^2 \\, + \\, (93 - 89.5)^2 \\, + \\, (86 - 89.5)^2 \\, + \\, (95 - 89.5)^2}{3}$  \n",
    "$s^2 = \\frac{30.25 \\, + \\, 12.25 \\, + \\, 12.25 \\, + \\, 30.25}{3}$  \n",
    "$s^2 = \\frac{85}{3} = 28.\\overline{3}$\n",
    "\n",
    "Let us see how to compute the variance with the `statistics` and `pandas` libraries in Python."
   ]
  },
  {
   "cell_type": "code",
   "execution_count": 15,
   "metadata": {},
   "outputs": [
    {
     "data": {
      "text/html": [
       "<div>\n",
       "<style scoped>\n",
       "    .dataframe tbody tr th:only-of-type {\n",
       "        vertical-align: middle;\n",
       "    }\n",
       "\n",
       "    .dataframe tbody tr th {\n",
       "        vertical-align: top;\n",
       "    }\n",
       "\n",
       "    .dataframe thead th {\n",
       "        text-align: right;\n",
       "    }\n",
       "</style>\n",
       "<table border=\"1\" class=\"dataframe\">\n",
       "  <thead>\n",
       "    <tr style=\"text-align: right;\">\n",
       "      <th></th>\n",
       "      <th>title</th>\n",
       "      <th>country</th>\n",
       "      <th>province</th>\n",
       "      <th>winery</th>\n",
       "      <th>designation</th>\n",
       "      <th>variety</th>\n",
       "      <th>points</th>\n",
       "      <th>price</th>\n",
       "    </tr>\n",
       "  </thead>\n",
       "  <tbody>\n",
       "    <tr>\n",
       "      <th>0</th>\n",
       "      <td>Earthquake 2011 Zinfandel</td>\n",
       "      <td>US</td>\n",
       "      <td>California</td>\n",
       "      <td>Earthquake</td>\n",
       "      <td>NaN</td>\n",
       "      <td>Bordeaux-style Red Blend</td>\n",
       "      <td>84</td>\n",
       "      <td>26.0</td>\n",
       "    </tr>\n",
       "    <tr>\n",
       "      <th>1</th>\n",
       "      <td>Ruinart NV Blanc de Blancs Brut Chardonnay</td>\n",
       "      <td>France</td>\n",
       "      <td>Champagne</td>\n",
       "      <td>Ruinart</td>\n",
       "      <td>Blanc de Blancs Brut</td>\n",
       "      <td>Chardonnay</td>\n",
       "      <td>93</td>\n",
       "      <td>65.0</td>\n",
       "    </tr>\n",
       "    <tr>\n",
       "      <th>2</th>\n",
       "      <td>Undurraga 2012 U Estate Grown Cabernet Sauvignon</td>\n",
       "      <td>Chile</td>\n",
       "      <td>Rapel Valley</td>\n",
       "      <td>Undurraga</td>\n",
       "      <td>U Estate Grown</td>\n",
       "      <td>Touriga Nacional</td>\n",
       "      <td>86</td>\n",
       "      <td>11.0</td>\n",
       "    </tr>\n",
       "    <tr>\n",
       "      <th>3</th>\n",
       "      <td>Grassini 2014 Merlot</td>\n",
       "      <td>US</td>\n",
       "      <td>California</td>\n",
       "      <td>Grassini</td>\n",
       "      <td>NaN</td>\n",
       "      <td>Chardonnay</td>\n",
       "      <td>95</td>\n",
       "      <td>95.0</td>\n",
       "    </tr>\n",
       "  </tbody>\n",
       "</table>\n",
       "</div>"
      ],
      "text/plain": [
       "                                              title country      province  \\\n",
       "0                         Earthquake 2011 Zinfandel      US    California   \n",
       "1        Ruinart NV Blanc de Blancs Brut Chardonnay  France     Champagne   \n",
       "2  Undurraga 2012 U Estate Grown Cabernet Sauvignon   Chile  Rapel Valley   \n",
       "3                              Grassini 2014 Merlot      US    California   \n",
       "\n",
       "       winery           designation                   variety  points  price  \n",
       "0  Earthquake                   NaN  Bordeaux-style Red Blend      84   26.0  \n",
       "1     Ruinart  Blanc de Blancs Brut                Chardonnay      93   65.0  \n",
       "2   Undurraga        U Estate Grown          Touriga Nacional      86   11.0  \n",
       "3    Grassini                   NaN                Chardonnay      95   95.0  "
      ]
     },
     "execution_count": 15,
     "metadata": {},
     "output_type": "execute_result"
    }
   ],
   "source": [
    "# Going back to our original dataset\n",
    "import pandas as pd\n",
    "\n",
    "# Gather your data\n",
    "data = {\n",
    "    'title': [\n",
    "        'Earthquake 2011 Zinfandel', \n",
    "        'Ruinart NV Blanc de Blancs Brut Chardonnay', \n",
    "        'Undurraga 2012 U Estate Grown Cabernet Sauvignon', \n",
    "        'Grassini 2014 Merlot'],\n",
    "    'country': ['US', 'France', 'Chile', 'US'],\n",
    "    'province': ['California', 'Champagne', 'Rapel Valley', 'California'],\n",
    "    'winery': ['Earthquake', 'Ruinart', 'Undurraga', 'Grassini'],\n",
    "    'designation': [ 'NaN', 'Blanc de Blancs Brut', 'U Estate Grown', 'NaN'],\n",
    "    'variety': ['Bordeaux-style Red Blend', 'Chardonnay', 'Touriga Nacional', 'Chardonnay'],\n",
    "    'points': [84, 93, 86, 95],\n",
    "    'price': [26.0, 65.0, 11.0, 95.0]\n",
    "}\n",
    "\n",
    "wines = pd.DataFrame(data)\n",
    "wines"
   ]
  },
  {
   "cell_type": "code",
   "execution_count": 16,
   "metadata": {},
   "outputs": [
    {
     "data": {
      "text/plain": [
       "28.333333333333332"
      ]
     },
     "execution_count": 16,
     "metadata": {},
     "output_type": "execute_result"
    }
   ],
   "source": [
    "# Using the statistics library\n",
    "import statistics as st\n",
    "\n",
    "points = wines['points']\n",
    "variance = st.variance(points)\n",
    "variance"
   ]
  },
  {
   "cell_type": "code",
   "execution_count": 17,
   "metadata": {},
   "outputs": [
    {
     "data": {
      "text/plain": [
       "28.333333333333332"
      ]
     },
     "execution_count": 17,
     "metadata": {},
     "output_type": "execute_result"
    }
   ],
   "source": [
    "# Using pandas\n",
    "variance = wines['points'].var()\n",
    "variance"
   ]
  },
  {
   "cell_type": "markdown",
   "metadata": {},
   "source": [
    "But, what does a variance of $28.\\overline{8}$ mean? How can we interpret these results? If you ask around, you will end with the following disappointing answer: variance is just the square root of the standard deviation. Nothing much can be said about it. That is why computing the standard deviation will give you more insights into the variability of your data."
   ]
  },
  {
   "cell_type": "markdown",
   "metadata": {},
   "source": [
    "```{admonition} Variance\n",
    ":class: alert\n",
    "The variance is defined as the average of squared deviations. The deviation is the distance between observations in your data and a location measure.\n",
    "```"
   ]
  },
  {
   "cell_type": "markdown",
   "metadata": {},
   "source": [
    "### Standard Deviation\n",
    "\n",
    "The **standard deviation** is the square root of the variance. This estimate is easier to interpret because it is defined on the same scale as the original values. It is represented as $s$ in mathematical notation, and it is computed as follows.\n",
    "\n",
    "$standard \\, deviation = s = \\sqrt{s^2} = \\sqrt{variance}$ \n",
    "\n",
    "If we use the `wines` data frame, we can calculate the standard deviation of the `points` variable as follows.\n",
    "\n",
    "$s = \\sqrt{s^2} = \\sqrt{28.\\overline{3}} \\approx 5.32$ \n",
    "\n",
    "This value tells us that values in the `points` variable tend to vary around $\\pm 5.32$ points from the mean. Let us see how to compute the standard deviation with the `statistics` and `pandas` libraries in Python."
   ]
  },
  {
   "cell_type": "code",
   "execution_count": 18,
   "metadata": {},
   "outputs": [
    {
     "data": {
      "text/plain": [
       "5.32290647422377"
      ]
     },
     "execution_count": 18,
     "metadata": {},
     "output_type": "execute_result"
    }
   ],
   "source": [
    "# Using the statistics library\n",
    "import statistics as st\n",
    "\n",
    "points = wines['points']\n",
    "stdev = st.stdev(points)\n",
    "stdev"
   ]
  },
  {
   "cell_type": "code",
   "execution_count": 19,
   "metadata": {},
   "outputs": [
    {
     "data": {
      "text/plain": [
       "5.32290647422377"
      ]
     },
     "execution_count": 19,
     "metadata": {},
     "output_type": "execute_result"
    }
   ],
   "source": [
    "# Using pandas\n",
    "stdev = wines['points'].std()\n",
    "stdev"
   ]
  },
  {
   "cell_type": "markdown",
   "metadata": {},
   "source": [
    "**Note:** Neither the variance nor the standard deviation is a robust measure to compute data viariablity. That is, they are sensitive to extreme values. If you want to use a more robust measure check the *Median Absolute Deviation (MAD)* estimate."
   ]
  },
  {
   "cell_type": "markdown",
   "metadata": {},
   "source": [
    "```{admonition} Standard deviation\n",
    ":class: alert\n",
    "The standard deviation is the square root of the variance.\n",
    "```"
   ]
  },
  {
   "cell_type": "markdown",
   "metadata": {},
   "source": [
    "### InterQuartile Range (IQR)\n",
    "\n",
    "Another approach to estimate dispersion of the data is by studying the spread of sorted (ranked) data. One of the simplest measures that can be computed out from the ranked data is the **range**, which is the difference between the largest and smallest values of a variable. Nevertheless, if you have outliers, the range is not a robust measure to use and might lead you to have wrong interpretations of your data. In any case, when there are no outliers in the dataset, you can compute the range as follows.\n",
    "\n",
    "$range = max - min$\n",
    "\n",
    "In the `wines` data frame, the range estimate of the `points` variable is:\n",
    "\n",
    "$range = max - min = 95 - 84 = 11$\n",
    "\n",
    "To avoid misinterpretations when dealing with outliers, we can think of dropping extreme values. Actually, the *interquartile range* can be used for this purpose. However, before defining it, we need to understand first the concept of **percentiles**. The $P^{th}$ percentile is a value where $P$ percentage of data falls. For instance, the median is equivalent to the $50^{th}$ percentile, given that 50% of the values fall below that measure. Likewise, the $25^{th}$ percentile is the value such that 25% of the data points fall below. For example, using the `wines` case, we compute the $75^{th}$ percentile of the `points` variable as follows.\n",
    "\n",
    "1. Order (or rank) the values of the variable: 84, 86, 93, 95\n",
    "2. Compute the percentile index: $0.75 \\times n = 0.75 \\times 4 = 3$\n",
    "3. Set the $75^{th}$ percentile as the value located at the previously computed index: $75^{th} \\, percentile = 93$\n",
    "\n",
    "Then, the **InterQuartile Range (IQR)** is defined as the difference between the $75^{th}$ and the $25^th$ percentiles. The $75^{th}$ percentile is also known as the $3^{rd}$ quartile (Q3) and the $25^th$ percentile as the $1^{st}$ quartile (Q1). This makes sense when we divide 100% into 4:\n",
    "* $1^{st}$ quartile (Q1): 25% of the values\n",
    "* $2^{nd}$ quartile (Q2): 50% of the values\n",
    "* $3^{rd}$ quartile (Q3): 75% of the values\n",
    "* $4^{th}$ quartile (Q4): 100% of the values\n",
    "\n",
    "The IQR lowers the impact of extreme values by considering only the 50% of values placed closer to the central point.\n",
    "\n",
    "To compute the IQR for the `points` variable in the `wines` dataset, we proceed as follows.\n",
    "\n",
    "1. Compute Q1: $Q1 = 84$.\n",
    "2. Compute Q3: $Q3 = 93$.\n",
    "3. Compute the IQR: $IQR = Q3 - Q1 = 93 - 84 = 9$\n",
    "\n",
    "Let us see how to compute the IQR with the `pandas` library in Python."
   ]
  },
  {
   "cell_type": "code",
   "execution_count": 20,
   "metadata": {},
   "outputs": [
    {
     "data": {
      "text/plain": [
       "9"
      ]
     },
     "execution_count": 20,
     "metadata": {},
     "output_type": "execute_result"
    }
   ],
   "source": [
    "# Using pandas\n",
    "q1 = wines['points'].quantile(0.25, interpolation='lower')\n",
    "q3 = wines['points'].quantile(0.75, interpolation='lower')\n",
    "iqr = q3 - q1\n",
    "iqr"
   ]
  },
  {
   "cell_type": "markdown",
   "metadata": {},
   "source": [
    "```{admonition} InterQuartile Range (IQR)\n",
    ":class: alert\n",
    "IQR is defined as the difference between the 75th and the 25th percentiles.\n",
    "```"
   ]
  },
  {
   "cell_type": "markdown",
   "metadata": {},
   "source": [
    "## Data Distribution <a class=\"anchor\" id=\"distribution\"></a>\n",
    "\n",
    "Although previous measures are useful to summarize the shape of our data, it is useful to know its overall distribution. A **distribution** is a collection of observations on a given variable. These observations or data points are later ordered to analyze them and draw insightful conclusions. In particular, graphical representations of distributions are widely used to understand the behavior of the data. Some of the most common ways of visualizing distributions are:\n",
    "\n",
    "* boxplots, and\n",
    "* histograms.\n",
    "\n",
    "Before diving into these representations, we will first import the whole `wines` dataset into our environment. To this aim, we use the `pandas` library and in particular, the `read_csv()` method, which reads the data from a Comma-Separated Values (CSV) file and stores it in a data frame. In the next chapter, we will learn more about this and other file formats."
   ]
  },
  {
   "cell_type": "code",
   "execution_count": 21,
   "metadata": {},
   "outputs": [
    {
     "data": {
      "text/html": [
       "<div>\n",
       "<style scoped>\n",
       "    .dataframe tbody tr th:only-of-type {\n",
       "        vertical-align: middle;\n",
       "    }\n",
       "\n",
       "    .dataframe tbody tr th {\n",
       "        vertical-align: top;\n",
       "    }\n",
       "\n",
       "    .dataframe thead th {\n",
       "        text-align: right;\n",
       "    }\n",
       "</style>\n",
       "<table border=\"1\" class=\"dataframe\">\n",
       "  <thead>\n",
       "    <tr style=\"text-align: right;\">\n",
       "      <th></th>\n",
       "      <th>title</th>\n",
       "      <th>country</th>\n",
       "      <th>province</th>\n",
       "      <th>winery</th>\n",
       "      <th>designation</th>\n",
       "      <th>variety</th>\n",
       "      <th>points</th>\n",
       "      <th>price</th>\n",
       "      <th>description</th>\n",
       "    </tr>\n",
       "  </thead>\n",
       "  <tbody>\n",
       "    <tr>\n",
       "      <th>0</th>\n",
       "      <td>Nicosia 2013 Vulka Bianco (Etna)</td>\n",
       "      <td>Italy</td>\n",
       "      <td>Sicily &amp; Sardinia</td>\n",
       "      <td>Nicosia</td>\n",
       "      <td>Vulka Bianco</td>\n",
       "      <td>White Blend</td>\n",
       "      <td>87</td>\n",
       "      <td>NaN</td>\n",
       "      <td>Aromas include tropical fruit, broom, brimston...</td>\n",
       "    </tr>\n",
       "    <tr>\n",
       "      <th>1</th>\n",
       "      <td>Quinta dos Avidagos 2011 Avidagos Red (Douro)</td>\n",
       "      <td>Portugal</td>\n",
       "      <td>Douro</td>\n",
       "      <td>Quinta dos Avidagos</td>\n",
       "      <td>Avidagos</td>\n",
       "      <td>Portuguese Red</td>\n",
       "      <td>87</td>\n",
       "      <td>15.0</td>\n",
       "      <td>This is ripe and fruity, a wine that is smooth...</td>\n",
       "    </tr>\n",
       "    <tr>\n",
       "      <th>2</th>\n",
       "      <td>Rainstorm 2013 Pinot Gris (Willamette Valley)</td>\n",
       "      <td>US</td>\n",
       "      <td>Oregon</td>\n",
       "      <td>Rainstorm</td>\n",
       "      <td>NaN</td>\n",
       "      <td>Pinot Gris</td>\n",
       "      <td>87</td>\n",
       "      <td>14.0</td>\n",
       "      <td>Tart and snappy, the flavors of lime flesh and...</td>\n",
       "    </tr>\n",
       "    <tr>\n",
       "      <th>3</th>\n",
       "      <td>St. Julian 2013 Reserve Late Harvest Riesling ...</td>\n",
       "      <td>US</td>\n",
       "      <td>Michigan</td>\n",
       "      <td>St. Julian</td>\n",
       "      <td>Reserve Late Harvest</td>\n",
       "      <td>Riesling</td>\n",
       "      <td>87</td>\n",
       "      <td>13.0</td>\n",
       "      <td>Pineapple rind, lemon pith and orange blossom ...</td>\n",
       "    </tr>\n",
       "    <tr>\n",
       "      <th>4</th>\n",
       "      <td>Sweet Cheeks 2012 Vintner's Reserve Wild Child...</td>\n",
       "      <td>US</td>\n",
       "      <td>Oregon</td>\n",
       "      <td>Sweet Cheeks</td>\n",
       "      <td>Vintner's Reserve Wild Child Block</td>\n",
       "      <td>Pinot Noir</td>\n",
       "      <td>87</td>\n",
       "      <td>65.0</td>\n",
       "      <td>Much like the regular bottling from 2012, this...</td>\n",
       "    </tr>\n",
       "  </tbody>\n",
       "</table>\n",
       "</div>"
      ],
      "text/plain": [
       "                                               title   country  \\\n",
       "0                   Nicosia 2013 Vulka Bianco (Etna)     Italy   \n",
       "1      Quinta dos Avidagos 2011 Avidagos Red (Douro)  Portugal   \n",
       "2      Rainstorm 2013 Pinot Gris (Willamette Valley)        US   \n",
       "3  St. Julian 2013 Reserve Late Harvest Riesling ...        US   \n",
       "4  Sweet Cheeks 2012 Vintner's Reserve Wild Child...        US   \n",
       "\n",
       "            province               winery                         designation  \\\n",
       "0  Sicily & Sardinia              Nicosia                        Vulka Bianco   \n",
       "1              Douro  Quinta dos Avidagos                            Avidagos   \n",
       "2             Oregon            Rainstorm                                 NaN   \n",
       "3           Michigan           St. Julian                Reserve Late Harvest   \n",
       "4             Oregon         Sweet Cheeks  Vintner's Reserve Wild Child Block   \n",
       "\n",
       "          variety  points  price  \\\n",
       "0     White Blend      87    NaN   \n",
       "1  Portuguese Red      87   15.0   \n",
       "2      Pinot Gris      87   14.0   \n",
       "3        Riesling      87   13.0   \n",
       "4      Pinot Noir      87   65.0   \n",
       "\n",
       "                                         description  \n",
       "0  Aromas include tropical fruit, broom, brimston...  \n",
       "1  This is ripe and fruity, a wine that is smooth...  \n",
       "2  Tart and snappy, the flavors of lime flesh and...  \n",
       "3  Pineapple rind, lemon pith and orange blossom ...  \n",
       "4  Much like the regular bottling from 2012, this...  "
      ]
     },
     "execution_count": 21,
     "metadata": {},
     "output_type": "execute_result"
    }
   ],
   "source": [
    "import pandas as pd\n",
    "\n",
    "# Read data from the wines.csv file and store it in a data frame\n",
    "wines = pd.read_csv(\"assets/wines.csv\")\n",
    "\n",
    "# Display the first lines of the data frame\n",
    "wines.head()"
   ]
  },
  {
   "cell_type": "markdown",
   "metadata": {},
   "source": [
    "```{admonition} Distribution\n",
    ":class: alert\n",
    "A distribution is a collection of observations on a given variable.\n",
    "```"
   ]
  },
  {
   "cell_type": "markdown",
   "metadata": {},
   "source": [
    "### Boxplots\n",
    "\n",
    "We used percentiles to compute the IQR, however, percentiles themselves are useful to measure the spread and distribution of the data. Usually, quartiles ($25^{th}$, $50^{th}$, $75^{th}$, and $100^{th}$ percentiles) are reported. They also help to identify the extreme values or outliers.\n",
    "\n",
    "In 1977, Tukey introduced **boxplots**, a type of plot that summarizes the spread of the data based on percentiles. To better understand boxplots, let us have a glimpse at the boxplot of the `points` variable within our wines dataset. We will use the `boxplot()` method from `pandas` to generate the plot."
   ]
  },
  {
   "cell_type": "code",
   "execution_count": 22,
   "metadata": {},
   "outputs": [
    {
     "data": {
      "text/plain": [
       "<AxesSubplot:>"
      ]
     },
     "execution_count": 22,
     "metadata": {},
     "output_type": "execute_result"
    },
    {
     "data": {
      "image/png": "[encoded data removed]",
      "text/plain": [
       "<Figure size 432x288 with 1 Axes>"
      ]
     },
     "metadata": {
      "filenames": {
       "image/png": "/Users/mauricio/Documents/VU/Teaching/Programming(Python)/book/introProgramming/_build/jupyter_execute/chapters/07_eda_63_1.png"
      },
      "needs_background": "light"
     },
     "output_type": "display_data"
    }
   ],
   "source": [
    "# Create a boxplot out from the points variable (column)\n",
    "boxplot = wines.boxplot(column=['points'])\n",
    "boxplot"
   ]
  },
  {
   "cell_type": "markdown",
   "metadata": {},
   "source": [
    "As you can see, the plot contains five horizontal lines (including the two lines that give shape to the box). The central green line represents the *median* of the data. Remember that the median corresponds to the $2^nd$ quartile (Q2) or the $50^{th}$ percentile. That is, the median splits the data into two halves. The upper and lower blue lines represent the $3^{rd}$ and $1^{st}$ quartile, respectively–or the $75^{th}$ and $25^{th}$ percentiles. 50% of your data is contained between these two lines. You can notice that the distance between these two lines (the length of the box) is equal to the IQR. The larger the box (the larger the IQR), the more variable your data is. Finally, the upper and lower black lines of the plot are known as the *upper whisker* and *lower whisker*. The upper whisker is computed as $Q3 + 1.5 \\times IQR$ and the lower whisker as $Q1 - 1.5 \\times IQR$. They cannot go beyond $1.5 \\times IQR$. Any other observation outside this interval is plotted as a point in the boxplot. Typically, these extreme values are what we call outliers and deserve special attention and further investigation."
   ]
  },
  {
   "cell_type": "markdown",
   "metadata": {},
   "source": [
    "```{admonition} Boxplot\n",
    ":class: alert\n",
    "A boxplot is a type of plot that summarizes the spread of the data based on percentiles.\n",
    "```"
   ]
  },
  {
   "cell_type": "markdown",
   "metadata": {},
   "source": [
    "### Histograms\n",
    "\n",
    "**Histograms** are plots used to show the frequency of a given value or interval of values on a given variable. That is, you can identify how many values fall within a given interval. These intervals are known as **bins** and they have the same width. We can usually modify the number of bins depending on the type of analysis that we want to perform. \n",
    "\n",
    "Now, we will display the histogram of the `points` variable using the `hist()` method from the `pandas` library."
   ]
  },
  {
   "cell_type": "code",
   "execution_count": 23,
   "metadata": {},
   "outputs": [
    {
     "data": {
      "text/plain": [
       "array([[<AxesSubplot:title={'center':'points'}>]], dtype=object)"
      ]
     },
     "execution_count": 23,
     "metadata": {},
     "output_type": "execute_result"
    },
    {
     "data": {
      "image/png": "[encoded data removed]",
      "text/plain": [
       "<Figure size 432x288 with 1 Axes>"
      ]
     },
     "metadata": {
      "filenames": {
       "image/png": "/Users/mauricio/Documents/VU/Teaching/Programming(Python)/book/introProgramming/_build/jupyter_execute/chapters/07_eda_67_1.png"
      },
      "needs_background": "light"
     },
     "output_type": "display_data"
    }
   ],
   "source": [
    "# Create a histogram out from the points variable (column)\n",
    "hist = wines.hist(column='points', rwidth=0.9, grid=False)\n",
    "hist"
   ]
  },
  {
   "cell_type": "markdown",
   "metadata": {},
   "source": [
    "You can see that the data within the `points` variable has a *bell shape*. When this happens we state that our data has a **normal distribution**. However, if we create the histogram for the `price` variable the bell shape will be gone. Let us have a look."
   ]
  },
  {
   "cell_type": "code",
   "execution_count": 24,
   "metadata": {},
   "outputs": [
    {
     "data": {
      "text/plain": [
       "array([[<AxesSubplot:title={'center':'price'}>]], dtype=object)"
      ]
     },
     "execution_count": 24,
     "metadata": {},
     "output_type": "execute_result"
    },
    {
     "data": {
      "image/png": "[encoded data removed]",
      "text/plain": [
       "<Figure size 432x288 with 1 Axes>"
      ]
     },
     "metadata": {
      "filenames": {
       "image/png": "/Users/mauricio/Documents/VU/Teaching/Programming(Python)/book/introProgramming/_build/jupyter_execute/chapters/07_eda_69_1.png"
      },
      "needs_background": "light"
     },
     "output_type": "display_data"
    }
   ],
   "source": [
    "# Create a histogram out from the price variable (column)\n",
    "hist = wines.hist(column='price', rwidth=0.9, grid=False, bins=100)\n",
    "hist"
   ]
  },
  {
   "cell_type": "markdown",
   "metadata": {},
   "source": [
    "This happens when your data is highly **skewed**–that is, most observations are concentrated on certain values at the beginning or the end of the variable domain. The tails of this type of distributions usually contain outliers."
   ]
  },
  {
   "cell_type": "markdown",
   "metadata": {},
   "source": [
    "```{admonition} Histogram\n",
    ":class: alert\n",
    "A histogram is a plot used to show the frequency of a given value or interval of values on a given variable.\n",
    "```"
   ]
  }
 ],
 "metadata": {
  "kernelspec": {
   "display_name": "Python 3",
   "language": "python",
   "name": "python3"
  },
  "language_info": {
   "codemirror_mode": {
    "name": "ipython",
    "version": 3
   },
   "file_extension": ".py",
   "mimetype": "text/x-python",
   "name": "python",
   "nbconvert_exporter": "python",
   "pygments_lexer": "ipython3",
   "version": "3.9.7"
  }
 },
 "nbformat": 4,
 "nbformat_minor": 4
}