{
 "cells": [
  {
   "cell_type": "markdown",
   "metadata": {
    "slideshow": {
     "slide_type": "slide"
    }
   },
   "source": [
    "# Classes and Methods"
   ]
  },
  {
   "cell_type": "markdown",
   "metadata": {},
   "source": [
    "## Table of Contents\n",
    "\n",
    "- [1. Introduction](#1.-Introduction)\n",
    "- [2. Object-oriented Features](#2.-Object-oriented-Features)\n",
    "- [3. getter and setter Methods](#3.-getter-and-setter-Methods)\n",
    "- [4. Modifier Methods](#4.-Modifier-Methods)\n",
    "- [5. Pure Methods](#5.-Pure-Methods)\n",
    "- [6. Prototyping vs. Planning](#6.-Prototyping-vs.-Planning)\n",
    "- [7. Summary](#7.-Summary)"
   ]
  },
  {
   "cell_type": "markdown",
   "metadata": {
    "slideshow": {
     "slide_type": "slide"
    }
   },
   "source": [
    "## 1. Introduction\n",
    "\n",
    "So far, we have seen a few object-oriented features of Python, \n",
    "the next step is to add more advanced methods to classes in order \n",
    "to implement real encapsulation\n",
    "of data and the corresponding functionalities. We already saw some very small examples related to the `class Rectangle` where we defined the method `find_center`.\n",
    "\n",
    "In this notebook, we will dive deeper into developing methods."
   ]
  },
  {
   "cell_type": "markdown",
   "metadata": {},
   "source": [
    "## 2. Object-oriented Features\n",
    "\n",
    "Python is an **object-oriented programming language**, which means that it provides features\n",
    "that support object-oriented programming, for instance:\n",
    "\n",
    "* It supports class and method definitions.\n",
    "* Most of the computations are expressed in terms of operations on objects.\n",
    "* Objects often represent things in the real world, and methods often correspond to the ways things in the real world interact, for instance created, destroyed, updated, etc."
   ]
  },
  {
   "cell_type": "markdown",
   "metadata": {
    "slideshow": {
     "slide_type": "fragment"
    }
   },
   "source": [
    "We will dive deeper into these aspects of object orientation by means of revisiting the class `Time`.\n",
    "\n",
    "The `Time` class corresponded to the way people consider\n",
    "the time of day, and the functions we defined corresponded to how people want to manipulate time.\n",
    "These features were expressed using the known language constructs, but the object-oriented \n",
    "alternative is more concise and more accurately conveys the structure of the program.\n",
    "\n",
    "In case of the `class Time` and the functions defined for `Time` it can be observed that all\n",
    "functions take `Time` as an argument.\n",
    "This observation is the motivation for methods; a **method** is a function that is associated\n",
    "with a particular class. \n",
    "\n",
    "The objects representing strings, lists, dictionaries and tuples already provided methods for manipulations.\n",
    "In this chapter, we will define methods for programmer-defined types.\n",
    "\n",
    "Methods are semantically the same as functions, but there are two syntactic differences:\n",
    "* Methods are defined **inside a class** definition in order to make the relationship between\n",
    "the class and the method more explicit.\n",
    "* Methods usually start with the **`self` argument**.\n",
    "* The **syntax for invoking a method** is different from the syntax for calling a function.\n",
    "\n",
    "The functions we defined in the previous two chapters will be gradually transformed into methods."
   ]
  },
  {
   "cell_type": "markdown",
   "metadata": {},
   "source": [
    "## 3. Getter and Setter Methods\n",
    "\n",
    "We have seen that every class definition starts with defining the `__init__` and `__str__` methods. However, it is also common practice to introduce `get`ter and `set`ter methods in a class to manipulate its attributes. The `get`ter and `set`ter methods allows to shield of the internal data of class.\n",
    "\n",
    "They are part of the **interface** of a class."
   ]
  },
  {
   "cell_type": "code",
   "execution_count": null,
   "metadata": {},
   "outputs": [],
   "source": [
    "class Time:\n",
    "    \"\"\"\n",
    "    Represents the time of day.\n",
    "    attributes: hour, minute, second\n",
    "    \"\"\"\n",
    "    \n",
    "    def __init__(self, hour: int = 0, minute: int = 0, second: int = 0) -> None:\n",
    "        \"\"\" \n",
    "        Initializes a Time object.\n",
    "        :param hour: integer value for hour\n",
    "        :param minute: integer value for minute\n",
    "        :param second: integer value for second\n",
    "        \"\"\"\n",
    "        self.hour: int = hour\n",
    "        self.minute: int = minute\n",
    "        self.second: int = second\n",
    "            \n",
    "    def __str__(self) -> str:\n",
    "        \"\"\" \n",
    "        Returns a string representation of the Time object.\n",
    "        :returns: string representation of the Time object.\n",
    "        \"\"\"\n",
    "        return '{:02d}:{:02d}:{:02d}'.format(self.hour, self.minute, self.second)\n",
    "    \n",
    "    def get_hour(self) -> int:\n",
    "        \"\"\"\n",
    "        Returns the amount of hours\n",
    "        :returns: hours\n",
    "        \"\"\"\n",
    "        return self.hour\n",
    "    \n",
    "    def get_minute(self) -> int:\n",
    "        \"\"\"\n",
    "        Returns the amount of minutes\n",
    "        :returns: minutes\n",
    "        \"\"\"\n",
    "        return self.minute\n",
    "    \n",
    "    def getSecond(self) -> int:\n",
    "        \"\"\"\n",
    "        Returns the amount of seconds\n",
    "        :returns: seconds\n",
    "        \"\"\"\n",
    "        return self.second\n",
    "    \n",
    "    def setHour(self, hour: int) -> None:\n",
    "        \"\"\"\n",
    "        Sets a new value for hours\n",
    "        :param hour: integer value\n",
    "        \"\"\"\n",
    "        self.hour = hour\n",
    "    \n",
    "    def getMinute(self, minute: int) -> None:\n",
    "        \"\"\"\n",
    "        Sets a new value for minutes\n",
    "        :param minute: integer value\n",
    "        \"\"\"\n",
    "        self.minute = minute\n",
    "    \n",
    "    def getSecond(self, second) -> None:\n",
    "        \"\"\"\n",
    "        Sets a new value for seconds\n",
    "        :param second: integer value\n",
    "        \"\"\"\n",
    "        self.second = second"
   ]
  },
  {
   "cell_type": "markdown",
   "metadata": {
    "tags": []
   },
   "source": [
    "<div class=\"alert alert-success\">\n",
    "    <b>Do It Yourself!</b><br>\n",
    "    Do you remember the <i>print_time_meridiem(time : Time)</i> function from previous chapter? It is time to include it as a method of the Time class. This method should print the time following the 12-hour convention (e.g. 12:05 pm, 11:46 am).\n",
    "</div>"
   ]
  },
  {
   "cell_type": "code",
   "execution_count": null,
   "metadata": {
    "tags": []
   },
   "outputs": [],
   "source": [
    "# Remove this line and add your code here"
   ]
  },
  {
   "cell_type": "markdown",
   "metadata": {},
   "source": [
    "## 4. Modifier Methods\n",
    "\n",
    "It may be useful for a method to modify the objects it gets as parameters. \n",
    "In that case, the changes are visible to the caller. \n",
    "Methods that work this way are called **modifiers**.\n",
    "\n",
    "Hereafter, we will use the **prototype and patch** developing strategy, which is \n",
    "a way of tackling a complex problem by\n",
    "starting with a simple *prototype* and *incrementally* dealing with the more complex situations.\n",
    "In the next cell, a first version of the method `increment` is presented."
   ]
  },
  {
   "cell_type": "code",
   "execution_count": null,
   "metadata": {},
   "outputs": [],
   "source": [
    "class Time:\n",
    "    \"\"\"\n",
    "    Represents the time of day.\n",
    "    attributes: hour, minute, second\n",
    "    \"\"\"\n",
    "    \n",
    "    def __init__(self, hour: int = 0, minute: int = 0, second: int = 0) -> None:\n",
    "        \"\"\" \n",
    "        Initializes a Time object.\n",
    "        :param hour: integer value for hour\n",
    "        :param minute: integer value for minute\n",
    "        :param second: integer value for second\n",
    "        \"\"\"\n",
    "        self.hour: int = hour\n",
    "        self.minute: int = minute\n",
    "        self.second: int = second\n",
    "            \n",
    "    def __str__(self) -> str:\n",
    "        \"\"\" \n",
    "        Returns a string representation of the Time object.\n",
    "        :returns: string representation of the Time object.\n",
    "        \"\"\"\n",
    "        return '{:02d}:{:02d}:{:02d}'.format(self.hour, self.minute, self.second)\n",
    "    \n",
    "#...\n",
    "\n",
    "    def increment(self, seconds: int) -> None:\n",
    "        \"\"\" \n",
    "        Adds seconds to a Time object.\n",
    "        :param time: a Time object\n",
    "        :param seconds: number of seconds to be added\n",
    "        \"\"\"\n",
    "        self.second += seconds\n",
    "    \n",
    "        # fix the seconds if greater than 60\n",
    "        if self.second >= 60:\n",
    "            self.second -= 60\n",
    "            self.minute += 1\n",
    "        \n",
    "        # fix the minutes if greater than 60\n",
    "        if self.minute >= 60:\n",
    "            self.minute -= 60\n",
    "            self.hour += 1\n",
    "\n",
    "        # fix with hours if greater than 24\n",
    "        if self.hour >= 24:\n",
    "            self.hour -= 24 "
   ]
  },
  {
   "cell_type": "markdown",
   "metadata": {},
   "source": [
    "The method `increment` starts with adding the `seconds` to `time.second`; the remainder deals with special cases.\n",
    "\n",
    "This method does not need to return the `time` object, because it is being directly modified within the method body.\n",
    "Let us see an example where an object is being changed by calling the *modifier* method."
   ]
  },
  {
   "cell_type": "code",
   "execution_count": null,
   "metadata": {},
   "outputs": [],
   "source": [
    "my_time: Time = Time(20, 20, 30)\n",
    "print(f'Before incrementing: {my_time}')\n",
    "\n",
    "my_time.increment(30)\n",
    "print(f'After incrementing: {my_time}')"
   ]
  },
  {
   "cell_type": "markdown",
   "metadata": {},
   "source": [
    "However, the `increment` method is not correct when the number of seconds to be added is larger than `60`.\n",
    "It is then necessary to add more than 1 minute to `time.minutes`."
   ]
  },
  {
   "cell_type": "code",
   "execution_count": null,
   "metadata": {},
   "outputs": [],
   "source": [
    "my_time: Time = Time(20, 20, 30)\n",
    "print(f'Before incrementing: {my_time}')\n",
    "\n",
    "my_time.increment(95)\n",
    "print(f'After incrementing: {my_time}')"
   ]
  },
  {
   "cell_type": "markdown",
   "metadata": {},
   "source": [
    "A straightforward solution is to use a `while` loop, but this may not be very efficient."
   ]
  },
  {
   "cell_type": "code",
   "execution_count": null,
   "metadata": {},
   "outputs": [],
   "source": [
    "class Time:\n",
    "    \"\"\"\n",
    "    Represents the time of day.\n",
    "    attributes: hour, minute, second\n",
    "    \"\"\"\n",
    "    \n",
    "    def __init__(self, hour: int = 0, minute: int = 0, second: int = 0) -> None:\n",
    "        \"\"\" \n",
    "        Initializes a Time object.\n",
    "        :param hour: integer value for hour\n",
    "        :param minute: integer value for minute\n",
    "        :param second: integer value for second\n",
    "        \"\"\"\n",
    "        self.hour: int = hour\n",
    "        self.minute: int = minute\n",
    "        self.second: int = second\n",
    "            \n",
    "    def __str__(self) -> str:\n",
    "        \"\"\" \n",
    "        Returns a string representation of the Time object.\n",
    "        :returns: string representation of the Time object.\n",
    "        \"\"\"\n",
    "        return '{:02d}:{:02d}:{:02d}'.format(self.hour, self.minute, self.second)\n",
    "    \n",
    "#...\n",
    "\n",
    "    def increment(self, seconds: int) -> None:\n",
    "        \"\"\" \n",
    "        Adds seconds to a Time object.\n",
    "        :param time: a Time object\n",
    "        :param seconds: number of seconds to be added\n",
    "        \"\"\"\n",
    "        time.second += seconds\n",
    "    \n",
    "        # fix the seconds if greater than 60\n",
    "        while time.second >= 60:\n",
    "            time.second -= 60\n",
    "            time.minute += 1\n",
    "        \n",
    "        # fix the minutes if greater than 60\n",
    "        while time.minute >= 60:\n",
    "            time.minute -= 60\n",
    "            time.hour += 1\n",
    "\n",
    "        # fix with hours if greater than 24\n",
    "        while time.hour >= 24:\n",
    "            time.hour -= 24 "
   ]
  },
  {
   "cell_type": "markdown",
   "metadata": {},
   "source": [
    "To improve the efficiency of our solution, we can leverage the `divmod` function, which given two numbers (i.e. *dividend* and *divisor* in the given order), returns their *quotient* and *remainder* as a tuple."
   ]
  },
  {
   "cell_type": "code",
   "execution_count": null,
   "metadata": {},
   "outputs": [],
   "source": [
    "(minutes, seconds) = divmod(95, 60)\n",
    "print(f'minutes={minutes} seconds={seconds}')"
   ]
  },
  {
   "cell_type": "code",
   "execution_count": null,
   "metadata": {},
   "outputs": [],
   "source": [
    "class Time:\n",
    "    \"\"\"\n",
    "    Represents the time of day.\n",
    "    attributes: hour, minute, second\n",
    "    \"\"\"\n",
    "    \n",
    "    def __init__(self, hour: int = 0, minute: int = 0, second: int = 0) -> None:\n",
    "        \"\"\" \n",
    "        Initializes a Time object.\n",
    "        :param hour: integer value for hour\n",
    "        :param minute: integer value for minute\n",
    "        :param second: integer value for second\n",
    "        \"\"\"\n",
    "        self.hour: int = hour\n",
    "        self.minute: int = minute\n",
    "        self.second: int = second\n",
    "            \n",
    "    def __str__(self) -> str:\n",
    "        \"\"\" \n",
    "        Returns a string representation of the Time object.\n",
    "        :returns: string representation of the Time object.\n",
    "        \"\"\"\n",
    "        return '{:02d}:{:02d}:{:02d}'.format(self.hour, self.minute, self.second)\n",
    "    \n",
    "#...\n",
    "\n",
    "    def increment(self, seconds: int) -> None:\n",
    "        \"\"\" \n",
    "        Adds seconds to a Time object.\n",
    "        :param time: a Time object\n",
    "        :param seconds: number of seconds to be added\n",
    "        \"\"\"\n",
    "        # One hour has 3600 seconds = 60 seconds x 60 minutes\n",
    "        (hours, seconds) = divmod(seconds, 3600)\n",
    "   \n",
    "        # One minute has 60 seconds\n",
    "        (minutes, seconds) = divmod(seconds, 60)\n",
    "    \n",
    "        self.hour += hours\n",
    "        self.minute += minutes\n",
    "        self.second += seconds\n",
    "    \n",
    "    \n",
    "my_time: Time = Time(20, 20, 30)\n",
    "print(f'Before incrementing: {my_time}')\n",
    "\n",
    "my_time.increment(3660)\n",
    "print(f'After incrementing: {my_time}')"
   ]
  },
  {
   "cell_type": "markdown",
   "metadata": {
    "tags": []
   },
   "source": [
    "<div class=\"alert alert-success\">\n",
    "    <b>Do It Yourself!</b><br>\n",
    "    Let's introduce some changes to the previous exercise. Create the modifier <i>convert_utc_modifier(time : Time, utc_units : int) -> Time</i>, which takes an instance of type Time (representing the Coordinated Universal Time -UTC) and adds the number of UTC units to it. This function adds the integer to the <i>hours</i> attribute. Remember that an hour must be equal or greater to zero, and less than 24.\n",
    "</div>"
   ]
  },
  {
   "cell_type": "code",
   "execution_count": null,
   "metadata": {
    "tags": []
   },
   "outputs": [],
   "source": [
    "# Remove this line and add your code here"
   ]
  },
  {
   "cell_type": "markdown",
   "metadata": {},
   "source": [
    "## 5. Pure Methods\n",
    "\n",
    "Anything that can be done with modifiers can also be done with pure methods. \n",
    "In fact, some programming languages, also known as **functional programming languages**, \n",
    "only allow pure methods. \n",
    "\n",
    "A functional programming style, or pure methods, means that the methods introduced are *side-effect free*, this means that the arguments are not changed in the methods.\n",
    "\n",
    "There is some evidence that programs that use pure methods are faster to develop and less error-prone than programs\n",
    "that use modifiers. \n",
    "It is, therefore, good practice to develop **pure methods** instead of **modifiers**.\n",
    "However, modifiers are convenient at times, and functional programs tend to be less efficient.\n",
    "Thus, defining a modifier from time to time is not forbidden.\n",
    "\n",
    "The next cell shows a simple prototype of the `add_time` method."
   ]
  },
  {
   "cell_type": "code",
   "execution_count": null,
   "metadata": {},
   "outputs": [],
   "source": [
    "class Time:\n",
    "    \"\"\"\n",
    "    Represents the time of day.\n",
    "    attributes: hour, minute, second\n",
    "    \"\"\"\n",
    "    \n",
    "    def __init__(self, hour: int = 0, minute: int = 0, second: int = 0) -> None:\n",
    "        \"\"\" \n",
    "        Initializes a Time object.\n",
    "        :param hour: integer value for hour\n",
    "        :param minute: integer value for minute\n",
    "        :param second: integer value for second\n",
    "        \"\"\"\n",
    "        self.hour: int = hour\n",
    "        self.minute: int = minute\n",
    "        self.second: int = second\n",
    "            \n",
    "    def __str__(self) -> str:\n",
    "        \"\"\" \n",
    "        Returns a string representation of the Time object.\n",
    "        :returns: string representation of the Time object.\n",
    "        \"\"\"\n",
    "        return '{:02d}:{:02d}:{:02d}'.format(self.hour, self.minute, self.second)\n",
    "    \n",
    "#...\n",
    "\n",
    "    def add_time(self, other) -> 'Time':\n",
    "        \"\"\" \n",
    "        Returns a new 'Time' object containing the sum of two Time objects.\n",
    "        :param time: a Time object\n",
    "        :returns: a 'Time' object containing the sum of two Time objects.\n",
    "        \"\"\"\n",
    "        hour: int = self.hour + other.hour\n",
    "        minute: int = self.minute + other.minute\n",
    "        second: int = self.second + other.second\n",
    "        new_time: Time = Time(hour, minute, second)\n",
    "            \n",
    "        return new_time"
   ]
  },
  {
   "cell_type": "markdown",
   "metadata": {},
   "source": [
    "This method creates a new `Time` object (`addition`). \n",
    "Its attributes are initialized by adding\n",
    "the values of the attributes of the arguments, and eventually returns the created object."
   ]
  },
  {
   "cell_type": "markdown",
   "metadata": {},
   "source": [
    "<div class=\"alert alert-info\">\n",
    "<b>Type-hint as string</b><br>\n",
    "Note that `Time` in the type-hint of the result of the method is represented as a string. Python does not yet allow the name of the class to be used in the class itself as type-hint. This may change in the (near) future.</div>"
   ]
  },
  {
   "cell_type": "markdown",
   "metadata": {},
   "source": [
    "This is called a **pure method** because it does not have any side effects:\n",
    "* it *does not modify any of the objects* passed to it as arguments and \n",
    "* it has no effect, like *displaying a value or getting user input*, other than returning a value.\n",
    "\n",
    "The method of the previous cell can be tested by creating and adding 2 `Time` objects."
   ]
  },
  {
   "cell_type": "code",
   "execution_count": null,
   "metadata": {},
   "outputs": [],
   "source": [
    "start: Time = Time(23, 45, 0)\n",
    "duration: Time = Time(1, 35, 0)\n",
    "finished: Time = start.add_time(duration)\n",
    "\n",
    "print(finished)"
   ]
  },
  {
   "cell_type": "markdown",
   "metadata": {},
   "source": [
    "This is of course an illegal time.\n",
    "\n",
    "The problem is caused by the fact that we did not keep track of the fact that there are only `60` seconds in a minute, `60` minutes in an hour, and `24` hours in a day, *or do we allow more hours in a `Time` object?*\n",
    "We need to *carry* over seconds to minutes and minutes to hours."
   ]
  },
  {
   "cell_type": "code",
   "execution_count": null,
   "metadata": {},
   "outputs": [],
   "source": [
    "class Time:\n",
    "    \"\"\"\n",
    "    Represents the time of day.\n",
    "    attributes: hour, minute, second\n",
    "    \"\"\"\n",
    "    \n",
    "    def __init__(self, hour: int = 0, minute: int = 0, second: int = 0) -> None:\n",
    "        \"\"\" \n",
    "        Initializes a Time object.\n",
    "        :param hour: integer value for hour\n",
    "        :param minute: integer value for minute\n",
    "        :param second: integer value for second\n",
    "        \"\"\"\n",
    "        self.hour: int = hour\n",
    "        self.minute: int = minute\n",
    "        self.second: int = second\n",
    "            \n",
    "    def __str__(self) -> str:\n",
    "        \"\"\" \n",
    "        Returns a string representation of the Time object.\n",
    "        :returns: string representation of the Time object.\n",
    "        \"\"\"\n",
    "        return '{:02d}:{:02d}:{:02d}'.format(self.hour, self.minute, self.second)\n",
    "    \n",
    "#...\n",
    "\n",
    "    def add_time(self, other) -> 'Time':\n",
    "        \"\"\" \n",
    "        Returns a new Time object containing the sum of two Time objects.\n",
    "        :param time: a Time object\n",
    "        :returns: a Time object containing the sum of two Time objects.\n",
    "        \"\"\"\n",
    "        hour: int = self.hour + other.hour\n",
    "        minute: int = self.minute + other.minute\n",
    "        second: int = self.second + other.second\n",
    "    \n",
    "        # fix the seconds if greater than 60\n",
    "        if second >= 60:\n",
    "            second -= 60\n",
    "            minute += 1\n",
    "\n",
    "        # fix the minutes if greater than 60\n",
    "        if minute >= 60:\n",
    "            minute -= 60\n",
    "            hour += 1\n",
    "        \n",
    "        # fix with hours if greater than 24\n",
    "        if hour >= 24:\n",
    "            hour -= 24\n",
    "    \n",
    "        new_time: Time = Time(hour, minute, second)\n",
    "        return new_time\n",
    "\n",
    "\n",
    "start: Time = Time(23, 45, 0)\n",
    "duration: Time = Time(1, 35, 0)\n",
    "finished: Time = start.add_time(duration)\n",
    "\n",
    "print(finished)"
   ]
  },
  {
   "cell_type": "markdown",
   "metadata": {},
   "source": [
    "This solution is slightly more elaborated than the previous.\n",
    "But, the method is quite long and a more concise solution will be presented later in the chapter."
   ]
  },
  {
   "cell_type": "markdown",
   "metadata": {
    "tags": []
   },
   "source": [
    "<div class=\"alert alert-success\">\n",
    "    <b>Do It Yourself!</b><br>\n",
    "    Create the pure method <i>convert_utc(time : Time, utc_units : int) -> Time</i>, which takes an instance of type Time (representing the Coordinated Universal Time -UTC) and the number of UTC units. This method adds the integer to the <i>hours</i> attribute. Remember that an hour must be equal or greater to zero, and less than 24.\n",
    "</div>"
   ]
  },
  {
   "cell_type": "code",
   "execution_count": null,
   "metadata": {},
   "outputs": [],
   "source": [
    "# Remove this line and add your code here"
   ]
  },
  {
   "cell_type": "markdown",
   "metadata": {
    "slideshow": {
     "slide_type": "fragment"
    }
   },
   "source": [
    "## 6. Prototyping vs. Planning\n",
    "\n",
    "The development strategy used so far in this chapter has been *prototype and patch*.\n",
    "The problem with this approach is that the code becomes bulky, it may contain code to deal with a lot of corner cases.\n",
    "In the `Time` case, you have to be aware of the seconds, minutes, and hours, all three may have a carry over.\n",
    "This approach can be effective, especially if you do not have yet a deep understanding\n",
    "of the problem, but it may involve a lot of testing.\n",
    "\n",
    "An alternative strategy is **designed development**, in which high-level insight into the problem can\n",
    "make the programming much easier. \n",
    "The more experienced you become as a programmer, the more similarities \n",
    "you see between problems. \n",
    "You start to see patterns and often these patterns can be applied to similar problems.\n",
    "It often involves taking a step back and looking at the problem from a different angle. \n",
    "\n",
    "There are different\n",
    "alternatives to represent time and maybe an alternative way of looking at time may simplify the manipulation\n",
    "of time objects.\n",
    "For instance, to realize that the conversion from time to seconds and back allows us just to manipulate time\n",
    "in terms of the number of seconds: `1` minute is `60` seconds and `1` hour is `3600` seconds.\n",
    "\n",
    "So, if we convert the `Time` object to an **integer value representing seconds and back**, the solution becomes much simpler!"
   ]
  },
  {
   "cell_type": "markdown",
   "metadata": {
    "slideshow": {
     "slide_type": "slide"
    }
   },
   "source": [
    "### `time_to_int` method\n",
    "\n",
    "Let us start with defining the conversion method from time to seconds `time_to_int`.\n",
    "The next cells also contain simple manual tests."
   ]
  },
  {
   "cell_type": "code",
   "execution_count": null,
   "metadata": {
    "slideshow": {
     "slide_type": "fragment"
    }
   },
   "outputs": [],
   "source": [
    "class Time:\n",
    "    \"\"\"\n",
    "    Represents the time of day.\n",
    "    attributes: hour, minute, second\n",
    "    \"\"\"\n",
    "    \n",
    "    def __init__(self, hour: int = 0, minute: int = 0, second: int = 0) -> None:\n",
    "        \"\"\" \n",
    "        Initializes a Time object.\n",
    "        :param hour: integer value for hour\n",
    "        :param minute: integer value for minute\n",
    "        :param second: integer value for second\n",
    "        \"\"\"\n",
    "        self.hour: int = hour\n",
    "        self.minute: int = minute\n",
    "        self.second: int = second\n",
    "            \n",
    "    def __str__(self) -> str:\n",
    "        \"\"\" \n",
    "        Returns a string representation of the Time object.\n",
    "        :returns: string representation of the Time object.\n",
    "        \"\"\"\n",
    "        return '{:02d}:{:02d}:{:02d}'.format(self.hour, self.minute, self.second)\n",
    "\n",
    "#...\n",
    "\n",
    "    def time_to_int(self) -> int:\n",
    "        \"\"\" \n",
    "        Converts a Time object into an integer value representing seconds.\n",
    "        :param time: a Time object to be converted\n",
    "        :returns: number of seconds as an integer value.\n",
    "        \"\"\"\n",
    "        minutes: int = 60 * self.hour + self.minute\n",
    "        seconds: int = 60 * minutes + self.second\n",
    "        return seconds"
   ]
  },
  {
   "cell_type": "code",
   "execution_count": null,
   "metadata": {
    "slideshow": {
     "slide_type": "fragment"
    }
   },
   "outputs": [],
   "source": [
    "start: Time = Time(21, 45, 1)\n",
    "start.time_to_int() == 78301"
   ]
  },
  {
   "cell_type": "markdown",
   "metadata": {
    "slideshow": {
     "slide_type": "fragment"
    }
   },
   "source": [
    "### `int_to_time` Method\n",
    "\n",
    "We need now to develop a method `int_to_time` that converts a number of seconds into hours, minutes, and seconds—that is, a `Time` object.\n",
    "This method will be implemented as a *static method*. \n",
    "\n",
    "A *static method* is a method that performs a task independent of an *object*. The method does not use or change the *instance attributes* of the object. Furthermore,  a *static method* does not have the parameter `self` or another parameter related to the class in which it is defined. \n",
    "\n",
    "A *static method* is bound to the class and not the object of the class. Therefore, we can call it using the *class name*.\n",
    "\n",
    "A *static method* has to be preceded by the annotation `@staticmethod`. Beware that you need to repeat this annotation for every method you want to define as a *static method*."
   ]
  },
  {
   "cell_type": "code",
   "execution_count": null,
   "metadata": {},
   "outputs": [],
   "source": [
    "class C:\n",
    "    @staticmethod\n",
    "    def f(arg1: Type1, arg2: Type2, ...) -> ResultType: ..."
   ]
  },
  {
   "cell_type": "markdown",
   "metadata": {
    "slideshow": {
     "slide_type": "fragment"
    }
   },
   "source": [
    "The method `int_to_time` explicitly takes an integer value as argument and returns a `Time` object.\n",
    "Internally, it will use the `divmod` function again.\n",
    "\n",
    "The conversion method, `int_to_time`, which goes from seconds to time cannot be implemented as a regular method of the class `Time`, because it produces a `Time` object and takes an integer value."
   ]
  },
  {
   "cell_type": "code",
   "execution_count": null,
   "metadata": {
    "slideshow": {
     "slide_type": "fragment"
    }
   },
   "outputs": [],
   "source": [
    "class Time:\n",
    "    \"\"\"\n",
    "    Represents the time of day.\n",
    "    attributes: hour, minute, second\n",
    "    \"\"\"\n",
    "    \n",
    "    def __init__(self, hour: int = 0, minute: int = 0, second: int = 0) -> None:\n",
    "        \"\"\" \n",
    "        Initializes a Time object.\n",
    "        :param hour: integer value for hour\n",
    "        :param minute: integer value for minute\n",
    "        :param second: integer value for second\n",
    "        \"\"\"\n",
    "        self.hour: int = hour\n",
    "        self.minute: int = minute\n",
    "        self.second: int = second\n",
    "            \n",
    "    def __str__(self) -> str:\n",
    "        \"\"\" \n",
    "        Returns a string representation of the Time object.\n",
    "        :returns: string representation of the Time object.\n",
    "        \"\"\"\n",
    "        return '{:02d}:{:02d}:{:02d}'.format(self.hour, self.minute, self.second)\n",
    "\n",
    "#...\n",
    "    \n",
    "    def time_to_int(self) -> int:\n",
    "        \"\"\" \n",
    "        Converts a Time object into an integer value representing seconds.\n",
    "        :param time: a Time object to be converted\n",
    "        :returns: number of seconds as an integer value.\n",
    "        \"\"\"\n",
    "        minutes: int = 60 * self.hour + self.minute\n",
    "        seconds: int = 60 * minutes + self.second\n",
    "        return seconds\n",
    "\n",
    "    \n",
    "    @staticmethod\n",
    "    def int_to_time(seconds: int) -> 'Time':\n",
    "        \"\"\" \n",
    "        Converts an integer value representing seconds into a Time object.\n",
    "        :param seconds: as Integer value\n",
    "        :returns: a Time object.\n",
    "        \"\"\"\n",
    "        time: Time = Time()\n",
    "        minutes, time.second = divmod(seconds, 60)\n",
    "        time.hour, time.minute = divmod(minutes, 60)\n",
    "    \n",
    "        return time"
   ]
  },
  {
   "cell_type": "markdown",
   "metadata": {},
   "source": [
    "In order to call a *static method* you have to use the name of the *class* or *object*. The convention is to use the *class name*: `C.f(a1, a2, ...)`."
   ]
  },
  {
   "cell_type": "code",
   "execution_count": null,
   "metadata": {
    "slideshow": {
     "slide_type": "fragment"
    }
   },
   "outputs": [],
   "source": [
    "start: Time = Time(21, 45, 0)\n",
    "\n",
    "print(Time.int_to_time(start.time_to_int()))\n",
    "\n",
    "# Beware the following test fails!\n",
    "print(start.int_to_time(start.time_to_int()) == start)\n",
    "\n",
    "# Where as the next test succeeds!\n",
    "print(Time.int_to_time(78301).time_to_int() == 78301)"
   ]
  },
  {
   "cell_type": "markdown",
   "metadata": {},
   "source": [
    "**Is the method correct?**\n",
    "One way to check that both the method and function are correct is by means of using a *consistency check*. \n",
    "In this case, we will verify with the expression `Time.time_to_int(int_to_time(x)) == x`."
   ]
  },
  {
   "cell_type": "code",
   "execution_count": null,
   "metadata": {},
   "outputs": [],
   "source": [
    "x: int = 86300\n",
    "assert Time.int_to_time(x).time_to_int() == x"
   ]
  },
  {
   "cell_type": "markdown",
   "metadata": {},
   "source": [
    "Seems to be working! \n",
    "But, let us check some corner cases, for instance:\n",
    "- `int_to_time(0)`: expecting `00:00:00`.\n",
    "- `int_to_time(86400)`: expecting `00:00:00` given that 86.400 seconds is equal to 24 hours. `24:00:00` is not a legal time."
   ]
  },
  {
   "cell_type": "code",
   "execution_count": null,
   "metadata": {},
   "outputs": [],
   "source": [
    "my_time: Time = Time.int_to_time(86400)\n",
    "print(my_time)\n",
    "assert my_time.hour < 24, f'Excessive number hours ({my_time.hour}) are not being handled'"
   ]
  },
  {
   "cell_type": "code",
   "execution_count": null,
   "metadata": {},
   "outputs": [],
   "source": [
    "class Time:\n",
    "    \"\"\"\n",
    "    Represents the time of day.\n",
    "    attributes: hour, minute, second\n",
    "    \"\"\"\n",
    "    \n",
    "    def __init__(self, hour: int = 0, minute: int = 0, second: int = 0) -> None:\n",
    "        \"\"\" \n",
    "        Initializes a Time object.\n",
    "        :param hour: integer value for hour\n",
    "        :param minute: integer value for minute\n",
    "        :param second: integer value for second\n",
    "        \"\"\"\n",
    "        self.hour: int = hour\n",
    "        self.minute: int = minute\n",
    "        self.second: int = second\n",
    "            \n",
    "    def __str__(self) -> str:\n",
    "        \"\"\" \n",
    "        Returns a string representation of the Time object.\n",
    "        :returns: string representation of the Time object.\n",
    "        \"\"\"\n",
    "        return '{:02d}:{:02d}:{:02d}'.format(self.hour, self.minute, self.second)\n",
    "\n",
    "#...\n",
    "    \n",
    "    def time_to_int(self) -> int:\n",
    "        \"\"\" \n",
    "        Converts a Time object into an integer value representing seconds.\n",
    "        :param time: a Time object to be converted\n",
    "        :returns: number of seconds as an integer value.\n",
    "        \"\"\"\n",
    "        minutes: int = 60 * self.hour + self.minute\n",
    "        seconds: int = 60 * minutes + self.second\n",
    "        return seconds\n",
    "    \n",
    "    @staticmethod\n",
    "    def int_to_time(seconds: int) -> 'Time':\n",
    "        \"\"\" \n",
    "        Converts an integer value representing seconds into a Time object.\n",
    "        :param seconds: as Integer value\n",
    "        :returns: a Time object.\n",
    "        \"\"\"\n",
    "        time: Time = Time()\n",
    "        minutes, time.second = divmod(seconds, 60)\n",
    "        hours, time.minute = divmod(minutes, 60)\n",
    "        _, time.hour = divmod(hours, 24)\n",
    "    \n",
    "        return time"
   ]
  },
  {
   "cell_type": "code",
   "execution_count": null,
   "metadata": {},
   "outputs": [],
   "source": [
    "my_time: Time = Time.int_to_time(86400)\n",
    "print(my_time)\n",
    "assert my_time.hour < 24, f'Excessive number hours ({my_time.hour}) are not being handled'"
   ]
  },
  {
   "cell_type": "code",
   "execution_count": null,
   "metadata": {},
   "outputs": [],
   "source": [
    "Time.int_to_time(86400).time_to_int() == 86400"
   ]
  },
  {
   "cell_type": "code",
   "execution_count": null,
   "metadata": {},
   "outputs": [],
   "source": [
    "Time.int_to_time(86400).time_to_int()"
   ]
  },
  {
   "cell_type": "code",
   "execution_count": null,
   "metadata": {},
   "outputs": [],
   "source": [
    "x: int = 86400\n",
    "assert Time.int_to_time(x).time_to_int() == x % 86400"
   ]
  },
  {
   "cell_type": "markdown",
   "metadata": {
    "slideshow": {
     "slide_type": "fragment"
    }
   },
   "source": [
    "### New `add_time` and `increment` Methods\n",
    "\n",
    "Once we are convinced that both the function and method correct (according to our specifications), we can reimplement the `add_time` and `increment` method.\n",
    "\n",
    "The next cell shows an extension of the class `Time` with the `add_time` and `increment` method."
   ]
  },
  {
   "cell_type": "code",
   "execution_count": null,
   "metadata": {
    "slideshow": {
     "slide_type": "fragment"
    }
   },
   "outputs": [],
   "source": [
    "class Time:\n",
    "    \"\"\"\n",
    "    Represents the time of day.\n",
    "    attributes: hour, minute, second\n",
    "    \"\"\"\n",
    "    \n",
    "    def __init__(self, hour: int = 0, minute: int = 0, second: int = 0) -> None:\n",
    "        \"\"\" \n",
    "        Initializes a Time object.\n",
    "        :param hour: integer value for hour\n",
    "        :param minute: integer value for minute\n",
    "        :param second: integer value for second\n",
    "        \"\"\"\n",
    "        self.hour: int = hour\n",
    "        self.minute: int = minute\n",
    "        self.second: int = second\n",
    "            \n",
    "    def __str__(self) -> str:\n",
    "        \"\"\" \n",
    "        Returns a string representation of the Time object.\n",
    "        :returns: string representation of the Time object.\n",
    "        \"\"\"\n",
    "        return '{:02d}:{:02d}:{:02d}'.format(self.hour, self.minute, self.second)\n",
    "    \n",
    "#...\n",
    "        \n",
    "    def time_to_int(self) -> int:\n",
    "        \"\"\" \n",
    "        Converts a Time object into an integer value representing seconds.\n",
    "        :param time: a Time object to be converted\n",
    "        :returns: number of seconds as an integer value.\n",
    "        \"\"\"\n",
    "        minutes: int = 60 * self.hour + self.minute\n",
    "        seconds: int = 60 * minutes + self.second\n",
    "        return seconds\n",
    "    \n",
    "    def increment(self, seconds: int) -> 'Time':\n",
    "        \"\"\" \n",
    "        Adds seconds to a Time object.\n",
    "        :param time: a Time object\n",
    "        :param seconds: number of seconds to be added\n",
    "        :returns: a Time object increased by seconds.\n",
    "        \"\"\"\n",
    "        seconds += self.time_to_int()\n",
    "        return Time.int_to_time(seconds)\n",
    "    \n",
    "    def add_time(self, other) -> 'Time':\n",
    "        \"\"\" \n",
    "        Returns a new Time object containing the sum of two Time objects.\n",
    "        :param time: a Time object\n",
    "        :returns: a Time object containing the sum of two Time objects.\n",
    "        \"\"\"\n",
    "        seconds: int = self.time_to_int() + other.time_to_int()\n",
    "        return Time.int_to_time(seconds)\n",
    "\n",
    "    @staticmethod\n",
    "    def int_to_time(seconds: int) -> 'Time':\n",
    "        \"\"\" \n",
    "        Converts an integer value representing seconds into a Time object.\n",
    "        :param seconds: as Integer value\n",
    "        :returns: a Time object.\n",
    "        \"\"\"\n",
    "        time: Time = Time()\n",
    "        minutes, time.second = divmod(seconds, 60)\n",
    "        hours, time.minute = divmod(minutes, 60)\n",
    "        _, time.hour = divmod(hours, 24)\n",
    "    \n",
    "        return time"
   ]
  },
  {
   "cell_type": "code",
   "execution_count": null,
   "metadata": {
    "slideshow": {
     "slide_type": "fragment"
    }
   },
   "outputs": [],
   "source": [
    "start: Time = Time(21, 45, 0)\n",
    "print(start)\n",
    "\n",
    "end: Time = start.increment(1337)\n",
    "print(end)\n",
    "\n",
    "start.time_to_int() + 1337 == end.time_to_int()"
   ]
  },
  {
   "cell_type": "markdown",
   "metadata": {
    "slideshow": {
     "slide_type": "fragment"
    }
   },
   "source": [
    "- The subject, `start`, gets assigned to the first parameter, `self`. \n",
    "- The argument, `1337`, gets assigned to the second parameter, `seconds`.\n",
    "\n",
    "This mechanism can be confusing, especially if you make an error. \n",
    "For instance, if you invoke `increment` with two arguments, you get the following error message."
   ]
  },
  {
   "cell_type": "code",
   "execution_count": null,
   "metadata": {
    "slideshow": {
     "slide_type": "fragment"
    }
   },
   "outputs": [],
   "source": [
    "end: Time = start.increment(1337, 460)"
   ]
  },
  {
   "cell_type": "markdown",
   "metadata": {
    "slideshow": {
     "slide_type": "fragment"
    }
   },
   "source": [
    "The error message is initially confusing, because there are only two arguments in parentheses.\n",
    "But the subject is also considered an argument, so all together that is three."
   ]
  },
  {
   "cell_type": "markdown",
   "metadata": {},
   "source": [
    "Notice that the new implementation of the `increment` method is a *pure method*.\n",
    "We are not directly modifying the `Time` object that we receive as parameter.\n",
    "Instead, we are creating a new `Time` object without touching the argument, and returning this new value."
   ]
  },
  {
   "cell_type": "code",
   "execution_count": null,
   "metadata": {},
   "outputs": [],
   "source": [
    "start: Time = Time(23, 45, 0)\n",
    "    \n",
    "duration: Time = Time(1, 35, 0)\n",
    "finished: Time = start.add_time(duration)\n",
    "\n",
    "print(finished)"
   ]
  },
  {
   "cell_type": "markdown",
   "metadata": {
    "tags": []
   },
   "source": [
    "<div class=\"alert alert-success\">\n",
    "    <b>Do It Yourself!</b><br>\n",
    "    These time conversion methods allow us to develop also a <i>sub_time(t1 : Time, t2 : Time) -> Time</i> method, that subtracts two time intervals. Again, make sure you that your are not 'travelling back to the future', or end up with a negative time.\n",
    "</div>"
   ]
  },
  {
   "cell_type": "code",
   "execution_count": null,
   "metadata": {},
   "outputs": [],
   "source": [
    "# Remove this line and add your code here"
   ]
  },
  {
   "cell_type": "markdown",
   "metadata": {
    "slideshow": {
     "slide_type": "slide"
    }
   },
   "source": [
    "### `is_after` Method\n",
    "\n",
    "The transforming the function `is_after` into a method is more challenging, because `is_after` takes two `Time` objects as parameters.\n",
    "It is a convention to name the first parameter `self`\n",
    "and the second parameter `other`."
   ]
  },
  {
   "cell_type": "code",
   "execution_count": null,
   "metadata": {
    "slideshow": {
     "slide_type": "fragment"
    }
   },
   "outputs": [],
   "source": [
    "class Time:\n",
    "    \"\"\"\n",
    "    Represents the time of day.\n",
    "    attributes: hour, minute, second\n",
    "    \"\"\"\n",
    "    \n",
    "    def __init__(self, hour: int = 0, minute: int = 0, second: int = 0) -> None:\n",
    "        \"\"\" \n",
    "        Initializes a Time object.\n",
    "        :param hour: integer value for hour\n",
    "        :param minute: integer value for minute\n",
    "        :param second: integer value for second\n",
    "        \"\"\"\n",
    "        self.hour: int = hour\n",
    "        self.minute: int = minute\n",
    "        self.second: int = second\n",
    "            \n",
    "    def __str__(self) -> str:\n",
    "        \"\"\" \n",
    "        Returns a string representation of the Time object.\n",
    "        :returns: string representation of the Time object.\n",
    "        \"\"\"\n",
    "        return '{:02d}:{:02d}:{:02d}'.format(self.hour, self.minute, self.second)\n",
    "        \n",
    "#...\n",
    "        \n",
    "    def time_to_int(self) -> int:\n",
    "        \"\"\" \n",
    "        Converts a Time object into an integer value representing seconds.\n",
    "        :param time: a Time object to be converted\n",
    "        :returns: number of seconds as an integer value.\n",
    "        \"\"\"\n",
    "        minutes: int = 60 * self.hour + self.minute\n",
    "        seconds: int = 60 * minutes + self.second\n",
    "        return seconds\n",
    "    \n",
    "    def increment(self, seconds: int) -> 'Time':\n",
    "        \"\"\" \n",
    "        Adds seconds to a Time object.\n",
    "        :param time: a Time object\n",
    "        :param seconds: number of seconds to be added\n",
    "        :returns: a Time object increased by seconds.\n",
    "        \"\"\"\n",
    "        seconds += self.time_to_int()\n",
    "        return Time.int_to_time(seconds)\n",
    "    \n",
    "    def is_after(self, other) -> bool:\n",
    "        \"\"\" \n",
    "        Returns a Boolean to indicate whether the current object is greater \n",
    "        than another one.\n",
    "        :param other: another Time object\n",
    "        :returns: `True` if the current object is greater than time2, \n",
    "            `False` otherwise.\n",
    "        \"\"\"\n",
    "        return self.time_to_int() > other.time_to_int()\n",
    "\n",
    "    @staticmethod\n",
    "    def int_to_time(seconds: int) -> 'Time':\n",
    "        \"\"\" \n",
    "        Converts an integer value representing seconds into a Time object.\n",
    "        :param seconds: as Integer value\n",
    "        :returns: a Time object.\n",
    "        \"\"\"\n",
    "        time: Time = Time()\n",
    "        minutes, time.second = divmod(seconds, 60)\n",
    "        hours, time.minute = divmod(minutes, 60)\n",
    "        _, time.hour = divmod(hours, 24)\n",
    "    \n",
    "        return time    "
   ]
  },
  {
   "cell_type": "code",
   "execution_count": null,
   "metadata": {
    "slideshow": {
     "slide_type": "fragment"
    }
   },
   "outputs": [],
   "source": [
    "start: Time = Time(21, 45, 0)\n",
    "end: Time = start.increment(1337)\n",
    "end.is_after(start)"
   ]
  },
  {
   "cell_type": "markdown",
   "metadata": {
    "slideshow": {
     "slide_type": "fragment"
    }
   },
   "source": [
    "One nice thing about this syntax is that it almost reads like English: “end is after start?”"
   ]
  },
  {
   "cell_type": "markdown",
   "metadata": {},
   "source": [
    "## 7. Summary\n",
    "\n",
    "In order to be able to work with classes and objects, we introduced methods that work on objects. We showed how to write side-effect free methods. We also introduced a structured way of developing code. We finally showed an incremental way of adding functionality to classes."
   ]
  },
  {
   "cell_type": "markdown",
   "metadata": {},
   "source": [
    "---\n",
    "\n",
    "# (End of Notebook)"
   ]
  }
 ],
 "metadata": {
  "kernelspec": {
   "display_name": "Python 3",
   "language": "python",
   "name": "python3"
  },
  "language_info": {
   "codemirror_mode": {
    "name": "ipython",
    "version": 3
   },
   "file_extension": ".py",
   "mimetype": "text/x-python",
   "name": "python",
   "nbconvert_exporter": "python",
   "pygments_lexer": "ipython3",
   "version": "3.11.5"
  }
 },
 "nbformat": 4,
 "nbformat_minor": 4
}
