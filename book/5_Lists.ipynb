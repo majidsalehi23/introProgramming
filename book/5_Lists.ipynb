{
 "cells": [
  {
   "cell_type": "markdown",
   "metadata": {
    "slideshow": {
     "slide_type": "slide"
    }
   },
   "source": [
    "# Lists\n",
    "\n"
   ]
  },
  {
   "cell_type": "markdown",
   "metadata": {},
   "source": [
    "## Table of Contents\n",
    "\n",
    "- [1. A Python List is an Array](#history)\n",
    "- [2. Lists versus Strings](#lists-vs-strings)\n",
    "- [3. Creating a List](#creating-list)\n",
    "- [4. Accessing List Elements](#accessing-elements)\n",
    "- [5. Lists are Mutable](#lists-mutable)\n",
    "- [6. Traversing a List](#traversing-list)\n",
    "- [7. Binary List Operations](#binary-list-op)\n",
    "- [8. List Slices](#list-slices)\n",
    "- [9. List Methods](#list-methods)\n",
    "- [10. Deleting Elements](#deleting-elem)\n",
    "- [11. Map, Filter, and Reduce](#map-filter-reduce)\n",
    "- [12. Lists and Strings](#lists-strings)\n",
    "- [13. Lists and Files](#lists-files)\n",
    "- [14. Lists as Values](#lists-values)\n",
    "- [15. Summary](#summary)"
   ]
  },
  {
   "cell_type": "markdown",
   "metadata": {
    "slideshow": {
     "slide_type": "slide"
    },
    "tags": []
   },
   "source": [
    "## 1. A Python List is an Array <a class=\"anchor\" id=\"history\"></a>\n",
    "\n",
    "Another way of storing data is by means of a list. The elements of a list may contain *arbitrary* values.\n",
    "However, Python “lists” are not lists. They are *arrays*. \n",
    "\n",
    "### A bit of history\n",
    "\n",
    "<img src=\"assets/Rutishauser.jpg\" alt=\"Heinz Rutishauser\" width=\"400\"/>\n",
    "\n",
    "<div style=\"text-align:center\">\n",
    "    <span style=\"font-size:0.9em; font-weight: bold;\"><b>Heinz Rutishauser (30 January 1918 – 10 November 1970) was a Swiss mathematician and a pioneer of modern numerical mathematics and computer science.</b></span>\n",
    "</div>\n",
    "\n",
    "Heinz Rutishauser's programming language Superplan (1949–1951) included multi-dimensional arrays. \n",
    "Because of the importance of array structures for efficient computation, the earliest high-level programming languages, including FORTRAN (1957), COBOL (1960), and Algol 60 (1960), provided support for multi-dimensional arrays.\n",
    "\n",
    "*Superplan* was a high-level programming language developed between 1949 and 1951 by *Heinz Rutishauser*, \n",
    "the name being a reference to \"Rechenplan\" (i.e. computation plan), in Konrad Zuse's terminology \n",
    "designating a single Plankalkül program.\n",
    "\n",
    "The language was described in Rutishauser's 1951 publication \"Über automatische Rechenplanfertigung bei programmgesteuerten Rechenmaschinen\" (i.e. Automatically created Computation Plans for Program-Controlled Computing Machines).\n",
    "\n",
    "Superplan introduced the keyword \"for\" resp. the German für with its for loop, which is an important language concept when traversing lists."
   ]
  },
  {
   "cell_type": "markdown",
   "metadata": {},
   "source": [
    "## 2. Lists versus Strings <a class=\"anchor\" id=\"lists-vs-strings\"></a>\n",
    "\n",
    "We have already worked with the notion of a *lists*: a string is a sequence of single characters, \n",
    "whereas a list is a sequence of in principle *arbitrary* values, so values of any type.\n",
    "\n",
    "The values in a list are called **elements** or **items**."
   ]
  },
  {
   "cell_type": "markdown",
   "metadata": {
    "tags": []
   },
   "source": [
    "## 3. Creating a List <a class=\"anchor\" id=\"creating-list\"></a>\n",
    "\n",
    "A new list can be created in different ways.\n",
    "The simplest way is to put the elements between square (`[` and `]`) brackets.\n",
    "Lists can also be assigned to variables.\n",
    "\n",
    "If you want to use a list as argument or result of a function together with a type hint you have to add the following line to your code:\n",
    "\n",
    "`from typing import List`\n",
    "\n",
    "If you know the type of the elements, for instance all elements are integers, you can write `nums: List[int]`. If you do not know the elements or the list contains elements of different types, you can write `elems : List[any]`."
   ]
  },
  {
   "cell_type": "code",
   "execution_count": null,
   "metadata": {},
   "outputs": [],
   "source": [
    "from typing import List"
   ]
  },
  {
   "cell_type": "code",
   "execution_count": null,
   "metadata": {
    "slideshow": {
     "slide_type": "fragment"
    }
   },
   "outputs": [],
   "source": [
    "int_list: List = [10, 20, 30, 40]\n",
    "\n",
    "print(int_list)\n",
    "type(int_list)"
   ]
  },
  {
   "cell_type": "markdown",
   "metadata": {
    "slideshow": {
     "slide_type": "fragment"
    }
   },
   "source": [
    "This is a list of four integers."
   ]
  },
  {
   "cell_type": "code",
   "execution_count": null,
   "metadata": {
    "slideshow": {
     "slide_type": "fragment"
    }
   },
   "outputs": [],
   "source": [
    "str_list: List = ['data science', 'computer science', 'programming', 'statistics']\n",
    "\n",
    "print(str_list)\n",
    "type(str_list)"
   ]
  },
  {
   "cell_type": "markdown",
   "metadata": {
    "slideshow": {
     "slide_type": "fragment"
    }
   },
   "source": [
    "This is a list of four strings.\n",
    "However, it is not necessary that the elements of a list are of the same type.\n",
    "\n",
    "We can even have other lists as elements.\n",
    "A list within another list is said to be a **nested** list."
   ]
  },
  {
   "cell_type": "code",
   "execution_count": null,
   "metadata": {
    "slideshow": {
     "slide_type": "fragment"
    }
   },
   "outputs": [],
   "source": [
    "messy_list: List = ['data science', 2, 3.14, [7, 42]]\n",
    "\n",
    "print(messy_list)\n",
    "type(messy_list)"
   ]
  },
  {
   "cell_type": "markdown",
   "metadata": {
    "slideshow": {
     "slide_type": "fragment"
    }
   },
   "source": [
    "Of course, you can assign list values to variables."
   ]
  },
  {
   "cell_type": "code",
   "execution_count": null,
   "metadata": {
    "slideshow": {
     "slide_type": "fragment"
    }
   },
   "outputs": [],
   "source": [
    "bikes: List = ['Gazelle', 'Trek', 'Sparta', 'Specialized']\n",
    "numbers: List = [7, 42, 6 * 42]\n",
    "empty_list: List = []\n",
    "\n",
    "print(bikes, numbers, empty_list)"
   ]
  },
  {
   "cell_type": "markdown",
   "metadata": {
    "jupyter": {
     "source_hidden": true
    },
    "tags": []
   },
   "source": [
    "<div class=\"alert alert-success\">\n",
    "    <b>Do It Yourself!</b><br>\n",
    "    Create a list of strings, where each string represents the name of a dutch artist. Assign the list to the variable <i>dutch_artists</i>.\n",
    "</div>"
   ]
  },
  {
   "cell_type": "code",
   "execution_count": null,
   "metadata": {
    "jupyter": {
     "source_hidden": true
    },
    "tags": []
   },
   "outputs": [],
   "source": [
    "# Remove this line and add your code here"
   ]
  },
  {
   "cell_type": "markdown",
   "metadata": {},
   "source": [
    "## 4. Accessing List Elements <a class=\"anchor\" id=\"accessing-elements\"></a>\n",
    "\n",
    "The syntax for accessing elements of a list is the same as for accessing characters of a string: you use the bracket operator.\n",
    "\n",
    "```python\n",
    "list_variable_or_value[index_expression]\n",
    "```\n",
    "\n",
    "The expression inside the brackets is the index of the list element."
   ]
  },
  {
   "cell_type": "code",
   "execution_count": null,
   "metadata": {},
   "outputs": [],
   "source": [
    "bikes[0]"
   ]
  },
  {
   "cell_type": "markdown",
   "metadata": {},
   "source": [
    "List indices work the same way as string indices:\n",
    "\n",
    "* Any integer expression can be used as an index.\n",
    "* If you try to read or write an element that does not exist, you get an `IndexError`.\n",
    "* If an index has a negative value, it counts backward from the end of the list."
   ]
  },
  {
   "cell_type": "code",
   "execution_count": null,
   "metadata": {},
   "outputs": [],
   "source": [
    "'Grape'[-5]"
   ]
  },
  {
   "cell_type": "code",
   "execution_count": null,
   "metadata": {},
   "outputs": [],
   "source": [
    "bikes[-1]"
   ]
  },
  {
   "cell_type": "markdown",
   "metadata": {},
   "source": [
    "The operator `in` works also for lists."
   ]
  },
  {
   "cell_type": "code",
   "execution_count": null,
   "metadata": {},
   "outputs": [],
   "source": [
    "'Sparta' in bikes"
   ]
  },
  {
   "cell_type": "code",
   "execution_count": null,
   "metadata": {},
   "outputs": [],
   "source": [
    "'JanJanssen' in bikes"
   ]
  },
  {
   "cell_type": "markdown",
   "metadata": {
    "jupyter": {
     "source_hidden": true
    },
    "tags": []
   },
   "source": [
    "<div class=\"alert alert-success\">\n",
    "    <b>Do It Yourself!</b><br>\n",
    "    Check if numbers 3 and 252 are in the list stored in the variable <i>numbers</i>.\n",
    "</div>"
   ]
  },
  {
   "cell_type": "code",
   "execution_count": null,
   "metadata": {
    "jupyter": {
     "source_hidden": true
    },
    "tags": []
   },
   "outputs": [],
   "source": [
    "# Remove this line and add your code here"
   ]
  },
  {
   "cell_type": "markdown",
   "metadata": {
    "slideshow": {
     "slide_type": "slide"
    }
   },
   "source": [
    "## 5. Lists are Mutable <a class=\"anchor\" id=\"lists-mutable\"></a>\n",
    "\n",
    "In contrast to strings, list elements can be changed.\n",
    "**Lists are mutable**, so we can change the value of a list element via an assignment. \n",
    "Therefore, we can use the indexed list in the left hand side of an assignment."
   ]
  },
  {
   "cell_type": "code",
   "execution_count": null,
   "metadata": {
    "slideshow": {
     "slide_type": "fragment"
    }
   },
   "outputs": [],
   "source": [
    "bikes[0] = 'Merida'\n",
    "\n",
    "print(bikes)"
   ]
  },
  {
   "cell_type": "markdown",
   "metadata": {
    "jupyter": {
     "source_hidden": true
    },
    "tags": []
   },
   "source": [
    "<div class=\"alert alert-success\">\n",
    "    <b>Do It Yourself!</b><br>\n",
    "    We have the following list of strings, where each string represents the name of a car brand. The list is assigned to the variable <i>car_brands</i>.\n",
    "    Change the last item of your list <i>car_brands</i>. Think of another brand that you have not included before.\n",
    "</div>"
   ]
  },
  {
   "cell_type": "code",
   "execution_count": null,
   "metadata": {
    "jupyter": {
     "source_hidden": true
    },
    "tags": []
   },
   "outputs": [],
   "source": [
    "car_brands: List = [\"Peugeot\", \"Toyota\", \"Honda\", \"Volkswagen\", \"BMW\", \"Audi\"]\n",
    "\n",
    "# Remove this line and add your code here"
   ]
  },
  {
   "cell_type": "markdown",
   "metadata": {
    "slideshow": {
     "slide_type": "fragment"
    }
   },
   "source": [
    "## 6. Traversing a List <a class=\"anchor\" id=\"traversing-list\"></a>\n",
    "\n",
    "The most common way of traversing a list is by means of using a `for` loop. \n",
    "The syntax is the same as for strings.\n",
    "\n",
    "<div class=\"alert alert-info\">\n",
    "    <b>Iterator name</b><br>\n",
    "    The name of the *iterator* can be short, because it is typically a local variable. \n",
    "    A local variable is a variable that is defined within a specific block of code, and it can only be used and accessed within the block in which it is defined.\n",
    "</div>"
   ]
  },
  {
   "cell_type": "code",
   "execution_count": null,
   "metadata": {
    "slideshow": {
     "slide_type": "fragment"
    }
   },
   "outputs": [],
   "source": [
    "for b in bikes:\n",
    "    print(b)"
   ]
  },
  {
   "cell_type": "markdown",
   "metadata": {
    "slideshow": {
     "slide_type": "fragment"
    }
   },
   "source": [
    "This way of traversing lists works fine if you only want to read the elements.\n",
    "If you iterate over the elements of a list and you do not need to update them, an iterator over the elements of the list is sufficient. \n",
    "\n",
    "If you need to *update* the elements of the list you have to iterate using explicit *integer indices*.\n",
    "A common way to do that is to combine the built-in functions `range` and `len`, as shown in the next cell."
   ]
  },
  {
   "cell_type": "markdown",
   "metadata": {},
   "source": [
    "`len` returns the length of the list."
   ]
  },
  {
   "cell_type": "code",
   "execution_count": null,
   "metadata": {},
   "outputs": [],
   "source": [
    "len(numbers)"
   ]
  },
  {
   "cell_type": "markdown",
   "metadata": {},
   "source": [
    "While `range` returns a list of indices ranging from `0` to `n-1`, where `n` is the length of the list, obtained via the function `len`."
   ]
  },
  {
   "cell_type": "code",
   "execution_count": null,
   "metadata": {},
   "outputs": [],
   "source": [
    "range(len(numbers))"
   ]
  },
  {
   "cell_type": "markdown",
   "metadata": {},
   "source": [
    "A `for` loop can be employed to iterate through the positions of elements within the list (index), enabling us to access and update each element individually."
   ]
  },
  {
   "cell_type": "code",
   "execution_count": null,
   "metadata": {
    "slideshow": {
     "slide_type": "fragment"
    }
   },
   "outputs": [],
   "source": [
    "print(numbers)\n",
    "\n",
    "for i in range(len(numbers)):\n",
    "    numbers[i] *= 2\n",
    "    \n",
    "print(numbers)"
   ]
  },
  {
   "cell_type": "markdown",
   "metadata": {
    "slideshow": {
     "slide_type": "fragment"
    }
   },
   "source": [
    "This loop traverses the list and updates each individual element.\n",
    "Each iteration of the loop `i` gets the index of the next element in the range. \n",
    "The assignment statement in the body uses `i` to read the old value of the element and to assign the new value."
   ]
  },
  {
   "cell_type": "code",
   "execution_count": null,
   "metadata": {
    "slideshow": {
     "slide_type": "fragment"
    }
   },
   "outputs": [],
   "source": [
    "for x in []:\n",
    "    print('This never happens.')"
   ]
  },
  {
   "cell_type": "markdown",
   "metadata": {
    "slideshow": {
     "slide_type": "fragment"
    }
   },
   "source": [
    "Is this a useful `for` loop?"
   ]
  },
  {
   "cell_type": "markdown",
   "metadata": {},
   "source": [
    "A `for` loop with an empty list never executes its body."
   ]
  },
  {
   "cell_type": "markdown",
   "metadata": {
    "jupyter": {
     "source_hidden": true
    },
    "tags": []
   },
   "source": [
    "<div class=\"alert alert-success\">\n",
    "    <b>Do It Yourself!</b><br>\n",
    "    Iterate the <i>car_brands</i> list and change its items so all names appear in capital letters.\n",
    "</div>"
   ]
  },
  {
   "cell_type": "code",
   "execution_count": null,
   "metadata": {
    "jupyter": {
     "source_hidden": true
    },
    "tags": []
   },
   "outputs": [],
   "source": [
    "car_brands: List = [\"Peugeot\", \"Toyota\", \"Honda\", \"Volkswagen\", \"BMW\", \"Chevrolet\"]\n",
    "\n",
    "# Remove this line and add your code here"
   ]
  },
  {
   "cell_type": "markdown",
   "metadata": {
    "slideshow": {
     "slide_type": "slide"
    }
   },
   "source": [
    "## 7. Binary List Operations <a class=\"anchor\" id=\"binary-list-op\"></a>\n",
    "\n",
    "A few useful list operations are `+` and `*`. \n",
    "Actually, we have seen these operations for strings as well. \n",
    "\n",
    "The `+` operator concatenates two lists as it happens with strings."
   ]
  },
  {
   "cell_type": "code",
   "execution_count": null,
   "metadata": {
    "slideshow": {
     "slide_type": "fragment"
    }
   },
   "outputs": [],
   "source": [
    "a: List = [1, 2, 3]\n",
    "b: List = [4, 5, 6]\n",
    "c: List = a + b\n",
    "c"
   ]
  },
  {
   "cell_type": "markdown",
   "metadata": {},
   "source": [
    "The `*` operator repeats a list for a given number of times."
   ]
  },
  {
   "cell_type": "code",
   "execution_count": null,
   "metadata": {
    "slideshow": {
     "slide_type": "fragment"
    }
   },
   "outputs": [],
   "source": [
    "a: List = [1, 2, 3] * 5\n",
    "a"
   ]
  },
  {
   "cell_type": "markdown",
   "metadata": {
    "slideshow": {
     "slide_type": "slide"
    }
   },
   "source": [
    "## 8. List Slices <a class=\"anchor\" id=\"list-slices\"></a>\n",
    "\n",
    "Similar to strings it is also possible to take a slice of a list."
   ]
  },
  {
   "cell_type": "code",
   "execution_count": null,
   "metadata": {
    "slideshow": {
     "slide_type": "fragment"
    }
   },
   "outputs": [],
   "source": [
    "subjects: List = ['data science', 'computer science', 'programming', 'statistics']\n",
    "\n",
    "subjects[1:3]"
   ]
  },
  {
   "cell_type": "markdown",
   "metadata": {
    "slideshow": {
     "slide_type": "fragment"
    }
   },
   "source": [
    "Recall, that if you omit the first index, the slice starts at the beginning. "
   ]
  },
  {
   "cell_type": "code",
   "execution_count": null,
   "metadata": {
    "slideshow": {
     "slide_type": "fragment"
    }
   },
   "outputs": [],
   "source": [
    "subjects[:4]"
   ]
  },
  {
   "cell_type": "markdown",
   "metadata": {},
   "source": [
    "If you omit the second, the slice goes to the end. "
   ]
  },
  {
   "cell_type": "code",
   "execution_count": null,
   "metadata": {
    "slideshow": {
     "slide_type": "fragment"
    }
   },
   "outputs": [],
   "source": [
    "subjects[2:]"
   ]
  },
  {
   "cell_type": "markdown",
   "metadata": {},
   "source": [
    "If you omit both, the slice is a copy of the entire list."
   ]
  },
  {
   "cell_type": "code",
   "execution_count": null,
   "metadata": {
    "slideshow": {
     "slide_type": "fragment"
    }
   },
   "outputs": [],
   "source": [
    "subjects[:]"
   ]
  },
  {
   "cell_type": "markdown",
   "metadata": {
    "slideshow": {
     "slide_type": "fragment"
    }
   },
   "source": [
    "Lists are mutable, so it is possible to use the slice operator in the left hand side of an assignment.\n",
    "However, beware, this changes the list. If you do not want this, make a copy.\n",
    "\n",
    "A slice operator on the left side of an assignment can update multiple elements."
   ]
  },
  {
   "cell_type": "code",
   "execution_count": null,
   "metadata": {
    "slideshow": {
     "slide_type": "fragment"
    }
   },
   "outputs": [],
   "source": [
    "subjects[3:4] = ['software engineering', 'machine learning']\n",
    "\n",
    "subjects"
   ]
  },
  {
   "cell_type": "markdown",
   "metadata": {
    "jupyter": {
     "source_hidden": true
    },
    "tags": []
   },
   "source": [
    "<div class=\"alert alert-success\">\n",
    "    <b>Do It Yourself!</b><br>\n",
    "    Slice the <i>car_brands</i> list. We require all items except the first one.\n",
    "</div>"
   ]
  },
  {
   "cell_type": "code",
   "execution_count": null,
   "metadata": {
    "jupyter": {
     "source_hidden": true
    },
    "tags": []
   },
   "outputs": [],
   "source": [
    "car_brands: List = ['PEUGEOT', 'TOYOTA', 'HONDA', 'VOLKSWAGEN', 'BMW', 'CHEVROLET']\n",
    "\n",
    "# Remove this line and add your code here"
   ]
  },
  {
   "cell_type": "markdown",
   "metadata": {
    "slideshow": {
     "slide_type": "slide"
    }
   },
   "source": [
    "## 9. List Methods <a class=\"anchor\" id=\"list-methods\"></a>\n",
    "\n",
    "Python provides methods that operate on lists. \n",
    "For example, `append` adds a new element to the end of a list."
   ]
  },
  {
   "cell_type": "code",
   "execution_count": null,
   "metadata": {
    "slideshow": {
     "slide_type": "fragment"
    }
   },
   "outputs": [],
   "source": [
    "subjects: List = ['data science', 'computer science', 'programming', 'statistics']\n",
    "\n",
    "subjects.append('software engineering')\n",
    "subjects"
   ]
  },
  {
   "cell_type": "markdown",
   "metadata": {},
   "source": [
    "When you use the `.append()` method with a list in Python, it does not return the modified list; instead, it modifies the list in place. \n",
    "Therefore, you should not assign the result of `.append()` back to the original list because it will result in a `None` value being assigned, which is not a valid variable assignment.\n",
    "\n",
    "The following code leads to a **SyntaxError**."
   ]
  },
  {
   "cell_type": "code",
   "execution_count": null,
   "metadata": {},
   "outputs": [],
   "source": [
    "subjects: List = ['data science', 'computer science', 'programming', 'statistics']\n",
    "    \n",
    "subjects = subjects.append('software engineering')\n",
    "subjects"
   ]
  },
  {
   "cell_type": "markdown",
   "metadata": {
    "slideshow": {
     "slide_type": "fragment"
    }
   },
   "source": [
    "An alternative way of appending elements to a list is shown in the following cell."
   ]
  },
  {
   "cell_type": "code",
   "execution_count": null,
   "metadata": {},
   "outputs": [],
   "source": [
    "subjects: List = ['data science', 'computer science', 'programming', 'statistics']\n",
    "\n",
    "print(subjects[4:])\n",
    "\n",
    "subjects[4:] = ['software engineering']\n",
    "subjects"
   ]
  },
  {
   "cell_type": "markdown",
   "metadata": {
    "slideshow": {
     "slide_type": "fragment"
    }
   },
   "source": [
    "However, beware that this way of concatenating is error prone: if you use the wrong index, you will end up replacing instead of appending."
   ]
  },
  {
   "cell_type": "code",
   "execution_count": null,
   "metadata": {},
   "outputs": [],
   "source": [
    "print(subjects[4:])\n",
    "\n",
    "subjects[4:] = ['system engineering']\n",
    "subjects"
   ]
  },
  {
   "cell_type": "markdown",
   "metadata": {
    "slideshow": {
     "slide_type": "fragment"
    }
   },
   "source": [
    "The method `extend` appends the list given argument to the list it is applied to. \n",
    "The list given as argument is not changed."
   ]
  },
  {
   "cell_type": "code",
   "execution_count": null,
   "metadata": {
    "slideshow": {
     "slide_type": "fragment"
    }
   },
   "outputs": [],
   "source": [
    "subjects1: List = ['data science', 'computer science', 'programming', 'statistics']\n",
    "subjects2: List = ['software engineering', 'artificial intelligence']\n",
    "\n",
    "subjects1.extend(subjects2)\n",
    "\n",
    "print(subjects1)\n",
    "print(subjects2)"
   ]
  },
  {
   "cell_type": "markdown",
   "metadata": {
    "slideshow": {
     "slide_type": "subslide"
    }
   },
   "source": [
    "The method `sort` sorts the elements of the list to which it is applied.\n",
    "It uses the alphabetical order or from low to high if the elements are integers or floats."
   ]
  },
  {
   "cell_type": "code",
   "execution_count": null,
   "metadata": {
    "slideshow": {
     "slide_type": "fragment"
    }
   },
   "outputs": [],
   "source": [
    "subjects1.sort()\n",
    "subjects1"
   ]
  },
  {
   "cell_type": "code",
   "execution_count": null,
   "metadata": {
    "slideshow": {
     "slide_type": "fragment"
    }
   },
   "outputs": [],
   "source": [
    "numbers: List = [9, 5, 6, 2, 7, 1, 8, 4, 3]\n",
    "numbers.sort()\n",
    "\n",
    "numbers"
   ]
  },
  {
   "cell_type": "markdown",
   "metadata": {
    "slideshow": {
     "slide_type": "fragment"
    }
   },
   "source": [
    "In order to be able to sort a list, the `sort` method should be defined on element *types*.\n",
    "So, sorting a list consisting of integers and strings is not possible, but a list of integers and floats can be sorted."
   ]
  },
  {
   "cell_type": "code",
   "execution_count": null,
   "metadata": {
    "slideshow": {
     "slide_type": "fragment"
    }
   },
   "outputs": [],
   "source": [
    "ns_list: List = [3, 5, 2, 7, 'abc', 1, 'xyz']\n",
    "ns_list.sort()\n",
    "\n",
    "ns_list"
   ]
  },
  {
   "cell_type": "code",
   "execution_count": null,
   "metadata": {
    "slideshow": {
     "slide_type": "fragment"
    }
   },
   "outputs": [],
   "source": [
    "ns_list: List = [3, 5, 2, 7, 4.0, 1, 1.5]\n",
    "ns_list.sort()\n",
    "\n",
    "ns_list"
   ]
  },
  {
   "cell_type": "markdown",
   "metadata": {
    "slideshow": {
     "slide_type": "subslide"
    }
   },
   "source": [
    "Most list methods are void. \n",
    "They modify the list and return `None`. \n",
    "\n",
    "Observe what happens if you write `nums = nums.sort()`."
   ]
  },
  {
   "cell_type": "code",
   "execution_count": null,
   "metadata": {
    "slideshow": {
     "slide_type": "fragment"
    }
   },
   "outputs": [],
   "source": [
    "nums: List = [9, 5, 6, 2, 7, 1, 8, 4, 3]\n",
    "nums = nums.sort()\n",
    "\n",
    "print(nums)"
   ]
  },
  {
   "cell_type": "markdown",
   "metadata": {
    "jupyter": {
     "source_hidden": true
    },
    "tags": []
   },
   "source": [
    "<div class=\"alert alert-success\">\n",
    "    <b>Do It Yourself!</b><br>\n",
    "    Use the <i>append</i> method to add a new car brand to the <i>car_brands</i> list. Then sort all items.\n",
    "</div>"
   ]
  },
  {
   "cell_type": "code",
   "execution_count": null,
   "metadata": {
    "jupyter": {
     "source_hidden": true
    },
    "tags": []
   },
   "outputs": [],
   "source": [
    "car_brands: List = ['TOYOTA', 'HONDA', 'VOLKSWAGEN', 'BMW', 'CHEVROLET']\n",
    "\n",
    "# Remove this line and add your code here"
   ]
  },
  {
   "cell_type": "markdown",
   "metadata": {},
   "source": [
    "## 10. Deleting Elements <a class=\"anchor\" id=\"deleting-elem\"></a>\n",
    "\n",
    "There are several ways of removing elements of a list, which one to choose depends on what kind of behaviour you want.\n",
    "\n",
    "We start with the `pop` method. This operation removes an element at certain index (if given), otherwise it removes the last element of the list.\n",
    "The `pop` method  returns the element that was removed."
   ]
  },
  {
   "cell_type": "code",
   "execution_count": null,
   "metadata": {},
   "outputs": [],
   "source": [
    "topics: List = ['data science', 'computer science', 'programming', 'statistics']\n",
    "elem: str = topics.pop(1)\n",
    "\n",
    "print(topics)\n",
    "print(elem)"
   ]
  },
  {
   "cell_type": "markdown",
   "metadata": {},
   "source": [
    "If you are not interested in the removed element, you can use the method `del`."
   ]
  },
  {
   "cell_type": "code",
   "execution_count": null,
   "metadata": {},
   "outputs": [],
   "source": [
    "topics: List = ['data science', 'computer science', 'programming', 'statistics']\n",
    "\n",
    "del(topics[1])\n",
    "print(topics)"
   ]
  },
  {
   "cell_type": "markdown",
   "metadata": {},
   "source": [
    "If you want to remove specific element from a list you can use `remove`.\n",
    "The return value of `remove` is `None`."
   ]
  },
  {
   "cell_type": "code",
   "execution_count": null,
   "metadata": {},
   "outputs": [],
   "source": [
    "topics: List = ['data science', 'computer science', 'programming', 'statistics']\n",
    "\n",
    "topics.remove('programming')\n",
    "print(topics)"
   ]
  },
  {
   "cell_type": "markdown",
   "metadata": {},
   "source": [
    "If a consecutive number of elements have to be removed from a list, it is better to use a slice."
   ]
  },
  {
   "cell_type": "code",
   "execution_count": null,
   "metadata": {},
   "outputs": [],
   "source": [
    "topics: List = ['data science', 'computer science', 'programming', 'statistics']\n",
    "\n",
    "del(topics[1:3])\n",
    "print(topics)"
   ]
  },
  {
   "cell_type": "markdown",
   "metadata": {},
   "source": [
    "<div class=\"alert alert-success\">\n",
    "    <b>Do It Yourself!</b><br>\n",
    "    Remove the last item of the <i>car_brands</i> list. What operation did you choose and why?\n",
    "</div>"
   ]
  },
  {
   "cell_type": "code",
   "execution_count": null,
   "metadata": {},
   "outputs": [],
   "source": [
    "car_brands: List = ['BMW', 'CHEVROLET', 'HONDA', 'MITSUBISHI', 'TOYOTA', 'VOLKSWAGEN']\n",
    "    \n",
    "# Remove this line and add your code here"
   ]
  },
  {
   "cell_type": "markdown",
   "metadata": {
    "slideshow": {
     "slide_type": "slide"
    }
   },
   "source": [
    "## 11. Map, Filter, and Reduce <a class=\"anchor\" id=\"map-filter-reduce\"></a>\n",
    "\n",
    "We have seen in the previous section a number of operations that can be applied to lists.\n",
    "We will continue discussing a number of operations that can be applied to the individual elements of a list.\n"
   ]
  },
  {
   "cell_type": "markdown",
   "metadata": {
    "slideshow": {
     "slide_type": "fragment"
    }
   },
   "source": [
    "\n",
    "\n",
    "### Map\n",
    "\n",
    "Sometimes you want to apply an operation to all elements of a list and build on the fly a new list.\n",
    "\n",
    "Suppose you want to capitalize all strings in a list."
   ]
  },
  {
   "cell_type": "code",
   "execution_count": null,
   "metadata": {
    "slideshow": {
     "slide_type": "fragment"
    }
   },
   "outputs": [],
   "source": [
    "def capitalize_all(lst: List[str]) -> List[str]:\n",
    "    \"\"\"\n",
    "    Capitalizes the first letter of all string elements.\n",
    "    :param lst: list of strings\n",
    "    :returns: the list of capitalized strings.\n",
    "    \"\"\"\n",
    "    rlst: List[str] = []\n",
    "    for e in lst:\n",
    "        rlst.append(e.capitalize())\n",
    "    return rlst\n",
    "\n",
    "print(subjects1)\n",
    "print(capitalize_all(subjects1))"
   ]
  },
  {
   "cell_type": "markdown",
   "metadata": {},
   "source": [
    "`rlst` is initialized with an empty list; each time through the loop, we append the next element.\n",
    "So `rlst` is another kind of accumulator.\n",
    "\n",
    "An operation like `capitalize_all` is sometimes called a **map** because it “maps” a function\n",
    "(in this case the method capitalize) into each of the elements in a sequence."
   ]
  },
  {
   "cell_type": "markdown",
   "metadata": {},
   "source": [
    "### Filter\n",
    "\n",
    "Another common operation is to select some of the elements from a list and return a sublist.\n",
    "\n",
    "For example, the following function takes a list of numbers and returns a list that contains\n",
    "all numbers greater than 5."
   ]
  },
  {
   "cell_type": "code",
   "execution_count": null,
   "metadata": {
    "slideshow": {
     "slide_type": "fragment"
    }
   },
   "outputs": [],
   "source": [
    "def gtr_than_five(nums: List[int]) -> List[int]:\n",
    "    \"\"\"\n",
    "    Filters all numbers less than or equal to 5.\n",
    "    :param nums: list of integers\n",
    "    :returns: list of numbers greater to 5.\n",
    "    \"\"\"\n",
    "    result_nums: List[int] = []\n",
    "    for n in nums:\n",
    "        if n > 5:\n",
    "            result_nums.append(n)\n",
    "    return result_nums\n",
    "\n",
    "nums: List[int] = [2, 4, 6, 8, 10, 9, 7, 5, 3, 1]\n",
    "print(nums)\n",
    "print(gtr_than_five(nums))"
   ]
  },
  {
   "cell_type": "markdown",
   "metadata": {
    "slideshow": {
     "slide_type": "fragment"
    }
   },
   "source": [
    "An operation like `gtr_than_five` is called a **filter** because it selects some of the elements and\n",
    "filters out the others.\n",
    "\n",
    "Map, filter, and reduce allow a concise but powerful way of manipulating lists, certainly if combined.\n",
    "\n",
    "Later, we will see even more powerful mechanisms to manipulate the elements of a list, but also over other similar data structures, like *sets*."
   ]
  },
  {
   "cell_type": "markdown",
   "metadata": {},
   "source": [
    "### Reduce\n",
    "Suppose you want to add all numerical values of a list. \n",
    "You would probably write the following function using a `for` statement."
   ]
  },
  {
   "cell_type": "code",
   "execution_count": null,
   "metadata": {
    "slideshow": {
     "slide_type": "fragment"
    }
   },
   "outputs": [],
   "source": [
    "def add_all(nums: List[int]) -> int:\n",
    "    \"\"\"\n",
    "    Adds the values of a list of integers.\n",
    "    :param nums: list of integer numbers\n",
    "    :returns: the sum of the list of integers.\n",
    "    \"\"\"\n",
    "    total: int = 0\n",
    "    for n in nums:\n",
    "        total += n\n",
    "    return total\n",
    "\n",
    "print(add_all([9, 5, 6, 2, 7, 1, 8, 4, 3]))"
   ]
  },
  {
   "cell_type": "markdown",
   "metadata": {
    "slideshow": {
     "slide_type": "fragment"
    }
   },
   "source": [
    "As the loop runs, `total` accumulates the sum of the elements; a variable used this way is\n",
    "sometimes called an **accumulator**.\n",
    "\n",
    "Adding up the elements of a list is such a common operation that Python provides it as the\n",
    "built-in function, `sum`."
   ]
  },
  {
   "cell_type": "code",
   "execution_count": null,
   "metadata": {
    "slideshow": {
     "slide_type": "fragment"
    }
   },
   "outputs": [],
   "source": [
    "nums: List[int] = [9, 5, 6, 2, 7, 1, 8, 4, 3]\n",
    "\n",
    "sum(nums)"
   ]
  },
  {
   "cell_type": "markdown",
   "metadata": {},
   "source": [
    "An operation like this combines a sequence of elements into a single value and is called **reduce**."
   ]
  },
  {
   "cell_type": "markdown",
   "metadata": {
    "jupyter": {
     "source_hidden": true
    },
    "tags": []
   },
   "source": [
    "<div class=\"alert alert-success\">\n",
    "    <b>Do It Yourself!</b><br>\n",
    "    Change all items in the <i>car_brands</i> list, so now they are shown in lower case. Is this a map, filter or reduce function?\n",
    "</div>"
   ]
  },
  {
   "cell_type": "code",
   "execution_count": null,
   "metadata": {
    "jupyter": {
     "source_hidden": true
    },
    "tags": []
   },
   "outputs": [],
   "source": [
    "car_brands: List = ['BMW', 'CHEVROLET', 'HONDA', 'MITSUBISHI', 'TOYOTA']\n",
    "    \n",
    "# Remove this line and add your code here"
   ]
  },
  {
   "cell_type": "markdown",
   "metadata": {
    "slideshow": {
     "slide_type": "slide"
    }
   },
   "source": [
    "## 12. Lists and Strings <a class=\"anchor\" id=\"lists-strings\"></a>\n",
    "\n",
    "A string is a sequence of characters and a list is a sequence of values, but a list of characters is not the same as a string. \n",
    "\n",
    "To convert from a string to a list of characters, you can use `list`."
   ]
  },
  {
   "cell_type": "code",
   "execution_count": null,
   "metadata": {
    "slideshow": {
     "slide_type": "fragment"
    }
   },
   "outputs": [],
   "source": [
    "s: str = 'data science'\n",
    "\n",
    "lst: list = list(s)\n",
    "print(lst)"
   ]
  },
  {
   "cell_type": "markdown",
   "metadata": {
    "slideshow": {
     "slide_type": "fragment"
    }
   },
   "source": [
    "Because `list` is the name of a built-in function, you should avoid using it as a variable\n",
    "name.\n",
    "The `list` function breaks a string into individual characters. \n",
    "\n",
    "If you want to break a string (sentence) into words, you can use the `split` method.\n",
    "By default, it splits the string taking the whitespace as reference."
   ]
  },
  {
   "cell_type": "code",
   "execution_count": null,
   "metadata": {
    "slideshow": {
     "slide_type": "fragment"
    }
   },
   "outputs": [],
   "source": [
    "claim: str = 'Data science is younger than computer science or not?'\n",
    "\n",
    "words: List = claim.split()\n",
    "print(words)"
   ]
  },
  {
   "cell_type": "markdown",
   "metadata": {
    "slideshow": {
     "slide_type": "fragment"
    }
   },
   "source": [
    "An optional argument called a **delimiter** specifies which characters to use as word boundaries.\n",
    "The following example uses a hyphen `-` as a delimiter."
   ]
  },
  {
   "cell_type": "code",
   "execution_count": null,
   "metadata": {
    "slideshow": {
     "slide_type": "fragment"
    }
   },
   "outputs": [],
   "source": [
    "big_word: str = 'Multi-language-programming'\n",
    "\n",
    "words: list = big_word.split('-')\n",
    "print(words)"
   ]
  },
  {
   "cell_type": "markdown",
   "metadata": {
    "slideshow": {
     "slide_type": "fragment"
    }
   },
   "source": [
    "The function `join` is the inverse of the `split` operation.\n",
    "It takes a list of strings (words) and concatenates the elements.\n",
    "\n",
    "`join` is a string method and has to be invoked on the delimiter and\n",
    "pass the list as a parameter."
   ]
  },
  {
   "cell_type": "code",
   "execution_count": null,
   "metadata": {
    "slideshow": {
     "slide_type": "fragment"
    }
   },
   "outputs": [],
   "source": [
    "words: List = ['Data', 'science', 'is', 'fun!']\n",
    "sentence: str = ' '.join(words)\n",
    "print(sentence)"
   ]
  },
  {
   "cell_type": "markdown",
   "metadata": {
    "jupyter": {
     "source_hidden": true
    },
    "tags": []
   },
   "source": [
    "<div class=\"alert alert-success\">\n",
    "    <b>Do It Yourself!</b><br>\n",
    "    Can you change dots in the following message by spaces?\n",
    "</div>"
   ]
  },
  {
   "cell_type": "code",
   "execution_count": null,
   "metadata": {
    "jupyter": {
     "source_hidden": true
    },
    "tags": []
   },
   "outputs": [],
   "source": [
    "msg = 'We.want.to.modify.this.message'\n",
    "\n",
    "# Remove this line and add your code here"
   ]
  },
  {
   "cell_type": "markdown",
   "metadata": {},
   "source": [
    "## 13. Lists and Files <a class=\"anchor\" id=\"lists-files\"></a>\n",
    "\n",
    "We usually read files to extract interesting information from it. \n",
    "To do so, we first need to find *interesting* lines that contain *interesting* information required by our program. \n",
    "To find this information we need to **parse** the interesting lines."
   ]
  },
  {
   "cell_type": "markdown",
   "metadata": {},
   "source": [
    "Let us look at this example. We want to detect lines that have the following form:\n",
    "\n",
    "```python\n",
    "'INFO Sending email [01-09-2020T07:44:11.144] from:bob@mail.nl to:alice@mail.nl'\n",
    "```\n",
    "\n",
    "We want to extract the sender of the email of all lines that start with the \"INFO Sending email\" string.\n",
    "\n",
    "Later in the course we will see a more powerful mechanism, *regular expressions* to find patterns in strings."
   ]
  },
  {
   "cell_type": "code",
   "execution_count": null,
   "metadata": {},
   "outputs": [],
   "source": [
    "def print_sender() -> None:\n",
    "    \"\"\" \n",
    "    Looks for interesting lines and print the sender of an email.\n",
    "    \"\"\"\n",
    "    logs = open('datasets/logs.txt') # Get lines from the logs.txt file\n",
    "    \n",
    "    for line in logs:\n",
    "        line.rstrip() # Remove white spaces at the end of the string\n",
    "        \n",
    "        if line.startswith('INFO Sending email'): # Pick interesting lines\n",
    "            words: List = line.split() # Split line into words\n",
    "            print(words[4]) # Print the sender of the email\n",
    "\n",
    "print_sender()"
   ]
  },
  {
   "cell_type": "markdown",
   "metadata": {
    "jupyter": {
     "source_hidden": true
    },
    "tags": []
   },
   "source": [
    "<div class=\"alert alert-success\">\n",
    "    <b>Do It Yourself!</b><br>\n",
    "    Can you now print the receiver of the email?\n",
    "</div>"
   ]
  },
  {
   "cell_type": "code",
   "execution_count": null,
   "metadata": {
    "jupyter": {
     "source_hidden": true
    },
    "tags": []
   },
   "outputs": [],
   "source": [
    "# Remove this line and add your code here"
   ]
  },
  {
   "cell_type": "markdown",
   "metadata": {
    "slideshow": {
     "slide_type": "slide"
    }
   },
   "source": [
    "## 14. Lists as Values <a class=\"anchor\" id=\"lists-values\"></a>\n",
    "\n",
    "### Objects and Values\n",
    "\n",
    "There is a subtle difference between *objects* and *values*. \n",
    "Even when two objects represent the same value, they may be considered to be distinct."
   ]
  },
  {
   "cell_type": "code",
   "execution_count": null,
   "metadata": {
    "slideshow": {
     "slide_type": "fragment"
    }
   },
   "outputs": [],
   "source": [
    "a: str = 'Data'\n",
    "b: str = 'Data'\n",
    "\n",
    "a == b"
   ]
  },
  {
   "cell_type": "markdown",
   "metadata": {
    "slideshow": {
     "slide_type": "fragment"
    }
   },
   "source": [
    "`a` and `b` refer both to the string `\"Data\"`, but do they actually refer to the same string?\n",
    "\n",
    "<img src=\"assets/figure102.png\"/>\n",
    "\n",
    "`a` and `b` can refer to two different **objects** that have the same value, or they refer to the same **object**.\n",
    "\n",
    "We can check this by means of the `is` operator."
   ]
  },
  {
   "cell_type": "code",
   "execution_count": null,
   "metadata": {
    "slideshow": {
     "slide_type": "fragment"
    }
   },
   "outputs": [],
   "source": [
    "a: str = 'Data'\n",
    "b: str = 'Data'\n",
    "\n",
    "print(a is b)\n",
    "print(a == b)"
   ]
  },
  {
   "cell_type": "markdown",
   "metadata": {
    "slideshow": {
     "slide_type": "fragment"
    }
   },
   "source": [
    "In this case Python creates one string object."
   ]
  },
  {
   "cell_type": "markdown",
   "metadata": {},
   "source": [
    "Observe what happens if you change both strings in \"Data science\". \n",
    "Try to explain this based on the <i>split</i> method from the previous section."
   ]
  },
  {
   "cell_type": "code",
   "execution_count": null,
   "metadata": {
    "slideshow": {
     "slide_type": "fragment"
    }
   },
   "outputs": [],
   "source": [
    "a: str = 'Data science'\n",
    "b: str = 'Data science'\n",
    "\n",
    "print(a is b)\n",
    "print(a == b)"
   ]
  },
  {
   "cell_type": "markdown",
   "metadata": {},
   "source": [
    "So, `list` objects are not the same."
   ]
  },
  {
   "cell_type": "code",
   "execution_count": null,
   "metadata": {
    "slideshow": {
     "slide_type": "fragment"
    }
   },
   "outputs": [],
   "source": [
    "a: List = [1, 2, 3]\n",
    "b: List = [1, 2, 3]\n",
    "\n",
    "a is b"
   ]
  },
  {
   "cell_type": "markdown",
   "metadata": {
    "slideshow": {
     "slide_type": "fragment"
    }
   },
   "source": [
    "If you create two lists which are exactly the same: same number of elements and in the same order, two different objects are created.\n",
    "The two lists are **equivalent**, they have the same elements, but they are not **identical**, they are not the same object.\n",
    "\n",
    "If two objects are identical, they are also equivalent, but if they are equivalent, they are not necessarily identical.\n",
    "If you want to be precise with your terminology, then you say that an object has a value.\n",
    "\n",
    "If you evaluate `[1, 2, 3]`, you get a list object whose\n",
    "value is a sequence of integers. \n",
    "If another list has the same elements, we say it has the\n",
    "same value, but it is not the same object."
   ]
  },
  {
   "cell_type": "markdown",
   "metadata": {
    "slideshow": {
     "slide_type": "slide"
    }
   },
   "source": [
    "### Aliasing\n",
    "\n",
    "What will be the result of the following Python fragment?"
   ]
  },
  {
   "cell_type": "code",
   "execution_count": null,
   "metadata": {
    "slideshow": {
     "slide_type": "fragment"
    }
   },
   "outputs": [],
   "source": [
    "a: List = [1, 2, 3]\n",
    "b: List = a\n",
    "b is a"
   ]
  },
  {
   "cell_type": "markdown",
   "metadata": {
    "slideshow": {
     "slide_type": "fragment"
    }
   },
   "source": [
    "\n",
    "The assocication of a variabe with an object is called a **reference**.\n",
    "\n",
    "In the previous example, both `a` and `b` refer to the same object:\n",
    "\n",
    "<img src=\"assets/figure104.png\"/>\n",
    "\n",
    "If an object has more than one reference then the object is **aliased**.\n",
    "\n",
    "If the aliased object is mutable, then changes made via one variable affects the other."
   ]
  },
  {
   "cell_type": "code",
   "execution_count": null,
   "metadata": {
    "slideshow": {
     "slide_type": "fragment"
    }
   },
   "outputs": [],
   "source": [
    "a: List = [1, 2, 3]\n",
    "b: List = a\n",
    "b[1] = 42\n",
    "\n",
    "print(b)\n",
    "print(a)"
   ]
  },
  {
   "cell_type": "markdown",
   "metadata": {
    "slideshow": {
     "slide_type": "fragment"
    }
   },
   "source": [
    "In this case `a` and `b` are aliases for the same object.\n",
    "**Aliasing** is useful, but dangerous:\n",
    "it hinders the understandability of programs, you have to keep all references in mind.\n",
    "\n",
    "It is safer to avoid aliasing when you are working with mutable objects."
   ]
  },
  {
   "cell_type": "markdown",
   "metadata": {
    "jupyter": {
     "source_hidden": true
    },
    "tags": []
   },
   "source": [
    "<div class=\"alert alert-success\">\n",
    "    <b>Do It Yourself!</b><br>\n",
    "    Read about the <i>copy()</i> method. Can you modify the following code so only <i>b</i> is modified?\n",
    "</div>"
   ]
  },
  {
   "cell_type": "code",
   "execution_count": null,
   "metadata": {
    "jupyter": {
     "source_hidden": true
    },
    "tags": []
   },
   "outputs": [],
   "source": [
    "a = [1, 2, 3]\n",
    "b = a\n",
    "b[1] = 42\n",
    "\n",
    "print(b)\n",
    "print(a)"
   ]
  },
  {
   "cell_type": "markdown",
   "metadata": {},
   "source": [
    "## 15. Summary <a class=\"anchor\" id=\"summary\"></a>\n",
    "\n",
    "This chapter provides an extensive guide to **lists** and to their fundamental properties and functionalities within Python programming. \n",
    "It covers a wide range of topics, including the **creation** of lists, methods for **accessing** and **manipulating** list elements, **iteration** techniques, and a deep dive into essential **list operations**. Furthermore, it explores crucial programming concepts such as **aliasing** and side effects, providing a well-rounded understanding of how lists function in Python programming.\n",
    "\n",
    "In Python, **lists** are like magical treasure chests filled with various elements. They can hold different types of data and allow you to modify them. You **access** list elements using indices. For **iterating** the list, you can use `for` loops to visit each element. When you need to **update** elements, you can use `range` and `len` to perform **manipulation**. **Slicing** lets you extract specific portions of the list, and you can make elements disappear with the `remove` or arrange them in order with `sort`. The trio of operations - **Map**, **Filter**, and **Reduce** - empower you to transform, select, and combine elements. Python lists are dynamic and magical, making them a versatile tool for managing and manipulating data creatively and effectively. However, you should be aware of side effects and the tricks of **aliasing** that could hide within your code.\n",
    "\n",
    "Exploring these concepts in this chapter helps you gain a solid grasp of Python lists, their ability for data storage and manipulation, and essential techniques for iterating, modifying, and working with lists effectively in Python."
   ]
  },
  {
   "cell_type": "markdown",
   "metadata": {},
   "source": [
    "---\n",
    "This Jupyter Notebook is based on Chapter 8 of the book Python for Everybody and Chapter 10 of the book Think Python."
   ]
  },
  {
   "cell_type": "markdown",
   "metadata": {},
   "source": [
    "---\n",
    "\n",
    "# (End of Notebook)\n",
    "\n",
    "&copy; 2023 - **TU/e** - Eindhoven University of Technology"
   ]
  }
 ],
 "metadata": {
  "anaconda-cloud": {},
  "kernelspec": {
   "display_name": "Python 3",
   "language": "python",
   "name": "python3"
  },
  "language_info": {
   "codemirror_mode": {
    "name": "ipython",
    "version": 3
   },
   "file_extension": ".py",
   "mimetype": "text/x-python",
   "name": "python",
   "nbconvert_exporter": "python",
   "pygments_lexer": "ipython3",
   "version": "3.11.5"
  }
 },
 "nbformat": 4,
 "nbformat_minor": 4
}
