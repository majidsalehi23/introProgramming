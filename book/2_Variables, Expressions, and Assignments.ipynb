{
 "cells": [
  {
   "cell_type": "markdown",
   "metadata": {
    "slideshow": {
     "slide_type": "slide"
    }
   },
   "source": [
    "# Variables, Expressions, and Assignments\n"
   ]
  },
  {
   "cell_type": "markdown",
   "metadata": {
    "tags": []
   },
   "source": [
    "## Table of Contents\n",
    "\n",
    "- [1. Introduction](#introduction)\n",
    "- [2. Values and Types](#values-types)\n",
    "- [3. Variables](#variables)\n",
    "- [4. Expressions and Statements](#expressions-statements)\n",
    "- [5. Assignment Statements](#assignments)\n",
    "- [6. Names and Keywords](#names-keywords)\n",
    "- [7. Reassignments](#reassignments)\n",
    "- [8. Updating Variables](#update)\n",
    "- [9. Order of Operations](#order-operations)\n",
    "- [10. Floor Division and Modulus Operators](#floor-modulus)\n",
    "- [11. String Operations](#string-operations)\n",
    "- [12. Asking the User for Input](#input)\n",
    "- [13. Summary](#summary)"
   ]
  },
  {
   "cell_type": "markdown",
   "metadata": {},
   "source": [
    "## 1. Introduction <a class=\"anchor\" id=\"introduction\"></a>\n",
    "\n",
    "In this notebook, we introduce some of the main building blocks needed to create programs–that is, variables, expressions, and assignments.\n",
    "Programming related *variables* can be intepret in the same way that we interpret mathematical variables, as elements that store values that can later be changed.\n",
    "Usually, variables and values are used within the so-called expressions.\n",
    "Once again, just as in mathematics, an *expression* is a construct of values and variables connected with operators that result in a new value.\n",
    "\n",
    "Lastly, an *assignment* is a language construct know as an *statement* that assign a value (either as a constant or expression) to a variable.\n",
    "The rest of this notebook will dive into the main concepts that we need to fully understand these three language constructs."
   ]
  },
  {
   "cell_type": "markdown",
   "metadata": {},
   "source": [
    "## 2. Values and Types <a class=\"anchor\" id=\"values-types\"></a>\n",
    "\n",
    "A **value** is the basic unit used in a program. It may be, for instance, a number respresenting temperature. It may be a string representing a word. \n",
    "Some values are 42, 42.0, and 'Hello, First Year Students!'.\n",
    "\n",
    "Each value has its own **type**: 42 is an integer (`int` in Python), 42.0 is a floating-point number (`float` in Python), and 'Hello, Data Scientists!' is a string (`str` in Python).\n",
    "\n",
    "The Python interpreter can tell you the type of a value: \n",
    "the function `type` takes a value as argument and returns its corresponding type."
   ]
  },
  {
   "cell_type": "code",
   "execution_count": 1,
   "metadata": {},
   "outputs": [
    {
     "data": {
      "text/plain": [
       "int"
      ]
     },
     "execution_count": 1,
     "metadata": {},
     "output_type": "execute_result"
    }
   ],
   "source": [
    "type(42)"
   ]
  },
  {
   "cell_type": "code",
   "execution_count": 2,
   "metadata": {},
   "outputs": [
    {
     "data": {
      "text/plain": [
       "float"
      ]
     },
     "execution_count": 2,
     "metadata": {},
     "output_type": "execute_result"
    }
   ],
   "source": [
    "type(42.0)"
   ]
  },
  {
   "cell_type": "code",
   "execution_count": 3,
   "metadata": {},
   "outputs": [
    {
     "data": {
      "text/plain": [
       "str"
      ]
     },
     "execution_count": 3,
     "metadata": {},
     "output_type": "execute_result"
    }
   ],
   "source": [
    "type('Hello First Year Students!')"
   ]
  },
  {
   "cell_type": "markdown",
   "metadata": {},
   "source": [
    "Observe the difference between `type(42)` and `type('42')`."
   ]
  },
  {
   "cell_type": "code",
   "execution_count": 4,
   "metadata": {},
   "outputs": [
    {
     "data": {
      "text/plain": [
       "(int, str)"
      ]
     },
     "execution_count": 4,
     "metadata": {},
     "output_type": "execute_result"
    }
   ],
   "source": [
    "type(42), type('42')"
   ]
  },
  {
   "cell_type": "markdown",
   "metadata": {},
   "source": [
    "## 3. Variables <a class=\"anchor\" id=\"variables\"></a>\n",
    "\n",
    "A **variable** is a labeled container that is used to store a value and make it easier to work with. \n",
    "\n",
    "In Python, a variable can be created by choosing a symbolic name that refers to a value. \n",
    "An equals sign (=) is used to assign a value to that name. "
   ]
  },
  {
   "cell_type": "code",
   "execution_count": 5,
   "metadata": {},
   "outputs": [],
   "source": [
    "age = 37 #This is a variable called age, which the value 37 is assigned to it"
   ]
  },
  {
   "cell_type": "markdown",
   "metadata": {},
   "source": [
    "Now, whenever the variable `age` is used in the code, Python knows that it is referring to the value `37`. \n",
    "\n",
    "In Python, variables can hold various types of data, like integers, strings, and more complex data structures."
   ]
  },
  {
   "cell_type": "markdown",
   "metadata": {
    "slideshow": {
     "slide_type": "slide"
    }
   },
   "source": [
    "## 4. Expressions and Statements <a class=\"anchor\" id=\"expressions-statements\"></a>\n",
    "\n",
    "On the one hand, an **expression** is a combination of values, variables, and operators. \n",
    "\n",
    "A value all by itself is considered an expression, and so is a variable."
   ]
  },
  {
   "cell_type": "code",
   "execution_count": 6,
   "metadata": {
    "slideshow": {
     "slide_type": "fragment"
    }
   },
   "outputs": [
    {
     "data": {
      "text/plain": [
       "42"
      ]
     },
     "execution_count": 6,
     "metadata": {},
     "output_type": "execute_result"
    }
   ],
   "source": [
    "42 #this is an expression"
   ]
  },
  {
   "cell_type": "code",
   "execution_count": 7,
   "metadata": {
    "slideshow": {
     "slide_type": "fragment"
    }
   },
   "outputs": [
    {
     "data": {
      "text/plain": [
       "52"
      ]
     },
     "execution_count": 7,
     "metadata": {},
     "output_type": "execute_result"
    }
   ],
   "source": [
    "m = 27 #this is an assignment statement\n",
    "m + 25 #this is an expression"
   ]
  },
  {
   "cell_type": "code",
   "execution_count": 8,
   "metadata": {},
   "outputs": [
    {
     "data": {
      "text/plain": [
       "333"
      ]
     },
     "execution_count": 8,
     "metadata": {},
     "output_type": "execute_result"
    }
   ],
   "source": [
    "k = 9 #this is an assignment statement\n",
    "k * 37 #this is an expression"
   ]
  },
  {
   "cell_type": "markdown",
   "metadata": {
    "slideshow": {
     "slide_type": "fragment"
    }
   },
   "source": [
    "When you type an expression at the prompt, the interpreter **evaluates** it, which means that\n",
    "it calculates the value of the expression and displays it. \n",
    "\n",
    "In boxes above, `m` has the value `27` and `m + 25` has the value `52`.\n",
    "`m + 25` is said to be an expression."
   ]
  },
  {
   "cell_type": "markdown",
   "metadata": {
    "slideshow": {
     "slide_type": "slide"
    }
   },
   "source": [
    "On the other hand, a **statement** is an instruction that has an effect, like creating a variable or displaying a value. "
   ]
  },
  {
   "cell_type": "code",
   "execution_count": 9,
   "metadata": {},
   "outputs": [],
   "source": [
    "n = 17  #this is an assignment statement"
   ]
  },
  {
   "cell_type": "code",
   "execution_count": 10,
   "metadata": {
    "slideshow": {
     "slide_type": "fragment"
    }
   },
   "outputs": [
    {
     "name": "stdout",
     "output_type": "stream",
     "text": [
      "17\n"
     ]
    }
   ],
   "source": [
    "print(n) #this is a print satement"
   ]
  },
  {
   "cell_type": "markdown",
   "metadata": {
    "slideshow": {
     "slide_type": "fragment"
    }
   },
   "source": [
    "The first statement initializes the variable `n` with the value `17`, this is a so-called *assignment statement*. \n",
    "\n",
    "The second statement is a `print` statement that prints the value of the variable `n`.\n",
    "\n",
    "The effect is not always visible. Assigning a value to a variable is not visible, but printing the value of a variable is.\n",
    "\n",
    "\n",
    "<div class=\"alert alert-info\">\n",
    "    Statements do not have values, but effects.\n",
    "</div>"
   ]
  },
  {
   "cell_type": "markdown",
   "metadata": {
    "slideshow": {
     "slide_type": "slide"
    }
   },
   "source": [
    "## 5. Assignment Statements <a class=\"anchor\" id=\"assignments\"></a>\n",
    "\n",
    "We have already seen that Python allows you to evaluate expressions, for instance `40 + 2`. \n",
    "It is very convenient if we are able to store the calculated value in some variable\n",
    "for future use. \n",
    "The latter can be done via an assignment statement.\n",
    "An **assignment statement** creates a new variable with a given name and assigns it a value."
   ]
  },
  {
   "cell_type": "code",
   "execution_count": 11,
   "metadata": {
    "slideshow": {
     "slide_type": "fragment"
    }
   },
   "outputs": [],
   "source": [
    "magicnumber = 40 + 2    \n",
    "pi = 3.141592653589793  \n",
    "message = 'Software is changing the world'  "
   ]
  },
  {
   "cell_type": "code",
   "execution_count": 12,
   "metadata": {},
   "outputs": [
    {
     "name": "stdout",
     "output_type": "stream",
     "text": [
      "42\n"
     ]
    }
   ],
   "source": [
    "print(magicnumber)"
   ]
  },
  {
   "cell_type": "markdown",
   "metadata": {
    "slideshow": {
     "slide_type": "fragment"
    }
   },
   "source": [
    "The example in the previous code contains three assignments. \n",
    "The first one assigns the value of the expression `40 + 2` to a new variable called `magicnumber`; the second one assigns the value of π to the variable `pi`, and;\n",
    "the last assignment assigns the string value `'Software is changing the world'` to the variable `message`.\n",
    "\n",
    "Programmers generally choose names for their variables that are meaningful.\n",
    "In this way, they document what the variable is used for.\n",
    "\n",
    "<div class=\"alert alert-info\">\n",
    "    The type of the new variable is automatically derived from the expression in the right-hand side. In contrast to other languages, Python itself does not offer a way of declaring the type of a variable explicitly. While you get used to programming, it may be good practice to add the types explicitly as comments, or even better to use the concept of <i>type-hints</i>. \n",
    "</div>"
   ]
  },
  {
   "cell_type": "code",
   "execution_count": 13,
   "metadata": {
    "slideshow": {
     "slide_type": "fragment"
    }
   },
   "outputs": [],
   "source": [
    "# You can add type hints to your variables to \n",
    "magicnumber: int = 40 + 2   # An integer\n",
    "pi: float = 3.141592653589793 # A float\n",
    "message: str = 'Software is changing the world' # A string"
   ]
  },
  {
   "cell_type": "markdown",
   "metadata": {
    "tags": []
   },
   "source": [
    "<div class=\"alert alert-success\">\n",
    "    <b>Do It Yourself!</b><br>\n",
    "    Let's compute the volume of a cube with side $s = 5$. \n",
    "    \n",
    "    Remember that the volume of a cube is defined as $v = s^3$. \n",
    "    \n",
    "    Assign the value to a variable called `volume`.\n",
    "</div>"
   ]
  },
  {
   "cell_type": "code",
   "execution_count": 14,
   "metadata": {
    "tags": []
   },
   "outputs": [
    {
     "name": "stdout",
     "output_type": "stream",
     "text": [
      "125\n"
     ]
    }
   ],
   "source": [
    "# Remove this line and add your code here\n",
    "s: int = 5\n",
    "v: int = s ** 3\n",
    "print(v)"
   ]
  },
  {
   "cell_type": "markdown",
   "metadata": {
    "tags": []
   },
   "source": [
    "<div class=\"alert alert-success\">\n",
    "    <b>Do It Yourself!</b><br>\n",
    "    Well done! Now, why don't you print the result in a message? It can say something like \"The volume of the cube with side 5 is $volume$\".\n",
    "</div>"
   ]
  },
  {
   "cell_type": "code",
   "execution_count": 15,
   "metadata": {
    "tags": []
   },
   "outputs": [],
   "source": [
    "# Remove this line and add your code here"
   ]
  },
  {
   "cell_type": "markdown",
   "metadata": {
    "slideshow": {
     "slide_type": "fragment"
    }
   },
   "source": [
    "Beware that there is no checking of types (*type checking*) in Python, so a variable to which you have assigned an integer may be re-used as a float, even if we provide *type-hints*."
   ]
  },
  {
   "cell_type": "code",
   "execution_count": 16,
   "metadata": {
    "slideshow": {
     "slide_type": "fragment"
    }
   },
   "outputs": [
    {
     "name": "stdout",
     "output_type": "stream",
     "text": [
      "<class 'int'>\n",
      "<class 'float'>\n",
      "<class 'str'>\n"
     ]
    }
   ],
   "source": [
    "magicnumber: int = 40 + 2 # An integer \n",
    "print(type(magicnumber))\n",
    "\n",
    "magicnumber: int = 3.141592653589793 # A float\n",
    "print(type(magicnumber))\n",
    "\n",
    "magicnumber: int = \"Hello\" # A string\n",
    "print(type(magicnumber))"
   ]
  },
  {
   "cell_type": "markdown",
   "metadata": {
    "slideshow": {
     "slide_type": "slide"
    },
    "tags": []
   },
   "source": [
    "## 6. Names and Keywords <a class=\"anchor\" id=\"names-keywords\"></a>\n",
    "\n",
    "Names of variables and other language constructs such as functions (we will cover this topic later), should be meaningful and reflect the purpose of the construct.\n",
    "\n",
    "In general, Python names should adhere to the following rules:\n",
    "- It should start with a letter or underscore.\n",
    "- It cannot start with a number.\n",
    "- It must only contain alpha-numeric (i.e., letters a-z A-Z and digits 0-9) characters and underscores.\n",
    "- They cannot share the name of a Python keyword.\n",
    "\n",
    "If you use illegal variable names you will get a syntax error.\n",
    "\n",
    "<div class=\"alert alert-info\">\n",
    "    <b>Naming conventions</b> <br>\n",
    "    If you are developing software in a team, which will be very likely in the future, it makes sense to agree upon a number of basic principles. One of them is the <b>naming convention</b> principle. If you want to read more on this, please have a look at <i>Code Complete</i> a book by Steven McConnell.\n",
    "</div>"
   ]
  },
  {
   "cell_type": "markdown",
   "metadata": {
    "slideshow": {
     "slide_type": "fragment"
    }
   },
   "source": [
    "By choosing the right variables names you make the code self-documenting, what is better the variable `v` or `velocity`?"
   ]
  },
  {
   "cell_type": "code",
   "execution_count": 17,
   "metadata": {
    "slideshow": {
     "slide_type": "fragment"
    }
   },
   "outputs": [],
   "source": [
    "velocity: int = 5 # in meters/second."
   ]
  },
  {
   "cell_type": "markdown",
   "metadata": {},
   "source": [
    "The following are examples of invalid variable names."
   ]
  },
  {
   "cell_type": "code",
   "execution_count": 18,
   "metadata": {
    "slideshow": {
     "slide_type": "fragment"
    }
   },
   "outputs": [
    {
     "ename": "SyntaxError",
     "evalue": "invalid decimal literal (4020621350.py, line 1)",
     "output_type": "error",
     "traceback": [
      "\u001b[0;36m  Cell \u001b[0;32mIn[18], line 1\u001b[0;36m\u001b[0m\n\u001b[0;31m    99ballons: str = 'Nena'\u001b[0m\n\u001b[0m     ^\u001b[0m\n\u001b[0;31mSyntaxError\u001b[0m\u001b[0;31m:\u001b[0m invalid decimal literal\n"
     ]
    }
   ],
   "source": [
    "99ballons: str = 'Nena'"
   ]
  },
  {
   "cell_type": "code",
   "execution_count": null,
   "metadata": {
    "slideshow": {
     "slide_type": "fragment"
    }
   },
   "outputs": [],
   "source": [
    "largenr$: int = 1000000"
   ]
  },
  {
   "cell_type": "markdown",
   "metadata": {
    "slideshow": {
     "slide_type": "slide"
    }
   },
   "source": [
    "Every programming language has a collection of reserved **keywords**. They are used in predefined language constructs, see later notebooks.\n",
    "These language concepts and their usage will be explained later, such as *loops* and *conditionals*.\n",
    "\n",
    "The interpreter uses keywords to recognize these language constructs in a program.\n",
    "Python 3 has the following keywords:\n",
    "\n",
    "`False` `class` `finally` `is` `return` \n",
    "\n",
    "`None` `continue` `for` `lambda` `try` \n",
    "\n",
    "`True` `def` `from` `nonlocal` `while` \n",
    "\n",
    "`and` `del` `global` `not` `with` \n",
    "\n",
    "`as` `elif` `if` `or` `yield` \n",
    "\n",
    "`assert` `else` `import` `pass` `break`  \n",
    "\n",
    "`except` `in` `raise`\n"
   ]
  },
  {
   "cell_type": "code",
   "execution_count": null,
   "metadata": {
    "slideshow": {
     "slide_type": "fragment"
    }
   },
   "outputs": [],
   "source": [
    "# Wrong variable name\n",
    "while: str = 'while'"
   ]
  },
  {
   "cell_type": "code",
   "execution_count": null,
   "metadata": {},
   "outputs": [],
   "source": [
    "# Correct variable name\n",
    "while_name: str = 'while'"
   ]
  },
  {
   "cell_type": "markdown",
   "metadata": {
    "slideshow": {
     "slide_type": "slide"
    }
   },
   "source": [
    "## 7. Reassignments <a class=\"anchor\" id=\"reassignments\"></a>\n",
    "\n",
    "It is allowed to assign a new value to an existing variable.\n",
    "This process is called **reassignment**. \n",
    "As soon as you assign a value to a variable, the old value is lost."
   ]
  },
  {
   "cell_type": "code",
   "execution_count": 19,
   "metadata": {
    "slideshow": {
     "slide_type": "fragment"
    }
   },
   "outputs": [
    {
     "name": "stdout",
     "output_type": "stream",
     "text": [
      "42\n",
      "43\n"
     ]
    }
   ],
   "source": [
    "x: int = 42\n",
    "print(x)\n",
    "\n",
    "x = 43\n",
    "print(x)"
   ]
  },
  {
   "cell_type": "markdown",
   "metadata": {
    "slideshow": {
     "slide_type": "fragment"
    }
   },
   "source": [
    "The assignment of a variable to another variable, for instance `b = a` does not imply that if `a` is reassigned then `b` changes as well."
   ]
  },
  {
   "cell_type": "code",
   "execution_count": 20,
   "metadata": {
    "slideshow": {
     "slide_type": "fragment"
    }
   },
   "outputs": [
    {
     "name": "stdout",
     "output_type": "stream",
     "text": [
      "a = 42\n",
      "b = 42\n",
      "a = 43\n",
      "b = 42\n"
     ]
    }
   ],
   "source": [
    "a: int = 42\n",
    "b: int = a # a and b have now the same value\n",
    "\n",
    "print('a =', a)\n",
    "print('b =', b)\n",
    "\n",
    "a = 43 # a and b are no longer equal\n",
    "\n",
    "print('a =', a)\n",
    "print('b =', b)"
   ]
  },
  {
   "cell_type": "markdown",
   "metadata": {
    "slideshow": {
     "slide_type": "fragment"
    }
   },
   "source": [
    "<div class=\"alert alert-info\">\n",
    "    Reassigning variables is useful but one should take care. It may hinder understandability of the software.\n",
    "</div>\n",
    "\n",
    "<div class=\"alert alert-info\">\n",
    "    <b>Types of reassigned variables</b>\n",
    "    As pointed out earlier, the type of the reassigned value does not need to have the same type of the original value.\n",
    "</div>"
   ]
  },
  {
   "cell_type": "markdown",
   "metadata": {
    "tags": []
   },
   "source": [
    "<div class=\"alert alert-success\">\n",
    "    <b>Do It Yourself!</b><br>\n",
    "    You have a variable <i>salary</i> that shows the monthly salary of an employee. However, you want to compute the yearly salary. Can you reassign the value to the <i>salary</i> variable according to the instruction?\n",
    "</div>"
   ]
  },
  {
   "cell_type": "code",
   "execution_count": 21,
   "metadata": {
    "tags": []
   },
   "outputs": [],
   "source": [
    "salary: int = 3000\n",
    "# Remove this line and add your code here"
   ]
  },
  {
   "cell_type": "markdown",
   "metadata": {
    "slideshow": {
     "slide_type": "slide"
    }
   },
   "source": [
    "## 8. Updating Variables <a class=\"anchor\" id=\"update\"></a>\n",
    "\n",
    "A frequently used reassignment is for **updating** puposes: the value of a variable depends on the previous value of the variable."
   ]
  },
  {
   "cell_type": "code",
   "execution_count": 22,
   "metadata": {
    "slideshow": {
     "slide_type": "fragment"
    }
   },
   "outputs": [
    {
     "name": "stdout",
     "output_type": "stream",
     "text": [
      "42\n",
      "43\n"
     ]
    }
   ],
   "source": [
    "x: int = 42\n",
    "print(x)\n",
    "\n",
    "x = x + 1\n",
    "print(x)"
   ]
  },
  {
   "cell_type": "markdown",
   "metadata": {
    "slideshow": {
     "slide_type": "fragment"
    }
   },
   "source": [
    "This statement expresses \"get the current value of `x`, add one, and then update `x` with the new value.”\n",
    "\n",
    "Beware, that the variable should be initialized first, usually with a simple assignment."
   ]
  },
  {
   "cell_type": "code",
   "execution_count": 23,
   "metadata": {
    "slideshow": {
     "slide_type": "fragment"
    }
   },
   "outputs": [
    {
     "ename": "NameError",
     "evalue": "name 'y' is not defined",
     "output_type": "error",
     "traceback": [
      "\u001b[0;31m---------------------------------------------------------------------------\u001b[0m",
      "\u001b[0;31mNameError\u001b[0m                                 Traceback (most recent call last)",
      "\u001b[1;32m/Users/lochoavenegas/Documents/teaching/courses/jbi010/course-material-jbi010/202324/exams/exam-30102023/material/2_variables.ipynb Cell 52\u001b[0m line \u001b[0;36m1\n\u001b[0;32m----> <a href='vscode-notebook-cell:/Users/lochoavenegas/Documents/teaching/courses/jbi010/course-material-jbi010/202324/exams/exam-30102023/material/2_variables.ipynb#Y102sZmlsZQ%3D%3D?line=0'>1</a>\u001b[0m y \u001b[39m=\u001b[39m y \u001b[39m+\u001b[39m \u001b[39m1\u001b[39m\n\u001b[1;32m      <a href='vscode-notebook-cell:/Users/lochoavenegas/Documents/teaching/courses/jbi010/course-material-jbi010/202324/exams/exam-30102023/material/2_variables.ipynb#Y102sZmlsZQ%3D%3D?line=1'>2</a>\u001b[0m \u001b[39mprint\u001b[39m(y)\n",
      "\u001b[0;31mNameError\u001b[0m: name 'y' is not defined"
     ]
    }
   ],
   "source": [
    "y = y + 1\n",
    "print(y)"
   ]
  },
  {
   "cell_type": "markdown",
   "metadata": {
    "tags": []
   },
   "source": [
    "<div class=\"alert alert-success\">\n",
    "    <b>Do It Yourself!</b><br>\n",
    "    Do you remember the salary excercise of the previous section (cf. 6. Reassignments)? Well, if you have not done it yet, update the <i>salary</i> variable by using its previous value.\n",
    "</div>"
   ]
  },
  {
   "cell_type": "code",
   "execution_count": null,
   "metadata": {
    "tags": []
   },
   "outputs": [],
   "source": [
    "# Remove this line and add your code here"
   ]
  },
  {
   "cell_type": "code",
   "execution_count": 24,
   "metadata": {
    "slideshow": {
     "slide_type": "fragment"
    }
   },
   "outputs": [
    {
     "name": "stdout",
     "output_type": "stream",
     "text": [
      "1\n"
     ]
    }
   ],
   "source": [
    "y: int = 0   # integer\n",
    "y = y + 1\n",
    "print(y)"
   ]
  },
  {
   "cell_type": "markdown",
   "metadata": {
    "slideshow": {
     "slide_type": "fragment"
    }
   },
   "source": [
    "Updating a variable by adding `1` is called an **increment**; subtracting `1` is called a **decrement**. A shorthand way of doing is using `+=` and `-=`, which stands for `x = x + ...` and `x = x - ...` respectively."
   ]
  },
  {
   "cell_type": "code",
   "execution_count": 25,
   "metadata": {},
   "outputs": [
    {
     "name": "stdout",
     "output_type": "stream",
     "text": [
      "100\n"
     ]
    }
   ],
   "source": [
    "z: int = 0    # integer\n",
    "z += 100\n",
    "print(z)"
   ]
  },
  {
   "cell_type": "code",
   "execution_count": 26,
   "metadata": {},
   "outputs": [
    {
     "name": "stdout",
     "output_type": "stream",
     "text": [
      "99\n"
     ]
    }
   ],
   "source": [
    "z -= 1\n",
    "print(z)"
   ]
  },
  {
   "cell_type": "markdown",
   "metadata": {
    "slideshow": {
     "slide_type": "slide"
    }
   },
   "source": [
    "## 9. Order of Operations <a class=\"anchor\" id=\"order-operations\"></a>\n",
    "\n",
    "Expressions may contain multiple operators. \n",
    "The order of evaluation depends on the **priorities of the operators** also known as **rules of precedence**.\n",
    "\n",
    "For mathematical operators, Python follows mathematical\n",
    "convention. \n",
    "The acronym PEMDAS is a useful way to remember the rules:\n",
    "\n",
    "+ **Parentheses** have the highest precedence and can be used to force an expression to evaluate in the order you want. Since expressions in parentheses are evaluated first, `2 * (3 - 1)` is `4`, and `(1 + 1)**(5 - 2)` is `8`. You can also use parentheses to make an expression easier to read, even if it does not change the result.\n",
    "+ **Exponentiation** has the next highest precedence, so `1 + 2**3` is `9`, not `27`, and `2 * 3**2` is `18`, not `36`.\n",
    "+ **Multiplication** and **division** have higher precedence than **addition** and **subtraction**. So `2 * 3 - 1` is `5`, not `4`, and `6 + 4 / 2` is `8`, not `5`.\n",
    "+ Operators with the same precedence are evaluated from left to right (except exponentiation). So in the expression `degrees / 2 * pi`, the division happens first and the result is multiplied by `pi`. To divide by 2π, you can use parentheses or write: `degrees / 2 / pi`.\n",
    "\n",
    "In case of doubt, *use parentheses!*"
   ]
  },
  {
   "cell_type": "markdown",
   "metadata": {},
   "source": [
    "<div class=\"alert alert-success\">\n",
    "    <b>Do It Yourself!</b><br>\n",
    "    Let's see what happens when we evaluate the following expressions. Just run the cell to check the resulting value.\n",
    "</div>"
   ]
  },
  {
   "cell_type": "code",
   "execution_count": 27,
   "metadata": {},
   "outputs": [
    {
     "data": {
      "text/plain": [
       "4"
      ]
     },
     "execution_count": 27,
     "metadata": {},
     "output_type": "execute_result"
    }
   ],
   "source": [
    "# Parentheses 1\n",
    "2 * (3 - 1) "
   ]
  },
  {
   "cell_type": "code",
   "execution_count": 28,
   "metadata": {},
   "outputs": [
    {
     "data": {
      "text/plain": [
       "8"
      ]
     },
     "execution_count": 28,
     "metadata": {},
     "output_type": "execute_result"
    }
   ],
   "source": [
    "# Parentheses 2\n",
    "(1 + 1)**(5 - 2)"
   ]
  },
  {
   "cell_type": "code",
   "execution_count": 29,
   "metadata": {},
   "outputs": [
    {
     "data": {
      "text/plain": [
       "9"
      ]
     },
     "execution_count": 29,
     "metadata": {},
     "output_type": "execute_result"
    }
   ],
   "source": [
    "# Exponentiation 1\n",
    "1 + 2**3"
   ]
  },
  {
   "cell_type": "code",
   "execution_count": 30,
   "metadata": {},
   "outputs": [
    {
     "data": {
      "text/plain": [
       "18"
      ]
     },
     "execution_count": 30,
     "metadata": {},
     "output_type": "execute_result"
    }
   ],
   "source": [
    "# Exponentiation 2\n",
    "2 * 3**2"
   ]
  },
  {
   "cell_type": "code",
   "execution_count": 31,
   "metadata": {},
   "outputs": [
    {
     "data": {
      "text/plain": [
       "5"
      ]
     },
     "execution_count": 31,
     "metadata": {},
     "output_type": "execute_result"
    }
   ],
   "source": [
    "# MDAS 1\n",
    "2 * 3 - 1"
   ]
  },
  {
   "cell_type": "code",
   "execution_count": 32,
   "metadata": {},
   "outputs": [
    {
     "data": {
      "text/plain": [
       "8.0"
      ]
     },
     "execution_count": 32,
     "metadata": {},
     "output_type": "execute_result"
    }
   ],
   "source": [
    "# MDAS 2\n",
    "6 + 4 / 2"
   ]
  },
  {
   "cell_type": "code",
   "execution_count": 33,
   "metadata": {},
   "outputs": [
    {
     "data": {
      "text/plain": [
       "282.7433388230814"
      ]
     },
     "execution_count": 33,
     "metadata": {},
     "output_type": "execute_result"
    }
   ],
   "source": [
    "# Same precedence 1\n",
    "degrees: int = 180\n",
    "pi: float = 3.141592653589793\n",
    "degrees / 2 * pi"
   ]
  },
  {
   "cell_type": "code",
   "execution_count": 34,
   "metadata": {},
   "outputs": [
    {
     "data": {
      "text/plain": [
       "28.64788975654116"
      ]
     },
     "execution_count": 34,
     "metadata": {},
     "output_type": "execute_result"
    }
   ],
   "source": [
    "# Same precedence 2\n",
    "degrees / 2 / pi"
   ]
  },
  {
   "cell_type": "markdown",
   "metadata": {},
   "source": [
    "## 10. Floor Division and Modulus Operators <a class=\"anchor\" id=\"floor-modulus\"></a>\n",
    "\n",
    "The **floor division operator** `//` divides two numbers and rounds down to an integer.\n",
    "\n",
    "For example, suppose that driving to the south of France takes 555 minutes.\n",
    "You might want to know how long that is in hours.\n",
    "\n",
    "Conventional division returns a floating-point number."
   ]
  },
  {
   "cell_type": "code",
   "execution_count": 35,
   "metadata": {},
   "outputs": [
    {
     "data": {
      "text/plain": [
       "9.25"
      ]
     },
     "execution_count": 35,
     "metadata": {},
     "output_type": "execute_result"
    }
   ],
   "source": [
    "minutes: int = 555\n",
    "minutes / 60"
   ]
  },
  {
   "cell_type": "markdown",
   "metadata": {},
   "source": [
    "Hours are normally not represented with decimal points. \n",
    "Floor division returns the integer number of hours, dropping the fraction part."
   ]
  },
  {
   "cell_type": "code",
   "execution_count": 36,
   "metadata": {},
   "outputs": [
    {
     "data": {
      "text/plain": [
       "9"
      ]
     },
     "execution_count": 36,
     "metadata": {},
     "output_type": "execute_result"
    }
   ],
   "source": [
    "minutes: int = 555\n",
    "hours: int = minutes // 60\n",
    "hours"
   ]
  },
  {
   "cell_type": "markdown",
   "metadata": {
    "tags": []
   },
   "source": [
    "<div class=\"alert alert-success\">\n",
    "    <b>Do It Yourself!</b><br>\n",
    "    You spend around 225 minutes every week on programming activities. You want to know around how many hours you invest in this activity during a month. Use the $//$ operator to get the answer.\n",
    "</div>"
   ]
  },
  {
   "cell_type": "code",
   "execution_count": 37,
   "metadata": {
    "tags": []
   },
   "outputs": [],
   "source": [
    "# Remove this line and add your code here"
   ]
  },
  {
   "cell_type": "markdown",
   "metadata": {},
   "source": [
    "The **modulus operator** `%` works on integer values. It computes the remainder when dividing the first integer by the second one. "
   ]
  },
  {
   "cell_type": "code",
   "execution_count": 38,
   "metadata": {},
   "outputs": [
    {
     "data": {
      "text/plain": [
       "15"
      ]
     },
     "execution_count": 38,
     "metadata": {},
     "output_type": "execute_result"
    }
   ],
   "source": [
    "remainder: int = minutes % 60\n",
    "remainder"
   ]
  },
  {
   "cell_type": "markdown",
   "metadata": {},
   "source": [
    "The modulus operator is more useful than it seems. \n",
    "\n",
    "For example, you can check whether one number is divisible by another—if `x % y` is zero, then `x` is divisible by `y`."
   ]
  },
  {
   "cell_type": "markdown",
   "metadata": {
    "tags": []
   },
   "source": [
    "<div class=\"alert alert-success\">\n",
    "    <b>Do It Yourself!</b><br>\n",
    "    A child asks you the time. You check your digital clock and it says 17. The child does not understand what it means. Can you tell him what hour it is by using a number between 1 and 12? Use the % operator to solve this problem.\n",
    "</div>"
   ]
  },
  {
   "cell_type": "code",
   "execution_count": 39,
   "metadata": {
    "tags": []
   },
   "outputs": [],
   "source": [
    "# Remove this line and add your code here"
   ]
  },
  {
   "cell_type": "markdown",
   "metadata": {
    "slideshow": {
     "slide_type": "slide"
    }
   },
   "source": [
    "## 11. String Operations <a class=\"anchor\" id=\"string-operations\"></a>\n",
    "\n",
    "In general, you cannot perform mathematical operations on strings, even if the strings look like numbers, so the following operations are illegal: `'2'-'1'` `'eggs'/'easy'` `'third'*'a charm'`"
   ]
  },
  {
   "cell_type": "code",
   "execution_count": 40,
   "metadata": {
    "slideshow": {
     "slide_type": "fragment"
    }
   },
   "outputs": [
    {
     "ename": "TypeError",
     "evalue": "unsupported operand type(s) for -: 'str' and 'str'",
     "output_type": "error",
     "traceback": [
      "\u001b[0;31m---------------------------------------------------------------------------\u001b[0m",
      "\u001b[0;31mTypeError\u001b[0m                                 Traceback (most recent call last)",
      "\u001b[1;32m/Users/lochoavenegas/Documents/teaching/courses/jbi010/course-material-jbi010/202324/exams/exam-30102023/material/2_variables.ipynb Cell 81\u001b[0m line \u001b[0;36m1\n\u001b[0;32m----> <a href='vscode-notebook-cell:/Users/lochoavenegas/Documents/teaching/courses/jbi010/course-material-jbi010/202324/exams/exam-30102023/material/2_variables.ipynb#Y143sZmlsZQ%3D%3D?line=0'>1</a>\u001b[0m \u001b[39m'\u001b[39;49m\u001b[39m2\u001b[39;49m\u001b[39m'\u001b[39;49m \u001b[39m-\u001b[39;49m \u001b[39m'\u001b[39;49m\u001b[39m1\u001b[39;49m\u001b[39m'\u001b[39;49m\n",
      "\u001b[0;31mTypeError\u001b[0m: unsupported operand type(s) for -: 'str' and 'str'"
     ]
    }
   ],
   "source": [
    "'2' - '1'"
   ]
  },
  {
   "cell_type": "markdown",
   "metadata": {
    "slideshow": {
     "slide_type": "fragment"
    }
   },
   "source": [
    "But there are two exceptions, `+` and `*`.\n",
    "The `+` operator performs string concatenation, which means it joins the strings by linking them end-to-end."
   ]
  },
  {
   "cell_type": "code",
   "execution_count": 41,
   "metadata": {
    "slideshow": {
     "slide_type": "fragment"
    }
   },
   "outputs": [
    {
     "data": {
      "text/plain": [
       "'data science'"
      ]
     },
     "execution_count": 41,
     "metadata": {},
     "output_type": "execute_result"
    }
   ],
   "source": [
    "first: str = 'data'\n",
    "second: str = ' '\n",
    "third: str = 'science'\n",
    "first + ((second) + third)"
   ]
  },
  {
   "cell_type": "markdown",
   "metadata": {
    "slideshow": {
     "slide_type": "fragment"
    }
   },
   "source": [
    "The `*` operator also works on strings; it performs repetition. "
   ]
  },
  {
   "cell_type": "code",
   "execution_count": 42,
   "metadata": {
    "slideshow": {
     "slide_type": "fragment"
    }
   },
   "outputs": [
    {
     "data": {
      "text/plain": [
       "'Data Data Data '"
      ]
     },
     "execution_count": 42,
     "metadata": {},
     "output_type": "execute_result"
    }
   ],
   "source": [
    "('Data' + ' ') * 3"
   ]
  },
  {
   "cell_type": "markdown",
   "metadata": {
    "tags": []
   },
   "source": [
    "<div class=\"alert alert-success\">\n",
    "    <b>Do It Yourself!</b><br>\n",
    "    Speedy Gonzales is a cartoon known to be the <i>fastest mouse in all Mexico</i>. He is also famous for saying \"Arriba Arriba Andale Arriba Arriba Yepa\". Can you use the following variables, namely <i>arriba</i>, <i>andale</i> and <i>yepa</i> to print the mentioned expression? Don't forget to use the string operators.\n",
    "</div>"
   ]
  },
  {
   "cell_type": "code",
   "execution_count": 43,
   "metadata": {
    "tags": []
   },
   "outputs": [],
   "source": [
    "arriba = \"Arriba\"\n",
    "andale = \"Andale\"\n",
    "yepa = \"Yepa\"\n",
    "\n",
    "# Remove this line and add your code here"
   ]
  },
  {
   "cell_type": "markdown",
   "metadata": {},
   "source": [
    "## 12. Asking the User for Input <a class=\"anchor\" id=\"input\"></a>\n",
    "\n",
    "The programs we have written so far accept no input from the user. \n",
    "To get data from the user through the Python prompt, we can use the built-in function `input`.\n",
    "\n",
    "When `input` is called your whole program stops and waits for the user to enter the required data. \n",
    "Once the user types the value and presses `Return` or `Enter`, the function returns the input value as a string and the program continues with its execution.\n",
    "\n",
    "Try it out!"
   ]
  },
  {
   "cell_type": "code",
   "execution_count": 44,
   "metadata": {},
   "outputs": [
    {
     "data": {
      "text/plain": [
       "'hjhjhj'"
      ]
     },
     "execution_count": 44,
     "metadata": {},
     "output_type": "execute_result"
    }
   ],
   "source": [
    "inp = input()\n",
    "inp * 3"
   ]
  },
  {
   "cell_type": "markdown",
   "metadata": {},
   "source": [
    "You can also print a message to clarify the purpose of the required input as follows.  \n",
    "\n",
    "<div class=\"alert alert-info\">\n",
    "    <b>New line character</b> <br>\n",
    "    The sequence `\\n` at the end of the prompt represents a newline, which is a special character\n",
    "that causes a line break. That’s why the user’s input appears below the prompt.\n",
    "</div>\n",
    "\n",
    "<div class=\"alert alert-info\">\n",
    "    <b><code>input</code> type</b> <br>\n",
    "    We did not provide any *type-hint* for the variable <code>inp</code>, however, the type of <code>inp</code> is <code>str</code>.\n",
    "</div>"
   ]
  },
  {
   "cell_type": "code",
   "execution_count": 45,
   "metadata": {},
   "outputs": [
    {
     "name": "stdout",
     "output_type": "stream",
     "text": [
      "I love jidsj\n"
     ]
    }
   ],
   "source": [
    "food = input('What is your favourite food? \\n')\n",
    "print('I love ' + food)"
   ]
  },
  {
   "cell_type": "markdown",
   "metadata": {},
   "source": [
    "The resulting string can later be translated to a different type, like an integer or a float. \n",
    "To do so, you use the functions `int` and `float`, respectively. \n",
    "But be careful, the user might introduce a value that cannot be converted to the type you required."
   ]
  },
  {
   "cell_type": "code",
   "execution_count": 46,
   "metadata": {},
   "outputs": [
    {
     "ename": "ValueError",
     "evalue": "invalid literal for int() with base 10: 'kdissi'",
     "output_type": "error",
     "traceback": [
      "\u001b[0;31m---------------------------------------------------------------------------\u001b[0m",
      "\u001b[0;31mValueError\u001b[0m                                Traceback (most recent call last)",
      "\u001b[1;32m/Users/lochoavenegas/Documents/teaching/courses/jbi010/course-material-jbi010/202324/exams/exam-30102023/material/2_variables.ipynb Cell 93\u001b[0m line \u001b[0;36m2\n\u001b[1;32m      <a href='vscode-notebook-cell:/Users/lochoavenegas/Documents/teaching/courses/jbi010/course-material-jbi010/202324/exams/exam-30102023/material/2_variables.ipynb#Y161sZmlsZQ%3D%3D?line=0'>1</a>\u001b[0m age \u001b[39m=\u001b[39m \u001b[39minput\u001b[39m(\u001b[39m'\u001b[39m\u001b[39mWhat is your age? \u001b[39m\u001b[39m'\u001b[39m)\n\u001b[0;32m----> <a href='vscode-notebook-cell:/Users/lochoavenegas/Documents/teaching/courses/jbi010/course-material-jbi010/202324/exams/exam-30102023/material/2_variables.ipynb#Y161sZmlsZQ%3D%3D?line=1'>2</a>\u001b[0m \u001b[39mprint\u001b[39m(\u001b[39mint\u001b[39;49m(age))\n\u001b[1;32m      <a href='vscode-notebook-cell:/Users/lochoavenegas/Documents/teaching/courses/jbi010/course-material-jbi010/202324/exams/exam-30102023/material/2_variables.ipynb#Y161sZmlsZQ%3D%3D?line=2'>3</a>\u001b[0m \u001b[39mprint\u001b[39m(\u001b[39mfloat\u001b[39m(age))\n",
      "\u001b[0;31mValueError\u001b[0m: invalid literal for int() with base 10: 'kdissi'"
     ]
    }
   ],
   "source": [
    "age = input('What is your age? ')\n",
    "print(int(age))\n",
    "print(float(age))"
   ]
  },
  {
   "cell_type": "markdown",
   "metadata": {
    "tags": []
   },
   "source": [
    "<div class=\"alert alert-success\">\n",
    "    <b>Do It Yourself!</b><br>\n",
    "    We want to know the name of a user so we can display a welcome message in our program. The message should say something like \"Hello $name$, welcome to our hello world program!\".\n",
    "</div>"
   ]
  },
  {
   "cell_type": "code",
   "execution_count": 47,
   "metadata": {
    "tags": []
   },
   "outputs": [],
   "source": [
    "# Remove this line and add your code here"
   ]
  },
  {
   "cell_type": "markdown",
   "metadata": {},
   "source": [
    "## 13. Summary <a class=\"anchor\" id=\"summary\"></a>\n",
    "\n",
    "In this chapter, we have explored the foundational aspects of Python programming. \n",
    "\n",
    "Imagine constructing a digital puzzle, where the components are **variables**, **expressions**, and **assignments**: \n",
    "* **Variables** act like containers that can store different values, similar to how mathematical variables store numerical quantities. Just as you might have different containers to hold different types of puzzle pieces, variables can hold various types of data like numbers, text, or more complex structures.\n",
    "\n",
    "* **Expressions** are like puzzles to solve, where you combine variables along with some special symbols (operators) to get new values.\n",
    "\n",
    "* **Assignments** are like giving a name to a puzzle and placing it inside a container (variable). When you assign a value to a variable, you are essentially labeling that container with a specific name and storing a piece of data inside it. This helps you keep track of and work with your data more effectively.\n",
    "\n",
    "As we progress, we also acquainted ourselves with companions such as numerical entities (integers and floats), textual data (strings), and even the art of querying the computer using input. "
   ]
  },
  {
   "cell_type": "markdown",
   "metadata": {},
   "source": [
    "---\n",
    "\n",
    "# (End of Notebook)\n",
    "\n",
    "&copy; 2023 - **TU/e** - Eindhoven University of Technology"
   ]
  }
 ],
 "metadata": {
  "anaconda-cloud": {},
  "kernelspec": {
   "display_name": "Python 3",
   "language": "python",
   "name": "python3"
  },
  "language_info": {
   "codemirror_mode": {
    "name": "ipython",
    "version": 3
   },
   "file_extension": ".py",
   "mimetype": "text/x-python",
   "name": "python",
   "nbconvert_exporter": "python",
   "pygments_lexer": "ipython3",
   "version": "3.11.5"
  }
 },
 "nbformat": 4,
 "nbformat_minor": 4
}
