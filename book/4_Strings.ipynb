{
 "cells": [
  {
   "cell_type": "markdown",
   "metadata": {
    "slideshow": {
     "slide_type": "slide"
    }
   },
   "source": [
    "# Strings"
   ]
  },
  {
   "cell_type": "markdown",
   "metadata": {
    "jp-MarkdownHeadingCollapsed": true,
    "tags": []
   },
   "source": [
    "## Table of Contents\n",
    "\n",
    "- [1. Introduction](#1.-Introduction)\n",
    "- [2. Strings](#2.-Strings)\n",
    "- [3. Indexing](#3.-Indexing)\n",
    "- [4. Slicing](#4.-Slicing)\n",
    "- [5. Strings Immutability](#5.-Strings-Immutability)\n",
    "- [6. String Operations](#6.-String-Operations)\n",
    "- [7. String Methods](#7.-String-Methods)\n",
    "- [8. Formatting](#8.-Formatting)\n",
    "- [9. Summary](#9.-Summary)"
   ]
  },
  {
   "cell_type": "markdown",
   "metadata": {},
   "source": [
    "## 1. Introduction\n",
    "\n",
    "Humans communicate using natural languages such as English, Farsi, Mandarin, Turkish, Dutch, or Spanish.\n",
    "When it comes to communicating with a machine, computer scientists designed and developed a set of so-called programming languages. \n",
    "However, these artificial languages must support the representation of regular natural communication—as in the end, humans are aiming at solving human-related problems via computers.\n",
    "\n",
    "In this chapter, we introduce a very useful and frequent data type, namely the string type.\n",
    "Strings have been created to represent natural language in its written form—that is, they are nothing more than regular text (as we often see it in books, newspapers, and chats with friends, among others).\n",
    "They are called strings as they can be seen as a sequence or \"string\" of characters.\n",
    "We have already seen some examples that include variables and values of such type, and probably, you already have an intuition on how to use it.\n",
    "Besides getting familiar with the notion of this data type, we will also explore some of the operations we can perform with it and some additional hands-on examples.\n",
    "Strings are also interesting because it allows us to apply the notion of *iteration*."
   ]
  },
  {
   "cell_type": "markdown",
   "metadata": {
    "slideshow": {
     "slide_type": "slide"
    }
   },
   "source": [
    "## 2. Strings\n",
    "\n",
    "We have seen so far a number of basic data types: integers (`int`), floats (`float`), and Booleans (`bool`).\n",
    "However, we will need additional data types to describe and manipulate other type of data (like regular text written in natural languages). \n",
    "For instance, if we want to calculate the average of a list of integers, the basic data types that we have covered so far are not sufficient.\n",
    "\n",
    "We will start with the **string** type, which is a (non-basic) data type `str` in Python. \n",
    "A string represents a **sequence** of characters.\n",
    "You can consider a *sequence* as a group of *ordered* elements.\n",
    "In Python, strings are written surrounded by simple or double quotes.\n",
    "there is no functional difference between both representations.\n",
    "You can choose the style you prefer."
   ]
  },
  {
   "cell_type": "code",
   "execution_count": null,
   "metadata": {},
   "outputs": [],
   "source": [
    "'This is a single-quoted string'"
   ]
  },
  {
   "cell_type": "code",
   "execution_count": null,
   "metadata": {},
   "outputs": [],
   "source": [
    "\"This is a double-quoted string\""
   ]
  },
  {
   "cell_type": "markdown",
   "metadata": {},
   "source": [
    "Python also supports representing empty strings.\n",
    "You can do that as follows."
   ]
  },
  {
   "cell_type": "code",
   "execution_count": null,
   "metadata": {},
   "outputs": [],
   "source": [
    "# Single-quoted version of an empty string\n",
    "''"
   ]
  },
  {
   "cell_type": "code",
   "execution_count": null,
   "metadata": {},
   "outputs": [],
   "source": [
    "# Double-quoted version of an empty string\n",
    "\"\""
   ]
  },
  {
   "cell_type": "markdown",
   "metadata": {},
   "source": [
    "The empty string is still considered to have a value even if that value is just an empty sequence of characters.\n",
    "In order words, it does not have a `None` value nor is of a `NoneType`.\n",
    "You can verify this by checking the type of a variable that contains an empty string."
   ]
  },
  {
   "cell_type": "code",
   "execution_count": null,
   "metadata": {},
   "outputs": [],
   "source": [
    "empty_str: str = ''\n",
    "type(empty_str)"
   ]
  },
  {
   "cell_type": "markdown",
   "metadata": {},
   "source": [
    "A common mistake we make when we are getting familiar with programming is forgetting to use the single or double quotes to define strings."
   ]
  },
  {
   "cell_type": "code",
   "execution_count": null,
   "metadata": {},
   "outputs": [],
   "source": [
    "print(Print my string but forgot the quotes)"
   ]
  },
  {
   "cell_type": "markdown",
   "metadata": {},
   "source": [
    "The previous text was conceived to be a string but the developer forgot the quotes.\n",
    "This might happen to you as well.\n",
    "When you get an error like the previous one, ensure all your strings have been defined using single or double quotes.\n",
    "Let us correct our mistake."
   ]
  },
  {
   "cell_type": "code",
   "execution_count": null,
   "metadata": {},
   "outputs": [],
   "source": [
    "print('Print my string but forgot the quotes')\n",
    "print('Not this time :)')"
   ]
  },
  {
   "cell_type": "markdown",
   "metadata": {},
   "source": [
    "## 3. Indexing\n",
    "\n",
    "One of the operations that we can perform on strings is selecting one of the characters, via *indexing*.\n",
    "Indexing looks as follows:\n",
    "\n",
    "```python\n",
    "string_variable_or_value[index_expression]\n",
    "```\n",
    "The first part will refer to a string variable or value (`string_variable_or_value`).\n",
    "The expression in square brackets is called an **index** (`index_expression`). \n",
    "This expression must yield an integer value.\n",
    "The index indicates which character in the sequence you want to extract (hence the name).\n",
    "Let us see an example."
   ]
  },
  {
   "cell_type": "code",
   "execution_count": null,
   "metadata": {
    "slideshow": {
     "slide_type": "fragment"
    }
   },
   "outputs": [],
   "source": [
    "bike: str = 'gazelle'\n",
    "letter: str = bike[1]\n",
    "letter"
   ]
  },
  {
   "cell_type": "markdown",
   "metadata": {
    "slideshow": {
     "slide_type": "fragment"
    }
   },
   "source": [
    "The first assignment statement assigns the value \"gazelle\" to the variable `bike`.\n",
    "The second statement selects the character at position `1` from the value stored in the `bike` variable, and assigns it to the variable `letter`. \n",
    "The index `1` does not yield the first letter of \"gazelle\" (i.e. \"g\"), but the second one.\n",
    "This is because Python uses 0-based index.\n",
    "The first letter of a string is obtained by index `0`.\n",
    "\n",
    "The following table presents the index of each letter in the string `'gazelle'`.\n",
    "\n",
    "| 0 | 1 | 2 | 3 | 4 | 5 | 6 |\n",
    "|---|---|---|---|---|---|---|\n",
    "| g | a | z | e | l | l | e |\n",
    "\n",
    "Thus, `g` is the $0^{th}$ letter of `'gazelle'`, `a` is the $1^{st}$ letter, `z` is the $2^{th}$ letter, and so on. "
   ]
  },
  {
   "cell_type": "code",
   "execution_count": null,
   "metadata": {
    "slideshow": {
     "slide_type": "fragment"
    }
   },
   "outputs": [],
   "source": [
    "bike: str = 'gazelle'\n",
    "first_letter: str = bike[0]\n",
    "first_letter"
   ]
  },
  {
   "cell_type": "markdown",
   "metadata": {
    "slideshow": {
     "slide_type": "fragment"
    }
   },
   "source": [
    "Beware, the type hint of `letter` is `str`. \n",
    "In some programming languages individual characters have their own type (usually called char), which represents an integer.\n",
    "However, this topic is out of the scope of this book."
   ]
  },
  {
   "cell_type": "markdown",
   "metadata": {},
   "source": [
    "You can also as an index an expression that contains variables and operators. Let us see some examples."
   ]
  },
  {
   "cell_type": "code",
   "execution_count": null,
   "metadata": {
    "slideshow": {
     "slide_type": "fragment"
    }
   },
   "outputs": [],
   "source": [
    "# Using a variable as index\n",
    "i: int = 0\n",
    "letter: str = bike[i]\n",
    "print(letter)"
   ]
  },
  {
   "cell_type": "code",
   "execution_count": null,
   "metadata": {},
   "outputs": [],
   "source": [
    "# Using arithmetical expressions (including variables) as index\n",
    "i: int = 0\n",
    "j: int = 1\n",
    "\n",
    "letter = bike[i + j]\n",
    "print(letter)\n",
    "\n",
    "letter = bike[i + j * 2]\n",
    "print(letter)"
   ]
  },
  {
   "cell_type": "markdown",
   "metadata": {
    "slideshow": {
     "slide_type": "fragment"
    }
   },
   "source": [
    "Bear in mind that the value of the index **must** be an integer otherwise you get an error."
   ]
  },
  {
   "cell_type": "code",
   "execution_count": null,
   "metadata": {
    "slideshow": {
     "slide_type": "fragment"
    }
   },
   "outputs": [],
   "source": [
    "letter: str = bike[1.5]"
   ]
  },
  {
   "cell_type": "markdown",
   "metadata": {
    "tags": []
   },
   "source": [
    "<div class=\"alert alert-success\">\n",
    "    <b>Do It Yourself!</b><br>\n",
    "    Assign the value 'Maurits Cornelis Escher' to the variable <i>artist</i>. Then, print the first letter of the first, middle and last name of the artist using indexing.\n",
    "</div>"
   ]
  },
  {
   "cell_type": "code",
   "execution_count": null,
   "metadata": {
    "tags": []
   },
   "outputs": [],
   "source": [
    "# Remove this line and add your code here"
   ]
  },
  {
   "cell_type": "markdown",
   "metadata": {
    "slideshow": {
     "slide_type": "slide"
    }
   },
   "source": [
    "### String Length\n",
    "\n",
    "Given a string, or a sequence of any type, we can compute its **length**, which is the number of characters or items in the string or sequence).\n",
    "In Python, `len` is a built-in function to obtain the length of a sequence, and thus of a string."
   ]
  },
  {
   "cell_type": "code",
   "execution_count": null,
   "metadata": {},
   "outputs": [],
   "source": [
    "bike: str = 'gazelle'\n",
    "len(bike)"
   ]
  },
  {
   "cell_type": "code",
   "execution_count": null,
   "metadata": {},
   "outputs": [],
   "source": [
    "len('gazelle')"
   ]
  },
  {
   "cell_type": "markdown",
   "metadata": {
    "slideshow": {
     "slide_type": "fragment"
    }
   },
   "source": [
    "Given the fact that the first letter is accessed via the index `0`, the last letter is accessed via `len - 1`."
   ]
  },
  {
   "cell_type": "code",
   "execution_count": null,
   "metadata": {
    "slideshow": {
     "slide_type": "fragment"
    }
   },
   "outputs": [],
   "source": [
    "length: int = len(bike)\n",
    "bike[length]"
   ]
  },
  {
   "cell_type": "code",
   "execution_count": null,
   "metadata": {
    "slideshow": {
     "slide_type": "fragment"
    }
   },
   "outputs": [],
   "source": [
    "bike[length - 1]"
   ]
  },
  {
   "cell_type": "markdown",
   "metadata": {},
   "source": [
    "<div class=\"alert alert-info\">\n",
    "    <b>Negative indices</b><br>\n",
    "    Python allows a concise way to access sequence (or string) elements \"from the back\" by using negative numbers as index. Try to find out the values of <code>bike[-1]</code>, <code>bike[-2]</code>, and so on.\n",
    "</div>\n"
   ]
  },
  {
   "cell_type": "markdown",
   "metadata": {
    "tags": []
   },
   "source": [
    "<div class=\"alert alert-success\">\n",
    "    <b>Do It Yourself!</b><br>\n",
    "    Make sure you have declared the variable <i>artist</i> and you have assigned it the value 'Maurits Cornelis Escher'. Then, print the penultimate (second last) and antepenultimate (third last) letters of the artist name.\n",
    "</div>"
   ]
  },
  {
   "cell_type": "code",
   "execution_count": null,
   "metadata": {
    "tags": []
   },
   "outputs": [],
   "source": [
    "# Remove this line and add your code here"
   ]
  },
  {
   "cell_type": "markdown",
   "metadata": {
    "slideshow": {
     "slide_type": "slide"
    }
   },
   "source": [
    "## 4. Slicing\n",
    "\n",
    "We are now able to select individual characters of a string and to iterate over all characters of a string, but sometimes we want just a part (segment) of a string.\n",
    "A segment of a string is called a **slice**.\n",
    "A slice is obtained by giving a range of indices.\n",
    "\n",
    "In the next cell, we show how we can obtain the segments `Data` and `Science` from the giving string."
   ]
  },
  {
   "cell_type": "code",
   "execution_count": null,
   "metadata": {
    "slideshow": {
     "slide_type": "fragment"
    }
   },
   "outputs": [],
   "source": [
    "ds_str: str = 'Data Science'\n",
    "\n",
    "# Compute and print the length of the string\n",
    "ln: int = len(ds_str)\n",
    "print(ln)\n",
    "\n",
    "# Slice the string\n",
    "data: str = ds_str[0:4]\n",
    "science: str = ds_str[5:ln]\n",
    "\n",
    "# Print the \"Data\" part\n",
    "print(data)\n",
    "print(len(data))\n",
    "\n",
    "# Print the \"Science\" part\n",
    "print(science)\n",
    "print(len(science))"
   ]
  },
  {
   "cell_type": "markdown",
   "metadata": {
    "slideshow": {
     "slide_type": "fragment"
    }
   },
   "source": [
    "The operator `[n:m]` returns the part of the string from the $n^{th}$ character to the $m^{th}$\n",
    "character, including the first but excluding the last. \n",
    "\n",
    "Notice that:\n",
    "- If you omit the first index (before the colon), the slice starts at the beginning of the string (`[:m]`).\n",
    "- If you omit the second index, the slice goes to the end of the string (`[n:]`).\n",
    "\n",
    "Beware, take care of the *start* and *end* indices of the string. \n",
    "This is a frequent source of errors."
   ]
  },
  {
   "cell_type": "code",
   "execution_count": null,
   "metadata": {
    "slideshow": {
     "slide_type": "fragment"
    }
   },
   "outputs": [],
   "source": [
    "ds_str: str = 'Data Science'\n",
    "\n",
    "data: str = ds_str[:4]\n",
    "science: str = ds_str[5:]\n",
    "\n",
    "print(data)\n",
    "print(science)"
   ]
  },
  {
   "cell_type": "markdown",
   "metadata": {
    "slideshow": {
     "slide_type": "fragment"
    }
   },
   "source": [
    "If the first index is greater than or equal to the second the result is an empty string, represented\n",
    "by two quotation marks:"
   ]
  },
  {
   "cell_type": "code",
   "execution_count": null,
   "metadata": {
    "slideshow": {
     "slide_type": "fragment"
    }
   },
   "outputs": [],
   "source": [
    "ds: str = 'Data Science'\n",
    "\n",
    "data: str = ds[4:4]\n",
    "data"
   ]
  },
  {
   "cell_type": "markdown",
   "metadata": {
    "tags": []
   },
   "source": [
    "<div class=\"alert alert-success\">\n",
    "    <b>Do It Yourself!</b><br>\n",
    "    Assign the string 'skateboard' to the variable <i>word</i>. Now, print the first and second half in independent lines by just slicing the string and using the <i>len</i> function.  Hint: The number used for slicing should be a integer. Use int(half) to convert a float to an integer.\n",
    "</div>"
   ]
  },
  {
   "cell_type": "code",
   "execution_count": null,
   "metadata": {
    "tags": []
   },
   "outputs": [],
   "source": [
    "# Remove this line and add your code here"
   ]
  },
  {
   "cell_type": "markdown",
   "metadata": {
    "tags": []
   },
   "source": [
    "## 5. Strings Immutability\n",
    "\n",
    "There is one additional and important string property we shall consider now.\n",
    "That property is *immutability*.\n",
    "**Immutability** means that the string can not be changed, it is not possible to replace an existing string, a single character, or a subsequence of characters by another value.\n",
    "It also means that it is not possible to use the `[]` operator on the left hand side of an assignment."
   ]
  },
  {
   "cell_type": "code",
   "execution_count": null,
   "metadata": {
    "slideshow": {
     "slide_type": "fragment"
    }
   },
   "outputs": [],
   "source": [
    "greeting: str = 'Hello Data Scientist'\n",
    "greeting[0] = 'h'"
   ]
  },
  {
   "cell_type": "markdown",
   "metadata": {
    "slideshow": {
     "slide_type": "fragment"
    }
   },
   "source": [
    "If you want to change a string you *must* create a new string.\n",
    "\n",
    "In the cell below, we create a new string `new_greeting` by concatenating the letter `h` with the slice consisting of all characters of the original string except the first character.\n",
    "The original string is not *changed*."
   ]
  },
  {
   "cell_type": "code",
   "execution_count": null,
   "metadata": {
    "slideshow": {
     "slide_type": "fragment"
    }
   },
   "outputs": [],
   "source": [
    "print(greeting)\n",
    "new_greeting: str = 'h' + greeting[1:]\n",
    "print(new_greeting)"
   ]
  },
  {
   "cell_type": "markdown",
   "metadata": {
    "tags": []
   },
   "source": [
    "<div class=\"alert alert-success\">\n",
    "    <b>Do It Yourself!</b><br>\n",
    "    Assign the string 'break' to a variable. Replace the first letter by 'g' and the last one by 't'.\n",
    "</div>"
   ]
  },
  {
   "cell_type": "code",
   "execution_count": null,
   "metadata": {
    "tags": []
   },
   "outputs": [],
   "source": [
    "# Remove this line and add your code here"
   ]
  },
  {
   "cell_type": "markdown",
   "metadata": {
    "slideshow": {
     "slide_type": "slide"
    }
   },
   "source": [
    "## 6. Sting Operations\n",
    "In this section, we present some of the most used string operations when it comes to programming.\n",
    "\n",
    "### The `in` Operator\n",
    "\n",
    "The word `in` is a Boolean operator that takes two strings and returns `True` if the first appears as a substring in the second."
   ]
  },
  {
   "cell_type": "code",
   "execution_count": null,
   "metadata": {
    "slideshow": {
     "slide_type": "fragment"
    }
   },
   "outputs": [],
   "source": [
    "'zel' in 'gazelle'"
   ]
  },
  {
   "cell_type": "code",
   "execution_count": null,
   "metadata": {
    "slideshow": {
     "slide_type": "fragment"
    }
   },
   "outputs": [],
   "source": [
    "'par' in 'gazelle'"
   ]
  },
  {
   "cell_type": "markdown",
   "metadata": {
    "slideshow": {
     "slide_type": "fragment"
    }
   },
   "source": [
    "For example, the following function prints all the letters from `word1` that also appear in `word2`."
   ]
  },
  {
   "cell_type": "code",
   "execution_count": null,
   "metadata": {
    "slideshow": {
     "slide_type": "fragment"
    }
   },
   "outputs": [],
   "source": [
    "def in_both(word1: str, word2: str) -> None:\n",
    "    \"\"\"\n",
    "    Prints the letters that appear in both words.\n",
    "    :param word1: first word\n",
    "    :param word2: second word\n",
    "    \"\"\"\n",
    "    for letter in word1:\n",
    "        if letter in word2:\n",
    "            print(letter) \n",
    "\n",
    "in_both('trek', 'gazelle')"
   ]
  },
  {
   "cell_type": "markdown",
   "metadata": {
    "tags": []
   },
   "source": [
    "<div class=\"alert alert-success\">\n",
    "    <b>Do It Yourself!</b><br>\n",
    "    Count the number of vowels in the word 'supercalifragilisticexpialidocious' but this time use the <i>in</i> operator.\n",
    "</div>"
   ]
  },
  {
   "cell_type": "code",
   "execution_count": null,
   "metadata": {
    "tags": []
   },
   "outputs": [],
   "source": [
    "# Remove this line and add your code here"
   ]
  },
  {
   "cell_type": "markdown",
   "metadata": {
    "slideshow": {
     "slide_type": "slide"
    }
   },
   "source": [
    "### String Comparison\n",
    "\n",
    "An important operation on strings is checking whether strings are equal or not.\n",
    "If you have to search for a certain word in a text or dictionary you will need such an operation. \n",
    "\n",
    "Python offers a number of relational operators that work on strings, for instance to check whether two strings are equal."
   ]
  },
  {
   "cell_type": "code",
   "execution_count": null,
   "metadata": {
    "slideshow": {
     "slide_type": "fragment"
    }
   },
   "outputs": [],
   "source": [
    "word: str = input('> ')\n",
    "if word == 'apple':\n",
    "    print('Hmmm, an apple!')"
   ]
  },
  {
   "cell_type": "markdown",
   "metadata": {
    "slideshow": {
     "slide_type": "fragment"
    }
   },
   "source": [
    "Other relational operations are useful for putting words in **lexicographical order** (or *dictionary order*).\n",
    "In this type of order, digits precede letters, and uppercase letters precede lowercase characters. \n",
    "For instance, the word \"Pineapple\" comes before \"apple\" when using lexicographical order."
   ]
  },
  {
   "cell_type": "code",
   "execution_count": null,
   "metadata": {
    "slideshow": {
     "slide_type": "fragment"
    }
   },
   "outputs": [],
   "source": [
    "word: str = input('> ')\n",
    "if word < 'apple':\n",
    "    print('Your word, ' + word + ', comes before apple!')\n",
    "elif word > 'apple':\n",
    "    print('Your word, ' + word + ', comes after apple!')\n",
    "else:\n",
    "    print('Hmmm, an apple!')"
   ]
  },
  {
   "cell_type": "markdown",
   "metadata": {
    "slideshow": {
     "slide_type": "fragment"
    }
   },
   "source": [
    "<div class=\"alert alert-info\">\n",
    "    <b>Comparing uppercase and lowercase characters</b><br>\n",
    "    If you do not want to make any distinction between uppercase and lowercase characters, you can convert strings to a standard format, such as all lowercase, before doing string comparison.\n",
    "</div>"
   ]
  },
  {
   "cell_type": "markdown",
   "metadata": {
    "tags": []
   },
   "source": [
    "<div class=\"alert alert-success\">\n",
    "    <b>Do It Yourself!</b><br>\n",
    "    In the following cell you will find three words. Can you print them in alphabetical order? Use the comparison operator for that purpose.\n",
    "</div>"
   ]
  },
  {
   "cell_type": "code",
   "execution_count": null,
   "metadata": {
    "tags": []
   },
   "outputs": [],
   "source": [
    "word1: str = 'purple'\n",
    "word2: str = 'green'\n",
    "word3: str = 'red'\n",
    "\n",
    "# Remove this line and add your code here"
   ]
  },
  {
   "cell_type": "markdown",
   "metadata": {
    "slideshow": {
     "slide_type": "slide"
    }
   },
   "source": [
    "## 7. String Methods\n",
    "\n",
    "A string is an example of a Python **object**.\n",
    "For now, an object is equivalent to a value.\n",
    "However, it has more information than a normal value. \n",
    "An object contains *data* and a set of *methods*.\n",
    "**Methods** are functions that are built into the object. \n",
    "We will get to know more about objects, methods, and other terms in coming chapters.\n",
    "For now, we just need to have the intuition.\n",
    "\n",
    "The Python function `dir` lists all the methods available for an object. \n",
    "Let us see the methods that an object of type *string* has."
   ]
  },
  {
   "cell_type": "code",
   "execution_count": null,
   "metadata": {},
   "outputs": [],
   "source": [
    "text: str = 'Data Science'\n",
    "dir(text)"
   ]
  },
  {
   "cell_type": "markdown",
   "metadata": {},
   "source": [
    "As you can see, Python provides a whole collection of useful methods on strings.\n",
    "\n",
    "Calling a method is similar to calling a function, the only difference is that you place first the name of the variable and then the name of the method separated by a dot. \n",
    "Something like `variable.method()`.\n",
    "For instance, instead of the function syntax `upper(word)`, we use the method syntax `word.upper()`."
   ]
  },
  {
   "cell_type": "code",
   "execution_count": null,
   "metadata": {
    "slideshow": {
     "slide_type": "fragment"
    }
   },
   "outputs": [],
   "source": [
    "word: str = 'gazelle'\n",
    "new_word: str = word.upper()\n",
    "new_word"
   ]
  },
  {
   "cell_type": "markdown",
   "metadata": {
    "slideshow": {
     "slide_type": "fragment"
    }
   },
   "source": [
    "This form of dot notation specifies the name of the method (`upper`), and the name of the string to apply the method to (`word`). \n",
    "The empty parentheses indicate that this method takes no arguments.\n",
    "\n",
    "A method call is called an **invocation**. \n",
    "In this case, we would say that we are invoking the method `upper` on `word`.\n",
    "\n",
    "As it turns out, there is a string method named `find` that aims at finding a substring (including only one character) in another string and returning the index of the base string where the substring starts."
   ]
  },
  {
   "cell_type": "code",
   "execution_count": null,
   "metadata": {
    "slideshow": {
     "slide_type": "fragment"
    }
   },
   "outputs": [],
   "source": [
    "word: str = 'gazelle'\n",
    "index: int = word.find('z')\n",
    "index"
   ]
  },
  {
   "cell_type": "markdown",
   "metadata": {
    "slideshow": {
     "slide_type": "fragment"
    }
   },
   "source": [
    "The `find` method can also be directly invoked on a string **object**."
   ]
  },
  {
   "cell_type": "code",
   "execution_count": null,
   "metadata": {
    "slideshow": {
     "slide_type": "fragment"
    }
   },
   "outputs": [],
   "source": [
    "index: int = 'sparta'.find('par')\n",
    "index"
   ]
  },
  {
   "cell_type": "markdown",
   "metadata": {
    "slideshow": {
     "slide_type": "fragment"
    }
   },
   "source": [
    "The `find` method can take 1 or 2 **optional arguments**.\n",
    "- The *first optional argument* is the *index* where the search in the string object should **start** (inclusive).\n",
    "- The *second optional argument* is the *index* where the search in the string object should **stop** (exclusive)."
   ]
  },
  {
   "cell_type": "code",
   "execution_count": null,
   "metadata": {
    "slideshow": {
     "slide_type": "fragment"
    }
   },
   "outputs": [],
   "source": [
    "name: str = 'bob'\n",
    "name.find('b', 1, 2)"
   ]
  },
  {
   "cell_type": "markdown",
   "metadata": {
    "slideshow": {
     "slide_type": "fragment"
    }
   },
   "source": [
    "This search fails because `b` does not appear in the index range from `1` to `2`, not including `2`.\n",
    "Searching up to but not including the second index makes `find` consistent with the slice operator."
   ]
  },
  {
   "cell_type": "code",
   "execution_count": null,
   "metadata": {
    "slideshow": {
     "slide_type": "fragment"
    }
   },
   "outputs": [],
   "source": [
    "name[1:2].find('b')"
   ]
  },
  {
   "cell_type": "markdown",
   "metadata": {},
   "source": [
    "## 8. Formatting\n",
    "\n",
    "Strings are useful when they can be enriched with information coming from other expressions (including variables) implemented in the program.\n",
    "This is what we call string **formatting**.\n",
    "In Python, we have different options to format a string.\n",
    "Here, we present three alternatives, namely, the *format operator* `%`, the *format method*, and f-strings.\n",
    "You are free to use whichever you prefer, we personally prefer the latter due to its readability and understandability properties, among other reasons.\n",
    "\n",
    "### Format Operator\n",
    "\n",
    "With the **format operator** `%` we can build a string by replacing parts of it with data stored in variables.\n",
    "Remember that when `%` is used with integers it is known as the *modulus operator*. \n",
    "When playing around with strings we call it the *format operator*.\n",
    "To use them in this context, you should write:"
   ]
  },
  {
   "cell_type": "code",
   "execution_count": null,
   "metadata": {},
   "outputs": [],
   "source": [
    "placeholder: str = 'this'\n",
    "'Your string here with a placeholder like %s' % placeholder"
   ]
  },
  {
   "cell_type": "markdown",
   "metadata": {},
   "source": [
    "The first operand (before the format operator) should always be a string containing *format specifiers* or placeholders. \n",
    "The second operand is one or more variables. \n",
    "If you have more than one variable they should be stored in a tuple (we will talk about this data type in another chapter of the book).\n",
    "Additionally, ensure that the number of format specifiers is equal to the number of variables, and the order is the same.\n",
    "\n",
    "A format specifier is a marker starting with \"%\" that is immediately followed by a character (e.g. \"s\", \"d\").\n",
    "Examples of supported format specifiers are \"%d\" to format an integer, \"%g\" to format floats, and \"%s\" to format strings.\n",
    "The table below shows the most commonly used format specifiers.\n",
    "\n",
    "| Format specifier | Description | Output |\n",
    "|:--------------:|:------------|:-------:|\n",
    "| `%e`  | Scientific format.     | `5.000000e+00` |\n",
    "| `%s`  | Text or string value.  | `this is text` |\n",
    "| `%d`  | Integer value.         | `456` |\n",
    "| `%f`  | Floating-point number. | `3.141516` |\n",
    "\n",
    "Let us see some other examples."
   ]
  },
  {
   "cell_type": "code",
   "execution_count": null,
   "metadata": {},
   "outputs": [],
   "source": [
    "'Format %f,' % 45.6"
   ]
  },
  {
   "cell_type": "markdown",
   "metadata": {},
   "source": [
    "We use the \"%f\" as a format specifier of a floating-point value."
   ]
  },
  {
   "cell_type": "code",
   "execution_count": null,
   "metadata": {},
   "outputs": [],
   "source": [
    "days: int = 365\n",
    "'A year has %d days' % days"
   ]
  },
  {
   "cell_type": "markdown",
   "metadata": {},
   "source": [
    "\"%d\" is used as a placeholder for integer values."
   ]
  },
  {
   "cell_type": "code",
   "execution_count": null,
   "metadata": {},
   "outputs": [],
   "source": [
    "who: str = 'Tom'\n",
    "budget: float = 1.99999999\n",
    "days: int = 365\n",
    "\n",
    "'%s says that he is allowed to spend %g euros \\\n",
    "every single day of the %d days of the year.' % (who, budget, days)"
   ]
  },
  {
   "cell_type": "markdown",
   "metadata": {},
   "source": [
    "You can include as many values as needed in your formatted string.\n",
    "Be reminded that you can get an error if your don't write all needed elements to format the string.\n",
    "Additionally, notice that we have used the character \"\\\" at the end of the first string line to indicate that we are breaking the expression at that point, but we will continue in the next line. \n",
    "Without that character, you will get an error becuase the expression is interpreted as incomplete."
   ]
  },
  {
   "cell_type": "code",
   "execution_count": null,
   "metadata": {},
   "outputs": [],
   "source": [
    "day: str = 'Monday'\n",
    "hour: int = 5\n",
    "place: str = 'the park'\n",
    "\n",
    "'See you on %s at %d in %s' % (day, hour)"
   ]
  },
  {
   "cell_type": "markdown",
   "metadata": {},
   "source": [
    "Or when you use a wrong format specifier(s)."
   ]
  },
  {
   "cell_type": "code",
   "execution_count": null,
   "metadata": {},
   "outputs": [],
   "source": [
    "day: str = 'Monday'\n",
    "hour: int = 5\n",
    "place: str = 'the park'\n",
    "\n",
    "'Se you on %d at %d in %s' % (day, hour, place)"
   ]
  },
  {
   "cell_type": "markdown",
   "metadata": {
    "tags": []
   },
   "source": [
    "<div class=\"alert alert-success\">\n",
    "    <b>Do It Yourself!</b><br>\n",
    "    Create three variables: the first one will contain your name, the second one your age, and the third one your passion. Print a string that says 'My name is <i>name</i>. I am <i>age</i> years old. And my passion is <i>passion</i>.' Use the format operator to create this string.\n",
    "</div>"
   ]
  },
  {
   "cell_type": "code",
   "execution_count": null,
   "metadata": {
    "tags": []
   },
   "outputs": [],
   "source": [
    "# Remove this line and add your code here"
   ]
  },
  {
   "cell_type": "markdown",
   "metadata": {},
   "source": [
    "<div class=\"alert alert-info\">\n",
    "    <b>More information about the format operator</b><br>\n",
    "    For more information on the format operator, \n",
    "    see <a href=\"https://docs.python.org/3/library/stdtypes.html#printf-style-string-formatting\"><b>printf-style String Formatting</b></a>. \n",
    "</div>\n",
    "\n",
    "<div class=\"alert alert-info\">\n",
    "    <b><code>format</code> method</b><br>\n",
    "    A more powerful alternative is\n",
    "the string format method, which you can read about at <a href=\"https://docs.python.org/3/library/stdtypes.html#str.format\"><b><code>str.format()</code></b></a>. \n",
    "</div>"
   ]
  },
  {
   "cell_type": "markdown",
   "metadata": {},
   "source": [
    "### The `format` Method\n",
    "\n",
    "The `format` method is available to all string objects.\n",
    "The string that uses the method should represent placeholders in th eform of curly braces (i.e. \"{}\").\n",
    "You can include names within the curly braces to be clearer about the placeholder you want to replace.\n",
    "The method receives as parameters a sequence of values or variables.\n",
    "As it is the case for the format operator, ensure the number of placeholders is the same as the number of values, and that the order is the same (if you are not using identifiers within your placeholders).\n",
    "Thus, the `format` method can be used as follows.\n",
    "\n",
    "```python\n",
    "'String with placeholder 1 ({}), placeholder 2 ({}), ... placeholder n ({})'.format(placeholder_1, placeholder_2, ..., placeholder_n)\n",
    "```\n",
    "\n",
    "Or as follows, if you prefer to use identifiers for your placeholders.\n",
    "\n",
    "```python\n",
    "'String with placeholder 1 ({placeh1}), placeholder 2 ({placeh2}), ... placeholder n ({placehn})'.format(placeh1=placeholder_1, placeh2=placeholder_2, ..., placehn=placeholder_n)\n",
    "```\n",
    "\n",
    "Let us now see the examples of the previous section translated into the `format` method vocabulary."
   ]
  },
  {
   "cell_type": "code",
   "execution_count": null,
   "metadata": {},
   "outputs": [],
   "source": [
    "'Format {}'.format(45.6)"
   ]
  },
  {
   "cell_type": "markdown",
   "metadata": {},
   "source": [
    "You can use the \":f\" sequence within the curly braces to indicate that you want to display the value as a floating-point number (with 6 decimal digits by default). "
   ]
  },
  {
   "cell_type": "code",
   "execution_count": null,
   "metadata": {},
   "outputs": [],
   "source": [
    "'Format {:f}'.format(45.6)"
   ]
  },
  {
   "cell_type": "code",
   "execution_count": null,
   "metadata": {},
   "outputs": [],
   "source": [
    "days: int = 365\n",
    "'A year has {} days'.format(days)"
   ]
  },
  {
   "cell_type": "code",
   "execution_count": null,
   "metadata": {},
   "outputs": [],
   "source": [
    "who: str = 'Tom'\n",
    "budget: float = 1.99999999\n",
    "days: int = 365\n",
    "\n",
    "'{} says that he is allowed to spend {} euros \\\n",
    "every single day of the {} days of the year.'.format(who, budget, days)"
   ]
  },
  {
   "cell_type": "markdown",
   "metadata": {},
   "source": [
    "Same example using placeholder identifiers."
   ]
  },
  {
   "cell_type": "code",
   "execution_count": null,
   "metadata": {},
   "outputs": [],
   "source": [
    "who: str = 'Tom'\n",
    "budget: float = 1.99999999\n",
    "days: int = 365\n",
    "\n",
    "'{person} says that he is allowed to spend {budget} euros \\\n",
    "every single day of the {days} days of the year.' \\\n",
    ".format(person=who, budget=budget, days=days)"
   ]
  },
  {
   "cell_type": "markdown",
   "metadata": {},
   "source": [
    "### F-strings\n",
    "\n",
    "Another elegant way of formatting and creating string is via the **f-strings** or *literal string interpolation*.\n",
    "F-strings are called this way because of the preceding `f` letter.\n",
    "This language construct provides a convenient way of embedding expressions within a string.\n",
    "\n",
    "They are built as follows:\n",
    "```python\n",
    "var1 = 'value1'\n",
    "var2 = 'value2'\n",
    "...\n",
    "\n",
    "f'{var1 + 3} some text here {var2 * 2}'\n",
    "```\n",
    "\n",
    "Notice that the letter `f` is placed before the quotes are opened.\n",
    "Then, within the string, expressions are placed within curly braces `{}`.\n",
    "The expressions are evaluated during runtime, and the string is built.\n",
    "The process of evaluating a string literal containing one or more placeholders that yield a value is known as **string interpolation**.\n",
    "\n",
    "Let us rewrite the examples we introduced before with f-strings."
   ]
  },
  {
   "cell_type": "code",
   "execution_count": null,
   "metadata": {},
   "outputs": [],
   "source": [
    "f'Format {45.6}'"
   ]
  },
  {
   "cell_type": "code",
   "execution_count": null,
   "metadata": {},
   "outputs": [],
   "source": [
    "days: int = 365\n",
    "f'A year has {days} days'"
   ]
  },
  {
   "cell_type": "code",
   "execution_count": null,
   "metadata": {},
   "outputs": [],
   "source": [
    "who: str = 'Tom'\n",
    "budget: float = 1.99999999\n",
    "days: int = 365\n",
    "\n",
    "f'{who} says that he is allowed to spend {budget:g} euros \\\n",
    "every single day of the {days} days of the year.'"
   ]
  },
  {
   "cell_type": "markdown",
   "metadata": {
    "tags": []
   },
   "source": [
    "<div class=\"alert alert-success\">\n",
    "    <b>Do It Yourself!</b><br>\n",
    "    Create three variables: the first one will contain your name, the second one your age, and the third one your passion. Print a string that says 'My name is <i>name</i>. I am <i>age</i> years old. And my passion is <i>passion</i>.' Use f-strings to create this string.\n",
    "</div>"
   ]
  },
  {
   "cell_type": "code",
   "execution_count": null,
   "metadata": {
    "tags": []
   },
   "outputs": [],
   "source": [
    "# Remove this line and add your code here"
   ]
  },
  {
   "cell_type": "markdown",
   "metadata": {},
   "source": [
    "## 9. Summary\n",
    "\n",
    "In this chapter, we have learned that string is a built-in *data type* used to represent natural language text.\n",
    "Particularly, text represented in such a way is called a string because it is a sequence (or \"string\") of characters.\n",
    "The type is written `str` in Python.\n",
    "We can either use *single or double quotes* to surround the text we want to represent as a string.\n",
    "\n",
    "Given that a string is, in the end, a sequence, we can access specific elements of the sequence by *indexing* the original string (we specify a number or *index* within the \"[]\" characters).\n",
    "We can also extract substrings from the original string by means of slicing it (we specify at least the starting end ending index from where we want to extract the *slice* or substring).\n",
    "We have also discovered that strings are *immutable**; \n",
    "that is, they cannot be modified, rather you need to create a new string from scratch with the required modifications.\n",
    "\n",
    "There are some Boolean operations you can perform with strings that are very handy when writing programs.\n",
    "Specifically, the `in` and comparison operators are of great help.\n",
    "Additionally, string values are really *objects* and objects expose a set of \"special functions\" called methods.\n",
    "You can use all string functions when dealing with a string, for example, the `upper` or `find` *methods*.\n",
    "Finally, strings are very useful when they can be formatted based on external values coming from other expressions or variables in your code. \n",
    "For that, we have different alternatives like the *format operator*, the *format method*, and *f-strings*.\n",
    "However, we recommend using the latter.\n",
    "\n",
    "Expect to use this data type quite often from now on. \n",
    "In the end, programs are written to help humans solve problems. \n",
    "Humans still need to communicate with each other via natural language, even if it is in textual form via a Jupyter notebook, website, mobile application, or any other sort of program."
   ]
  },
  {
   "cell_type": "markdown",
   "metadata": {},
   "source": [
    "---\n",
    "\n",
    "This Jupyter Notebook is based on Chapter 6 of the book Python for Everybody and Chapter 8 of the book Think Python."
   ]
  },
  {
   "cell_type": "markdown",
   "metadata": {},
   "source": [
    "---\n",
    "\n",
    "# (End of Notebook)\n",
    "\n",
    "&copy; 2023 - **TU/e** - Eindhoven University of Technology"
   ]
  }
 ],
 "metadata": {
  "kernelspec": {
   "display_name": "Python 3 (ipykernel)",
   "language": "python",
   "name": "python3"
  },
  "language_info": {
   "codemirror_mode": {
    "name": "ipython",
    "version": 3
   },
   "file_extension": ".py",
   "mimetype": "text/x-python",
   "name": "python",
   "nbconvert_exporter": "python",
   "pygments_lexer": "ipython3",
   "version": "3.11.5"
  },
  "vscode": {
   "interpreter": {
    "hash": "3aea9d04d643a3dad58bd6e15bcfdd921ab432a7c2b9a15d89f108cc0c05ed72"
   }
  }
 },
 "nbformat": 4,
 "nbformat_minor": 4
}
