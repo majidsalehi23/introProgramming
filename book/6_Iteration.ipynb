{
 "cells": [
  {
   "cell_type": "markdown",
   "metadata": {
    "slideshow": {
     "slide_type": "slide"
    }
   },
   "source": [
    "# Iteration"
   ]
  },
  {
   "cell_type": "markdown",
   "metadata": {},
   "source": [
    "## Table of Contents\n",
    "\n",
    "- [1. Introduction](#introduction)\n",
    "- [2. The `while` Statement](#while)\n",
    "- [3. Loop Termination and Initialization](#termination)\n",
    "- [4. The `break` Statement](#break)\n",
    "- [5. The `continue` Statement](#continue)\n",
    "- [6. `while` Loops in Detal](#detail)\n",
    "- [7. Traversal With a `for` Loop](#traversal)\n",
    "- [8. Searching](#searching)\n",
    "- [9. Loop Examples](#examples)\n",
    "- [10. Summary](#summary)"
   ]
  },
  {
   "cell_type": "markdown",
   "metadata": {},
   "source": [
    "## 1. Introduction <a class=\"anchor\" id=\"introduction\"></a>\n",
    "\n",
    "This notebook introduces the notion of a loop.\n",
    "In particular, we introduce the `while` statement together with the `break` and `continue` statements. Loops are together with assignments and conditionals the most important language constructs in most of the programming languages. They offer the possibility to repeat computations.\n",
    "\n",
    "One important ingredient of loops is termination, in many cases we want to ensure that loops terminate. \n",
    "\n",
    "Finally, additional examples are also presented."
   ]
  },
  {
   "cell_type": "markdown",
   "metadata": {
    "slideshow": {
     "slide_type": "slide"
    }
   },
   "source": [
    "## 2. The `while` Statement <a class=\"anchor\" id=\"while\"></a>\n",
    "\n",
    "Computers are good in repeating boring tasks, they do this faster and more accurate than people. \n",
    "A block of code that is executed several times is called a **loop**.\n",
    "Each repetition of instructions within a loop is called an **iteration**. \n",
    "One of the loop statements we can use in Python is called the `while` loop.\n",
    "A `while` loop is defined as follows.\n",
    "\n",
    "```python\n",
    "while termination_condition:\n",
    "    # body\n",
    "```\n",
    "\n",
    "You start with the **`while` keyword**, followed by a **termination condition**, followed by a **colon**.\n",
    "The next lines contain the body of the loop.\n",
    "The **body** of a loop is a sequence of Python statements (**one or more statements**) that are executed during every iteration of the loop. The body of the loop is the collection of indented statements after the condition.\n",
    "\n",
    "The flow of execution for a `while` statement is as follows:\n",
    "\n",
    "1. Determine whether the **termination condition** is `True` or `False`.\n",
    "2. If `False`, **exit** the `while` statement and continue with the next statement outside of the loop.\n",
    "3. If the condition is `True`, **run the body** and go back to step 1.\n",
    "\n",
    "This type of flow is called a *loop* because the third step loops back to the top.\n",
    "Let us see an example."
   ]
  },
  {
   "cell_type": "code",
   "execution_count": null,
   "metadata": {},
   "outputs": [],
   "source": [
    "# While statement\n",
    "n: int = 0\n",
    "\n",
    "while n < 5:\n",
    "    n = n + 1  # Same as n += 1\n",
    "    \n",
    "print(n)"
   ]
  },
  {
   "cell_type": "markdown",
   "metadata": {},
   "source": [
    "In the previous cell, we declare the variable `n` and we initialize it to zero.\n",
    "This happens *outside* the loop.\n",
    "Then, we define a **`while` loop**.\n",
    "We use first the **`while` keyword** followed by the termination condition, followed by a colon.\n",
    "The **termination condition** of this loop (`n < 5`) states that the `while` loop will be executed *while* the value of `n` is strictly less than `5`.\n",
    "The **body** of the loop (`n = n + 1`) is an indented assignment statement where we increment `n` by `1`.\n",
    "\n",
    "Let us add some `print` statements to see how the previous `while` loop is being executed. Beware, to be executed in the body of the loop, the statements need to be indented."
   ]
  },
  {
   "cell_type": "code",
   "execution_count": null,
   "metadata": {},
   "outputs": [],
   "source": [
    "# While statement\n",
    "n: int = 0\n",
    "iteration: int = 1\n",
    "print('Initial value n =', n)\n",
    "\n",
    "while n < 5:\n",
    "    print('Iteration', iteration, ': n =', n)\n",
    "    n += 1          # Same as n = n + 1\n",
    "    iteration += 1  # Same as iteration = iteration + 1\n",
    "    \n",
    "print('Final value n =', n)"
   ]
  },
  {
   "cell_type": "markdown",
   "metadata": {},
   "source": [
    "<div class=\"alert alert-success\">\n",
    "    <b>Do It Yourself!</b><br>\n",
    "    Write <i>while</i> loop that substracts 3 from the number 81, 9 times.\n",
    "</div>"
   ]
  },
  {
   "cell_type": "code",
   "execution_count": null,
   "metadata": {},
   "outputs": [],
   "source": [
    "# Remove this line and add your code here "
   ]
  },
  {
   "cell_type": "code",
   "execution_count": null,
   "metadata": {},
   "outputs": [],
   "source": [
    "car = \"Peugeot 2008 GT\"\n",
    "index: int = 0\n",
    "\n",
    "while index < len(car):\n",
    "    letter = car[index]\n",
    "    print(letter)\n",
    "    index += 1"
   ]
  },
  {
   "cell_type": "markdown",
   "metadata": {},
   "source": [
    "## 3. Loop Termination and Initialization<a class=\"anchor\" id=\"termination\"></a>\n",
    "Suppose you want to countdown and print a value, we need to *loop*."
   ]
  },
  {
   "cell_type": "code",
   "execution_count": null,
   "metadata": {
    "slideshow": {
     "slide_type": "fragment"
    }
   },
   "outputs": [],
   "source": [
    "# Countdown program\n",
    "n: int = 10\n",
    "iteration: int = 1\n",
    "print('Initial value n =', n)\n",
    "\n",
    "while n > 0:\n",
    "    print('Iteration', iteration, ': n =', n)\n",
    "    n -= 1          # Same as n = n - 1\n",
    "    iteration += 1  # Same as iteration = iteration + 1\n",
    "\n",
    "print('Final value n =', n)"
   ]
  },
  {
   "cell_type": "markdown",
   "metadata": {
    "slideshow": {
     "slide_type": "fragment"
    }
   },
   "source": [
    "The body of the loop should change the value of some variables that are used in the condition in order to *ensure termination of the loop*."
   ]
  },
  {
   "cell_type": "code",
   "execution_count": null,
   "metadata": {
    "slideshow": {
     "slide_type": "fragment"
    }
   },
   "outputs": [],
   "source": [
    "while True:\n",
    "    print('Hello')"
   ]
  },
  {
   "cell_type": "markdown",
   "metadata": {
    "slideshow": {
     "slide_type": "fragment"
    }
   },
   "source": [
    "The `while` loop above will never terminate, this is a so-called **infinite** loop.\n",
    "\n",
    "When writing programs it is important to convince yourself that the program terminates.\n",
    "\n",
    "In the case of the *countdown program*, we can prove that the loop terminates: if `n` is zero (`0`) or negative, the loop exits. \n",
    "Otherwise, `n` gets smaller in each iteration of the loop, so eventually we have to get to zero (`0`)."
   ]
  },
  {
   "cell_type": "markdown",
   "metadata": {},
   "source": [
    "*Termination* is important, but to have a correct behaviour of a loop it is also important to have the proper *initialisation* of the variable that controls the iteration, or differently formulated that controls how often the loop body is executed.\n",
    "\n",
    "Consider the following cell. The condition of the loop is changed into `n > 0`, if we keep `n = 10`, the body is executed 11 times instead of 10, by initializing the\n",
    "`n` to the value `9` the loop body is executed 10 times."
   ]
  },
  {
   "cell_type": "code",
   "execution_count": null,
   "metadata": {
    "slideshow": {
     "slide_type": "fragment"
    }
   },
   "outputs": [],
   "source": [
    "# Countdown program\n",
    "n: int = 9\n",
    "iteration: int = 1\n",
    "print('Initial value n =', n)\n",
    "\n",
    "while n >= 0:\n",
    "    print('Iteration', iteration, ': n =', n)\n",
    "    n -= 1          # Same as n = n - 1\n",
    "    iteration += 1  # Same as iteration = iteration + 1\n",
    "\n",
    "print('Final value n =', n)"
   ]
  },
  {
   "cell_type": "markdown",
   "metadata": {},
   "source": [
    "This interaction between initialization and termination via the condition is subtle and error prone."
   ]
  },
  {
   "cell_type": "markdown",
   "metadata": {},
   "source": [
    "<div class=\"alert alert-success\">\n",
    "    <b>Do It Yourself!</b><br>\n",
    "    Write <i>while</i> loop that doubles the value of `double: int = 1`, make sure the loop terminates after 50 iterations.\n",
    "</div>"
   ]
  },
  {
   "cell_type": "code",
   "execution_count": null,
   "metadata": {},
   "outputs": [],
   "source": [
    "# Remove this line and add your code here "
   ]
  },
  {
   "cell_type": "markdown",
   "metadata": {},
   "source": [
    "Whether a loop terminates is not always trivial, consider the code in the following cell, does it terminate?"
   ]
  },
  {
   "cell_type": "code",
   "execution_count": null,
   "metadata": {
    "slideshow": {
     "slide_type": "fragment"
    }
   },
   "outputs": [],
   "source": [
    "n: int = 5\n",
    "iteration: int = 1\n",
    "print('Initial value n =', n)\n",
    "\n",
    "while n != 1:\n",
    "    print('Iteration', iteration,': n =', n)\n",
    "    \n",
    "    if n % 2 == 0:  # n is even\n",
    "        n = n / 2\n",
    "    else:           # n is odd\n",
    "        n = n * 3 + 1\n",
    "        \n",
    "    iteration += 1\n",
    "        \n",
    "print('Final value n =', n)"
   ]
  },
  {
   "cell_type": "markdown",
   "metadata": {},
   "source": [
    "The condition for this loop is `n != 1`, so the loop will continue until `n` is `1`, which makes the condition `False`.\n",
    "Since `n` sometimes increases and sometimes decreases, there is no obvious proof that `n` will ever reach `1`, or that the program terminates. \n",
    "\n",
    "For some particular values of `n`, we can prove termination. \n",
    "For example, if the starting value is a power of two, `n` will be even every\n",
    "time through the loop until it reaches `1`. "
   ]
  },
  {
   "cell_type": "markdown",
   "metadata": {
    "slideshow": {
     "slide_type": "slide"
    }
   },
   "source": [
    "## 4. The `break` Statement <a class=\"anchor\" id=\"break\"></a>\n",
    "\n",
    "It is possible to enforce the termination of a loop via the `break` statement.\n",
    "Once your program flow reaches the `break` statement, all the code following the statement within the loop body *won't be executed!*\n",
    "\n",
    "The following shows the flowchart of the `break` statement. \n",
    "\n",
    "<img src=\"assets/break-flowchart.png\" alt=\"Break Flowchart\" width=\"300\"/>\n",
    "\n",
    "<div style=\"text-align:center\">\n",
    "    <p style=\"font-size:0.9em\"><b>Flowchart of the <code>break</code> statement.</b></p>\n",
    "</div>"
   ]
  },
  {
   "cell_type": "markdown",
   "metadata": {},
   "source": [
    "The previous loop is executed just once due to the `break` statement.\n",
    "Once the `break` statement is executed, the program exits and the rest of the statements within the loop's body are not executed."
   ]
  },
  {
   "cell_type": "markdown",
   "metadata": {},
   "source": [
    "Let us see another example."
   ]
  },
  {
   "cell_type": "code",
   "execution_count": null,
   "metadata": {},
   "outputs": [],
   "source": [
    "n = 4\n",
    "while n < 10:\n",
    "    if n % 3 == 0:\n",
    "        divisible_by_3 = n\n",
    "        break\n",
    "    n += 1\n",
    "        \n",
    "divisible_by_3    "
   ]
  },
  {
   "cell_type": "markdown",
   "metadata": {},
   "source": [
    "The previous loop is executed until a number divisible by 3 is found, once it is found the `break` statement is executed, the execution of the loop body stops and the rest of the statements within the loop's body are not executed."
   ]
  },
  {
   "cell_type": "markdown",
   "metadata": {},
   "source": [
    "Now, suppose you are processing the user's input.\n",
    "The user enters any string and as soon as you get the string value `done` you need to terminate the program."
   ]
  },
  {
   "cell_type": "code",
   "execution_count": null,
   "metadata": {
    "slideshow": {
     "slide_type": "fragment"
    }
   },
   "outputs": [],
   "source": [
    "count_words: int = 0\n",
    "\n",
    "while True:\n",
    "    line: str = input('> ')\n",
    "    if line == 'done':\n",
    "        break\n",
    "        \n",
    "    count_words += 1  # Same as count_words += count_words + 1\n",
    "    \n",
    "print('The number of words is', count_words)"
   ]
  },
  {
   "cell_type": "markdown",
   "metadata": {
    "slideshow": {
     "slide_type": "fragment"
    }
   },
   "source": [
    "<div class=\"alert alert-info\">\n",
    "    When using a <code>break</code> statement within a <b>nested loop</b> (a loop inside a loop), it will only break the <b>innermost loop</b>.\n",
    "</div>"
   ]
  },
  {
   "cell_type": "markdown",
   "metadata": {
    "tags": []
   },
   "source": [
    "<div class=\"alert alert-success\">\n",
    "    <b>Do It Yourself!</b><br>\n",
    "    Try to rewrite the <i>while</i> loop without the <i>break</i> statement.\n",
    "</div>"
   ]
  },
  {
   "cell_type": "code",
   "execution_count": null,
   "metadata": {
    "tags": []
   },
   "outputs": [],
   "source": [
    "# Remove this line and add your code here"
   ]
  },
  {
   "cell_type": "markdown",
   "metadata": {
    "tags": []
   },
   "source": [
    "## 5. The `continue` Statement <a class=\"anchor\" id=\"continue\"></a>\n",
    "\n",
    "Sometimes you want to finish the execution of the loop body for **specific iterations**.\n",
    "In that case, you want to stop the current iteration and continue with the next one.\n",
    "To do so, you can use the `continue` statement.\n",
    "\n",
    "The following shows the flowchart of the `continue` statement. \n",
    "\n",
    "<img src=\"assets/continue-flowchart.png\" alt=\"Continue Flowchart\" width=\"300\"/>\n",
    "\n",
    "<div style=\"text-align:center\">\n",
    "    <p style=\"font-size:0.9em\"><b>Flowchart of the <code>continue</code> statement.</b></p>\n",
    "</div>\n",
    "\n",
    "Let us see how to use the `continue` statement with the following example. "
   ]
  },
  {
   "cell_type": "code",
   "execution_count": null,
   "metadata": {},
   "outputs": [],
   "source": [
    "iteration: int = 0\n",
    "\n",
    "while iteration <= 5:\n",
    "    iteration += 1\n",
    "    \n",
    "    # Do not print the even numbers\n",
    "    if iteration % 2 == 0:\n",
    "        continue\n",
    "        \n",
    "    print(f'Odd number: {iteration}')    "
   ]
  },
  {
   "cell_type": "markdown",
   "metadata": {},
   "source": [
    "In the previous example, we create the `iteration` variable and we set it to zero.\n",
    "Then, we introduce a `while` loop that loops while `iteration` is equal to or less than `5` (`iteration <= 5`).\n",
    "The first statement within the loop body increments the `iteration` value by `1`. \n",
    "(So we guarantee that the program terminates at some point!)\n",
    "Then, if the value of the `iteration` variable is equal to `2`, the iteration will be interrupted and the rest of the loop body won't be executed.\n",
    "That is, neither the \"Skip this text!\" nor the \"Iteration `iteration`\" will be executed.\n",
    "Otherwise, the \"Iteration `iteration`\" message will be printed."
   ]
  },
  {
   "cell_type": "markdown",
   "metadata": {},
   "source": [
    "Let us check another example that combines both the `break` and `continue` statements."
   ]
  },
  {
   "cell_type": "code",
   "execution_count": null,
   "metadata": {},
   "outputs": [],
   "source": [
    "while True:\n",
    "    instruction = input('What to do next? ')\n",
    "    \n",
    "    if instruction == 'quit':\n",
    "        break\n",
    "    \n",
    "    if instruction == 'skip':\n",
    "        continue\n",
    "        print('Skip this line')\n",
    "        \n",
    "    print('Your instruction is ' + instruction)"
   ]
  },
  {
   "cell_type": "markdown",
   "metadata": {},
   "source": [
    "In this program we ask for input to the user and we print a message saying \"Your instruction is `instruction`\". However, if the input is equal to \"quit\", the program will end. Otherwise, if the input is equal to \"skip\", the current iteration will stop just before printing the message and will continue with the next iteration."
   ]
  },
  {
   "cell_type": "markdown",
   "metadata": {
    "tags": []
   },
   "source": [
    "<div class=\"alert alert-success\">\n",
    "    <b>Do It Yourself!</b><br>\n",
    "    Try to rewrite the <code>while</code> loop without the <code>break</code> and <code>continue</code> statements.\n",
    "</div>"
   ]
  },
  {
   "cell_type": "code",
   "execution_count": null,
   "metadata": {
    "tags": []
   },
   "outputs": [],
   "source": [
    "# Remove this line and add your code here"
   ]
  },
  {
   "cell_type": "markdown",
   "metadata": {
    "slideshow": {
     "slide_type": "slide"
    }
   },
   "source": [
    "## 6. `while` Loops in Detail <a class=\"anchor\" id=\"detail\"></a>\n",
    "\n",
    "Let us consider the following cell to understand the flow of control of a `while` loop.\n",
    "\n",
    "* A `while` loop should always have a Boolean expression (termination condition). In the cell  `x < 10` (see line #2).\n",
    "* A `while` loop should have at least one statement in the body (see lines #3 and #4). Beware only the indented statements are part of the body, line #5 is not part of the body.\n",
    "* As long as the evaluation of the condition yields the Boolean value `True` (see line #2), the statements in the body are executed (see lines #3 and #4). After the execution of the body, the condition is re-evaluated. \n",
    "* If the evaluation of the condition yields the value `False`, the statement after the body is executed (see line #5).\n",
    "* Removing the indentation on line #4 leads to a non-terminating loop. **Why?**"
   ]
  },
  {
   "cell_type": "code",
   "execution_count": null,
   "metadata": {},
   "outputs": [],
   "source": [
    "x: int = 0          #1\n",
    "while x < 10:       #2\n",
    "    print(x)        #3\n",
    "    x = x + 1       #4\n",
    "print('Done!')      #5"
   ]
  },
  {
   "cell_type": "markdown",
   "metadata": {},
   "source": [
    "The program above can be visualised as follows.\n",
    "\n",
    "<img src=\"assets/while-flowchart1.png\" alt=\"Flowchart of first while loop program\" width=\"200\"/>\n",
    "\n",
    "<div style=\"text-align:center\">\n",
    "    <span style=\"font-size:0.9em; font-weight: bold;\"><b>Flowchart of the first while-loop program.</b></span>\n",
    "</div>\n",
    "<br>\n",
    "\n",
    "Let us see another example."
   ]
  },
  {
   "cell_type": "code",
   "execution_count": null,
   "metadata": {},
   "outputs": [],
   "source": [
    "x: int = 0          #1\n",
    "while x < 10:       #2\n",
    "    print(x)        #3\n",
    "x = x + 1           #4\n",
    "print('Done!')      #5"
   ]
  },
  {
   "cell_type": "markdown",
   "metadata": {},
   "source": [
    "The program above can be described as follows.\n",
    "\n",
    "* In line #1, we initialize variable `x` to `0`.\n",
    "* In line #2, we write down the termination condition of the `while` loop (`x < 10`).\n",
    "* Line #3 contains the body of the loop; there is only one statement in charge of printing the content of `x`.\n",
    "* As you can notice the value of `x` is **not modified** within the `while` body, meaning that `x` won't ever reach 10, and the loop will **never terminate**.\n",
    "* In line #4, we increment the value of `x` by `1`, and in line #5 we print the text \"Done!\".\n",
    "* Given that the loop never terminates, line #4 and #5 won't ever be reached.\n",
    "\n",
    "<img src=\"assets/while-flowchart2.png\" alt=\"Flowchart of second while loop program\" width=\"200\"/>\n",
    "\n",
    "<div style=\"text-align:center\">\n",
    "    <span style=\"font-size:0.9em\"><b>Flowchart of the second while-loop program.</b></span>\n",
    "</div>"
   ]
  },
  {
   "cell_type": "markdown",
   "metadata": {
    "slideshow": {
     "slide_type": "fragment"
    }
   },
   "source": [
    "Let us see yet another example!"
   ]
  },
  {
   "cell_type": "code",
   "execution_count": null,
   "metadata": {
    "slideshow": {
     "slide_type": "fragment"
    }
   },
   "outputs": [],
   "source": [
    "x: int = 0          #1\n",
    "while True:         #2\n",
    "    print(x)        #3\n",
    "    x = x + 1       #4\n",
    "    if x >= 10:     #5\n",
    "        break       #6\n",
    "print('Done!')      #5"
   ]
  },
  {
   "cell_type": "markdown",
   "metadata": {
    "slideshow": {
     "slide_type": "fragment"
    }
   },
   "source": [
    "The program above can be described as follows.\n",
    "\n",
    "* In line #1, we initialize variable `x` to `0`.\n",
    "* In line #2, we write `True` as the termination condition of the `while` loop. This means that if at some point you want to terminate the loop, you must have a `break` statement.\n",
    "* Line #3 starts with the body of the loop. In this line we print the content of `x` (`print(x)`).\n",
    "* In line #4, we increment the value of `x` by `1`.\n",
    "* In line #5, we introduce a conditional statement (`x >= 10`) that if `True`, will break the loop (see line #6). We know that we will reach a termination state because `x` is being incremented by `1` in every iteration, and we can expect it to reach `10` at some point.\n",
    "* Once the execution of the loop is done, we print the text \"Done!\" in line #7.\n",
    "\n",
    "<img src=\"assets/while-flowchart3.png\" alt=\"Flowchart of third while loop program\" width=\"150\"/>\n",
    "\n",
    "<div style=\"text-align:center\">\n",
    "    <span style=\"font-size:0.9em\"><b>Flowchart of the third while-loop program.</b></span>\n",
    "</div>"
   ]
  },
  {
   "cell_type": "markdown",
   "metadata": {},
   "source": [
    "## 7. Traversal With a `for` Loop <a class=\"anchor\" id=\"traversal\"></a>\n",
    "\n",
    "Programs often involve processing a string by reading its characters one by one.\n",
    "Often they start at the beginning, select each character, do something to the selected character, and continue until the end of the string. \n",
    "This pattern of processing is called a **traversal** of a sequence (or string). \n",
    "\n",
    "One way to write a traversal is with a `while` loop. \n",
    "Note that we need an explicit *index* in order to access all elements of the sequence (or characters of the string).\n",
    "The next cell contains a correct implementation for iterating over a string with a `while` loop."
   ]
  },
  {
   "cell_type": "code",
   "execution_count": null,
   "metadata": {},
   "outputs": [],
   "source": [
    "car: str = \"Peugeot 2008-GT\"\n",
    "index: int = 0\n",
    "\n",
    "while index < len(car):\n",
    "    letter = car[index]\n",
    "    print(letter)\n",
    "    index += 1"
   ]
  },
  {
   "cell_type": "markdown",
   "metadata": {},
   "source": [
    "However, using an explicit index often introduces serious mistakes in programs. \n",
    "For example, programmers start at the wrong index (`1` instead of `0`) and terminate to early or to late (by using `<=` instead of `<`).\n",
    "\n",
    "So-called **out-of-bound** errors or **off-by-one** errors are the root cause for program crashes or serious security threats (attackers may have access to sensitive memory).\n",
    "Below you find code that contains multiple **out-of-bound** errors."
   ]
  },
  {
   "cell_type": "code",
   "execution_count": null,
   "metadata": {},
   "outputs": [],
   "source": [
    "car: str = \"Peugeot 2008-GT\"\n",
    "index: int = 1\n",
    "    \n",
    "while index <= len(car):\n",
    "    letter = car[index]\n",
    "    print(letter)\n",
    "    index += 1"
   ]
  },
  {
   "cell_type": "markdown",
   "metadata": {},
   "source": [
    "<div class=\"alert alert-success\">\n",
    "    <b>Do It Yourself!</b><br>\n",
    "    Make sure you have declared the variable <i>artist</i> and you have assigned it the value 'Maurits Cornelis Escher'. Then, only print the characters located in an even position. Use a <i>while</i> loop.\n",
    "</div>"
   ]
  },
  {
   "cell_type": "code",
   "execution_count": null,
   "metadata": {},
   "outputs": [],
   "source": [
    "# Remove this line and add your code here"
   ]
  },
  {
   "cell_type": "markdown",
   "metadata": {},
   "source": [
    "A better and more secure way of writing a traversal is using a `for` loop.\n",
    "A `for` loop implicitly handles the indexes of a sequence and gets each item within the sequence.\n",
    "Let us see an example in the cell below."
   ]
  },
  {
   "cell_type": "code",
   "execution_count": null,
   "metadata": {},
   "outputs": [],
   "source": [
    "for letter in 'sparta':\n",
    "    print(letter)"
   ]
  },
  {
   "cell_type": "markdown",
   "metadata": {},
   "source": [
    "Each time the loop is executed, the next character in the string is assigned to the variable `letter`. \n",
    "The loop continues until no characters are left.\n",
    "\n",
    "The following example shows how to use concatenation (string addition) and a `for` loop\n",
    "to generate a list of names in alphabetical order. "
   ]
  },
  {
   "cell_type": "code",
   "execution_count": null,
   "metadata": {},
   "outputs": [],
   "source": [
    "prefixes: str = 'JKLMNOPQ'\n",
    "suffix: str = 'ack'\n",
    "\n",
    "for letter in prefixes:\n",
    "    print(letter + suffix)"
   ]
  },
  {
   "cell_type": "markdown",
   "metadata": {},
   "source": [
    "<div class=\"alert alert-success\">\n",
    "    <b>Do It Yourself!</b><br>\n",
    "    There is a hidden text in the following cell. To find the hidden message you should print all characters in the variable <i>code</i> except for those that are equal to 'x', 'y', or 'z'. Use a <i>for</i> loop to solve this problem.\n",
    "</div>"
   ]
  },
  {
   "cell_type": "code",
   "execution_count": null,
   "metadata": {},
   "outputs": [],
   "source": [
    "code = 'Esxzcxxhyezrzy wyzyaxsz zyxbxoxrxxn yinz zyLxexxeuzwaryxdexyzn'\n",
    "\n",
    "# Remove this line and add your code here"
   ]
  },
  {
   "cell_type": "markdown",
   "metadata": {},
   "source": [
    "## 8. Searching <a class=\"anchor\" id=\"searching\"></a>\n",
    "\n",
    "Finding a specific element in a long list can be boring, in principle you have to inspect all elements until you find the element you are looking for. \n",
    "\n",
    "The next cell shows a few lines of code that mimicks this searching for an element by means of looking for a specific letter in a word."
   ]
  },
  {
   "cell_type": "code",
   "execution_count": null,
   "metadata": {},
   "outputs": [],
   "source": [
    "def find(word: str, letter: str) -> int:\n",
    "    \"\"\"\n",
    "    Finds at which position the letter appears first. If the letter does \n",
    "    not appear in the string -1 is returned.\n",
    "    :param word: base word\n",
    "    :param letter: letter to find\n",
    "    :returns: position of the letter within the word.\n",
    "    \"\"\"\n",
    "    index: int = 0\n",
    "    \n",
    "    while index < len(word):\n",
    "        if word[index] == letter:\n",
    "            return index\n",
    "        index += 1\n",
    "        \n",
    "    return -1\n",
    "\n",
    "find('data science', 'a')"
   ]
  },
  {
   "cell_type": "markdown",
   "metadata": {},
   "source": [
    "The function `find` is in fact the inverse of the `[]` operator. \n",
    "Instead of taking an index and extracting the corresponding character, it takes a character and finds the index where that character appears. \n",
    "If the character is not found, the function returns `-1`.\n",
    "\n",
    "\n",
    "<div class=\"alert alert-info\">\n",
    "    <b>Break loop with a <code>return</code> statement</b><br>\n",
    "    This is the first example we have seen of a return statement inside a loop. \n",
    "    <br><br>\n",
    "    If <code>word[index] == letter</code>, the function breaks out of the loop and returns immediately.\n",
    "    If the character does not appear in the string, the program exits the loop normally and returns <code>-1</code>.\n",
    "    <br><br>\n",
    "    This pattern of computation —traversing a sequence and returning when we find what we\n",
    "are looking for— is called a <b>search</b>.\n",
    "</div>\n",
    "\n",
    "Is it possible to write this function in a different way?"
   ]
  },
  {
   "cell_type": "code",
   "execution_count": null,
   "metadata": {},
   "outputs": [],
   "source": [
    "def find(word: str, letter: str) -> int:\n",
    "    \"\"\"\n",
    "    Finds at which position the letter appears first. If the letter does \n",
    "    not appear in the string -1 is returned.\n",
    "    :param word: base word\n",
    "    :param letter: letter to find\n",
    "    :returns: position of the letter within the word.\n",
    "    \"\"\"\n",
    "    index: int = 0\n",
    "    \n",
    "    for char in word:\n",
    "        if char == letter:\n",
    "            break\n",
    "        index += 1\n",
    "        \n",
    "    if index >= len(word):\n",
    "        return -1\n",
    "    else:\n",
    "        return index\n",
    "\n",
    "find('data science', 'z')"
   ]
  },
  {
   "cell_type": "markdown",
   "metadata": {},
   "source": [
    "Of course, we could have used `return index` instead of `break` if the character in the string matches the letter we were looking for."
   ]
  },
  {
   "cell_type": "markdown",
   "metadata": {},
   "source": [
    "<div class=\"alert alert-success\">\n",
    "    <b>Do It Yourself!</b><br>\n",
    "    In the following cell there is information about the ticket of a concert. You want to extract the number of the ticket. Use the search pattern and previous string functions and operators to return the ticket reference.\n",
    "</div>"
   ]
  },
  {
   "cell_type": "code",
   "execution_count": null,
   "metadata": {},
   "outputs": [],
   "source": [
    "info = 'Ticket reference: 9090873982'\n",
    "\n",
    "# Remove this line and add your code here"
   ]
  },
  {
   "cell_type": "markdown",
   "metadata": {
    "slideshow": {
     "slide_type": "slide"
    }
   },
   "source": [
    "## 9. Loop Examples <a class=\"anchor\" id=\"examples\"></a>\n",
    "\n",
    "### Square Roots\n",
    "Loops are often used in programs that compute numerical results by starting with an approximate\n",
    "answer and iteratively improving it.\n",
    "\n",
    "For example, one way of computing square roots of a number is **Newton’s method**.\n",
    "Suppose that you want to know the square root of a number $a$. \n",
    "If you start with almost any estimate, $x$, you can compute\n",
    "a better estimate with the following formula:\n",
    "\n",
    "$y = \\frac{x + \\frac{a}{x}}{2}$\n",
    "\n",
    "For example, if $a$ is 4 and $x$ is 3, we get:"
   ]
  },
  {
   "cell_type": "code",
   "execution_count": null,
   "metadata": {
    "slideshow": {
     "slide_type": "fragment"
    }
   },
   "outputs": [],
   "source": [
    "a: int = 4\n",
    "x: int = 3\n",
    "y: int = (x + a / x) / 2\n",
    "y"
   ]
  },
  {
   "cell_type": "markdown",
   "metadata": {
    "slideshow": {
     "slide_type": "fragment"
    }
   },
   "source": [
    "The result is closer to the correct answer ($\\sqrt{4} = 2$). \n",
    "If we repeat the process with the new estimate, it gets even closer."
   ]
  },
  {
   "cell_type": "code",
   "execution_count": null,
   "metadata": {
    "slideshow": {
     "slide_type": "fragment"
    }
   },
   "outputs": [],
   "source": [
    "x = y\n",
    "y = (x + a / x) / 2\n",
    "y"
   ]
  },
  {
   "cell_type": "markdown",
   "metadata": {
    "slideshow": {
     "slide_type": "fragment"
    }
   },
   "source": [
    "After a few more iterations the result gets more precise."
   ]
  },
  {
   "cell_type": "code",
   "execution_count": null,
   "metadata": {
    "slideshow": {
     "slide_type": "fragment"
    }
   },
   "outputs": [],
   "source": [
    "x = y\n",
    "y = (x + a / x) / 2\n",
    "y"
   ]
  },
  {
   "cell_type": "code",
   "execution_count": null,
   "metadata": {
    "slideshow": {
     "slide_type": "fragment"
    }
   },
   "outputs": [],
   "source": [
    "x = y\n",
    "y = (x + a / x) / 2\n",
    "y"
   ]
  },
  {
   "cell_type": "markdown",
   "metadata": {
    "slideshow": {
     "slide_type": "fragment"
    }
   },
   "source": [
    "After a couple more iterations the value of $y$ is equal to $x$ and thus we can stop."
   ]
  },
  {
   "cell_type": "code",
   "execution_count": null,
   "metadata": {
    "slideshow": {
     "slide_type": "fragment"
    }
   },
   "outputs": [],
   "source": [
    "x: int = 1\n",
    "a: int = 4\n",
    "\n",
    "while True:\n",
    "    print(x)\n",
    "    y: int = (x + a / x) / 2\n",
    "    \n",
    "    if y == x:\n",
    "        break\n",
    "    \n",
    "    x = y"
   ]
  },
  {
   "cell_type": "markdown",
   "metadata": {
    "slideshow": {
     "slide_type": "fragment"
    }
   },
   "source": [
    "For most values of a this works fine, but in general it is dangerous to test equality on floating-point numbers.\n",
    "Floating-point values are only approximately right: most rational numbers, like 1/3, and\n",
    "irrational numbers, like $\\sqrt{2}$ cannot be represented exactly with a float.\n",
    "\n",
    "Rather than checking whether `x` and `y` are exactly equal, it is safer to use the built-in function\n",
    "`abs` to compute the absolute value, or magnitude, of the difference between them."
   ]
  },
  {
   "cell_type": "code",
   "execution_count": null,
   "metadata": {
    "slideshow": {
     "slide_type": "fragment"
    }
   },
   "outputs": [],
   "source": [
    "x: int = 3\n",
    "a: int = 4\n",
    "epsilon: float = 0.00000000000001\n",
    "\n",
    "while True:\n",
    "    print(x)\n",
    "    y: int = (x + a / x) / 2\n",
    "    \n",
    "    if abs(y - x) < epsilon:\n",
    "        break\n",
    "        \n",
    "    x = y"
   ]
  },
  {
   "cell_type": "markdown",
   "metadata": {
    "slideshow": {
     "slide_type": "fragment"
    }
   },
   "source": [
    "Where `epsilon` has a value like `0.00000000000001` that determines how close is close enough.\n",
    "\n",
    "<div class=\"alert alert-info\">\n",
    "    See what happens if you play with the value of <code>epsilon</code>.\n",
    "</div>"
   ]
  },
  {
   "cell_type": "markdown",
   "metadata": {},
   "source": [
    "It is also possible to compute the square roots of a number, using `for` loop."
   ]
  },
  {
   "cell_type": "code",
   "execution_count": null,
   "metadata": {},
   "outputs": [],
   "source": [
    "x: int = 3\n",
    "a: int = 4\n",
    "epsilon: float = 0.00000000000001\n",
    "\n",
    "for _ in range(100):  # You can specify an appropriate number of iterations\n",
    "    print(x)\n",
    "    y: int = (x + a / x) / 2\n",
    "    \n",
    "    if abs(y - x) < epsilon:\n",
    "        break\n",
    "        \n",
    "    x = y"
   ]
  },
  {
   "cell_type": "markdown",
   "metadata": {},
   "source": [
    "### Looping and Counting\n",
    "\n",
    "The following program counts the number of times the letter `e` appears in a string."
   ]
  },
  {
   "cell_type": "code",
   "execution_count": null,
   "metadata": {},
   "outputs": [],
   "source": [
    "word: str = 'gazelle'\n",
    "count: int = 0\n",
    "\n",
    "for letter in word:\n",
    "    if letter == 'e':\n",
    "        count += 1\n",
    "        \n",
    "print(count)"
   ]
  },
  {
   "cell_type": "markdown",
   "metadata": {},
   "source": [
    "This program demonstrates another pattern of computation called a **counter**. \n",
    "\n",
    "The variable `count` is initialized to `0` and then incremented each time the letter is encountered. \n",
    "When the loop exits, count contains the result—that is, the total number of `e`’s in the word `gazelle`."
   ]
  },
  {
   "cell_type": "markdown",
   "metadata": {},
   "source": [
    "<div class=\"alert alert-success\">\n",
    "    <b>Do It Yourself!</b><br>\n",
    "    Count the number of vowels in the word 'supercalifragilisticexpialidocious'.\n",
    "</div>"
   ]
  },
  {
   "cell_type": "code",
   "execution_count": null,
   "metadata": {},
   "outputs": [],
   "source": [
    "# Remove this line and add your code here"
   ]
  },
  {
   "cell_type": "markdown",
   "metadata": {},
   "source": [
    "### Adding Numbers\n",
    "Suppose we have a number. We add the number to a new variable, `total`, substract `1` from the number and add it to the total. We do this until number is `0`."
   ]
  },
  {
   "cell_type": "code",
   "execution_count": null,
   "metadata": {},
   "outputs": [],
   "source": [
    "number: int = 7\n",
    "total: int = 0\n",
    "\n",
    "while number > 0:\n",
    "    total += number  # Same as total = total + x\n",
    "    print('total =', total)\n",
    "    number -= 1      # Same as number = number - 1\n",
    "    print('number =', number)\n",
    "\n",
    "print('total =', total)"
   ]
  },
  {
   "cell_type": "markdown",
   "metadata": {},
   "source": [
    "### Modified Addition\n",
    "\n",
    "In the following program, we want to:\n",
    "\n",
    "1. Initialize a number of your choice.\n",
    "1. Initialize a counter to `0`.\n",
    "1. Initialize a `total` variable to `0`\n",
    "1. If the counter is **even**, we add it to the `total`.\n",
    "1. If not, we do nothing.\n",
    "1. We increment the counter by `1`, and we go back to step 4.\n",
    "1. We loop until the counter is greater than the chosen integer number."
   ]
  },
  {
   "cell_type": "code",
   "execution_count": null,
   "metadata": {},
   "outputs": [],
   "source": [
    "number: int = 9\n",
    "counter: int = 0\n",
    "total: int = 0\n",
    "\n",
    "while counter <= number:\n",
    "    print('counter =', counter)\n",
    "    \n",
    "    if counter % 2 == 0:\n",
    "        total += counter\n",
    "        print('total =', total)\n",
    "        \n",
    "    counter += 1\n",
    "    \n",
    "print('total =', total)"
   ]
  },
  {
   "cell_type": "markdown",
   "metadata": {},
   "source": [
    "<div class=\"alert alert-success\">\n",
    "    <b>Do It Yourself!</b><br>\n",
    "\n",
    "Write a program that does the following:\n",
    "\n",
    "1. Initialize a number of your choice.\n",
    "1. Initialize a counter to `0`.\n",
    "1. Initialize a `total` variable to `0`\n",
    "1. If the counter is **odd**, we add it to the `total`.\n",
    "1. If not, we do nothing.\n",
    "1. We increment the counter by `1`, and we go back to step 4.\n",
    "1. We loop until the counter is smaller than the chosen integer number.\n",
    "</div>"
   ]
  },
  {
   "cell_type": "code",
   "execution_count": null,
   "metadata": {},
   "outputs": [],
   "source": [
    "# Remove this line and add your code here "
   ]
  },
  {
   "cell_type": "markdown",
   "metadata": {},
   "source": [
    "## 10. Summary <a class=\"anchor\" id=\"summary\"></a>\n",
    "\n",
    "\n",
    "This chapter provides a comprehensive guide to **while** loops and **for** loops in programming, covering fundamental concepts such as **loop syntax**, **termination conditions**, and **control statements** like `break` and `continue` within Python programming.\n",
    "\n",
    "Imagine you are tasked with finding the factorial of a non-negative number:\n",
    "\n",
    "- With a **while** loop, you can perform the multiplication iteratively. For instance, using `while number > 1`, you can multiply the `result` by the `number` and then decrease the `number` for the next iteration.\n",
    "- The **while** loop will be terminated if `number <= 1`, so the **termination condition** is when `number` becomes `1`.\n",
    "- In this example, a **for** loop can be used instead of the **while** loop. For instance, using `for i in range(1, number + 1)`, you can multiply the `result` by the `i`.\n",
    "- The **for** loop will be terminated if `i > number`, so the **termination condition** is when `i` becomes `number + 1`.\n",
    "- You can also use **control statements** to terminate a loop earlier when specific conditions are met (`break`), and/or to skip specific iterations within a loop in order to optimize processing workflow (`continue`). For instance, when you use `continue` if `number == 2`, your code would skip the rest of the current iteration when `number` is equal to `2`; and when you use `break` if `result > 10`, your code would exit the loop when the `result` exceeds `10`.\n",
    "\n",
    "This chapter emphasizes the importance of proper loop initialization and termination to equip you with the skills to efficiently manipulate data and control program flow."
   ]
  },
  {
   "cell_type": "markdown",
   "metadata": {},
   "source": [
    "---\n",
    "\n",
    "# (End of Notebook)\n",
    "\n",
    "&copy; 2023 - **TU/e** - Eindhoven University of Technology"
   ]
  }
 ],
 "metadata": {
  "anaconda-cloud": {},
  "kernelspec": {
   "display_name": "Python 3",
   "language": "python",
   "name": "python3"
  },
  "language_info": {
   "codemirror_mode": {
    "name": "ipython",
    "version": 3
   },
   "file_extension": ".py",
   "mimetype": "text/x-python",
   "name": "python",
   "nbconvert_exporter": "python",
   "pygments_lexer": "ipython3",
   "version": "3.11.5"
  }
 },
 "nbformat": 4,
 "nbformat_minor": 4
}
