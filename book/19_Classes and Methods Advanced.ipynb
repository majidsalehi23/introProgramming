{
 "cells": [
  {
   "cell_type": "markdown",
   "metadata": {
    "slideshow": {
     "slide_type": "slide"
    }
   },
   "source": [
    "# Classes and Methods Advanced"
   ]
  },
  {
   "cell_type": "markdown",
   "metadata": {},
   "source": [
    "## TTable of Contents\n",
    "\n",
    "- [1. Introduction](#1.-Introduction)\n",
    "- [2. Positional arguments vs keyword arguments](#2.-Positional-arguments-vs-keyword-arguments)\n",
    "- [3. Invariants](#3.-Invariants)\n",
    "- [4. More Advanced __init__ Method](#4.-More-Advanced-__init__-Method)\n",
    "- [5. Operator Overloading](#5.-Operator-Overloading)\n",
    "- [6. Type-based Dispatch](#6.-Type-based-Dispatch)\n",
    "- [7. Polymorphism](#7.-Polymorphism)\n",
    "- [8. Interface and Implementation](#8.-Interface-and-Implementation)\n",
    "- [9. Summary](#9.-Summary)"
   ]
  },
  {
   "cell_type": "markdown",
   "metadata": {
    "slideshow": {
     "slide_type": "slide"
    }
   },
   "source": [
    "\n",
    "## 1. Introduction\n",
    "\n",
    "We will continue with defining methods in classes. We will focus on more advanced object-oriented features related to methods. We will also show how to ensure that arguments of methods have correct values. "
   ]
  },
  {
   "cell_type": "markdown",
   "metadata": {},
   "source": [
    "## 2. Positional arguments vs keyword arguments\n",
    "\n",
    "Additionally, arguments when calling a function or method can be either **positional arguments** or **keyword arguments**.\n",
    "- A *positional argument* does not have a parameter name. It is called based on the order the parameters were defined for such function or method.\n",
    "- A *keyword argument* uses parameter name (e.g. `param_name=<value>`). It does not rely on the order of the parameters definition.\n",
    "\n",
    "Let us see an example with the `print_time` function."
   ]
  },
  {
   "cell_type": "code",
   "execution_count": null,
   "metadata": {},
   "outputs": [],
   "source": [
    "def print_time(hour: int, minute: int, second: int) -> None:\n",
    "    \"\"\"\n",
    "    Prints the hour, minute and time received as parameters for debug \n",
    "    purposes.\n",
    "    :param hour: integer representing an hour\n",
    "    :param minute: integer representing a minute\n",
    "    :param second: integer representing a second\n",
    "    \"\"\"\n",
    "    print(f'{hour=:0>2} {minute=:0>2} {second=:0>2}')"
   ]
  },
  {
   "cell_type": "markdown",
   "metadata": {},
   "source": [
    "<div class=\"alert alert-info\">\n",
    "    <b>Formatting f-strings</b><br>\n",
    "    Notice that in the previous example we are using f-strings to format the message. On the one hand, each variable within the curly braces <code>{}</code> is succeeded by the character <code>=</code>. This character prints the name of the variable, the <code>=</code> symbol, and tha value stored in the variable (e.g. <code>hour=10</code>). <br>\n",
    "    On the other hand, the expression <code>0>2</code> comes after the colon (<code>:</code>), and reads as \"show two digits and if the value only has one, add one zero at the beginning\". <br>\n",
    "    If you want to know more about f-strings formatting, please visit the <a href=\"https://peps.python.org/pep-0498/\">official documentation</a>.\n",
    "</div>\n",
    "\n",
    "In the following cell, we make use of **only positional arguments**.\n",
    "We want to print the time \"10:05:02\"."
   ]
  },
  {
   "cell_type": "code",
   "execution_count": null,
   "metadata": {},
   "outputs": [],
   "source": [
    "print_time(10, 5, 2)"
   ]
  },
  {
   "cell_type": "markdown",
   "metadata": {},
   "source": [
    "We can also make use of **only keyword arguments**, as follows."
   ]
  },
  {
   "cell_type": "code",
   "execution_count": null,
   "metadata": {},
   "outputs": [],
   "source": [
    "print_time(hour=10, minute=5, second=2)"
   ]
  },
  {
   "cell_type": "markdown",
   "metadata": {},
   "source": [
    "The advantage of using **keyword arguments** is that we can also **swap the order of the arguments**!"
   ]
  },
  {
   "cell_type": "code",
   "execution_count": null,
   "metadata": {},
   "outputs": [],
   "source": [
    "print_time(second=2, hour=10, minute=5)"
   ]
  },
  {
   "cell_type": "markdown",
   "metadata": {},
   "source": [
    "We can also **combine positional and keyword arguments** in the same call.\n",
    "For instance, in the next cell, we pass the hours as a positional argument, and the rest as keyword arguments.\n",
    "Notice that the keyword arguments do not follow the original order of the parameters definition!"
   ]
  },
  {
   "cell_type": "code",
   "execution_count": null,
   "metadata": {},
   "outputs": [],
   "source": [
    "print_time(10, second=2, minute=5)"
   ]
  },
  {
   "cell_type": "markdown",
   "metadata": {},
   "source": [
    "But, beware! If you combine both positional and keyword arguments, ensure the **first arguments are always positional and follow the parameter definition order**, otherwise you will get an error."
   ]
  },
  {
   "cell_type": "code",
   "execution_count": null,
   "metadata": {},
   "outputs": [],
   "source": [
    "print_time(5, second=2, hour=10)"
   ]
  },
  {
   "cell_type": "markdown",
   "metadata": {},
   "source": [
    "## 3. Invariants\n",
    "\n",
    "A `Time` object is well-formed if the values of `minute` and `second` are between 0 and 60\n",
    "(including 0 but not 60) and if the value of `hour` is between 0 and 24.\n",
    "Requirements like these are called **invariants** because they should always be true. \n",
    "To put it a different way, if they are not true, something has gone wrong.\n",
    "\n",
    "Writing code to check invariants can help detect errors and find their causes. \n",
    "The next cell contains the function `valid_time` that takes a `Time` object and returns `False` if it\n",
    "violates an **invariant**."
   ]
  },
  {
   "cell_type": "code",
   "execution_count": null,
   "metadata": {},
   "outputs": [],
   "source": [
    "class Time:\n",
    "    \"\"\"\n",
    "    Represents the time of day.\n",
    "    attributes: hour, minute, second\n",
    "    \"\"\"\n",
    "    \n",
    "    def __init__(self, hour: int = 0, minute: int = 0, second: int = 0) -> None:\n",
    "        \"\"\" \n",
    "        Initializes a Time object.\n",
    "        :param hour: integer value for hour\n",
    "        :param minute: integer value for minute\n",
    "        :param second: integer value for second\n",
    "        \"\"\"\n",
    "        self.hour: int = hour\n",
    "        self.minute: int = minute\n",
    "        self.second: int = second\n",
    "            \n",
    "    def __str__(self) -> str:\n",
    "        \"\"\" \n",
    "        Returns a string representation of the Time object.\n",
    "        :returns: string representation of the Time object.\n",
    "        \"\"\"\n",
    "        return '{:02d}:{:02d}:{:02d}'.format(self.hour, self.minute, self.second)\n",
    "      \n",
    "#...\n",
    "\n",
    "    def time_to_int(self) -> int:\n",
    "        \"\"\" \n",
    "        Converts a Time object into an integer value representing seconds.\n",
    "        :param time: a Time object to be converted\n",
    "        :returns: number of seconds as an integer value.\n",
    "        \"\"\"\n",
    "        minutes: int = 60 * self.hour + self.minute\n",
    "        seconds: int = 60 * minutes + self.second\n",
    "        return seconds\n",
    "    \n",
    "    def increment(self, seconds: int) -> 'Time':\n",
    "        \"\"\" \n",
    "        Adds seconds to a Time object.\n",
    "        :param time: a Time object\n",
    "        :param seconds: number of seconds to be added\n",
    "        :returns: a Time object increased by seconds.\n",
    "        \"\"\"\n",
    "        seconds += self.time_to_int()\n",
    "        return Time.int_to_time(seconds)\n",
    "    \n",
    "    def is_after(self, other) -> bool:\n",
    "        \"\"\" \n",
    "        Returns a Boolean to indicate whether the current object is greater \n",
    "        than another one.\n",
    "        :param other: another Time object\n",
    "        :returns: `True` if the current object is greater than time2, \n",
    "            `False` otherwise.\n",
    "        \"\"\"\n",
    "        return self.time_to_int() > other.time_to_int()\n",
    "    \n",
    "    def valid_time(self) -> bool:\n",
    "        \"\"\" \n",
    "        Checks whether we are dealing with a correct Time object. That is,\n",
    "        minutes and seconds are between [0, 60) and hours are between [0, 24).\n",
    "        :param time: Time object to be checked\n",
    "        :returns: `True` if the time is valid, `False` otherwise.\n",
    "        \"\"\"\n",
    "        valid = True\n",
    "    \n",
    "        if self.hour < 0 or self.minute < 0 or self.second < 0:\n",
    "            valid = False\n",
    "        if self.hour >= 24 or self.minute >= 60 or self.second >= 60:\n",
    "            valid = False\n",
    "        \n",
    "        return valid\n",
    "\n",
    "    @staticmethod\n",
    "    def int_to_time(seconds: int) -> 'Time':\n",
    "        \"\"\" \n",
    "        Converts an integer value representing seconds into a Time object.\n",
    "        :param seconds: as Integer value\n",
    "        :returns: a Time object.\n",
    "        \"\"\"\n",
    "        time: Time = Time()\n",
    "        minutes, time.second = divmod(seconds, 60)\n",
    "        hours, time.minute = divmod(minutes, 60)\n",
    "        _, time.hour = divmod(hours, 24)\n",
    "    \n",
    "        return time"
   ]
  },
  {
   "cell_type": "markdown",
   "metadata": {
    "slideshow": {
     "slide_type": "fragment"
    },
    "tags": []
   },
   "source": [
    "At the beginning of each function you could check the arguments to make sure they are\n",
    "valid."
   ]
  },
  {
   "cell_type": "code",
   "execution_count": null,
   "metadata": {
    "slideshow": {
     "slide_type": "fragment"
    }
   },
   "outputs": [],
   "source": [
    "def add_time(t1: Time, t2: Time) -> Time:\n",
    "    \"\"\" \n",
    "    Returns a new Time object containing the sum of two Time objects.\n",
    "    :param time1: a Time object\n",
    "    :param time2: a Time object\n",
    "    :returns: a Time object containing the sum of two Time objects.\n",
    "    \"\"\"\n",
    "    if not t1.valid_time() or not t2.valid_time():\n",
    "        raise ValueError('Invalid Time object in add_time')\n",
    "        \n",
    "    seconds: int = t1.time_to_int() + t2.time_to_int()\n",
    "    return Time.int_to_time(seconds)"
   ]
  },
  {
   "cell_type": "markdown",
   "metadata": {
    "slideshow": {
     "slide_type": "fragment"
    }
   },
   "source": [
    "Or you could use an **assert statement**, which checks a given invariant and raises an exception\n",
    "if it fails.\n",
    "This alternative is useful during the development process but not necessarily to inform your users about a mistake on the use of your program."
   ]
  },
  {
   "cell_type": "code",
   "execution_count": null,
   "metadata": {
    "slideshow": {
     "slide_type": "fragment"
    }
   },
   "outputs": [],
   "source": [
    "def add_time(t1: Time, t2: Time) -> Time:\n",
    "    \"\"\" \n",
    "    Returns a new Time object containing the sum of two Time objects.\n",
    "    :param time1: a Time object\n",
    "    :param time2: a Time object\n",
    "    :returns: a Time object containing the sum of two Time objects.\n",
    "    \"\"\"\n",
    "    assert t1.valid_time() and t2.valid_time(), 'Invalid Time object in add_time'\n",
    "    \n",
    "    seconds: int = t1.time_to_int() + t2.time_to_int()\n",
    "    return Time.int_to_time(seconds)"
   ]
  },
  {
   "cell_type": "markdown",
   "metadata": {},
   "source": [
    "## 4. More Advanced `__init__` Method"
   ]
  },
  {
   "cell_type": "markdown",
   "metadata": {},
   "source": [
    "Consider the following cell which contains a rather strange initialisation of an object `Time`."
   ]
  },
  {
   "cell_type": "code",
   "execution_count": null,
   "metadata": {
    "slideshow": {
     "slide_type": "fragment"
    }
   },
   "outputs": [],
   "source": [
    "start: Time = Time()\n",
    "print(start)\n",
    "\n",
    "end: Time = Time(25, 43, 51)\n",
    "print(end)"
   ]
  },
  {
   "cell_type": "markdown",
   "metadata": {
    "slideshow": {
     "slide_type": "fragment"
    }
   },
   "source": [
    "As you can see, this results in an invalid time representation!\n",
    "\n",
    "Here are two alternative implementations for `__init__`."
   ]
  },
  {
   "cell_type": "code",
   "execution_count": null,
   "metadata": {},
   "outputs": [],
   "source": [
    "class Time:\n",
    "    \"\"\"\n",
    "    Represents the time of day.\n",
    "    attributes: hour, minute, second\n",
    "    \"\"\"\n",
    "    \n",
    "    def __init__(self, hour: int = 0, minute: int = 0, second: int = 0) -> None:\n",
    "        \"\"\" \n",
    "        Initializes a Time object if valid values are provided. That is,\n",
    "        0 <= hour < 24, 0 <= minute < 60, and 0 <= second < 60.\n",
    "        :param hour: integer value for hour\n",
    "        :param minute: integer value for minute\n",
    "        :param second: integer value for second\n",
    "        \"\"\"\n",
    "        if (0 <= hour < 24 and 0 <= minute < 60 and 0 <= second < 60):\n",
    "            self.hour: int = hour\n",
    "            self.minute: int = minute\n",
    "            self.second: int = second\n",
    "        else:\n",
    "            raise ValueError('Trying to create an invalid time representation!')\n",
    "            \n",
    "    def __str__(self) -> str:\n",
    "        \"\"\" \n",
    "        Returns a string representation of the Time object.\n",
    "        :returns: string representation of the Time object.\n",
    "        \"\"\"\n",
    "        return '{:02d}:{:02d}:{:02d}'.format(self.hour, self.minute, self.second)\n",
    "        \n",
    "#...\n",
    "        \n",
    "    def time_to_int(self) -> int:\n",
    "        \"\"\" \n",
    "        Converts a Time object into an integer value representing seconds.\n",
    "        :param time: a Time object to be converted\n",
    "        :returns: number of seconds as an integer value.\n",
    "        \"\"\"\n",
    "        minutes: int = 60 * self.hour + self.minute\n",
    "        seconds: int = 60 * minutes + self.second\n",
    "        return seconds\n",
    "    \n",
    "    def increment(self, seconds: int) -> 'Time':\n",
    "        \"\"\" \n",
    "        Adds seconds to a Time object.\n",
    "        :param time: a Time object\n",
    "        :param seconds: number of seconds to be added\n",
    "        :returns: a Time object increased by seconds.\n",
    "        \"\"\"\n",
    "        seconds += self.time_to_int()\n",
    "        return Time.int_to_time(seconds)\n",
    "    \n",
    "    def is_after(self, other) -> bool:\n",
    "        \"\"\" \n",
    "        Returns a Boolean to indicate whether the current object is greater \n",
    "        than another one.\n",
    "        :param other: another Time object\n",
    "        :returns: `True` if the current object is greater than time2, \n",
    "            `False` otherwise.\n",
    "        \"\"\"\n",
    "        return self.time_to_int() > other.time_to_int()\n",
    "\n",
    "    @staticmethod\n",
    "    def int_to_time(seconds: int) -> 'Time':\n",
    "        \"\"\" \n",
    "        Converts an integer value representing seconds into a Time object.\n",
    "        :param seconds: as Integer value\n",
    "        :returns: a Time object.\n",
    "        \"\"\"\n",
    "        time: Time = Time()\n",
    "        minutes, time.second = divmod(seconds, 60)\n",
    "        hours, time.minute = divmod(minutes, 60)\n",
    "        _, time.hour = divmod(hours, 24)\n",
    "    \n",
    "        return time"
   ]
  },
  {
   "cell_type": "markdown",
   "metadata": {
    "slideshow": {
     "slide_type": "fragment"
    }
   },
   "source": [
    "Or:"
   ]
  },
  {
   "cell_type": "code",
   "execution_count": null,
   "metadata": {},
   "outputs": [],
   "source": [
    "class Time:\n",
    "    \"\"\"\n",
    "    Represents the time of day.\n",
    "    attributes: hour, minute, second\n",
    "    \"\"\"\n",
    "    \n",
    "    def __init__(self, hour: int = 0, minute: int = 0, second: int = 0) -> None:\n",
    "        \"\"\" \n",
    "        Initializes a Time object. It ensures that a valid time is created. \n",
    "        That is, 0 <= hour < 24, 0 <= minute < 60, and 0 <= second < 60.\n",
    "        :param hour: integer value for hour\n",
    "        :param minute: integer value for minute\n",
    "        :param second: integer value for second\n",
    "        \"\"\"\n",
    "        (ignore, self.hour) = divmod(hour, 24)\n",
    "        (ignore, self.minute) = divmod(minute, 60)\n",
    "        (ignore, self.second) = divmod(second, 60)\n",
    "            \n",
    "    def __str__(self) -> str:\n",
    "        \"\"\" \n",
    "        Returns a string representation of the Time object.\n",
    "        :returns: string representation of the Time object.\n",
    "        \"\"\"\n",
    "        return '{:02d}:{:02d}:{:02d}'.format(self.hour, self.minute, self.second)\n",
    "\n",
    "#...\n",
    "\n",
    "    def time_to_int(self) -> int:\n",
    "        \"\"\" \n",
    "        Converts a Time object into an integer value representing seconds.\n",
    "        :param time: a Time object to be converted\n",
    "        :returns: number of seconds as an integer value.\n",
    "        \"\"\"\n",
    "        minutes: int = 60 * self.hour + self.minute\n",
    "        seconds: int = 60 * minutes + self.second\n",
    "        return seconds\n",
    "    \n",
    "    def increment(self, seconds: int) -> 'Time':\n",
    "        \"\"\" \n",
    "        Adds seconds to a Time object.\n",
    "        :param time: a Time object\n",
    "        :param seconds: number of seconds to be added\n",
    "        :returns: a Time object increased by seconds.\n",
    "        \"\"\"\n",
    "        seconds += self.time_to_int()\n",
    "        return Time.int_to_time(seconds)\n",
    "    \n",
    "    def is_after(self, other) -> bool:\n",
    "        \"\"\" \n",
    "        Returns a Boolean to indicate whether the current object is greater \n",
    "        than another one.\n",
    "        :param other: another Time object\n",
    "        :returns: `True` if the current object is greater than time2, \n",
    "            `False` otherwise.\n",
    "        \"\"\"\n",
    "        return self.time_to_int() > other.time_to_int()\n",
    "\n",
    "    @staticmethod\n",
    "    def int_to_time(seconds: int) -> 'Time':\n",
    "        \"\"\" \n",
    "        Converts an integer value representing seconds into a Time object.\n",
    "        :param seconds: as Integer value\n",
    "        :returns: a Time object.\n",
    "        \"\"\"\n",
    "        time: Time = Time()\n",
    "        minutes, time.second = divmod(seconds, 60)\n",
    "        hours, time.minute = divmod(minutes, 60)\n",
    "        _, time.hour = divmod(hours, 24)\n",
    "    \n",
    "        return time"
   ]
  },
  {
   "cell_type": "code",
   "execution_count": null,
   "metadata": {
    "slideshow": {
     "slide_type": "fragment"
    }
   },
   "outputs": [],
   "source": [
    "start: Time = Time()\n",
    "print(start)\n",
    "\n",
    "end: Time = Time(25, 43, 51)\n",
    "print(end)"
   ]
  },
  {
   "cell_type": "markdown",
   "metadata": {
    "slideshow": {
     "slide_type": "fragment"
    }
   },
   "source": [
    "Given that we defined **default values** for the parameters, if you provide only one argument, it will override the default value of `hour`."
   ]
  },
  {
   "cell_type": "code",
   "execution_count": null,
   "metadata": {
    "slideshow": {
     "slide_type": "fragment"
    }
   },
   "outputs": [],
   "source": [
    "start: Time = Time(9)\n",
    "print(start)"
   ]
  },
  {
   "cell_type": "markdown",
   "metadata": {
    "slideshow": {
     "slide_type": "fragment"
    }
   },
   "source": [
    "If you provide two arguments, it overrides the default values of `hour` and `minutes`."
   ]
  },
  {
   "cell_type": "code",
   "execution_count": null,
   "metadata": {
    "slideshow": {
     "slide_type": "fragment"
    }
   },
   "outputs": [],
   "source": [
    "start: Time = Time(9, 45)\n",
    "print(start)"
   ]
  },
  {
   "cell_type": "markdown",
   "metadata": {
    "slideshow": {
     "slide_type": "fragment"
    }
   },
   "source": [
    "If you provide all three arguments, they override all three default values."
   ]
  },
  {
   "cell_type": "markdown",
   "metadata": {
    "tags": []
   },
   "source": [
    "<div class=\"alert alert-success\">\n",
    "    <b>Do It Yourself!</b><br>\n",
    "    Do you remember the <i>Dog</i> class? Well, let's define it again but this time you should provide a constructor. The attributes of a dog are its name and its breed.\n",
    "</div>"
   ]
  },
  {
   "cell_type": "code",
   "execution_count": null,
   "metadata": {
    "jupyter": {
     "source_hidden": true
    },
    "tags": []
   },
   "outputs": [],
   "source": [
    "# Remove this line and add your code here"
   ]
  },
  {
   "cell_type": "markdown",
   "metadata": {
    "slideshow": {
     "slide_type": "slide"
    },
    "tags": []
   },
   "source": [
    "## 5. Operator Overloading\n",
    "\n",
    "By defining other special methods, you can specify the behavior of operators on\n",
    "programmer-defined types. \n",
    "\n",
    "For example, if you define a method named `__add__` for the\n",
    "`Time` class, you can use the `+` operator on `Time` objects."
   ]
  },
  {
   "cell_type": "code",
   "execution_count": null,
   "metadata": {},
   "outputs": [],
   "source": [
    "class Time:\n",
    "    \"\"\"\n",
    "    Represents the time of day.\n",
    "    attributes: hour, minute, second\n",
    "    \"\"\"\n",
    "    \n",
    "    def __init__(self, hour: int = 0, minute: int = 0, second: int = 0) -> None:\n",
    "        \"\"\" \n",
    "        Initializes a Time object. It ensures that a valid time is created. \n",
    "        That is, 0 <= hour < 24, 0 <= minute < 60, and 0 <= second < 60.\n",
    "        :param hour: integer value for hour\n",
    "        :param minute: integer value for minute\n",
    "        :param second: integer value for second\n",
    "        \"\"\"\n",
    "        (ignore, self.hour) = divmod(hour, 24)\n",
    "        (ignore, self.minute) = divmod(minute, 60)\n",
    "        (ignore, self.second) = divmod(second, 60)\n",
    "            \n",
    "    def __str__(self) -> str:\n",
    "        \"\"\" \n",
    "        Returns a string representation of the Time object.\n",
    "        :returns: string representation of the Time object.\n",
    "        \"\"\"\n",
    "        return '{:02d}:{:02d}:{:02d}'.format(self.hour, self.minute, self.second)\n",
    "\n",
    "#...    \n",
    "    \n",
    "    def time_to_int(self) -> int:\n",
    "        \"\"\" \n",
    "        Converts a Time object into an integer value representing seconds.\n",
    "        :param time: a Time object to be converted\n",
    "        :returns: number of seconds as an integer value.\n",
    "        \"\"\"\n",
    "        minutes: int = 60 * self.hour + self.minute\n",
    "        seconds: int = 60 * minutes + self.second\n",
    "        return seconds\n",
    "    \n",
    "    def increment(self, seconds: int) -> 'Time':\n",
    "        \"\"\" \n",
    "        Adds seconds to a Time object.\n",
    "        :param time: a Time object\n",
    "        :param seconds: number of seconds to be added\n",
    "        :returns: a Time object increased by seconds.\n",
    "        \"\"\"\n",
    "        seconds += self.time_to_int()\n",
    "        return Time.int_to_time(seconds)\n",
    "    \n",
    "    def is_after(self, other) -> bool:\n",
    "        \"\"\" \n",
    "        Returns a Boolean to indicate whether the current object is greater \n",
    "        than another one.\n",
    "        :param other: another Time object\n",
    "        :returns: `True` if the current object is greater than time2, \n",
    "            `False` otherwise.\n",
    "        \"\"\"\n",
    "        return self.time_to_int() > other.time_to_int()\n",
    "\n",
    "    def __add__(self, other) -> 'Time':\n",
    "        \"\"\" \n",
    "        Adds a Time object to the current Time object.\n",
    "        :param other: the Time object to be added to the current one\n",
    "        :returns: a Time object.\n",
    "        \"\"\"\n",
    "        seconds: int = self.time_to_int() + other.time_to_int()\n",
    "        return Time.int_to_time(seconds)\n",
    "    \n",
    "    @staticmethod\n",
    "    def int_to_time(seconds: int) -> 'Time':\n",
    "        \"\"\" \n",
    "        Converts an integer value representing seconds into a Time object.\n",
    "        :param seconds: as Integer value\n",
    "        :returns: a Time object.\n",
    "        \"\"\"\n",
    "        time: Time = Time()\n",
    "        minutes, time.second = divmod(seconds, 60)\n",
    "        hours, time.minute = divmod(minutes, 60)\n",
    "        _, time.hour = divmod(hours, 24)\n",
    "    \n",
    "        return time"
   ]
  },
  {
   "cell_type": "code",
   "execution_count": null,
   "metadata": {
    "slideshow": {
     "slide_type": "fragment"
    }
   },
   "outputs": [],
   "source": [
    "start: Time = Time(9, 45, 30)\n",
    "duration: Time = Time(0, 15, 30)\n",
    "print(start + duration)"
   ]
  },
  {
   "cell_type": "markdown",
   "metadata": {
    "slideshow": {
     "slide_type": "fragment"
    }
   },
   "source": [
    "When you apply the `+` operator to `Time` objects, Python invokes the `__add__` method under the hood.\n",
    "Something similar happens when you print a value; Python invokes the `__str__` method. \n",
    "\n",
    "Changing the behavior of an operator so that it works with programmer-defined types is\n",
    "called **operator overloading**. \n",
    "For every operator (e.g. `<`, `==`, `>=`, `*`) in Python there is a corresponding special method, like `__add__`. \n",
    "For more details, see [the official documentation](http://docs.python.org/3/reference/datamodel.html#specialnames)."
   ]
  },
  {
   "cell_type": "markdown",
   "metadata": {
    "tags": []
   },
   "source": [
    "<div class=\"alert alert-success\">\n",
    "    <b>Do It Yourself!</b><br>\n",
    "    Overload the &gt; operator for the <i>Time</i> class. Use the definition provided for the method <i>is_after</i>.\n",
    "</div>"
   ]
  },
  {
   "cell_type": "code",
   "execution_count": null,
   "metadata": {
    "jupyter": {
     "source_hidden": true
    },
    "tags": []
   },
   "outputs": [],
   "source": [
    "# Remove this line and add your code here"
   ]
  },
  {
   "cell_type": "markdown",
   "metadata": {
    "slideshow": {
     "slide_type": "slide"
    }
   },
   "source": [
    "## 6. Type-based Dispatch\n",
    "\n",
    "The `__add__` method introduced in the previous section, adds two `Time` objects. \n",
    "It would be convenient to use the `__add__` method to add an integer value (representing a number of seconds) to a `Time` object.\n",
    "\n",
    "The following is a version of `__add__` that checks the type of the parameter\n",
    "`other` and invokes either `add_time` or `increment`."
   ]
  },
  {
   "cell_type": "code",
   "execution_count": null,
   "metadata": {},
   "outputs": [],
   "source": [
    "class Time:\n",
    "    \"\"\"\n",
    "    Represents the time of day.\n",
    "    attributes: hour, minute, second\n",
    "    \"\"\"\n",
    "    \n",
    "    def __init__(self, hour: int = 0, minute: int = 0, second: int = 0) -> None:\n",
    "        \"\"\" \n",
    "        Initializes a Time object. It ensures that a valid time is created. \n",
    "        That is, 0 <= hour < 24, 0 <= minute < 60, and 0 <= second < 60.\n",
    "        :param hour: integer value for hour\n",
    "        :param minute: integer value for minute\n",
    "        :param second: integer value for second\n",
    "        \"\"\"\n",
    "        (ignore, self.hour) = divmod(hour, 24)\n",
    "        (ignore, self.minute) = divmod(minute, 60)\n",
    "        (ignore, self.second) = divmod(second, 60)\n",
    "            \n",
    "    def __str__(self) -> str:\n",
    "        \"\"\" \n",
    "        Returns a string representation of the Time object.\n",
    "        :returns: string representation of the Time object.\n",
    "        \"\"\"\n",
    "        return '{:02d}:{:02d}:{:02d}'.format(self.hour, self.minute, self.second)\n",
    "\n",
    "#...\n",
    "\n",
    "    def time_to_int(self) -> int:\n",
    "        \"\"\" \n",
    "        Converts a Time object into an integer value representing seconds.\n",
    "        :param time: a Time object to be converted\n",
    "        :returns: number of seconds as an integer value.\n",
    "        \"\"\"\n",
    "        minutes: int = 60 * self.hour + self.minute\n",
    "        seconds: int = 60 * minutes + self.second\n",
    "        return seconds\n",
    "    \n",
    "    def increment(self, seconds: int) -> 'Time':\n",
    "        \"\"\" \n",
    "        Adds seconds to a Time object.\n",
    "        :param time: a Time object\n",
    "        :param seconds: number of seconds to be added\n",
    "        :returns: a Time object increased by seconds.\n",
    "        \"\"\"\n",
    "        seconds += self.time_to_int()\n",
    "        return Time.int_to_time(seconds)\n",
    "    \n",
    "    def is_after(self, other) -> bool:\n",
    "        \"\"\" \n",
    "        Returns a Boolean to indicate whether the current object is greater \n",
    "        than another one.\n",
    "        :param other: another Time object\n",
    "        :returns: `True` if the current object is greater than time2, \n",
    "            `False` otherwise.\n",
    "        \"\"\"\n",
    "        return self.time_to_int() > other.time_to_int()\n",
    "\n",
    "    def add_time(self, other) -> 'Time':\n",
    "        \"\"\" \n",
    "        Adds a Time object to the current Time object.\n",
    "        :param other: the Time object to be added to the current one\n",
    "        :returns: a Time object.\n",
    "        \"\"\"\n",
    "        seconds: int = self.time_to_int() + other.time_to_int()\n",
    "        return Time.int_to_time(seconds)\n",
    "    \n",
    "    def __add__(self, other : any) -> 'Time':\n",
    "        \"\"\" \n",
    "        Adds a Time object or a number of seconds to the current Time object.\n",
    "        :param other: the Time object or number of seconds to be added \n",
    "            to the current one.\n",
    "        :returns: a Time object.\n",
    "        \"\"\"\n",
    "        if isinstance(other, Time):\n",
    "            return self.add_time(other)\n",
    "        else:\n",
    "            return self.increment(other)\n",
    "    \n",
    "    @staticmethod\n",
    "    def int_to_time(seconds: int) -> 'Time':\n",
    "        \"\"\" \n",
    "        Converts an integer value representing seconds into a Time object.\n",
    "        :param seconds: as Integer value\n",
    "        :returns: a Time object.\n",
    "        \"\"\"\n",
    "        time: Time = Time()\n",
    "        minutes, time.second = divmod(seconds, 60)\n",
    "        hours, time.minute = divmod(minutes, 60)\n",
    "        _, time.hour = divmod(hours, 24)\n",
    "    \n",
    "        return time"
   ]
  },
  {
   "cell_type": "markdown",
   "metadata": {
    "slideshow": {
     "slide_type": "fragment"
    }
   },
   "source": [
    "The type-hint of the second argument of the method `__add__` is `any`. The reason is that we do not know in advance what the exact type will be, either an Time object or an integer value.\n",
    "\n",
    "- The built-in function `isinstance` takes a value and a class object, and returns `True` if the value is an instance of the class.\n",
    "- If `other` is a `Time` object, `__add__` calls `add_time`. \n",
    "- Otherwise, it assumes that the parameter is a number and calls `increment`.\n",
    "\n",
    "This operation is called a **type-based dispatch** because it dispatches the computation to different methods based on the type of the arguments.\n",
    "In object-oriented languages this is a common concept; another name is **dynamic dispatch**."
   ]
  },
  {
   "cell_type": "code",
   "execution_count": null,
   "metadata": {
    "slideshow": {
     "slide_type": "fragment"
    }
   },
   "outputs": [],
   "source": [
    "start: Time = Time(9, 45, 30)\n",
    "print(start + 3600)\n",
    "\n",
    "duration: Time = Time(2)\n",
    "print(start + duration)"
   ]
  },
  {
   "cell_type": "markdown",
   "metadata": {
    "jupyter": {
     "source_hidden": true
    },
    "tags": []
   },
   "source": [
    "<div class=\"alert alert-success\">\n",
    "    <b>Do It Yourself!</b><br>\n",
    "    Modify the definition of the &gt; operator for the <i>Time</i> class, so it also compares the Time object against an integer. Use the <i>time_to_int()</i> method to support the comparison.\n",
    "</div>"
   ]
  },
  {
   "cell_type": "code",
   "execution_count": null,
   "metadata": {
    "jupyter": {
     "source_hidden": true
    },
    "tags": []
   },
   "outputs": [],
   "source": [
    "# Remove this line and add your code here"
   ]
  },
  {
   "cell_type": "markdown",
   "metadata": {
    "slideshow": {
     "slide_type": "fragment"
    }
   },
   "source": [
    "Unfortunately, this implementation of addition is not commutative. If the integer is the\n",
    "first operand, you get an error message."
   ]
  },
  {
   "cell_type": "code",
   "execution_count": null,
   "metadata": {
    "slideshow": {
     "slide_type": "fragment"
    }
   },
   "outputs": [],
   "source": [
    "print(3630 + start)"
   ]
  },
  {
   "cell_type": "markdown",
   "metadata": {
    "slideshow": {
     "slide_type": "fragment"
    }
   },
   "source": [
    "The problem is, instead of asking the `Time` object to add an integer, Python is asking an\n",
    "integer to add a `Time` object, and it does not know how. \n",
    "\n",
    "But there is a clever solution for this problem: the special method `__radd__`, which stands for “right-side add”. \n",
    "This method\n",
    "is invoked when a `Time` object appears on the right side of the `+` operator. "
   ]
  },
  {
   "cell_type": "code",
   "execution_count": null,
   "metadata": {},
   "outputs": [],
   "source": [
    "class Time:\n",
    "    \"\"\"\n",
    "    Represents the time of day.\n",
    "    attributes: hour, minute, second\n",
    "    \"\"\"\n",
    "    \n",
    "    def __init__(self, hour: int = 0, minute: int = 0, second: int = 0) -> None:\n",
    "        \"\"\" \n",
    "        Initializes a Time object. It ensures that a valid time is created. \n",
    "        That is, 0 <= hour < 24, 0 <= minute < 60, and 0 <= second < 60.\n",
    "        :param hour: integer value for hour\n",
    "        :param minute: integer value for minute\n",
    "        :param second: integer value for second\n",
    "        \"\"\"\n",
    "        (ignore, self.hour) = divmod(hour, 24)\n",
    "        (ignore, self.minute) = divmod(minute, 60)\n",
    "        (ignore, self.second) = divmod(second, 60)\n",
    "            \n",
    "    def __str__(self) -> str:\n",
    "        \"\"\" \n",
    "        Returns a string representation of the Time object.\n",
    "        :returns: string representation of the Time object.\n",
    "        \"\"\"\n",
    "        return '{:02d}:{:02d}:{:02d}'.format(self.hour, self.minute, self.second)\n",
    "\n",
    "#...    \n",
    "    \n",
    "    def time_to_int(self) -> int:\n",
    "        \"\"\" \n",
    "        Converts a Time object into an integer value representing seconds.\n",
    "        :param time: a Time object to be converted\n",
    "        :returns: number of seconds as an integer value.\n",
    "        \"\"\"\n",
    "        minutes: int = 60 * self.hour + self.minute\n",
    "        seconds: int = 60 * minutes + self.second\n",
    "        return seconds\n",
    "    \n",
    "    def increment(self, seconds: int) -> 'Time':\n",
    "        \"\"\" \n",
    "        Adds seconds to a Time object.\n",
    "        :param time: a Time object\n",
    "        :param seconds: number of seconds to be added\n",
    "        :returns: a Time object increased by seconds.\n",
    "        \"\"\"\n",
    "        seconds += self.time_to_int()\n",
    "        return Time.int_to_time(seconds)\n",
    "    \n",
    "    def is_after(self, other) -> bool:\n",
    "        \"\"\" \n",
    "        Returns a Boolean to indicate whether the current object is greater \n",
    "        than another one.\n",
    "        :param other: another Time object\n",
    "        :returns: `True` if the current object is greater than time2, \n",
    "            `False` otherwise.\n",
    "        \"\"\"\n",
    "        return self.time_to_int() > other.time_to_int()\n",
    "\n",
    "    def add_time(self, other) -> 'Time':\n",
    "        \"\"\" \n",
    "        Adds a Time object to the current Time object.\n",
    "        :param other: the Time object to be added to the current one\n",
    "        :returns: a Time object.\n",
    "        \"\"\"\n",
    "        seconds: int = self.time_to_int() + other.time_to_int()\n",
    "        return Time.int_to_time(seconds)\n",
    "    \n",
    "    def __add__(self, other : any) -> 'Time':\n",
    "        \"\"\" \n",
    "        Adds a Time object or a number of seconds to the current Time object.\n",
    "        :param other: the Time object or number of seconds to be added \n",
    "            to the current one\n",
    "        :returns: a Time object.\n",
    "        \"\"\"\n",
    "        if isinstance(other, Time):\n",
    "            return self.add_time(other)\n",
    "        else:\n",
    "            return self.increment(other)\n",
    "    \n",
    "    def __radd__(self, other: any) -> 'Time':\n",
    "        \"\"\" \n",
    "        Reverse the arguments and adds the Time object or seconds to the \n",
    "        current object.\n",
    "        :param other: the Time object or number of seconds to be added \n",
    "            to the current one\n",
    "        :returns: a Time object.\n",
    "        \"\"\"\n",
    "        return self.__add__(other)\n",
    "    \n",
    "    @staticmethod\n",
    "    def int_to_time(seconds: int) -> 'Time':\n",
    "        \"\"\" \n",
    "        Converts an integer value representing seconds into a Time object.\n",
    "        :param seconds: as Integer value\n",
    "        :returns: a Time object.\n",
    "        \"\"\"\n",
    "        time: Time = Time()\n",
    "        minutes, time.second = divmod(seconds, 60)\n",
    "        hours, time.minute = divmod(minutes, 60)\n",
    "        _, time.hour = divmod(hours, 24)\n",
    "    \n",
    "        return time"
   ]
  },
  {
   "cell_type": "code",
   "execution_count": null,
   "metadata": {},
   "outputs": [],
   "source": [
    "start: Time = Time(9, 45, 30)\n",
    "print(start + 3600)\n",
    "print(3600 + start)\n",
    "\n",
    "duration: Time = Time(2)\n",
    "print(start + duration)\n",
    "print(duration + start)"
   ]
  },
  {
   "cell_type": "markdown",
   "metadata": {
    "slideshow": {
     "slide_type": "slide"
    }
   },
   "source": [
    "## 7. Polymorphism\n",
    "\n",
    "Type-based dispatch is useful when it is necessary, but (fortunately) it is not always the case.\n",
    "Often you can avoid it by writing functions that work correctly for arguments with different types.\n",
    "Many of the functions we wrote for strings also work for other sequence types. \n",
    "\n",
    "In previous examples, we used the `histogram` to count the number of times each letter appears in a word."
   ]
  },
  {
   "cell_type": "code",
   "execution_count": null,
   "metadata": {
    "slideshow": {
     "slide_type": "fragment"
    }
   },
   "outputs": [],
   "source": [
    "from typing import Dict, List\n",
    "\n",
    "def histogram(sequence: List[str]) -> Dict[str, int]:\n",
    "    \"\"\" \n",
    "    Creates a histogram from a list of elements.\n",
    "    :param sequence: input list to count number of element occurrences\n",
    "    :returns: a histogram.\n",
    "    \"\"\"\n",
    "    histogram = dict()\n",
    "    for elem in sequence:\n",
    "        if elem not in histogram:\n",
    "            histogram[elem] = 1\n",
    "        else:\n",
    "            histogram[elem] += 1\n",
    "    return histogram"
   ]
  },
  {
   "cell_type": "markdown",
   "metadata": {
    "slideshow": {
     "slide_type": "fragment"
    }
   },
   "source": [
    "The function `histogram` works on a list of words."
   ]
  },
  {
   "cell_type": "code",
   "execution_count": null,
   "metadata": {
    "slideshow": {
     "slide_type": "fragment"
    }
   },
   "outputs": [],
   "source": [
    "topics: List[str] = ['data', 'science', 'statistics', 'machine', 'learning', 'computer', 'science']\n",
    "histogram(topics)"
   ]
  },
  {
   "cell_type": "markdown",
   "metadata": {
    "slideshow": {
     "slide_type": "fragment"
    }
   },
   "source": [
    "Or on a list of prime numbers."
   ]
  },
  {
   "cell_type": "code",
   "execution_count": null,
   "metadata": {},
   "outputs": [],
   "source": [
    "p: List[int] = [3, 7, 11, 13, 3, 5, 23, 13, 3]\n",
    "histogram(p)"
   ]
  },
  {
   "cell_type": "markdown",
   "metadata": {
    "slideshow": {
     "slide_type": "fragment"
    }
   },
   "source": [
    "Functions that work with several types are called **polymorphic**.\n",
    "\n",
    "Polymorphism can facilitate code reuse.\n",
    "For example, the built-in function `sum`, which adds the elements of a\n",
    "sequence, works as long as the elements of the sequence support addition.\n",
    "Since `Time` objects provide an `add` method, they work with `sum`!"
   ]
  },
  {
   "cell_type": "code",
   "execution_count": null,
   "metadata": {
    "slideshow": {
     "slide_type": "fragment"
    }
   },
   "outputs": [],
   "source": [
    "t1: Time = Time(7, 43)\n",
    "t2: Time = Time(7, 41)\n",
    "t3: Time = Time(7, 37)\n",
    "\n",
    "total_time: Time = sum([t1, t2, t3])\n",
    "print(total_time)\n",
    "\n",
    "total_value: int = sum([3, 7, 11, 13, 3, 5, 23, 13, 3])\n",
    "print(total_value)"
   ]
  },
  {
   "cell_type": "markdown",
   "metadata": {
    "slideshow": {
     "slide_type": "fragment"
    }
   },
   "source": [
    "In general, if all of the operations inside a function work with a given type, the function\n",
    "works with that type."
   ]
  },
  {
   "cell_type": "markdown",
   "metadata": {
    "jupyter": {
     "source_hidden": true
    },
    "tags": []
   },
   "source": [
    "<div class=\"alert alert-success\">\n",
    "    <b>Do It Yourself!</b><br>\n",
    "    Let's analyse the <i>len()</i> function. Create a list of integers and create string. Make sure the list of integers and the string have different variable names. Then call the function with each one of them. Can we say that the <i>len()</i> function is polymorphic or not?\n",
    "</div>"
   ]
  },
  {
   "cell_type": "code",
   "execution_count": null,
   "metadata": {
    "jupyter": {
     "source_hidden": true
    },
    "tags": []
   },
   "outputs": [],
   "source": [
    "# Remove this line and add your code here"
   ]
  },
  {
   "cell_type": "markdown",
   "metadata": {
    "slideshow": {
     "slide_type": "fragment"
    }
   },
   "source": [
    "## 8. Interface and Implementation\n",
    "\n",
    "One of the goals of object-oriented software is to make software more maintainable, which means that you can keep the program working when other parts of the system change, and modify the program to meet new requirements.\n",
    "\n",
    "A design principle that helps achieve that goal is to keep interfaces separate from implementations. This is called **encapsulation**.\n",
    "\n",
    "For objects, that means that the methods a class provides should not depend on how the attributes are represented.\n",
    "For example, in this chapter we developed a class that represents a time of the day. \n",
    "\n",
    "Methods provided by this class include `time_to_int`, `is_after`, and `add_time`.\n",
    "We could implement those methods in several ways. \n",
    "The details of the implementation\n",
    "depend on how we represent time. \n",
    "\n",
    "In this chapter, the attributes of a `Time` object are `hour`,\n",
    "`minute`, and `second`.\n",
    "As an alternative, we could replace these attributes with a single integer representing the\n",
    "number of seconds since midnight. \n",
    "This implementation would make some methods, like\n",
    "`is_after`, easier to write, but it makes other methods harder.\n",
    "\n",
    "After you deploy a new class, you might discover a better implementation. \n",
    "If other parts\n",
    "of the program are using your class, it might be time-consuming and error-prone to change\n",
    "the interface.\n",
    "But if you designed the interface carefully, you can change the implementation without\n",
    "changing the interface, which means that other parts of the program do not have to change."
   ]
  },
  {
   "cell_type": "code",
   "execution_count": null,
   "metadata": {
    "slideshow": {
     "slide_type": "fragment"
    }
   },
   "outputs": [],
   "source": [
    "start : Time = Time(9, 45, 30)\n",
    "print(3630 + start)\n",
    "print(3630 + start + 363)"
   ]
  },
  {
   "cell_type": "markdown",
   "metadata": {},
   "source": [
    "## 9. Summary\n",
    "\n",
    "We focussed on more advanced object-oriented features related to methods. We  also showed how to ensure that arguments of methods have correct values. The advanced features allows you to write concise and re-usable code. It also contributes to developing better understandable code. However, it is important to ensure good documentation and tests to guarantee the code quality."
   ]
  },
  {
   "cell_type": "markdown",
   "metadata": {},
   "source": [
    "---\n",
    "\n",
    "# (End of Notebook)"
   ]
  }
 ],
 "metadata": {
  "kernelspec": {
   "display_name": "Python 3",
   "language": "python",
   "name": "python3"
  },
  "language_info": {
   "codemirror_mode": {
    "name": "ipython",
    "version": 3
   },
   "file_extension": ".py",
   "mimetype": "text/x-python",
   "name": "python",
   "nbconvert_exporter": "python",
   "pygments_lexer": "ipython3",
   "version": "3.11.5"
  }
 },
 "nbformat": 4,
 "nbformat_minor": 4
}
