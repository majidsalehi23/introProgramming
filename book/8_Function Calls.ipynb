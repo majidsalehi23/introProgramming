{
 "cells": [
  {
   "cell_type": "markdown",
   "metadata": {
    "slideshow": {
     "slide_type": "slide"
    }
   },
   "source": [
    "# Function Calls"
   ]
  },
  {
   "cell_type": "code",
   "execution_count": null,
   "metadata": {},
   "outputs": [],
   "source": [
    "from typing import List "
   ]
  },
  {
   "cell_type": "markdown",
   "metadata": {},
   "source": [
	"## Table of Contents\n",
	"\n",
	"- [1. Introduction](#1.-Introduction)\n",
	"- [2. Function Calls](#2.-Function-Calls)\n",
	"- [3. Built-in Functions](#3.-Built-in-Functions)\n",
	"- [4. A Note on Modules and Packages](#4.-A-Note-on-Modules-and-Packages)\n",
	"- [5. Math Functions](#5.-Math-Functions)\n",
	"- [6. Random Numbers](#6.-Random-Numbers)\n",
	"- [7. Composition of Function Calls](#7.-Composition-of-Functions-Calls)\n",
    "- [8. Summary](#8.-Summary)"
   ]
  },
  {
   "cell_type": "markdown",
   "metadata": {
    "slideshow": {
     "slide_type": "slide"
    }
   },
   "source": [
    "## 1. Introduction\n",
    "\n",
    "As your programs start becoming larger and more complex, you will find yourself in situations where you need the same functionality in different places of your code. \n",
    "A simple and straightforward way of doing this is by copying code you have written before and pasting it at the desired location in your program. \n",
    "However, this alternative is not effective nor maintainable in the longer run:\n",
    "The code you are using might need to be modified and you will need to go to each place where you have used it to perform the exact same modification.\n",
    "This is doable if you have the same code in two locations of your program, but what if you have copy-pasted it hundreds of times?\n",
    "\n",
    "An important concept in programming is *abstraction* and this is what we use as developers to solve the previously mentioned problem.\n",
    "According to Prabhakar Radge, abstraction can be defined as \"the process of finding similarities or common aspects, and forgetting unimportant differences.\"\n",
    "Abstraction is what allows us to create concepts like \"person\" from singular cases.\n",
    "We all know that every person on Earth is different from each other, but they have certain characteristics that allow us to classify them within the category \"person\".\n",
    "\n",
    "In programming, we can perform abstraction at different levels.\n",
    "When it comes to functionality, we identify certain patterns in the code or a sequence of instructions that perform the same or similar goal, and then we put them together in what we call a *function*.\n",
    "**Functions** then allow us to call a group\n",
    "of instructions over and over again, without copying and pasting. \n",
    "You can give them a meaningful name to remember what their purpose is (e.g. the `print` function).\n",
    "As you will see later, functions can also receive a set of inputs that can modify their behavior and/or output. \n",
    "Afterward, you will only need to call them in the parts of your program where you need such functionality.\n",
    "Contrary to the copy-paste strategy, if a change needs to be performed, you will usually have a single point in your program to modify.\n",
    "\n",
    "In this chapter, you will get to know how to call a function and some built-in functions that can help with your programming."
   ]
  },
  {
   "cell_type": "markdown",
   "metadata": {
    "slideshow": {
     "slide_type": "slide"
    }
   },
   "source": [
    "## 2. Function Calls\n",
    "\n",
    "We have already seen examples of **function calls**, for instance:"
   ]
  },
  {
   "cell_type": "code",
   "execution_count": null,
   "metadata": {
    "slideshow": {
     "slide_type": "fragment"
    }
   },
   "outputs": [],
   "source": [
    "type(42)"
   ]
  },
  {
   "cell_type": "markdown",
   "metadata": {
    "slideshow": {
     "slide_type": "fragment"
    }
   },
   "source": [
    "The name of this function is `type`. \n",
    "The expression in parentheses is called the **argument** of the function (i.e. `42`).\n",
    "In this example, the argument is processed then by the function to then give back the type of such argument. \n",
    "In this case, the type of `42` is an `int`.\n",
    "\n",
    "It is common to say that a function *takes* a sequence of arguments (can be an empty sequence or a sequence with just one element) and can *return* a result. \n",
    "The result is called the **return value**.\n",
    "\n",
    "In general, every time you want to use the capabilities offered by a function, you need to: \n",
    "1. type in the **name of the function**, \n",
    "2. open **parentheses**,\n",
    "3. add the sequence of required and desired **arguments** (can be empty or have only one item), \n",
    "4. close **parentheses**. \n",
    "5. Optionally, you can handle the result by, for example, assigning it to a variable or using it in another expression.\n",
    "\n",
    "Let us see another example."
   ]
  },
  {
   "cell_type": "code",
   "execution_count": null,
   "metadata": {},
   "outputs": [],
   "source": [
    "print('Hello world!')"
   ]
  },
  {
   "cell_type": "markdown",
   "metadata": {},
   "source": [
    "This function call points to the `print` function.\n",
    "It passes only one string argument, in this case, `'Hello world!'`.\n",
    "This function has **no result**, and I know you might be wondering, \"how is this even possible if i am seeing the output of the cell `\"Hello world!\"`?!\"\n",
    "Well, let us convince you by using the `type` around this expression."
   ]
  },
  {
   "cell_type": "code",
   "execution_count": null,
   "metadata": {},
   "outputs": [],
   "source": [
    "type(print('Hello world!'))"
   ]
  },
  {
   "cell_type": "markdown",
   "metadata": {},
   "source": [
    "The type of the print output is `NoneType`. \n",
    "What is happening is that Python is connecting to the console and printing the string there, rather than creating a new value. \n",
    "Don't stress about these differences, just keep the following intuition:\n",
    "A function can either return a value or not.\n",
    "Even if it does not return a value, it can still have a side effect such as printing in the console, or reading from or writing in a file."
   ]
  },
  {
   "cell_type": "markdown",
   "metadata": {},
   "source": [
    "<div class=\"alert alert-success\">\n",
    "    <b>Do It Yourself!</b><br>\n",
    "    Call the function <code>type</code> taking the expression <code>'Hello world!'</code> as argument.\n",
    "</div>"
   ]
  },
  {
   "cell_type": "code",
   "execution_count": null,
   "metadata": {},
   "outputs": [],
   "source": [
    "# Remove this line and add your code here"
   ]
  },
  {
   "cell_type": "markdown",
   "metadata": {
    "slideshow": {
     "slide_type": "slide"
    }
   },
   "source": [
    "## 3. Built-in Functions\n",
    "\n",
    "Python has built-in functions that are convenient to use. \n",
    "You can leverage them by calling them directly from your program; in other words, having function calls to these built-in functions.\n",
    "For instance, it provides some functions to convert values from one type to another. \n",
    "The `int` function takes any value and converts it to an integer, if it can, or it will give an error message otherwise.\n",
    "\n",
    "#### `int` function\n",
    "- **Name:** `int`\n",
    "- **Goal:** Convert a value of any type into an integer.\n",
    "- **Input(s):** One value of any type.\n",
    "- **Output:** Integer value of the input argument.\n",
    "- **Side effect:** Throw an exception if it is not able to convert the argument into an integer."
   ]
  },
  {
   "cell_type": "code",
   "execution_count": null,
   "metadata": {
    "slideshow": {
     "slide_type": "fragment"
    }
   },
   "outputs": [],
   "source": [
    "int('32')"
   ]
  },
  {
   "cell_type": "code",
   "execution_count": null,
   "metadata": {
    "slideshow": {
     "slide_type": "fragment"
    }
   },
   "outputs": [],
   "source": [
    "int('Integer')"
   ]
  },
  {
   "cell_type": "markdown",
   "metadata": {
    "slideshow": {
     "slide_type": "fragment"
    }
   },
   "source": [
    "`int` can convert floating-point values to integers, but it does not round off; it chops off the\n",
    "fraction part:"
   ]
  },
  {
   "cell_type": "code",
   "execution_count": null,
   "metadata": {
    "slideshow": {
     "slide_type": "fragment"
    }
   },
   "outputs": [],
   "source": [
    "int(3.9999)"
   ]
  },
  {
   "cell_type": "markdown",
   "metadata": {
    "slideshow": {
     "slide_type": "slide"
    }
   },
   "source": [
    "#### `float` function\n",
    "- **Name:** `float`\n",
    "- **Goal:** Convert a value of any type into a floating-point number.\n",
    "- **Input(s):** One value of any type.\n",
    "- **Output:** Floating-point value of the input argument.\n",
    "- **Side effect:** Throw an exception if it is not able to convert the argument into a floating-point number."
   ]
  },
  {
   "cell_type": "code",
   "execution_count": null,
   "metadata": {
    "slideshow": {
     "slide_type": "fragment"
    }
   },
   "outputs": [],
   "source": [
    "float(32)"
   ]
  },
  {
   "cell_type": "code",
   "execution_count": null,
   "metadata": {},
   "outputs": [],
   "source": [
    "float('3.14159')"
   ]
  },
  {
   "cell_type": "markdown",
   "metadata": {
    "slideshow": {
     "slide_type": "fragment"
    }
   },
   "source": [
    "#### `str` function\n",
    "- **Name:** `str`\n",
    "- **Goal:** Convert a value of any type into a string.\n",
    "- **Input(s):** One value of any type.\n",
    "- **Output:** String value of the input argument.\n",
    "- **Side effect:** Throw an exception if it is not able to convert the argument into a floating-point number."
   ]
  },
  {
   "cell_type": "code",
   "execution_count": null,
   "metadata": {
    "slideshow": {
     "slide_type": "fragment"
    }
   },
   "outputs": [],
   "source": [
    "str(3.14159)"
   ]
  },
  {
   "cell_type": "markdown",
   "metadata": {},
   "source": [
    "Python provides other functions to compute the largest and smallest element of a list or string, namely `max` and `min`. \n",
    "\n",
    "#### `max` function\n",
    "- **Name:** `max`\n",
    "- **Goal:** Get the maximum value of the sequence. In the case of a string, the largest value in [lexicographic order](https://en.wikipedia.org/wiki/Lexicographic_order).\n",
    "- **Input(s):** Sequence (including a string, which is a sequence of characters).\n",
    "- **Output:** Maximum value of the sequence.\n",
    "- **Side effect:** Throw an exception if the input is not a sequence."
   ]
  },
  {
   "cell_type": "code",
   "execution_count": null,
   "metadata": {},
   "outputs": [],
   "source": [
    "max('I am a data scientist')"
   ]
  },
  {
   "cell_type": "markdown",
   "metadata": {},
   "source": [
    "#### `min` function\n",
    "- **Name:** `min`\n",
    "- **Goal:** Get the minimum value of the sequence. In the case of a string, the smallest value in [lexicographic order](https://en.wikipedia.org/wiki/Lexicographic_order).\n",
    "- **Input(s):** Sequence (including a string, which is a sequence of characters).\n",
    "- **Output:** Minimum value of the sequence.\n",
    "- **Side effect:** Throw an exception if the input is not a sequence."
   ]
  },
  {
   "cell_type": "code",
   "execution_count": null,
   "metadata": {},
   "outputs": [],
   "source": [
    "min('I am a data scientist')"
   ]
  },
  {
   "cell_type": "markdown",
   "metadata": {},
   "source": [
    "Another common function is `len`, which returns the length of a sequence.\n",
    "\n",
    "#### `len` function\n",
    "- **Name:** `len`\n",
    "- **Goal:** Return the length of a sequence.\n",
    "- **Input(s):** Sequence (including a string, which is a sequence of characters).\n",
    "- **Output:** Length of the sequence.\n",
    "- **Side effect:** Throw an exception if the input is not a sequence."
   ]
  },
  {
   "cell_type": "code",
   "execution_count": null,
   "metadata": {},
   "outputs": [],
   "source": [
    "len('I am a data scientist')"
   ]
  },
  {
   "cell_type": "markdown",
   "metadata": {},
   "source": [
    "<div class=\"alert alert-info\">\n",
    "    <b>Built-in function names</b><br>\n",
    "    You should treat built-in functions as reserved words: don't use use their names to name variables.\n",
    "</div>"
   ]
  },
  {
   "cell_type": "markdown",
   "metadata": {
    "tags": []
   },
   "source": [
    "<div class=\"alert alert-success\">\n",
    "    <b>Do It Yourself!</b><br>\n",
    "    Compute the length of the string \"Twist and shout\".\n",
    "</div>"
   ]
  },
  {
   "cell_type": "code",
   "execution_count": null,
   "metadata": {
    "tags": []
   },
   "outputs": [],
   "source": [
    "# Remove this line and add your code here"
   ]
  },
  {
   "cell_type": "markdown",
   "metadata": {},
   "source": [
    "<div class=\"alert alert-success\">\n",
    "    <b>Do It Yourself!</b><br>\n",
    "    Can you compute the average of the list <i>numbers</i> without using any loop?\n",
    "</div>"
   ]
  },
  {
   "cell_type": "code",
   "execution_count": null,
   "metadata": {},
   "outputs": [],
   "source": [
    "# Remove this line and add your code here"
   ]
  },
  {
   "cell_type": "markdown",
   "metadata": {
    "slideshow": {
     "slide_type": "slide"
    },
    "tags": []
   },
   "source": [
    "## 4. A Note on Modules and Packages\n",
    "\n",
    "The functions presented in the previous section are built-in functions. Every Python implementation will provide these functions. \n",
    "\n",
    "Another way of providing predefined functions is via **modules** or **packages** (which are, by the way, another way of abstraction). Python offers a rich collection of modules and packages so that desired frequent functionality can be easily reused, by calling the desired function from the module or package.\n",
    "\n",
    "A **module** is usually a Python file (with the `.py` extension) that contains a set of related function definitions.\n",
    "Additionally, a **package** is organized as a group of modules.\n",
    "You can use both module and package functions by importing them into your code.\n",
    "For that, use the `import` statement.\n",
    "\n",
    "```python\n",
    "import module_name\n",
    "import module_name as alias\n",
    "from module_name import function_name \n",
    "import function1_name, function2_name from module_name\n",
    "```\n",
    "\n",
    "The first line makes a simple import of the module. To call functions of a module imported this way you need to write `module_name.function_name()`.\n",
    "The second line gives an alias to the module when its name is too long and writing the whole name every time you want to call a function impacts the readability of the code. In this case, you call functions as follows `alias.function_name()`.\n",
    "In the previous two cases, you specified the name of the module and the name of the function, separated by a dot (also known as a period). This format is called **dot notation**.\n",
    "The third and fourth statements import the functions directly, meaning that you do not need to use the name of the module first to access the functions, rather you can simply write `function_name()` or `function2_name()`. "
   ]
  },
  {
   "cell_type": "markdown",
   "metadata": {},
   "source": [
    "<div class=\"alert alert-info\">\n",
    "    <b>Python module</b><br>\n",
    "    A <b>module</b> is yet another mechanism to structure your software. Frequently used functions, such as math functions, can be grouped together in a <b>module</b>.\n",
    "</div>"
   ]
  },
  {
   "cell_type": "markdown",
   "metadata": {},
   "source": [
    "## 5. Math Functions\n",
    "\n",
    "Python has a `math` module that provides most of the familiar mathematical functions.\n",
    "Before we can use the functions in this module, we have to import it with an import statement."
   ]
  },
  {
   "cell_type": "code",
   "execution_count": null,
   "metadata": {
    "slideshow": {
     "slide_type": "fragment"
    }
   },
   "outputs": [],
   "source": [
    "import math"
   ]
  },
  {
   "cell_type": "markdown",
   "metadata": {
    "slideshow": {
     "slide_type": "fragment"
    }
   },
   "source": [
    "This statement creates a **module object** named \"math\". \n",
    "If you display the module object, you get some information about it."
   ]
  },
  {
   "cell_type": "code",
   "execution_count": null,
   "metadata": {
    "slideshow": {
     "slide_type": "fragment"
    }
   },
   "outputs": [],
   "source": [
    "math"
   ]
  },
  {
   "cell_type": "markdown",
   "metadata": {
    "slideshow": {
     "slide_type": "fragment"
    }
   },
   "source": [
    "If you want to learn more about the functions and constants defined in the `math` module, see \n",
    "https://docs.python.org/3/library/math.html. \n",
    "\n",
    "As mentioned in the previous section, to execute one of the functions, you have to specify the name of the module and the name of the\n",
    "function using the dot notation.\n",
    "\n",
    "In the following cell, we aim at computing the Signal-to-Noise Ratio (SNR) in decibels. \n",
    "The SNR compares the level of the expected signal to the level of background noise.\n",
    "Systems that transmit signals (like your headphones) are expected to have a high SNR, menaing that there is more signal than noise in the transmitted data.\n",
    "The SNR is computed as:\n",
    "\n",
    "$SNR = \\frac{signal_power}{noise_power}$\n",
    "\n",
    "To return the value in decibels (db) you must need to compute:\n",
    "\n",
    "$SNR_{db} = log_{10}(SNR)$\n",
    "\n",
    "We will use the `math` module to compute $SNR_{db}$, for a signal power of 25 and a noise power of 5."
   ]
  },
  {
   "cell_type": "code",
   "execution_count": null,
   "metadata": {
    "slideshow": {
     "slide_type": "fragment"
    }
   },
   "outputs": [],
   "source": [
    "signal_power: int = 25\n",
    "noise_power: int  = 5\n",
    "snr: float = signal_power / noise_power\n",
    "\n",
    "# Use dot notation to call the function log10 in the math module\n",
    "snr_db: float = 10 * math.log10(snr)\n",
    "\n",
    "print(snr_db)"
   ]
  },
  {
   "cell_type": "markdown",
   "metadata": {
    "slideshow": {
     "slide_type": "fragment"
    }
   },
   "source": [
    "The first example uses `math.log10` to compute a signal-to-noise ratio in decibels."
   ]
  },
  {
   "cell_type": "markdown",
   "metadata": {
    "slideshow": {
     "slide_type": "fragment"
    }
   },
   "source": [
    "The expression `math.pi` gets the variable `pi` from the math module. \n",
    "Its value is a floating-point approximation of π in 15 digits."
   ]
  },
  {
   "cell_type": "code",
   "execution_count": null,
   "metadata": {
    "slideshow": {
     "slide_type": "fragment"
    }
   },
   "outputs": [],
   "source": [
    "print(math.pi)"
   ]
  },
  {
   "cell_type": "markdown",
   "metadata": {
    "tags": []
   },
   "source": [
    "<div class=\"alert alert-success\">\n",
    "    <b>Do It Yourself!</b><br>\n",
    "    Use the <i>math</i> module to compute the square root of 361.\n",
    "</div>"
   ]
  },
  {
   "cell_type": "code",
   "execution_count": null,
   "metadata": {
    "tags": []
   },
   "outputs": [],
   "source": [
    "# Remove this line and add your code here"
   ]
  },
  {
   "cell_type": "markdown",
   "metadata": {},
   "source": [
    "## 6. Random Numbers\n",
    "\n",
    "Python also provides the `random` module to generate pseudorandom numbers.\n",
    "**Pseudorandom** numbers are not completely random because they are generated by means of a deterministic computation.\n",
    "Randomness is obtained by taking, for instance, the time of the day as argument in the internal computation to generate a random number.\n",
    "A computation is said to be **deterministic** if it always generates the same outputs for the same inputs.\n",
    "\n",
    "The `random` module provides the `random` function to generate a pseudorandom float between 0.0 and 1.0 (including 0.0 but not 1.0). To get to know more about the `random` module, visit the [official documentation](https://docs.python.org/3/library/random.html).\n",
    "\n",
    "The following function generates 5 pseudorandom numbers by using the `random` function. Run it multiple times to check its output."
   ]
  },
  {
   "cell_type": "code",
   "execution_count": null,
   "metadata": {},
   "outputs": [],
   "source": [
    "import random\n",
    "\n",
    "i: int = 0\n",
    "while i < 5:\n",
    "    x: float = random.random()\n",
    "    print(x)\n",
    "    i += 1"
   ]
  },
  {
   "cell_type": "markdown",
   "metadata": {
    "tags": []
   },
   "source": [
    "<div class=\"alert alert-success\">\n",
    "    <b>Do It Yourself!</b><br>\n",
    "    Use the <code>randint</code> function to generate 10 random integers between 20 and 80.\n",
    "</div>"
   ]
  },
  {
   "cell_type": "code",
   "execution_count": null,
   "metadata": {
    "tags": []
   },
   "outputs": [],
   "source": [
    "# Remove this line and add your code here"
   ]
  },
  {
   "cell_type": "markdown",
   "metadata": {
    "slideshow": {
     "slide_type": "slide"
    }
   },
   "source": [
    "## 7. Composition of Function Calls\n",
    "\n",
    "The following program:"
   ]
  },
  {
   "cell_type": "code",
   "execution_count": null,
   "metadata": {
    "scrolled": true
   },
   "outputs": [],
   "source": [
    "signal_power: int = 25\n",
    "noise_power: int = 5\n",
    "ratio: float = signal_power / noise_power\n",
    "decibels: float = 10 * math.log10(ratio)\n",
    "print(decibels)"
   ]
  },
  {
   "cell_type": "markdown",
   "metadata": {},
   "source": [
    "contains program elements in isolation.\n",
    "Every line introduces a new variable and the right hand side of the\n",
    "assignment is a rather trivial operation.\n",
    "\n",
    "Programming languages offer facilities to compose operations and create\n",
    "more complicated expressions.  \n",
    "For example, the argument of a function can be any\n",
    "kind of expression, including arithmetic operators.\n",
    "This is the case of the following code used to compute the sine wave function to model cyclical events."
   ]
  },
  {
   "cell_type": "code",
   "execution_count": null,
   "metadata": {},
   "outputs": [],
   "source": [
    "x: int = 110\n",
    "amplitude: int = 3\n",
    "periodicity: int = 1\n",
    "sine_wave: float = amplitude * math.sin(periodicity * x)\n",
    "print(sine_wave)"
   ]
  },
  {
   "cell_type": "markdown",
   "metadata": {},
   "source": [
    "You can see that we pass the expression `periodicity * x` to the `math` function `sin`.\n",
    "\n",
    "You can also include function calls as part of the expressions passed to other functions.\n",
    "For example, in the following cell, we exponentiate the logarithm in base 10 of a number to get the number itself plus 1 (i.e. `num + 1`). (The exponentiation and logarithm cancel each other out.)"
   ]
  },
  {
   "cell_type": "code",
   "execution_count": null,
   "metadata": {},
   "outputs": [],
   "source": [
    "num: int = 5\n",
    "num_plus_1: float = math.exp(math.log(num + 1))\n",
    "print(num_plus_1)"
   ]
  },
  {
   "cell_type": "markdown",
   "metadata": {},
   "source": [
    "In the previous case, the function call `math.log` with its corresponding arguments is passed as the argument of the function `math.exp`.\n",
    "Notice that `math.exp` performs exponentiation while `math.log` applies a logarithm in base 10 to the given arguments.\n",
    "\n",
    "Almost anywhere you can put a value or an arbitrary expression, with one exception:\n",
    "the left side of an assignment statement has to be a variable name. \n",
    "Any other\n",
    "expression on the left side is a syntax error (we will see exceptions to this rule later)."
   ]
  },
  {
   "cell_type": "code",
   "execution_count": null,
   "metadata": {
    "slideshow": {
     "slide_type": "fragment"
    }
   },
   "outputs": [],
   "source": [
    "hours: int = 2\n",
    "minutes: int = hours * 60 # correct\n",
    "minutes"
   ]
  },
  {
   "cell_type": "code",
   "execution_count": null,
   "metadata": {
    "slideshow": {
     "slide_type": "fragment"
    }
   },
   "outputs": [],
   "source": [
    "hours * 60 = minutes # wrong"
   ]
  },
  {
   "cell_type": "markdown",
   "metadata": {},
   "source": [
    "Furthermore, it is important to realise the order of execution. The arguments of\n",
    "functions are evaluated **before the function is called**. \n",
    "The arguments are also evaluated **from left to right**. \n",
    "If in the arguments arithmetic operators are used, they are evaluated taking the priorities into consideration.\n",
    "Python follows the **PEMDAS**, which states the operator priority: first **P**arentheses, then **E**xponents, followed by either **M**ultiplication or **D**ivision, and ending with **A**ddition or **S**ubtraction."
   ]
  },
  {
   "cell_type": "markdown",
   "metadata": {
    "tags": []
   },
   "source": [
    "<div class=\"alert alert-success\">\n",
    "    <b>Do It Yourself!</b><br>\n",
    "    Re-write the program presented in the first cell of this section. Use functions composition to this aim.\n",
    "</div>"
   ]
  },
  {
   "cell_type": "code",
   "execution_count": null,
   "metadata": {
    "tags": []
   },
   "outputs": [],
   "source": [
    "# Remove this line and add your code here"
   ]
  },
  {
   "cell_type": "markdown",
   "metadata": {},
   "source": [
    "## 8. Summary\n",
    "\n",
    "This chapter highlights the importance of functions as a way of abstracting functionality and supporting reuse. \n",
    "Functions have been defined as a sequence of instructions that are grouped within the same language construct and can then be called from different locations in your program.\n",
    "To call a function you just need to know its name and arguments.\n",
    "Additionally, consider how you are planning to handle the output (if any), and which are possible side effects of the function (e.g. raising an exception).\n",
    "Then, you only need to call the function in the following way `functiona_name(argument1, argument2,...)`.\n",
    "\n",
    "Functional abstraction can also come at a higher level when defining modules and packages.\n",
    "Modules and packages have their own functions.\n",
    "You can leverage that functionality by directly importing it into your code using any form of the `import` statement.\n",
    "Some common modules used to help you develop your programs include the `math` and `random` modules.\n",
    "You will get to know many more as you gain more experience."
   ]
  },
  {
   "cell_type": "markdown",
   "metadata": {},
   "source": [
    "---\n",
    "This Jupyter Notebook is based on Chapter 4 of the book Python for Everybody and Chapters 3 and 6 of the book Think Python."
   ]
  },
  {
   "cell_type": "markdown",
   "metadata": {},
   "source": [
    "---\n",
    "\n",
    "# (End of Notebook)\n",
    "\n",
    "&copy; 2023 - **TU/e** - Eindhoven University of Technology"
   ]
  }
 ],
 "metadata": {
  "anaconda-cloud": {},
  "kernelspec": {
   "display_name": "Python 3 (ipykernel)",
   "language": "python",
   "name": "python3"
  },
  "language_info": {
   "codemirror_mode": {
    "name": "ipython",
    "version": 3
   },
   "file_extension": ".py",
   "mimetype": "text/x-python",
   "name": "python",
   "nbconvert_exporter": "python",
   "pygments_lexer": "ipython3",
   "version": "3.11.5"
  },
  "vscode": {
   "interpreter": {
    "hash": "3aea9d04d643a3dad58bd6e15bcfdd921ab432a7c2b9a15d89f108cc0c05ed72"
   }
  }
 },
 "nbformat": 4,
 "nbformat_minor": 4
}
