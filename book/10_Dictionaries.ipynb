{
 "cells": [
  {
   "cell_type": "markdown",
   "metadata": {
    "slideshow": {
     "slide_type": "slide"
    }
   },
   "source": [
    "# Dictionaries\n",
    "\n"
   ]
  },
  {
   "cell_type": "markdown",
   "metadata": {},
   "source": [
    "## Table of Contents\n",
    "- [1. A Bit of History](#history)\n",
    "- [2. The Dictionary Data Type](#dictionary)\n",
    "- [3. Dictionary as a Set of Counters](#counters)\n",
    "- [4. Dictionaries and Files](#dict-files)\n",
    "- [5. Dictionaries and Lists](#dict-lists)\n",
    "- [6. Iteration and Dictionaries](#iter-dict)\n",
    "- [7. Reverse Lookup](#reverse-lookup)\n",
    "- [8. Summary](#summary)"
   ]
  },
  {
   "cell_type": "markdown",
   "metadata": {
    "slideshow": {
     "slide_type": "slide"
    }
   },
   "source": [
    "## 1. A Bit of History <a class=\"anchor\" id=\"history\"></a>\n",
    "\n",
    "<img src=\"assets/samuel-johnson.jpeg.webp\" alt=\"Samuel Johnson\" width=\"400\"/>\n",
    "\n",
    "<div style=\"text-align:center\">\n",
    "    <span style=\"font-size:0.9em; font-weight: bold;\"><b> Samuel Johnson</b></span>\n",
    "</div>\n",
    "\n",
    "Samuel Johnson is the man behind \"A Dictionary of the English Language\", the first definitive English dictionary. A Dictionary of the English Language, also called Johnson’s Dictionary, was first published in 1775 and is viewed with reverence by modern lexicographers.\n",
    "\n",
    "His dictionary was the first book to address English as it was written and spoken. It was the first to include context-based information about English, and, it was the first to attempt to enforce a standard of spelling and grammar upon unruly English, which had no equivalent of an academy to defend its use as proper or improper.\n",
    "\n",
    "To understand Johnson’s undertaking, it is important to understand the state of English lexicography in the middle of the 18th century. There were a handful of glossaries of difficult words, but overall, there was no reference for the English reader to consult words one might encounter on a day-to-day basis. In addition, books were becoming widely available and literacy in England was growing.\n",
    "\n",
    "Several book publishers got together and commissioned Johnson to compile a dictionary similar to the one created by the French Academy. In France, that effort took 40 scholars and 40 years to complete, while it took Johnson nine years to complete."
   ]
  },
  {
   "cell_type": "markdown",
   "metadata": {
    "slideshow": {
     "slide_type": "fragment"
    }
   },
   "source": [
    "## 2. The Dictionary Data Type <a class=\"anchor\" id=\"dictionary\"></a>\n",
    "\n",
    "The **dictionary** data type in Python is similar to a list, but quite different from \n",
    "the dictionaries we know from daily life.\n",
    "In a list, the indices have to be integers; in a dictionary they can be (almost) any type.\n",
    "\n",
    "A dictionary contains a collection of indices, which are called **keys**, and a collection of\n",
    "**values**. \n",
    "Every key is associated with a single value. \n",
    "The association of a key and a value is called a **key-value pair** or sometimes an **item**.\n",
    "\n",
    "In mathematical language, a dictionary represents a mapping from keys to values, so you\n",
    "can also say that each key “maps to” a value. \n",
    "Consider a dictionary from English to Dutch words, both the keys and values are strings.\n",
    "\n",
    "If you want to use a dictionary as argument or result of a function together with a type hint you have to add the following line to your code:\n",
    "\n",
    "`from typing import Dict`"
   ]
  },
  {
   "cell_type": "code",
   "execution_count": null,
   "metadata": {},
   "outputs": [],
   "source": [
    "from typing import Dict"
   ]
  },
  {
   "cell_type": "code",
   "execution_count": null,
   "metadata": {
    "slideshow": {
     "slide_type": "fragment"
    }
   },
   "outputs": [],
   "source": [
    "eng2dut: Dict = dict()\n",
    "print(eng2dut)"
   ]
  },
  {
   "cell_type": "markdown",
   "metadata": {
    "slideshow": {
     "slide_type": "fragment"
    }
   },
   "source": [
    "The function `dict` creates a new dictionary with no items. \n",
    "Because `dict` is the name of a built-in function, you cannot use it as a variable name.\n",
    "\n",
    "The curly-brackets, `{}`, represent an empty dictionary. \n",
    "To add items to the dictionary, you can use square brackets."
   ]
  },
  {
   "cell_type": "code",
   "execution_count": null,
   "metadata": {
    "slideshow": {
     "slide_type": "fragment"
    }
   },
   "outputs": [],
   "source": [
    "eng2dut['one'] = 'een'"
   ]
  },
  {
   "cell_type": "markdown",
   "metadata": {
    "slideshow": {
     "slide_type": "fragment"
    }
   },
   "source": [
    "We have now created one entry with the key `'one'` and the value `'een'`.\n",
    "\n",
    "If we print our dictionary we will see one key-value pair, where the key and value are separated by a colon."
   ]
  },
  {
   "cell_type": "code",
   "execution_count": null,
   "metadata": {
    "slideshow": {
     "slide_type": "fragment"
    }
   },
   "outputs": [],
   "source": [
    "print(eng2dut)"
   ]
  },
  {
   "cell_type": "markdown",
   "metadata": {
    "slideshow": {
     "slide_type": "slide"
    }
   },
   "source": [
    "You can also create a dictionary as follows."
   ]
  },
  {
   "cell_type": "code",
   "execution_count": null,
   "metadata": {
    "slideshow": {
     "slide_type": "fragment"
    }
   },
   "outputs": [],
   "source": [
    "eng2dut: Dict = {\n",
    "    'one': 'een', \n",
    "    'two': 'twee', \n",
    "    'three': 'drie', \n",
    "    'four': 'vier'\n",
    "}\n",
    "print(eng2dut)"
   ]
  },
  {
   "cell_type": "markdown",
   "metadata": {
    "jupyter": {
     "source_hidden": true
    },
    "tags": []
   },
   "source": [
    "<div class=\"alert alert-success\">\n",
    "    <b>Do It Yourself!</b><br>\n",
    "    Create a dictionary <i>capitals</i> that maps countries to capital cities. Use the country as key of the pair. Include the following: The Netherlands - Amsterdam, Brazil - Brasilia, Australia - Canberra, Cuba - Havana, Kenya - Nairobi, Canada - Ottawa, Japan - Tokyo.\n",
    "</div>"
   ]
  },
  {
   "cell_type": "code",
   "execution_count": null,
   "metadata": {
    "jupyter": {
     "source_hidden": true
    },
    "tags": []
   },
   "outputs": [],
   "source": [
    "# Remove this line and add your code here"
   ]
  },
  {
   "cell_type": "markdown",
   "metadata": {},
   "source": [
    "We can add via the *key* index a *value* to the dictionary. We can do this because of the dynamic nature of Python."
   ]
  },
  {
   "cell_type": "code",
   "execution_count": null,
   "metadata": {},
   "outputs": [],
   "source": [
    "eng2dut['five'] = 'vijf'\n",
    "print(eng2dut)"
   ]
  },
  {
   "cell_type": "markdown",
   "metadata": {
    "jupyter": {
     "source_hidden": true
    },
    "tags": []
   },
   "source": [
    "<div class=\"alert alert-success\">\n",
    "    <b>Do It Yourself!</b><br>\n",
    "    Add two new pairs to the dictionary <i>capitals</i>.\n",
    "</div>"
   ]
  },
  {
   "cell_type": "code",
   "execution_count": null,
   "metadata": {
    "jupyter": {
     "source_hidden": true
    },
    "tags": []
   },
   "outputs": [],
   "source": [
    "# Remove this line and add your code here"
   ]
  },
  {
   "cell_type": "markdown",
   "metadata": {},
   "source": [
    "We can also built a dictionary via the built-in `dict()` function."
   ]
  },
  {
   "cell_type": "code",
   "execution_count": null,
   "metadata": {},
   "outputs": [],
   "source": [
    "eng2dut = dict([\n",
    "    ('one', 'een'),\n",
    "    ('two', 'twee'),\n",
    "    ('three', 'drie'),\n",
    "    ('four', 'vier'),\n",
    "    ('five', 'vijf'),\n",
    "    ('six', 'zes'),\n",
    "    ('seven', 'zeven'),\n",
    "    ('eight', 'acht'),\n",
    "    ('nine', 'negen')\n",
    "])"
   ]
  },
  {
   "cell_type": "markdown",
   "metadata": {
    "slideshow": {
     "slide_type": "fragment"
    }
   },
   "source": [
    "When the dictionary is printed the order of the key-value pairs may have changed, as we saw.\n",
    "The order of the items in the dictionary is unpredictable.\n",
    "The order is no issue, because the retrieval of values is done via the keys and **not** via indices.\n",
    "\n",
    "This means that in order to retrieve a value from a dictionary you need to know its corresponding key."
   ]
  },
  {
   "cell_type": "code",
   "execution_count": null,
   "metadata": {
    "slideshow": {
     "slide_type": "fragment"
    }
   },
   "outputs": [],
   "source": [
    "eng2dut['two']"
   ]
  },
  {
   "cell_type": "markdown",
   "metadata": {
    "slideshow": {
     "slide_type": "fragment"
    }
   },
   "source": [
    "So, of you try to retrieve a value for a non-existing key, you will get a `KeyError` exception."
   ]
  },
  {
   "cell_type": "code",
   "execution_count": null,
   "metadata": {
    "slideshow": {
     "slide_type": "fragment"
    }
   },
   "outputs": [],
   "source": [
    "eng2dut['ten']"
   ]
  },
  {
   "cell_type": "markdown",
   "metadata": {
    "slideshow": {
     "slide_type": "fragment"
    }
   },
   "source": [
    "The function `len` will give you the number of key-value pairs in the dictionary. In this way you know at least the number of key-value pairs in your dictionary."
   ]
  },
  {
   "cell_type": "code",
   "execution_count": null,
   "metadata": {
    "slideshow": {
     "slide_type": "fragment"
    }
   },
   "outputs": [],
   "source": [
    "len(eng2dut)"
   ]
  },
  {
   "cell_type": "markdown",
   "metadata": {
    "slideshow": {
     "slide_type": "slide"
    }
   },
   "source": [
    "If you are not certain whether a key is present in you dictionary you can use the `in` operator, because also works on dictionaries. \n",
    "\n",
    "It tells you whether a value is used as a **key**."
   ]
  },
  {
   "cell_type": "code",
   "execution_count": null,
   "metadata": {
    "slideshow": {
     "slide_type": "fragment"
    }
   },
   "outputs": [],
   "source": [
    "'one' in eng2dut"
   ]
  },
  {
   "cell_type": "code",
   "execution_count": null,
   "metadata": {
    "slideshow": {
     "slide_type": "fragment"
    }
   },
   "outputs": [],
   "source": [
    "'een' in eng2dut"
   ]
  },
  {
   "cell_type": "markdown",
   "metadata": {
    "slideshow": {
     "slide_type": "fragment"
    }
   },
   "source": [
    "If you want to check whether a **value** is stored in the dictionary, you have first to retrieve all values through the `values` method."
   ]
  },
  {
   "cell_type": "code",
   "execution_count": null,
   "metadata": {
    "slideshow": {
     "slide_type": "fragment"
    }
   },
   "outputs": [],
   "source": [
    "dutch_words = eng2dut.values()\n",
    "\n",
    "print(dutch_words)"
   ]
  },
  {
   "cell_type": "markdown",
   "metadata": {
    "slideshow": {
     "slide_type": "fragment"
    }
   },
   "source": [
    "Similar to the `values` method, there is also the `keys` method."
   ]
  },
  {
   "cell_type": "code",
   "execution_count": null,
   "metadata": {
    "slideshow": {
     "slide_type": "fragment"
    }
   },
   "outputs": [],
   "source": [
    "english_words = eng2dut.keys()\n",
    "\n",
    "print(english_words)"
   ]
  },
  {
   "cell_type": "markdown",
   "metadata": {
    "slideshow": {
     "slide_type": "fragment"
    }
   },
   "source": [
    "The `in` uses a different algorithm to find the elements in a list or dictionary.\n",
    "In a list, it uses a linear search algorithm: the longer the list gets the more time it will cost!\n",
    "\n",
    "In a dictionary, a **hash table** is used: the `in` operator takes about the same amount of time no matter how many items are in the dictionary. \n",
    "This property makes dictionaries a very powerful data structure when storing large amounts of data."
   ]
  },
  {
   "cell_type": "markdown",
   "metadata": {
    "jupyter": {
     "source_hidden": true
    },
    "tags": []
   },
   "source": [
    "<div class=\"alert alert-success\">\n",
    "    <b>Do It Yourself!</b><br>\n",
    "    Check if the <i>capitals</i> dictionary contains the key <i>Mexico</i>.\n",
    "</div>"
   ]
  },
  {
   "cell_type": "code",
   "execution_count": null,
   "metadata": {
    "jupyter": {
     "source_hidden": true
    },
    "tags": []
   },
   "outputs": [],
   "source": [
    "# Remove this line and add your code here"
   ]
  },
  {
   "cell_type": "markdown",
   "metadata": {
    "slideshow": {
     "slide_type": "slide"
    }
   },
   "source": [
    "## 3. Dictionary as a Set of Counters <a class=\"anchor\" id=\"counters\"></a>\n",
    "\n",
    "Suppose you are given a string and you want to count how many times each letter appears, the so-called letter frequency. \n",
    "It is not hard to imagine that this type of exercise is useful, but you will have to do more often in the future, think of the frequency of words in a text, names in an archive, purchases per customer, etc.\n",
    "\n",
    "We are computing a **histogram**, which is a statistical term for a set of frequencies.\n",
    "\n",
    "There are multiple ways of doing this:\n",
    "- **Option 1:** You could create *26 variables*, one for each letter of the alphabet. \n",
    "   Then you could traverse the string and, for each character, increment the corresponding counter, probably using a chained conditional. It is not hard to imagine that this does not work for arbitrary words in a text.\n",
    "\n",
    "- **Option 2:** You could create a *list* with 26 elements. Then you could convert each character to a number (using the built-in function `ord`). Again, this does not work for arbitrary characters in a text: the main problem is to find an efficient way to convert a word into an index.\n",
    "\n",
    "- **Option 3:** You could create a *dictionary* with characters as keys and counters as the corresponding values. The first time you see a character, you would add an item to the dictionary. After that you would increment the value of an existing item.\n",
    "This is actually a very general and reusable solution.\n",
    "\n",
    "This is, by the way, a typical example where you have to think carefully before choosing your data representation.\n",
    "A simple, but wrong, choice may work for a small set of elements, but may get complicated or expensive if the data\n",
    "becomes more bulky.\n",
    "\n",
    "An **implementation** is a way of performing a computation; some implementations are more efficient than others.\n",
    "For example, an advantage of the dictionary implementation is that we\n",
    "do not have to know ahead of time which letters appear in the string and we only have to\n",
    "make room for the letters that do appear."
   ]
  },
  {
   "cell_type": "code",
   "execution_count": null,
   "metadata": {
    "slideshow": {
     "slide_type": "fragment"
    }
   },
   "outputs": [],
   "source": [
    "def histogram(word: str) -> Dict:\n",
    "    \"\"\"\n",
    "    Creates a dictionary for counting the number of letters in a word.\n",
    "    :param word: word to process\n",
    "    :returns: dictionary with characters and their frequency.\n",
    "    \"\"\"\n",
    "    \n",
    "    letter_freq: Dict = dict()\n",
    "    for character in word:\n",
    "        if character not in letter_freq:\n",
    "            letter_freq[character] = 1\n",
    "        else:\n",
    "            letter_freq[character] += 1\n",
    "    return letter_freq\n",
    "\n",
    "letter_hist: Dict = histogram('softwareengineering')\n",
    "print(letter_hist)"
   ]
  },
  {
   "cell_type": "markdown",
   "metadata": {},
   "source": [
    "The `dict` data type offers a number of built in methods, one of them is `get`.\n",
    "The `get` method takes a *key* as first argument and a *default* value as second.\n",
    "If the `key` is not found in the dictionary, an *item* is created with the `key` as first argument and the second argument as `value`."
   ]
  },
  {
   "cell_type": "code",
   "execution_count": null,
   "metadata": {
    "slideshow": {
     "slide_type": "fragment"
    }
   },
   "outputs": [],
   "source": [
    "def histogram(word : str) -> Dict:\n",
    "    \"\"\"\n",
    "    Creates a dictionary for counting the number of letters in a word.\n",
    "    :param word: word to process\n",
    "    :returns: dictionary with characters and their frequency.\n",
    "    \"\"\"\n",
    "    letter_freq: Dict = dict()\n",
    "    for character in word:\n",
    "        letter_freq[character] = letter_freq.get(character, 0) + 1\n",
    "    return letter_freq\n",
    "\n",
    "letter_hist: Dict = histogram('computerscience')\n",
    "\n",
    "print(letter_hist)"
   ]
  },
  {
   "cell_type": "markdown",
   "metadata": {},
   "source": [
    "<div class=\"alert alert-info\">\n",
    "    <b>Plotting the histogram</b><br>\n",
    "    Now we can use some useful Python libraries to plot our histogram. In this case, we use <code>matplotlib.pyplot</code> and <code>pandas</code> libraries.\n",
    "</div>"
   ]
  },
  {
   "cell_type": "code",
   "execution_count": null,
   "metadata": {},
   "outputs": [],
   "source": [
    "# import the relevant libraries, see \n",
    "import matplotlib.pyplot as plt\n",
    "import pandas as pd\n",
    "\n",
    "%matplotlib inline\n",
    "\n",
    "import pandas as pd\n",
    "\n",
    "df = pd.DataFrame.from_dict(letter_hist, orient=\"index\")\n",
    "df.plot.bar(color=\"r\");"
   ]
  },
  {
   "cell_type": "markdown",
   "metadata": {
    "jupyter": {
     "source_hidden": true
    },
    "tags": []
   },
   "source": [
    "<div class=\"alert alert-success\">\n",
    "    <b>Do It Yourself!</b><br>\n",
    "    Call the <i>histogram</i> function with different inputs and print it to see how the histogram changes from case to case.\n",
    "</div>"
   ]
  },
  {
   "cell_type": "code",
   "execution_count": null,
   "metadata": {
    "jupyter": {
     "source_hidden": true
    },
    "tags": []
   },
   "outputs": [],
   "source": [
    "# Remove this line and add your code here"
   ]
  },
  {
   "cell_type": "markdown",
   "metadata": {},
   "source": [
    "## 4. Dictionaries and Files <a class=\"anchor\" id=\"dict-files\"></a>\n",
    "\n",
    "Now that we have seen and understood the **dictionary** data structure, we want illustrate how to use dictionaries when solving certain types of programming challlenges. Suppose you have to count the occurrence of words in a file, it turns out that dictionaries are very convenient to tackle this challenge.\n",
    "\n",
    "For this task we will consider a piece of text taken from *Romeo and Julliet* by William Shakespeare. \n",
    "This text has been altered in the sense that it does not include any punctuation marks."
   ]
  },
  {
   "cell_type": "code",
   "execution_count": null,
   "metadata": {},
   "outputs": [],
   "source": [
    "try:\n",
    "    file_handle: str = open('datasets/romeo.txt')\n",
    "except:\n",
    "    print('File cannot be opened')\n",
    "    exit()\n",
    "    \n",
    "word_cnt: Dict = dict()\n",
    "for line in file_handle:\n",
    "    words: list = line.split()\n",
    "    for word in words:\n",
    "        if word not in word_cnt:\n",
    "            word_cnt[word] = 1\n",
    "        else:\n",
    "            word_cnt[word] += 1\n",
    "file_handle.close()\n",
    "            \n",
    "print(word_cnt)"
   ]
  },
  {
   "cell_type": "markdown",
   "metadata": {},
   "source": [
    "In the previous code we use two `for` loops. The first one iterates over the lines of the document while the second one iterates over the words of the current line in the first loop.\n",
    "\n",
    "This pattern is quite common and is known as **nested loops**. The first loop is called the **outer loop** while the second one is named the **inner loop**.\n",
    "\n",
    "In addition we have used the abbreviation of `word_cnt[word] = word_cnt[word] + 1` as `word_cnt[word] += 1`. \n",
    "This abbreviation is also used with `-=`, `*=`, and `/=`."
   ]
  },
  {
   "cell_type": "markdown",
   "metadata": {},
   "source": [
    "Now, let us consider a piece of text that does have punctuation marks and capital letters. \n",
    "In this regard, cases such as 'soft' and 'soft!', and 'Who' and 'who' will be considered as different words.\n",
    "\n",
    "To solve both problems we can rely on the `lower` and `translate` string methods. \n",
    "\n",
    "The `translate` method receives a translation tables as input. To create this table we rely on the `maketrans` function, which get three parameters: characters to be replaced, characters to replace previous ones, and characters to delete. For our challenge we only need to define the third parameter.\n",
    "\n",
    "We will also use the string constant `punctuation`, which defines the list of punctuation marks. We will need to import the module `string` to have access to this value."
   ]
  },
  {
   "cell_type": "code",
   "execution_count": null,
   "metadata": {},
   "outputs": [],
   "source": [
    "import string\n",
    "print(string.punctuation)"
   ]
  },
  {
   "cell_type": "code",
   "execution_count": null,
   "metadata": {},
   "outputs": [],
   "source": [
    "import string\n",
    "\n",
    "try:\n",
    "    file_handle: str = open('datasets/romeo-full.txt')\n",
    "except:\n",
    "    print('File cannot be opened:', file_handle)\n",
    "    exit()\n",
    "    \n",
    "word_cnt: Dict = dict()\n",
    "for line in file_handle:\n",
    "    line = line.translate(line.maketrans('', '', string.punctuation))\n",
    "    line = line.lower()\n",
    "    words: list = line.split()\n",
    "    for word in words:\n",
    "        if word not in word_cnt:\n",
    "            word_cnt[word] = 1\n",
    "        else:\n",
    "            word_cnt[word] += 1\n",
    "file_handle.close()\n",
    "            \n",
    "print(word_cnt)"
   ]
  },
  {
   "cell_type": "markdown",
   "metadata": {
    "slideshow": {
     "slide_type": "slide"
    },
    "tags": []
   },
   "source": [
    "## 5. Dictionaries and Lists <a class=\"anchor\" id=\"dict-lists\"></a>\n",
    "\n",
    "Lists can be used as values in a dictionary.\n",
    "\n",
    "Suppose you want to create a dictionary where the frequency of the letters is the key and the value is a list of letters with that frequency.\n",
    "In fact, you invert the dictionary, creating a dictionary that maps frequencies to letters."
   ]
  },
  {
   "cell_type": "code",
   "execution_count": null,
   "metadata": {
    "slideshow": {
     "slide_type": "fragment"
    }
   },
   "outputs": [],
   "source": [
    "def invert_dict(dct: Dict) -> Dict:\n",
    "    \"\"\"\n",
    "    Inverts a dictionary.\n",
    "    :param dct: dictionary to be inverted\n",
    "    :returns: inverted dictionary\n",
    "    \"\"\"\n",
    "    inv_dct: Dict = dict()\n",
    "    for key in dct:\n",
    "        value = dct[key]\n",
    "        if value not in inv_dct:\n",
    "            inv_dct[value] = [key]\n",
    "        else:\n",
    "            inv_dct[value].append(key)\n",
    "    return inv_dct"
   ]
  },
  {
   "cell_type": "markdown",
   "metadata": {
    "slideshow": {
     "slide_type": "fragment"
    }
   },
   "source": [
    "At each loop iteration, `key` gets a key from `dct` and `value` gets the corresponding value.\n",
    "\n",
    "If `value` is not in `inv_dct`, that means we have not seen it before, so we create a new item and\n",
    "initialize it with a **singleton** (a list that contains a single element). \n",
    "\n",
    "Otherwise we have seen this value before, so we append the corresponding key to the list."
   ]
  },
  {
   "cell_type": "code",
   "execution_count": null,
   "metadata": {
    "slideshow": {
     "slide_type": "fragment"
    }
   },
   "outputs": [],
   "source": [
    "new_dct: Dict = invert_dict(letter_hist)\n",
    "\n",
    "#print(letter_hist)\n",
    "print(new_dct)"
   ]
  },
  {
   "cell_type": "markdown",
   "metadata": {
    "slideshow": {
     "slide_type": "slide"
    }
   },
   "source": [
    "Lists can be values in a dictionary, as this example shows, but they cannot be used as keys. "
   ]
  },
  {
   "cell_type": "code",
   "execution_count": null,
   "metadata": {
    "slideshow": {
     "slide_type": "fragment"
    }
   },
   "outputs": [],
   "source": [
    "from typing import List\n",
    "\n",
    "t: List = [1, 2, 3]\n",
    "d: Dict = dict()\n",
    "d[t] = 'oops'"
   ]
  },
  {
   "cell_type": "markdown",
   "metadata": {
    "slideshow": {
     "slide_type": "fragment"
    }
   },
   "source": [
    "So far, we have used integer values or string values as keys in our dictionaries. It is important that the keys must be **hashable**, or to put it more correctly, must be\n",
    "usable as argument for a hash function.\n",
    "\n",
    "A **hash function** is a function that takes a value (of almost any kind) and returns an integer. \n",
    "Dictionaries use these integers, called **hash values**, to store and look up key-value pairs.\n",
    "A value must immutable in order to be usable for hashing, lists are mutable, so not suited for hashing.\n",
    "\n",
    "When you create a key-value pair, Python hashes the key\n",
    "and stores it in the corresponding location. \n",
    "If you modify the key and then hash it again, it\n",
    "would go to a different location. \n",
    "In that case you might have two entries for the same key,\n",
    "or you might not be able to find a key.\n",
    "So, dictionaries themselves are not suitable for hashing, because they are mutable as well."
   ]
  },
  {
   "cell_type": "markdown",
   "metadata": {
    "jupyter": {
     "source_hidden": true
    },
    "tags": []
   },
   "source": [
    "<div class=\"alert alert-success\">\n",
    "    <b>Do It Yourself!</b><br>\n",
    "    Use the <i>invert_dict</i> function to invert the <i>romeo_dict</i> dictionary.\n",
    "</div>"
   ]
  },
  {
   "cell_type": "code",
   "execution_count": null,
   "metadata": {
    "jupyter": {
     "source_hidden": true
    },
    "tags": []
   },
   "outputs": [],
   "source": [
    "# Remove this line and add your code here"
   ]
  },
  {
   "cell_type": "markdown",
   "metadata": {
    "slideshow": {
     "slide_type": "slide"
    }
   },
   "source": [
    "## 6. Iteration and Dictionaries <a class=\"anchor\" id=\"iter-dict\"></a>\n",
    "\n",
    "If you want to iterate over the elements of dictionary you can use a `for` statement. The keys are used for traversing. \n",
    "\n",
    "Consider the following `print_histogram` function."
   ]
  },
  {
   "cell_type": "code",
   "execution_count": null,
   "metadata": {
    "slideshow": {
     "slide_type": "fragment"
    }
   },
   "outputs": [],
   "source": [
    "def print_histogram(histo : Dict) -> None:\n",
    "    \"\"\"\n",
    "    Prints a histogram dictionary.\n",
    "    :param histo: histogram to print\n",
    "    \"\"\"\n",
    "    for key in histo:\n",
    "        print(key, histo[key])\n",
    "        \n",
    "print_histogram(letter_hist)"
   ]
  },
  {
   "cell_type": "markdown",
   "metadata": {
    "slideshow": {
     "slide_type": "fragment"
    }
   },
   "source": [
    "Please, be aware of the fact that the entries in a dictionary are arbitrary. Thus, the keys are printed in an unsorted order. \n",
    "\n",
    "The built-in function `sorted` can be used if you want the keys to be sorted."
   ]
  },
  {
   "cell_type": "code",
   "execution_count": null,
   "metadata": {
    "scrolled": true,
    "slideshow": {
     "slide_type": "fragment"
    }
   },
   "outputs": [],
   "source": [
    "def print_histogram(histo : Dict) -> None:\n",
    "    \"\"\"\n",
    "    Prints a histogram dictionary in a sorted manner\n",
    "    :param histo: histogram to print\n",
    "    \"\"\"\n",
    "    for key in sorted(histo):\n",
    "        print(key, histo[key])\n",
    "        \n",
    "print_histogram(letter_hist)"
   ]
  },
  {
   "cell_type": "markdown",
   "metadata": {
    "jupyter": {
     "source_hidden": true
    },
    "tags": []
   },
   "source": [
    "<div class=\"alert alert-success\">\n",
    "    <b>Do It Yourself!</b><br>\n",
    "    Sort the keys of the <i>capitals</i> dictionary, and print each pair.\n",
    "</div>"
   ]
  },
  {
   "cell_type": "code",
   "execution_count": null,
   "metadata": {
    "jupyter": {
     "source_hidden": true
    },
    "tags": []
   },
   "outputs": [],
   "source": [
    "# Remove this line and add your code here"
   ]
  },
  {
   "cell_type": "markdown",
   "metadata": {
    "slideshow": {
     "slide_type": "slide"
    }
   },
   "source": [
    "## 7. Reverse Lookup <a class=\"anchor\" id=\"reverse-lookup\"></a>\n",
    "\n",
    "Given a key it is easy to find the corresponding value, this is a so-called **lookup**.\n",
    "Now, suppose you have a value and you want to find the corresponding key.\n",
    "\n",
    "There are two challenges: \n",
    "\n",
    "1. A value may appear multiple times in the dictionary, keys are unique, but values not.\n",
    "Consider the translation of the English words: the noun \"lettuce\" and the verb \"beat\"; the Dutch word in both cases is \"sla\".\n",
    "Depending on the application, you might be able to pick one, or you create a list that contains all relevant keys.\n",
    "\n",
    "2. There is no simple syntax to do a reverse lookup; you have to search explicitly."
   ]
  },
  {
   "cell_type": "code",
   "execution_count": null,
   "metadata": {
    "slideshow": {
     "slide_type": "fragment"
    }
   },
   "outputs": [],
   "source": [
    "def reverse_lookup(dct: Dict, val: any) -> any:\n",
    "    \"\"\"\n",
    "    Finds at which key the value is stored.\n",
    "    :param dct: dictionary to be searched\n",
    "    :param val: value to be found\n",
    "    :returns: key at which the value is stored.\n",
    "    \"\"\"\n",
    "    for key in dct:\n",
    "        if dct[key] == val:\n",
    "            return key\n",
    "    raise LookupError()"
   ]
  },
  {
   "cell_type": "markdown",
   "metadata": {
    "slideshow": {
     "slide_type": "fragment"
    }
   },
   "source": [
    "This function is again a typical application of the search pattern, however if the value is not found,\n",
    "we **raise** an exception.\n",
    "The **raise statement** raises an exception, in our case it causes a `LookupError`, this is a built-in\n",
    "exception to indicate that a lookup operation failed."
   ]
  },
  {
   "cell_type": "code",
   "execution_count": null,
   "metadata": {
    "slideshow": {
     "slide_type": "fragment"
    }
   },
   "outputs": [],
   "source": [
    "histo: Dict = histogram('programming')\n",
    "key = reverse_lookup(histo, 2)\n",
    "key"
   ]
  },
  {
   "cell_type": "code",
   "execution_count": null,
   "metadata": {
    "slideshow": {
     "slide_type": "fragment"
    }
   },
   "outputs": [],
   "source": [
    "histo: Dict = histogram('programming')\n",
    "key = reverse_lookup(histo, 4)\n",
    "key"
   ]
  },
  {
   "cell_type": "markdown",
   "metadata": {
    "slideshow": {
     "slide_type": "fragment"
    }
   },
   "source": [
    "The effect when you raise an exception is the same as when Python raises one: it prints a\n",
    "traceback and an error message.\n",
    "\n",
    "The `raise` statement can take a detailed error message as an optional argument. \n",
    "\n",
    "```Python\n",
    "raise LookupError('value does not appear in the dictionary')\n",
    "```\n",
    "\n",
    "Beware that the reverse lookup is not efficient, in case of a large dictionary your program may become very slow."
   ]
  },
  {
   "cell_type": "markdown",
   "metadata": {},
   "source": [
    "An alternative way is to return a list of keys. If the list is empty it can be concluded that the value did not appear in the dictionary"
   ]
  },
  {
   "cell_type": "code",
   "execution_count": null,
   "metadata": {},
   "outputs": [],
   "source": [
    "from typing import List"
   ]
  },
  {
   "cell_type": "code",
   "execution_count": null,
   "metadata": {
    "slideshow": {
     "slide_type": "fragment"
    }
   },
   "outputs": [],
   "source": [
    "def reverse_lookup(dct : Dict, val : any) -> List[any]:\n",
    "    \"\"\"\n",
    "    Finds at which key the value is stored.\n",
    "    :param dct: dictionary to be searched\n",
    "    :param val: value to be found\n",
    "    :returns: keys for which the value was found.\n",
    "    \"\"\"\n",
    "    \n",
    "    return_list: List[any] = []\n",
    "    for key in dct:\n",
    "        if dct[key] == val:\n",
    "            return_list.append(key)\n",
    "    \n",
    "    return return_list"
   ]
  },
  {
   "cell_type": "code",
   "execution_count": null,
   "metadata": {
    "slideshow": {
     "slide_type": "fragment"
    }
   },
   "outputs": [],
   "source": [
    "histo: Dict = histogram('programming')\n",
    "key = reverse_lookup(histo, 4)\n",
    "key"
   ]
  },
  {
   "cell_type": "markdown",
   "metadata": {
    "jupyter": {
     "source_hidden": true
    },
    "tags": []
   },
   "source": [
    "<div class=\"alert alert-success\">\n",
    "    <b>Do It Yourself!</b><br>\n",
    "    Use the <i>reverse_lookup</i> function to look for existing and non-existing keys in the <i>capitals</i> dictionary.\n",
    "</div>"
   ]
  },
  {
   "cell_type": "code",
   "execution_count": null,
   "metadata": {
    "jupyter": {
     "source_hidden": true
    },
    "tags": []
   },
   "outputs": [],
   "source": [
    "# Remove this line and add your code here"
   ]
  },
  {
   "cell_type": "markdown",
   "metadata": {},
   "source": [
    "## 8. Summary <a class=\"anchor\" id=\"summary\"></a>\n",
    "\n",
    "Suppose you want to set up an administration where you keep track of your guests and the food you served, then **dictionaries** are very useful.\n",
    "\n",
    "* The name of your guest can be used as key. Beware that if you have multiple guests you cannot use the guest list as key, because lists are mutable.\n",
    "\n",
    "* The dish you served can be the value. If you serve more than one dish, you need to create a list of dishes as value.\n",
    "\n",
    "* If you want to see which dishes you served to which guests, you need to use a *reverse_lookup* or *invert_dictionary*. Both use `for` loop to iterate of the keys (in our case: guests).\n",
    "\n",
    "* You can also visualise statistics transforming the dictionary into a histogram. This allows you to visualise the number of dishes served per guest."
   ]
  },
  {
   "cell_type": "markdown",
   "metadata": {},
   "source": [
    "---\n",
    "\n",
    "# (End of Notebook)\n",
    "\n",
    "**TU/e** - Eindhoven University of Technology"
   ]
  }
 ],
 "metadata": {
  "kernelspec": {
   "display_name": "Python 3",
   "language": "python",
   "name": "python3"
  },
  "language_info": {
   "codemirror_mode": {
    "name": "ipython",
    "version": 3
   },
   "file_extension": ".py",
   "mimetype": "text/x-python",
   "name": "python",
   "nbconvert_exporter": "python",
   "pygments_lexer": "ipython3",
   "version": "3.11.5"
  }
 },
 "nbformat": 4,
 "nbformat_minor": 4
}
