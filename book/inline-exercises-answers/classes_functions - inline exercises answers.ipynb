{
 "cells": [
  {
   "cell_type": "code",
   "execution_count": null,
   "metadata": {},
   "outputs": [],
   "source": [
    "#From the chapter itself\n",
    "class Time:\n",
    "    \"\"\"\n",
    "    Represents the time of day.\n",
    "    attributes: hour, minute, second\n",
    "    \"\"\"\n",
    "    \n",
    "    def __init__(self, hour: int = 0, minute: int = 0, second: int = 0) -> None:\n",
    "        \"\"\" \n",
    "        Initializes a Time object.\n",
    "        :param hour: integer value for hour\n",
    "        :param minute: integer value for minute\n",
    "        :param second: integer value for second\n",
    "        \"\"\"\n",
    "        self.hour: int = hour\n",
    "        self.minute: int = minute\n",
    "        self.second: int = second\n",
    "            \n",
    "    def __str__(self) -> str:\n",
    "        \"\"\" \n",
    "        Returns a string representation of the Time object.\n",
    "        :returns: string representation of the Time object.\n",
    "        \"\"\"\n",
    "        return '{:02d}:{:02d}:{:02d}'.format(self.hour, self.minute, self.second)"
   ]
  },
  {
   "cell_type": "markdown",
   "metadata": {},
   "source": [
    "<div class=\"alert alert-success\">\n",
    "    <b>Do It Yourself!</b><br>\n",
    "    Create the function <i>print_time_meridiem(time : Time)</i>, which takes an instance of type Time and prints the time following the 12-hour convention (e.g. 12:05 pm, 11:46 am).\n",
    "</div>"
   ]
  },
  {
   "cell_type": "code",
   "execution_count": null,
   "metadata": {},
   "outputs": [],
   "source": [
    "def print_time_meridiem(time : Time) -> str:\n",
    "       \"\"\"\n",
    "        Returns the time according to the 12-hour convention\n",
    "        ::param time: a Time object\n",
    "        ::returns: a string containg the time following the 12-hour convention\n",
    "        \"\"\"\n",
    "    if time.hour == 0:\n",
    "        time.hour += 12\n",
    "        return '{:02d}:{:02d} am'.format(time.hour, time.minute)\n",
    "    \n",
    "    elif 1 <= time.hour <= 11:\n",
    "        return '{:01d}:{:02d} am'.format(time.hour, time.minute)\n",
    "    \n",
    "    elif time.hour == 12:\n",
    "        return '{:02d}:{:02d} pm'.format(time.hour, time.minute)\n",
    "    \n",
    "    else:\n",
    "        time.hour = time.hour % 12\n",
    "        return '{:01d}:{:02d} pm'.format(time.hour, time.minute)\n",
    "    \n",
    "print(print_time_meridiem(Time(0, 30, 0)))\n",
    "print(print_time_meridiem(Time(0, 55, 0)))\n",
    "\n",
    "print(print_time_meridiem(Time(2, 25, 0)))\n",
    "print(print_time_meridiem(Time(9, 30, 0)))\n",
    "\n",
    "print(print_time_meridiem(Time(12, 15, 0)))\n",
    "print(print_time_meridiem(Time(12, 48, 0)))\n",
    "\n",
    "print(print_time_meridiem(Time(16, 55, 0)))\n",
    "print(print_time_meridiem(Time(23, 59, 0)))"
   ]
  },
  {
   "cell_type": "markdown",
   "metadata": {},
   "source": [
    "<div class=\"alert alert-success\">\n",
    "    <b>Do It Yourself!</b><br>\n",
    "    Let's introduce some changes to the previous exercise. Create the modifier <i>convert_utc_modifier(time : Time, utc_units : int) -> Time</i>, which takes an instance of type Time (representing the Coordinated Universal Time -UTC) and adds the number of UTC units to it. This function adds the integer to the <i>hours</i> attribute. Remember that an hour must be equal or greater to zero, and less than 24.\n",
    "</div>"
   ]
  },
  {
   "cell_type": "code",
   "execution_count": null,
   "metadata": {},
   "outputs": [],
   "source": [
    "def convert_utc_modifier(time : Time, utc_units : int) -> Time:\n",
    "    \"\"\"\n",
    "    Converts a time object to a new time object with the UTC units added to it\n",
    "    ::param time: a Time object\n",
    "    :utc_units: integers number that represent the amount of hours that needs to be added to the time object.\n",
    "    ::returns a time object with the UTC units added to it\n",
    "    \"\"\"\n",
    "    if (time.hour + utc_units) >= 24:\n",
    "        while time.hour < 23:\n",
    "            time.hour += 1\n",
    "            utc_units -= 1\n",
    "            print(time.hour, utc_units)\n",
    "        new_time = utc_units - 1\n",
    "    else:\n",
    "        new_time = time.hour + utc_units\n",
    "    \n",
    "    return new_time\n",
    "    \n",
    "\n",
    "convert_utc_modifier(Time(20, 0, 0), 4)\n",
    "convert_utc_modifier(Time(14, 0, 0), 6)"
   ]
  },
  {
   "cell_type": "markdown",
   "metadata": {},
   "source": [
    "<div class=\"alert alert-success\">\n",
    "    <b>Do It Yourself!</b><br>\n",
    "    Create the pure function <i>convert_utc(time : Time, utc_units : int) -> Time</i>, which takes an instance of type Time (representing the Coordinated Universal Time -UTC) and the number of UTC units. This function adds the integer to the <i>hours</i> attribute. Remember that an hour must be equal or greater to zero, and less than 24.\n",
    "</div>"
   ]
  },
  {
   "cell_type": "code",
   "execution_count": null,
   "metadata": {},
   "outputs": [],
   "source": [
    "#Is this pure?\n",
    "def convert_utc_modifier(time : Time, utc_units : int) -> Time:\n",
    "    \"\"\"\n",
    "    Converts a time object to a new time object with the UTC units added to it\n",
    "    ::param time: a Time object\n",
    "    :utc_units: integers number that represent the amount of hours that needs to be added to the time object.\n",
    "    ::returns a time object with the UTC units added to it\n",
    "    \"\"\"\n",
    "    if (time.hour + utc_units) >= 24:\n",
    "        while time.hour < 23:\n",
    "            time.hour += 1\n",
    "            utc_units -= 1\n",
    "            print(time.hour, utc_units)\n",
    "        new_hour = utc_units - 1\n",
    "    else:\n",
    "        new_hour = time.hour + utc_units\n",
    "    \n",
    "    return new_time\n",
    "    \n",
    "\n",
    "convert_utc_modifier(Time(20, 0, 0), 4)\n",
    "convert_utc_modifier(Time(14, 0, 0), 6)"
   ]
  },
  {
   "cell_type": "markdown",
   "metadata": {},
   "source": [
    "<div class=\"alert alert-success\">\n",
    "    <b>Do It Yourself!</b><br>\n",
    "    These time conversion functions allow us to develop also a <i>sub_time(t1 : Time, t2 : Time) -> Time</i> function, that subtracts two time intervals. Again, make sure you that your are not 'travelling back to the future', or end up with a negative time.\n",
    "</div>"
   ]
  },
  {
   "cell_type": "code",
   "execution_count": null,
   "metadata": {},
   "outputs": [],
   "source": [
    "def add_time(t1: Time, t2: Time) -> Time:\n",
    "    \"\"\" \n",
    "    Returns a new Time object containing the sum of two Time objects.\n",
    "    :param time1: a Time object\n",
    "    :param time2: a Time object\n",
    "    :returns: a Time object containing the sum of two Time objects.\n",
    "    \"\"\"\n",
    "    assert valid_time(t1) and valid_time(t2), 'Invalid Time object in add_time'\n",
    "    \n",
    "    seconds: int = time_to_int(t1) + time_to_int(t2)\n",
    "    return int_to_time(seconds)"
   ]
  }
 ],
 "metadata": {
  "kernelspec": {
   "display_name": "Python 3",
   "language": "python",
   "name": "python3"
  },
  "language_info": {
   "codemirror_mode": {
    "name": "ipython",
    "version": 3
   },
   "file_extension": ".py",
   "mimetype": "text/x-python",
   "name": "python",
   "nbconvert_exporter": "python",
   "pygments_lexer": "ipython3",
   "version": "3.7.6"
  }
 },
 "nbformat": 4,
 "nbformat_minor": 4
}
