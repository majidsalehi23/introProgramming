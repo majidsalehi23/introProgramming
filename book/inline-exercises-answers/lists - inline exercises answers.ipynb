{
 "cells": [
  {
   "cell_type": "code",
   "execution_count": 1,
   "metadata": {},
   "outputs": [],
   "source": [
    "from typing import List"
   ]
  },
  {
   "cell_type": "markdown",
   "metadata": {},
   "source": [
    "<div class=\"alert alert-success\">\n",
    "    <b>Do It Yourself!</b><br>\n",
    "    Create a list of strings, where each string represents the name of a dutch artist. Assign the list to the variable <i>dutch_artists</i>.\n",
    "</div>"
   ]
  },
  {
   "cell_type": "code",
   "execution_count": 2,
   "metadata": {},
   "outputs": [
    {
     "data": {
      "text/plain": [
       "['Johannes Vermeer', 'Vincent van Gogh', 'Rembrandt', 'M. C. Escher']"
      ]
     },
     "execution_count": 2,
     "metadata": {},
     "output_type": "execute_result"
    }
   ],
   "source": [
    "dutch_artists: List[str] = ['Johannes Vermeer', 'Vincent van Gogh', 'Rembrandt', 'M. C. Escher']\n",
    "dutch_artists"
   ]
  },
  {
   "cell_type": "markdown",
   "metadata": {},
   "source": [
    "<div class=\"alert alert-success\">\n",
    "    <b>Do It Yourself!</b><br>\n",
    "    Check if numbers 3 and 252 are in the list stored in the variable <i>numbers</i>.\n",
    "</div>"
   ]
  },
  {
   "cell_type": "code",
   "execution_count": null,
   "metadata": {},
   "outputs": [],
   "source": [
    "numbers : list = [7, 42, 6*42]\n",
    "3 in numbers, 252 in numbers"
   ]
  },
  {
   "cell_type": "markdown",
   "metadata": {},
   "source": [
    "<div class=\"alert alert-success\">\n",
    "    <b>Do It Yourself!</b><br>\n",
    "    Change the last item of your list <i>dutch_artists</i>. Think of another artist that you have not included before.\n",
    "</div>"
   ]
  },
  {
   "cell_type": "code",
   "execution_count": null,
   "metadata": {},
   "outputs": [],
   "source": [
    "dutch_artists[-1] = 'Piet Mondiraan'\n",
    "dutch_artists"
   ]
  },
  {
   "cell_type": "markdown",
   "metadata": {},
   "source": [
    "<div class=\"alert alert-success\">\n",
    "    <b>Do It Yourself!</b><br>\n",
    "    Iterate the <i>dutch_artists</i> list and change its items so all names appear in capital letters.\n",
    "</div>"
   ]
  },
  {
   "cell_type": "code",
   "execution_count": null,
   "metadata": {},
   "outputs": [],
   "source": [
    "for i in range(len(dutch_artists)):\n",
    "    dutch_artists[i] = dutch_artists[i].upper()\n",
    "      \n",
    "dutch_artists"
   ]
  },
  {
   "cell_type": "markdown",
   "metadata": {},
   "source": [
    "<div class=\"alert alert-success\">\n",
    "    <b>Do It Yourself!</b><br>\n",
    "    Slice the <i>dutch_artists</i> list. We require all items except the first one.\n",
    "</div>"
   ]
  },
  {
   "cell_type": "code",
   "execution_count": null,
   "metadata": {},
   "outputs": [],
   "source": [
    "dutch_artists[1:]"
   ]
  },
  {
   "cell_type": "markdown",
   "metadata": {},
   "source": [
    "<div class=\"alert alert-success\">\n",
    "    <b>Do It Yourself!</b><br>\n",
    "    Use the <i>append</i> method to add a new artist to the <i>dutch_artists</i> list. Then sort all items.\n",
    "</div>"
   ]
  },
  {
   "cell_type": "code",
   "execution_count": null,
   "metadata": {},
   "outputs": [],
   "source": [
    "dutch_artists.append(\"Jozef Israëls\")\n",
    "dutch_artists.sort()\n",
    "dutch_artists"
   ]
  },
  {
   "cell_type": "markdown",
   "metadata": {},
   "source": [
    "<div class=\"alert alert-success\">\n",
    "    <b>Do It Yourself!</b><br>\n",
    "    Change all items in the <i>dutch_artists</i> list, so now they are shown in lower case. Is this a map, filter or reduce function?\n",
    "</div>"
   ]
  },
  {
   "cell_type": "code",
   "execution_count": null,
   "metadata": {},
   "outputs": [],
   "source": [
    "for i in range(len(dutch_artists)):\n",
    "    dutch_artists[i] = dutch_artists[i].lower()\n",
    "\n",
    "#This is a map function"
   ]
  },
  {
   "cell_type": "markdown",
   "metadata": {},
   "source": [
    "<div class=\"alert alert-success\">\n",
    "    <b>Do It Yourself!</b><br>\n",
    "    Can you compute the average of the list <i>numbers</i> without using any loop?\n",
    "</div>"
   ]
  },
  {
   "cell_type": "code",
   "execution_count": null,
   "metadata": {},
   "outputs": [],
   "source": [
    "lst: List[int] = [1, 2, 3, 4, 5, 6, 7, 8, 9]\n",
    "avg = sum(lst)/len(lst)\n",
    "avg"
   ]
  },
  {
   "cell_type": "markdown",
   "metadata": {},
   "source": [
    "<div class=\"alert alert-success\">\n",
    "    <b>Do It Yourself!</b><br>\n",
    "    Remove the last item of the <i>dutch_artists</i> list. What operation did you choose and why?\n",
    "</div>"
   ]
  },
  {
   "cell_type": "code",
   "execution_count": null,
   "metadata": {},
   "outputs": [],
   "source": [
    "#pop, del, remove\n",
    "del(dutch_artists[-1])\n",
    "dutch_artists\n",
    "#The operation chosen was del (process of elemination), \n",
    "#because we are not interested in the removed element (so pop is not the one to use)\n",
    "#there is no specefic elemenent we need to remove (so remove is not the one to use)"
   ]
  },
  {
   "cell_type": "markdown",
   "metadata": {},
   "source": [
    "<div class=\"alert alert-success\">\n",
    "    <b>Do It Yourself!</b><br>\n",
    "    Can you change dots in the following message by spaces?\n",
    "</div>"
   ]
  },
  {
   "cell_type": "code",
   "execution_count": null,
   "metadata": {},
   "outputs": [],
   "source": [
    "msg: str = 'We.want.to.modify.this.message'\n",
    "words_lst = msg.split('.')\n",
    "sentence: str = ' '.join(words_lst)\n",
    "sentence"
   ]
  },
  {
   "cell_type": "markdown",
   "metadata": {},
   "source": [
    "<div class=\"alert alert-success\">\n",
    "    <b>Do It Yourself!</b><br>\n",
    "    Can you now print the receiver of the email?\n",
    "</div>"
   ]
  },
  {
   "cell_type": "code",
   "execution_count": null,
   "metadata": {},
   "outputs": [],
   "source": [
    "def printSender() -> None:\n",
    "    \"\"\" \n",
    "    Look for interesting lines and print the sender of an email and it does not return a value.\n",
    "    \"\"\"\n",
    "    logs = open('logs.txt') # Get lines from the logs.txt file\n",
    "    \n",
    "    for line in logs:\n",
    "        line.rstrip() # Remove white spaces at the end of the string\n",
    "    \n",
    "        if line.startswith('INFO Sending email'): # Pick interesting lines\n",
    "            words : list = line.split() # Split line into words\n",
    "            #print(words[4]) # Print the sender of the email\n",
    "            print(words[5]) # Print the receiver of the email\n",
    "\n",
    "printSender()"
   ]
  },
  {
   "cell_type": "markdown",
   "metadata": {},
   "source": [
    "<div class=\"alert alert-success\">\n",
    "    <b>Do It Yourself!</b><br>\n",
    "    Read about the <i>copy()</i> method. Can you modify the following code so only <i>b</i> is modified?\n",
    "</div>"
   ]
  },
  {
   "cell_type": "code",
   "execution_count": null,
   "metadata": {},
   "outputs": [],
   "source": [
    "a: List[int] = [1, 2, 3]\n",
    "b = a.copy()\n",
    "b[1] = 42\n",
    "\n",
    "print(b)\n",
    "print(a)"
   ]
  }
 ],
 "metadata": {
  "kernelspec": {
   "display_name": "Python 3",
   "language": "python",
   "name": "python3"
  },
  "language_info": {
   "codemirror_mode": {
    "name": "ipython",
    "version": 3
   },
   "file_extension": ".py",
   "mimetype": "text/x-python",
   "name": "python",
   "nbconvert_exporter": "python",
   "pygments_lexer": "ipython3",
   "version": "3.7.6"
  }
 },
 "nbformat": 4,
 "nbformat_minor": 4
}
