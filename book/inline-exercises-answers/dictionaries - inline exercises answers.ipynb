{
 "cells": [
  {
   "cell_type": "markdown",
   "metadata": {},
   "source": [
    "<div class=\"alert alert-success\">\n",
    "    <b>Do It Yourself!</b><br>\n",
    "    Create a dictionary <i>capitals</i> that maps countries to capital cities. Use the country as key of the pair. Include the following: The Netherlands - Amsterdam, Brazil - Brasilia, Australia - Canberra, Cuba - Havana, Kenya - Nairobi, Canada - Ottawa, Japan - Tokyo.\n",
    "</div>"
   ]
  },
  {
   "cell_type": "code",
   "execution_count": null,
   "metadata": {},
   "outputs": [],
   "source": [
    "from typing import Dict\n",
    "capitals: Dict = {\n",
    "    'The Netherlands': 'Amsterdam',\n",
    "    'Brazil': 'Brasilia',\n",
    "    'Australia': 'Canberra',\n",
    "    'Cuba': 'Havana',\n",
    "    'Kenya': 'Nairobi',\n",
    "    'Canada': 'Ottawa',\n",
    "    'Japan': 'Tokyo'\n",
    "}\n",
    "print(capitals)"
   ]
  },
  {
   "cell_type": "markdown",
   "metadata": {},
   "source": [
    "<div class=\"alert alert-success\">\n",
    "    <b>Do It Yourself!</b><br>\n",
    "    Add two new pairs to the dictionary <i>capitals</i>.\n",
    "</div>"
   ]
  },
  {
   "cell_type": "code",
   "execution_count": null,
   "metadata": {},
   "outputs": [],
   "source": [
    "capitals['France'] = 'Paris'\n",
    "capitals['Italy'] = 'Rome'"
   ]
  },
  {
   "cell_type": "markdown",
   "metadata": {},
   "source": [
    "<div class=\"alert alert-success\">\n",
    "    <b>Do It Yourself!</b><br>\n",
    "    Check if the <i>capitals</i> dictionary contains the key <i>Mexico</i>.\n",
    "</div>"
   ]
  },
  {
   "cell_type": "code",
   "execution_count": null,
   "metadata": {},
   "outputs": [],
   "source": [
    "'Mexico' in capitals"
   ]
  },
  {
   "cell_type": "markdown",
   "metadata": {},
   "source": [
    "<div class=\"alert alert-success\">\n",
    "    <b>Do It Yourself!</b><br>\n",
    "    Call the <i>histogram</i> function with different inputs and print it to see how the histogram changes from case to case.\n",
    "</div>"
   ]
  },
  {
   "cell_type": "code",
   "execution_count": null,
   "metadata": {},
   "outputs": [],
   "source": [
    "def histogram(word : str) -> Dict:\n",
    "    \"\"\"\n",
    "    Creates a dictionary for counting the number of letters in a word.\n",
    "    :param word: word to process\n",
    "    :returns: dictionary with characters and their frequency.\n",
    "    \"\"\"\n",
    "    dct: Dict = dict()\n",
    "    for c in word:\n",
    "        dct[c] = dct.get(c, 0) + 1\n",
    "    return dct"
   ]
  },
  {
   "cell_type": "code",
   "execution_count": null,
   "metadata": {},
   "outputs": [],
   "source": [
    "# import the relevant libraries, see \n",
    "import matplotlib.pyplot as plt\n",
    "import pandas as pd\n",
    "\n",
    "%matplotlib inline\n",
    "\n",
    "import pandas as pd"
   ]
  },
  {
   "cell_type": "code",
   "execution_count": null,
   "metadata": {},
   "outputs": [],
   "source": [
    "letter_hist: Dict = histogram('datascience')\n",
    "letter_hist: Dict = histogram('programming')\n",
    "letter_hist: Dict = histogram('calculus')   \n",
    "\n",
    "\n",
    "print(letter_hist)\n",
    "\n",
    "df = pd.DataFrame.from_dict(letter_hist, orient=\"index\")\n",
    "df.plot.bar(color=\"r\")"
   ]
  },
  {
   "cell_type": "markdown",
   "metadata": {},
   "source": [
    "<div class=\"alert alert-success\">\n",
    "    <b>Do It Yourself!</b><br>\n",
    "    Use the <i>invert_dict</i> function to invert the <i>romeo_dict</i> dictionary.\n",
    "</div>"
   ]
  },
  {
   "cell_type": "code",
   "execution_count": null,
   "metadata": {},
   "outputs": [],
   "source": [
    "def invert_dict(dct: Dict) -> Dict:\n",
    "    \"\"\"\n",
    "    Inverts a dictionary.\n",
    "    :param dct: dictionary to be inverted\n",
    "    :returns: inverted dictionary\n",
    "    \"\"\"\n",
    "    inv_dct: Dict = dict()\n",
    "    for key in dct:\n",
    "        value = dct[key]\n",
    "        if value not in inv_dct:\n",
    "            inv_dct[value] = [key]\n",
    "        else:\n",
    "            inv_dct[value].append(key)\n",
    "    return inv_dct"
   ]
  },
  {
   "cell_type": "code",
   "execution_count": null,
   "metadata": {},
   "outputs": [],
   "source": [
    "try:\n",
    "    fhand: str = open('datasets/romeo.txt')\n",
    "except:\n",
    "    print('File cannot be opened:', fname)\n",
    "    exit()\n",
    "    \n",
    "romeo_dict: Dict = dict()\n",
    "for line in fhand:\n",
    "    words: list = line.split()\n",
    "    for word in words:\n",
    "        if word not in romeo_dict:\n",
    "            romeo_dict[word] = 1\n",
    "        else:\n",
    "            romeo_dict[word] += 1\n",
    "            \n",
    "print(romeo_dict)"
   ]
  },
  {
   "cell_type": "code",
   "execution_count": null,
   "metadata": {},
   "outputs": [],
   "source": [
    "invert_dict(romeo_dict)"
   ]
  },
  {
   "cell_type": "markdown",
   "metadata": {},
   "source": [
    "<div class=\"alert alert-success\">\n",
    "    <b>Do It Yourself!</b><br>\n",
    "    Sort the keys of the <i>capitals</i> dictionary, and print each pair.\n",
    "</div>"
   ]
  },
  {
   "cell_type": "code",
   "execution_count": null,
   "metadata": {},
   "outputs": [],
   "source": [
    "for key in sorted(capitals):\n",
    "    print(key, capitals[key])"
   ]
  },
  {
   "cell_type": "code",
   "execution_count": null,
   "metadata": {},
   "outputs": [],
   "source": [
    "capitals.values()"
   ]
  },
  {
   "cell_type": "markdown",
   "metadata": {},
   "source": [
    "<div class=\"alert alert-success\">\n",
    "    <b>Do It Yourself!</b><br>\n",
    "    Use the <i>reverse_lookup</i> function to look for existing and non-existing keys in the <i>capitals</i> dictionary.\n",
    "</div>"
   ]
  },
  {
   "cell_type": "code",
   "execution_count": null,
   "metadata": {},
   "outputs": [],
   "source": [
    "from typing import List\n",
    "def reverse_lookup(dct : Dict, val : any) -> List[any]:\n",
    "    \"\"\"\n",
    "    Finds at which key the value is stored.\n",
    "    :param dct: dictionary to be searched\n",
    "    :param val: value to be found\n",
    "    :returns: keys for which the value was found.\n",
    "    \"\"\"\n",
    "    \n",
    "    rlist: List[any] = []\n",
    "    for key in dct:\n",
    "        if dct[key] == val:\n",
    "            rlist.append(key)\n",
    "    \n",
    "    return rlist"
   ]
  },
  {
   "cell_type": "code",
   "execution_count": null,
   "metadata": {},
   "outputs": [],
   "source": [
    "print(reverse_lookup(capitals, 'Canberra'))\n",
    "print(reverse_lookup(capitals, 'Berlin'))"
   ]
  }
 ],
 "metadata": {
  "kernelspec": {
   "display_name": "Python 3",
   "language": "python",
   "name": "python3"
  },
  "language_info": {
   "codemirror_mode": {
    "name": "ipython",
    "version": 3
   },
   "file_extension": ".py",
   "mimetype": "text/x-python",
   "name": "python",
   "nbconvert_exporter": "python",
   "pygments_lexer": "ipython3",
   "version": "3.7.6"
  }
 },
 "nbformat": 4,
 "nbformat_minor": 4
}
