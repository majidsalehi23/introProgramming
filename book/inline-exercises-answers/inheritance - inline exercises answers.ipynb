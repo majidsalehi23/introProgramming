{
 "cells": [
  {
   "cell_type": "markdown",
   "metadata": {},
   "source": [
    "<div class=\"alert alert-success\">\n",
    "    <b>Do It Yourself!</b><br>\n",
    "    Let's improve the <i>Dog</i> type we defined in previous chapters. This time we want to have the following attributes: <i>name</i>, <i>breed</i>, <i>age</i>, and <i>weight</i>. Define the <i>init</i> function and the <i>breeds</i> class attribute.\n",
    "</div>"
   ]
  },
  {
   "cell_type": "code",
   "execution_count": null,
   "metadata": {},
   "outputs": [],
   "source": [
    "class Dog:\n",
    "    \"\"\"\n",
    "    Represents a pet\n",
    "    :attributes: name, breed, age, weight\n",
    "    \"\"\"\n",
    "    def __init__(self, name: str, breed: str, age: int, weight: int) -> None:\n",
    "        \"\"\"\n",
    "        Initializes a Dog object.\n",
    "        :param name: name of the dog\n",
    "        :param breed: breed of the dog\n",
    "        :param age: age of the dog\n",
    "        :param weight: weight of the dog\n",
    "        \"\"\"\n",
    "        \n",
    "        self.name: str = name\n",
    "        self.breed: str = breed\n",
    "        self.age: int = age\n",
    "        self.weight: int = weight"
   ]
  },
  {
   "cell_type": "markdown",
   "metadata": {},
   "source": [
    "<div class=\"alert alert-success\">\n",
    "    <b>Do It Yourself!</b><br>\n",
    "    Let's add a new class attribute <i>breeds</i> with the accepted dog breeds to the <i>Dog</i> type. It must be a list with the following options: \"labrador\", \"chihuahua\", \"samoyed\", \"shar-pei\". The <i>breed</i> instance attribute should now be an integer.\n",
    "</div>"
   ]
  },
  {
   "cell_type": "code",
   "execution_count": null,
   "metadata": {},
   "outputs": [],
   "source": [
    "from typing import List"
   ]
  },
  {
   "cell_type": "code",
   "execution_count": null,
   "metadata": {},
   "outputs": [],
   "source": [
    "class Dog:\n",
    "    \"\"\"\n",
    "    Represents a dog\n",
    "    :attributes: name, breed, age, weight\n",
    "    \"\"\"\n",
    "    DOG_BREEDS: List = [\"labrador\", \"chihuahua\", \"samoyed\", \"shar-pei\"]\n",
    "        \n",
    "    def __init__(self, name: str, breed: int, age: int, weight: int) -> None:\n",
    "        \"\"\"\n",
    "        Initializes a Dog object.\n",
    "        :param name: name of the dog\n",
    "        :param breed: integer value in the range [0, 4) representing the dog breed\n",
    "        :param age: age of the dog\n",
    "        :param weight: weight of the dog\n",
    "        \"\"\"\n",
    "        \n",
    "        self.name: str = name\n",
    "        self.breed: int = breed\n",
    "        self.age: int = age\n",
    "        self.weight: int = weight"
   ]
  },
  {
   "cell_type": "markdown",
   "metadata": {},
   "source": [
    "<div class=\"alert alert-success\">\n",
    "    <b>Do It Yourself!</b><br>\n",
    "    Override the <i>__str__</i> method of the <i>Dog</i> types o it says: \"<i>name</i> is a <i>breed</i>\". Use the <i>breeds</i> class attribute to get the name of the breed.\n",
    "</div>"
   ]
  },
  {
   "cell_type": "code",
   "execution_count": null,
   "metadata": {},
   "outputs": [],
   "source": [
    "class Dog:\n",
    "    \"\"\"\n",
    "    Represents a dog\n",
    "    :attributes: name, breed, age, weight\n",
    "    \"\"\"\n",
    "    DOG_BREEDS: List = [\"labrador\", \"chihuahua\", \"samoyed\", \"shar-pei\"]\n",
    "        \n",
    "    def __init__(self, name: str, breed: int, age: int, weight: int) -> None:\n",
    "        \"\"\"\n",
    "        Initializes a Dog object.\n",
    "        :param name: name of the dog\n",
    "        :param breed: integer value in the range [0, 4) representing the dog breed\n",
    "        :param age: age of the dog\n",
    "        :param weight: weight of the dog\n",
    "        \"\"\"\n",
    "        \n",
    "        self.name: str = name\n",
    "        self.breed: int = breed\n",
    "        self.age: int = age\n",
    "        self.weight: int = weight\n",
    "            \n",
    "    def __str__(self):\n",
    "        \"\"\"\n",
    "        Returns the string representation of a Dog object.\n",
    "        returns: string representation of the Dog object.\n",
    "        \"\"\"\n",
    "        dog_breed = Dog.DOG_BREEDS[self.breed]\n",
    "        return f'{self.name} is a {dog_breed}'\n",
    "    "
   ]
  },
  {
   "cell_type": "code",
   "execution_count": null,
   "metadata": {},
   "outputs": [],
   "source": [
    "doggy = Dog('Yara', 0, 5, 12)\n",
    "print(doggy)"
   ]
  },
  {
   "cell_type": "markdown",
   "metadata": {},
   "source": [
    "<div class=\"alert alert-success\">\n",
    "    <b>Do It Yourself!</b><br>\n",
    "    Now, the <i>DogOwner</i> type can have more than one dog. Remember that a dog owner has a <i>name</i>, <i>last name</i>, and <i>age</i>. Create the <i>init</i> function so it reflects this new requirement. Afterwards, create the method <i>get_dog</i>, which adds one new dog to the list of dogs of the owner.\n",
    "</div>"
   ]
  },
  {
   "cell_type": "code",
   "execution_count": null,
   "metadata": {},
   "outputs": [],
   "source": [
    "class DogOwner:\n",
    "    \"\"\"\n",
    "    Represents a DogOwner.\n",
    "    :attributes: name, last_name, age, dog\n",
    "    \"\"\"\n",
    "    def __init__(self, name: str, last_name: str, age: int, dog = list()) -> None:\n",
    "        \"\"\" \n",
    "        Initializes a DogOwner object.\n",
    "        :param name: name of the dogowner\n",
    "        :param last_name: last_name of the dogowner\n",
    "        :param age: age of the dogowner\n",
    "        :param dog: dog of the dogowner\n",
    "        \"\"\"\n",
    "        self.name: str = name\n",
    "        self.last_name: str = last_name\n",
    "        self.age: int = age\n",
    "        self.dog: List = dog\n",
    "            \n",
    "    def get_dog(self, new_dog: str):\n",
    "        \"\"\"\n",
    "        Add new dog to the list of dogs of the owner\n",
    "        \"\"\"\n",
    "        self.dog.append(new_dog)   "
   ]
  },
  {
   "cell_type": "markdown",
   "metadata": {},
   "source": [
    "<div class=\"alert alert-success\">\n",
    "    <b>Do It Yourself!</b><br>\n",
    "    Define the <i>__str__</i> method of the <i>DogOwner</i> type. You should print the message \"<i>name</i> <i>last_name</i> is <i>age</i> years old and has the following dogs:\". Then, use the <i>join</i> method to append the result of invoking the <i>str</i> method on each dog.\n",
    "</div>"
   ]
  },
  {
   "cell_type": "code",
   "execution_count": null,
   "metadata": {},
   "outputs": [],
   "source": [
    "class DogOwner:\n",
    "    \"\"\"\n",
    "    Represents a DogOwner.\n",
    "    :attributes: name, last_name, age, dog\n",
    "    \"\"\"\n",
    "    def __init__(self, name: str, last_name: str, age: int, dog = list()) -> None:\n",
    "        \"\"\" \n",
    "        Initializes a DogOwner object.\n",
    "        :param name: name of the dogowner\n",
    "        :param last_name: last_name of the dogowner\n",
    "        :param age: age of the dogowner\n",
    "        :param dog: dog of the dogowner\n",
    "        \"\"\"\n",
    "        self.name: str = name\n",
    "        self.last_name: str = last_name\n",
    "        self.age: int = age\n",
    "        self.dog: List = dog\n",
    "            \n",
    "    def __str__(self):\n",
    "        \"\"\"\n",
    "        Returns the string representation of a DogOwner object.\n",
    "        returns: string representation of the DogOwner object.\n",
    "        \"\"\"\n",
    "        return f'{self.name}{self.last_name} is {self.age} years old and has the following dog(s): {self.dog}'\n",
    "            \n",
    "    def get_dog(self, new_dog: str):\n",
    "        \"\"\"\n",
    "        Add new dog to the list of dogs of the owner\n",
    "        \"\"\"\n",
    "        self.dog.append(new_dog)"
   ]
  },
  {
   "cell_type": "code",
   "execution_count": null,
   "metadata": {},
   "outputs": [],
   "source": [
    "dog_owner = DogOwner('John', 'Smidt', 55, ['Max'])\n",
    "print(dog_owner)\n",
    "dog_owner.get_dog('Bella')\n",
    "print(dog_owner)"
   ]
  },
  {
   "cell_type": "markdown",
   "metadata": {},
   "source": [
    "<div class=\"alert alert-success\">\n",
    "    <b>Do It Yourself!</b><br>\n",
    "    Define the <i>remove_dog</i> and <i>has_dog</i> methods on the <i>DogOwner</i> class. The former removes a dog given its name from the list of dogs. The latter verifies if a dog is part of the list of dogs given its name.\n",
    "</div>"
   ]
  },
  {
   "cell_type": "code",
   "execution_count": null,
   "metadata": {},
   "outputs": [],
   "source": [
    "class DogOwner:\n",
    "    \"\"\"\n",
    "    Represents a DogOwner.\n",
    "    :attributes: name, last_name, age, dog\n",
    "    \"\"\"\n",
    "    def __init__(self, name: str, last_name: str, age: int, dog = list()) -> None:\n",
    "        \"\"\" \n",
    "        Initializes a DogOwner object.\n",
    "        :param name: name of the dogowner\n",
    "        :param last_name: last_name of the dogowner\n",
    "        :param age: age of the dogowner\n",
    "        :param dog: dog of the dogowner\n",
    "        \"\"\"\n",
    "        self.name: str = name\n",
    "        self.last_name: str = last_name\n",
    "        self.age: int = age\n",
    "        self.dog: List = dog\n",
    "            \n",
    "    def __str__(self):\n",
    "        \"\"\"\n",
    "        Returns the string representation of a DogOwner object.\n",
    "        returns: string representation of the DogOwner object.\n",
    "        \"\"\"\n",
    "        return f'{self.name}{self.last_name} is {self.age} years old and has the following dog(s): {self.dog}'\n",
    "            \n",
    "    def get_dog(self, new_dog: str):\n",
    "        \"\"\"\n",
    "        Add new dog to the list of dogs of the owner\n",
    "        \"\"\"\n",
    "        self.dog.append(new_dog)\n",
    "        \n",
    "    def remove_dog(self, dog_name: str) -> None:\n",
    "        \"\"\"\n",
    "        Removes a dog from the list of dogs\n",
    "        :param dog_name: name of the dog to be removed\n",
    "        \"\"\"\n",
    "        for i in range(len(self.dog)):\n",
    "            if self.dog[i] == dog_name:\n",
    "                del self.dog[i]\n",
    "                break\n",
    "            \n",
    "    def has_dog(self, dog_name: str) -> bool:\n",
    "        return dog_name in self.dog\n",
    "    "
   ]
  },
  {
   "cell_type": "code",
   "execution_count": null,
   "metadata": {},
   "outputs": [],
   "source": [
    "dog_owner_2 = DogOwner('John', 'Smidt', 55, ['Max', 'Bella'])\n",
    "print(dog_owner_2.has_dog('Max')) \n",
    "dog_owner_2.remove_dog('Max')\n",
    "print(dog_owner_2.has_dog('Max'))"
   ]
  },
  {
   "cell_type": "markdown",
   "metadata": {},
   "source": [
    "<div class=\"alert alert-success\">\n",
    "    <b>Do It Yourself!</b><br>\n",
    "    A dog owner can now have other types of pets. Define the <i>Pet</i> class and create the <i>Dog</i> and <i>Cat</i> classes, which inherits from them. A Pet instance has the following attributes: <i>name</i>, <i>breed</i>, <i>age</i>, and <i>weight</i>. Now, we will define new <i>breeds</i> lists on the Dog and Cat classes. Possible cat breeds are \"siamese\", \"sphynx\", \"persian\", and \"angora\".\n",
    "</div>"
   ]
  },
  {
   "cell_type": "code",
   "execution_count": null,
   "metadata": {},
   "outputs": [],
   "source": [
    "class Pet:\n",
    "    \"\"\"\n",
    "    Represents a pet\n",
    "    :attributes: name, breed, age, weight\n",
    "    \"\"\"\n",
    "    def __init__(self, name: str, breed: int, age: int, weight: int) -> None:\n",
    "        \"\"\"\n",
    "        Initializes a Pet object.\n",
    "        :param name: name of the pet\n",
    "        :param breed: breed of the pet\n",
    "        :param age: age of the pet\n",
    "        :param weight: weight of the pet\n",
    "        \"\"\"\n",
    "        \n",
    "        self.name: str = name\n",
    "        self.breed: str = breed\n",
    "        self.age: int = age\n",
    "        self.weight: int = weight\n",
    "            \n",
    "class Dog(Pet):\n",
    "    \"\"\"\n",
    "    Represents a dog\n",
    "    :attributes, name, breed, age, weigth\n",
    "    \"\"\"\n",
    "    DOG_BREEDS: List = [\"labrador\", \"chihuahua\", \"samoyed\", \"shar-pei\"]\n",
    "            \n",
    "    def __init__(self, name: str, breed: int, age: int, weight: int) -> None:\n",
    "        \"\"\"\n",
    "        Initializes a Dog object.\n",
    "        :param name: name of the dog\n",
    "        :param breed: integer value in the range [0, 4) representing the dog breed\n",
    "        :param age: age of the dog\n",
    "        :param weight: weight of the dog\n",
    "        \"\"\" \n",
    "        super().__init__(name, breed, age, weight)\n",
    "        \n",
    "        \n",
    "class Cat(Pet):\n",
    "    \"\"\"\n",
    "    Represents a cat\n",
    "    :attributes, name, breed, age, weigth    \n",
    "    \"\"\"\n",
    "    CAT_BREEDS: List = [\"siamese\", \"sphynx\", \"persian\", \"angora\"]\n",
    "    \n",
    "    def __init__(self, name: str, breed: int, age: int, weight: int) -> None:\n",
    "        \"\"\"\n",
    "        Initializes a Cat object.\n",
    "        :param name: name of the cat\n",
    "        :param breed: integer value in the range [0, 4) representing the cat breed\n",
    "        :param age: age of the cat\n",
    "        :param weight: weight of the cat\n",
    "        \"\"\" \n",
    "        super().__init__(name, breed, age, weight)"
   ]
  },
  {
   "cell_type": "markdown",
   "metadata": {},
   "source": [
    "<div class=\"alert alert-success\">\n",
    "    <b>Do It Yourself!</b><br>\n",
    "    Copy the <i>Pet</i> class and define the method <i>compute_human_age()</i>, which only returns the age of the pet. Now, copy the <i>Dog</i> and <i>Cat</i> classes, and redefine the new method. In the case of a dog, the human age is equal to the age of the dog times 7; and the human age of a cat is equal to its age times 5. Create one <i>Cat</i> and one <i>Dog</i> object, then test your methods.\n",
    "</div>"
   ]
  },
  {
   "cell_type": "code",
   "execution_count": null,
   "metadata": {},
   "outputs": [],
   "source": [
    "class Pet:\n",
    "    \"\"\"\n",
    "    Represents a pet\n",
    "    :attributes: name, breed, age, weight\n",
    "    \"\"\"\n",
    "    def __init__(self, name: str, breed: int, age: int, weight: int) -> None:\n",
    "        \"\"\"\n",
    "        Initializes a Pet object.\n",
    "        :param name: name of the pet\n",
    "        :param breed: breed of the pet\n",
    "        :param age: age of the pet\n",
    "        :param weight: weight of the pet\n",
    "        \"\"\"\n",
    "        \n",
    "        self.name: str = name\n",
    "        self.breed: str = breed\n",
    "        self.age: int = age\n",
    "        self.weight: int = weight\n",
    "            \n",
    "    def compute_human_age(self):\n",
    "        \"\"\"\n",
    "        Returns the age of a pet\n",
    "        :returns: the age of the pet\n",
    "        \"\"\"\n",
    "        return self.age"
   ]
  },
  {
   "cell_type": "code",
   "execution_count": null,
   "metadata": {},
   "outputs": [],
   "source": [
    "class Dog(Pet):\n",
    "    \"\"\"\n",
    "    Represents a dog\n",
    "    :attributes, name, breed, age, weigth\n",
    "    \"\"\"\n",
    "    DOG_BREEDS: List = [\"labrador\", \"chihuahua\", \"samoyed\", \"shar-pei\"]\n",
    "            \n",
    "    def __init__(self, name: str, breed: int, age: int, weight: int) -> None:\n",
    "        \"\"\"\n",
    "        Initializes a Dog object.\n",
    "        :param name: name of the dog\n",
    "        :param breed: integer value in the range [0, 4) representing the dog breed\n",
    "        :param age: age of the dog\n",
    "        :param weight: weight of the dog\n",
    "        \"\"\" \n",
    "        super().__init__(name, breed, age, weight)\n",
    "        \n",
    "    def compute_human_age(self):\n",
    "        \"\"\"\n",
    "        Returns the age of a dog times 7\n",
    "        :returns: the age of the dog times 7\n",
    "        \"\"\"\n",
    "        return 7 * self.age"
   ]
  },
  {
   "cell_type": "code",
   "execution_count": null,
   "metadata": {},
   "outputs": [],
   "source": [
    "class Cat(Pet):\n",
    "    \"\"\"\n",
    "    Represents a cat\n",
    "    :attributes, name, breed, age, weigth\n",
    "    \"\"\"\n",
    "    CAT_BREEDS: List = [\"siamese\", \"sphynx\", \"persian\", \"angora\"]\n",
    "    \n",
    "    def __init__(self, name: str, breed: int, age: int, weight: int) -> None:\n",
    "        \"\"\"\n",
    "        Initializes a Cat object.\n",
    "        :param name: name of the cat\n",
    "        :param breed: integer value in the range [0, 4) representing the cat breed\n",
    "        :param age: age of the cat\n",
    "        :param weight: weight of the cat\n",
    "        \"\"\" \n",
    "        super().__init__(name, breed, age, weight)\n",
    "        \n",
    "    def compute_human_age(self):\n",
    "        \"\"\"\n",
    "        Returns the age of a cat times 5\n",
    "        :returns: the age of the cat times 5\n",
    "        \"\"\"\n",
    "        return 5 * self.age"
   ]
  },
  {
   "cell_type": "code",
   "execution_count": null,
   "metadata": {},
   "outputs": [],
   "source": [
    "pet = Pet(\"Kwak\", \"b\", 6, 15)\n",
    "pet.compute_human_age()\n",
    "dog = Dog(\"Woof\", 0, 7, 15)\n",
    "cat = Cat(\"Miauw\", 0, 5, 10)\n",
    "\n",
    "dog.compute_human_age(), cat.compute_human_age()"
   ]
  },
  {
   "cell_type": "markdown",
   "metadata": {},
   "source": [
    "<div class=\"alert alert-success\">\n",
    "    <b>Do It Yourself!</b><br>\n",
    "    Copy the <i>Pet</i> and <i>Dog</i> classes. Now, you will add the attribute <i>bark_volume</i> to the dog, which is an integer between 1 and 10 being 1 the lowest possible value and 10 the highest. Modify the <i>Dog</i> constructor to add this new instance variable.\n",
    "</div>"
   ]
  },
  {
   "cell_type": "code",
   "execution_count": null,
   "metadata": {},
   "outputs": [],
   "source": [
    "class Dog(Pet):\n",
    "    \"\"\"\n",
    "    Represents a dog\n",
    "    :attributes, name, breed, age, weigth\n",
    "    \"\"\"\n",
    "    DOG_BREEDS: List = [\"labrador\", \"chihuahua\", \"samoyed\", \"shar-pei\"]\n",
    "    DOG_VOLUME: List = [x for x in range(1, 11)]\n",
    "            \n",
    "    def __init__(self, name: str, breed: int, age: int, weight: int, bark_volume: int) -> None:\n",
    "        \"\"\"\n",
    "        Initializes a Dog object.\n",
    "        :param name: name of the dog\n",
    "        :param breed: integer value in the range [0, 4) representing the dog breed\n",
    "        :param age: age of the dog\n",
    "        :param weight: weight of the dog\n",
    "        \"\"\" \n",
    "        super().__init__(name, breed, age, weight)\n",
    "        self.bark_volume = bark_volume\n",
    "        \n",
    "    def compute_human_age(self):\n",
    "        \"\"\"\n",
    "        Returns the age of a dog times 7\n",
    "        :returns: the age of the dog times 7\n",
    "        \"\"\"\n",
    "        return 7 * self.age\n",
    "    \n",
    "#Test if it works (this was not required by the exercise)\n",
    "     def __str__(self):\n",
    "        \"\"\"\n",
    "        Returns the string reprentation of a dog object.\n",
    "        :returns: string representation of the dog object.\n",
    "        \"\"\"\n",
    "        dog_bark_volume = Dog.DOG_VOLUME[self.bark_volume]\n",
    "        return f'{self.name} has a bark volume of {dog_bark_volume}'"
   ]
  },
  {
   "cell_type": "code",
   "execution_count": null,
   "metadata": {},
   "outputs": [],
   "source": [
    "dog = Dog(\"Woof\", 0, 7, 15, 2)\n",
    "#print(dog)"
   ]
  },
  {
   "cell_type": "markdown",
   "metadata": {},
   "source": [
    "<div class=\"alert alert-success\">\n",
    "    <b>Do It Yourself!</b><br>\n",
    "    What type of inheritance do we have in the <i>Pet</i>-<i>Dog</i>-<i>Cat</i> scenario? Why?\n",
    "</div>"
   ]
  },
  {
   "cell_type": "code",
   "execution_count": null,
   "metadata": {},
   "outputs": [],
   "source": [
    "#Hierarchcal inheritance: we have a parent (base) class, namely Pet and two child (dericed) classes, namely Dog and Cat"
   ]
  },
  {
   "cell_type": "markdown",
   "metadata": {},
   "source": [
    "<div class=\"alert alert-success\">\n",
    "    <b>Do It Yourself!</b><br>\n",
    "    Create one <i>Dog</i> and one <i>Cat</i> object. Use the <i>isinstance()</i> and <i>issubclass()</i> functions to verify the relationship between your <i>Pet</i> objects and the <i>Pet</i>, <i>Dog</i>, and <i>Cat</i> classes.\n",
    "</div>"
   ]
  },
  {
   "cell_type": "code",
   "execution_count": null,
   "metadata": {},
   "outputs": [],
   "source": [
    "dog = Dog(\"Woof\", 0, 7, 15, 2)\n",
    "cat = Cat(\"Miauw\", 0, 5, 10)\n",
    "isinstance(dog, Dog), isinstance(cat, Cat), issubclass(Dog, Pet), issubclass(Cat, Pet), issubclass(Dog, Cat)"
   ]
  }
 ],
 "metadata": {
  "kernelspec": {
   "display_name": "Python 3",
   "language": "python",
   "name": "python3"
  },
  "language_info": {
   "codemirror_mode": {
    "name": "ipython",
    "version": 3
   },
   "file_extension": ".py",
   "mimetype": "text/x-python",
   "name": "python",
   "nbconvert_exporter": "python",
   "pygments_lexer": "ipython3",
   "version": "3.7.6"
  }
 },
 "nbformat": 4,
 "nbformat_minor": 4
}
