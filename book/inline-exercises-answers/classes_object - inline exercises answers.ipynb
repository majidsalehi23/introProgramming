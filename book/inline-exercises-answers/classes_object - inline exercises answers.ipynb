{
 "cells": [
  {
   "cell_type": "markdown",
   "metadata": {},
   "source": [
    "<div class=\"alert alert-success\">\n",
    "    <b>Do It Yourself!</b><br>\n",
    "    Define the class <i>Dog</i>, which represents a dog (obviously). Include a docstring with the description of the class.\n",
    "</div>"
   ]
  },
  {
   "cell_type": "code",
   "execution_count": null,
   "metadata": {},
   "outputs": [],
   "source": [
    "class Dog:\n",
    "    \"\"\"\n",
    "    Represents a dog\n",
    "    \"\"\""
   ]
  },
  {
   "cell_type": "markdown",
   "metadata": {},
   "source": [
    "<div class=\"alert alert-success\">\n",
    "    <b>Do It Yourself!</b><br>\n",
    "    Create an instance of a Dog and assign its value to a the variable <i>doggy</i>.\n",
    "</div>"
   ]
  },
  {
   "cell_type": "code",
   "execution_count": null,
   "metadata": {},
   "outputs": [],
   "source": [
    "doggy: Dog = Dog()\n",
    "doggy"
   ]
  },
  {
   "cell_type": "markdown",
   "metadata": {},
   "source": [
    "<div class=\"alert alert-success\">\n",
    "    <b>Do It Yourself!</b><br>\n",
    "    Add the attributes <i>name</i> and <i>breed</i> to the object doggy refers to. Set the values you prefer.\n",
    "</div>"
   ]
  },
  {
   "cell_type": "code",
   "execution_count": null,
   "metadata": {},
   "outputs": [],
   "source": [
    "class Dog:\n",
    "    \"\"\"\n",
    "    Represents a dog\n",
    "    attributes: name, breed\n",
    "    \"\"\"\n",
    "    def __init__(self, name: str = \"Billy\", breed: str = \"Labradoodle\"):\n",
    "        \"\"\" \n",
    "        Initializes a Dog object.\n",
    "        :param name: name argument\n",
    "        :param breed: the breed of the dog\n",
    "        \"\"\"\n",
    "        self.name: str = name\n",
    "        self.breed: str = breed\n",
    "            \n",
    "doggy: Dog = Dog(\"Yara\", \"Labrador\")\n",
    "doggy.name"
   ]
  },
  {
   "cell_type": "markdown",
   "metadata": {},
   "source": [
    "<div class=\"alert alert-success\">\n",
    "    <b>Do It Yourself!</b><br>\n",
    "    Create a function <i>print_dog(dog: Dog) -> None</i> that prints a message with the attributes of the dog. Use the dot notation to access the attributes of the dog object. Print a message that says: \"This dog is called <i>name</i> and it is a <i>breed</i>\". Use the doggy variable to verify the effect of your function.\n",
    "</div>"
   ]
  },
  {
   "cell_type": "code",
   "execution_count": null,
   "metadata": {},
   "outputs": [],
   "source": [
    "def print_dog(dog: Dog) -> None:\n",
    "    \"\"\"\n",
    "    Prints a dog object.\n",
    "    :param dog: a name, breed representation of a dog\n",
    "    \"\"\"\n",
    "    print('This dog is called %s and it is a %s' %(dog.name, dog.breed))\n",
    "    \n",
    "print_dog(doggy)"
   ]
  },
  {
   "cell_type": "markdown",
   "metadata": {},
   "source": [
    "<div class=\"alert alert-success\">\n",
    "    <b>Do It Yourself!</b><br>\n",
    "    Create a method <i>__str__(self) -> str</i> that uses different formatting characters, for instance, `{:.3f}` and use floats with more or less digits after the dot.\n",
    "</div>"
   ]
  },
  {
   "cell_type": "markdown",
   "metadata": {},
   "source": [
    "<div class=\"alert alert-success\">\n",
    "    <b>Do It Yourself!</b><br>\n",
    "    Declare a new class called <i>DogOwner</i>. This class will have the following attributes: name, last_name, age, and dog. Include the docstring that describes this class.\n",
    "</div>"
   ]
  },
  {
   "cell_type": "code",
   "execution_count": null,
   "metadata": {},
   "outputs": [],
   "source": [
    "class DogOwner:\n",
    "    \"\"\"\n",
    "    Represents a DogOwner.\n",
    "    :attributes: name, last_name, age, dog\n",
    "    \"\"\"\n",
    "    def __init__(self, name: str, last_name: str, age: int, dog: str):\n",
    "        \"\"\" \n",
    "        Initializes a DogOwner object.\n",
    "        :param name: name of the dogowner\n",
    "        :param last_name: last_name of the dogowner\n",
    "        :param age: age of the dogowner\n",
    "        :param dog: dog of the dogowner\n",
    "        \"\"\"\n",
    "        self.name: str = name\n",
    "        self.last_name: str = last_name\n",
    "        self.age: int = age\n",
    "        self.dog: str = dog"
   ]
  },
  {
   "cell_type": "markdown",
   "metadata": {},
   "source": [
    "<div class=\"alert alert-success\">\n",
    "    <b>Do It Yourself!</b><br>\n",
    "    Create a new dog owner and assign values to all of its attributes. Do not forget to assign values to his or her dog attributes!\n",
    "</div>"
   ]
  },
  {
   "cell_type": "code",
   "execution_count": null,
   "metadata": {},
   "outputs": [],
   "source": [
    "dogowner: DogOwner = DogOwner('Nora', 'Bouwman', 21, doggy.name)"
   ]
  },
  {
   "cell_type": "markdown",
   "metadata": {},
   "source": [
    "<div class=\"alert alert-success\">\n",
    "    <b>Do It Yourself!</b><br>\n",
    "    Use the function <i>help()</i> to display the documentation of the class DogOwner.\n",
    "</div>"
   ]
  },
  {
   "cell_type": "code",
   "execution_count": null,
   "metadata": {},
   "outputs": [],
   "source": [
    "help(DogOwner)"
   ]
  },
  {
   "cell_type": "markdown",
   "metadata": {},
   "source": [
    "<div class=\"alert alert-success\">\n",
    "    <b>Do It Yourself!</b><br>\n",
    "    Create the function `add_dog_lastname(owner: DogOwner) -> Dog`, which modifies the name of the dog by concatenating the last name of the owner to it. For example, if the dog's name is \"Scooby\" and the owner's last name is \"Doo\", the new name of the dog should be \"Scooby Doo\". Return the modified instance of the dog.\n",
    "</div>"
   ]
  },
  {
   "cell_type": "code",
   "execution_count": null,
   "metadata": {},
   "outputs": [],
   "source": [
    "def add_dog_lastname(owner: DogOwner) -> Dog:\n",
    "    \"\"\"\n",
    "    Modifies the name of the dog by concatenating the last name of the owner to it\n",
    "    param owner: a DogOwner object\n",
    "    \"\"\"\n",
    "    \n",
    "    print(owner.dog, owner.last_name)\n",
    "    \n",
    "add_dog_lastname(dogowner)"
   ]
  },
  {
   "cell_type": "markdown",
   "metadata": {},
   "source": [
    "<div class=\"alert alert-success\">\n",
    "    <b>Do It Yourself!</b><br>\n",
    "    Create the function `celebrate_birthday(owner : DogOwner)`, which adds 1 year to the age of the dog's owner. Do not return the new owner. Call the function and pass an instance of a DogOwner. Use the <i>print()</i> function to see how the attributes of the object have changes.\n",
    "</div>"
   ]
  },
  {
   "cell_type": "code",
   "execution_count": null,
   "metadata": {},
   "outputs": [],
   "source": [
    "print(dogowner.age)\n",
    "\n",
    "def celebrate_birthday(owner : DogOwner):\n",
    "    \"\"\"\n",
    "    Adds one year to the age of the dogowner\n",
    "    param owner: a DogOwner object\n",
    "    \"\"\"\n",
    "    owner.age += 1\n",
    "    \n",
    "celebrate_birthday(dogowner)\n",
    "print(dogowner.age)"
   ]
  },
  {
   "cell_type": "markdown",
   "metadata": {},
   "source": [
    "<div class=\"alert alert-success\">\n",
    "    <b>Do It Yourself!</b><br>\n",
    "    Create a dog owner instance, then create two copies of it: i) a shallow copy; and ii) a deep copy. Compare the dogs of the copies against the original dog with the <i>is</i> operator. What is the difference between both cases?\n",
    "</div>"
   ]
  },
  {
   "cell_type": "code",
   "execution_count": null,
   "metadata": {},
   "outputs": [],
   "source": [
    "import copy\n",
    "dogowner: DogOwner = DogOwner('John', 'Smidt', 55, doggy.name)\n",
    "dogowner2: DogOwner = copy.copy(dogowner)\n",
    "dogowner3: DogOwner = copy.deepcopy(dogowner)\n",
    "dogowner2 is dogowner, dogowner3 is dogowner, dogowner2.name is dogowner.name, dogowner3.name is dogowner.name"
   ]
  }
 ],
 "metadata": {
  "kernelspec": {
   "display_name": "Python 3",
   "language": "python",
   "name": "python3"
  },
  "language_info": {
   "codemirror_mode": {
    "name": "ipython",
    "version": 3
   },
   "file_extension": ".py",
   "mimetype": "text/x-python",
   "name": "python",
   "nbconvert_exporter": "python",
   "pygments_lexer": "ipython3",
   "version": "3.7.6"
  }
 },
 "nbformat": 4,
 "nbformat_minor": 4
}
