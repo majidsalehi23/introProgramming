{
 "cells": [
  {
   "cell_type": "markdown",
   "metadata": {},
   "source": [
    "<div class=\"alert alert-success\">\n",
    "    <b>Do It Yourself!</b><br>\n",
    "    Iterate over the list of words and add the words that start by 'a' to a new list.\n",
    "</div>"
   ]
  },
  {
   "cell_type": "code",
   "execution_count": null,
   "metadata": {},
   "outputs": [],
   "source": [
    "from typing import List\n",
    "words = ['age', 'bee', 'ask', 'cut', 'clean', 'zoo', 'add']\n",
    "\n",
    "words_sw_a : List[str] = []\n",
    "for word in words:\n",
    "    if word.startswith('a'):\n",
    "        words_sw_a.append(word)\n",
    "        \n",
    "words_sw_a"
   ]
  },
  {
   "cell_type": "markdown",
   "metadata": {},
   "source": [
    "<div class=\"alert alert-success\">\n",
    "    <b>Do It Yourself!</b><br>\n",
    "    Use a comprehension to create a list where all words in the given list are transformed into capital letters.\n",
    "</div>"
   ]
  },
  {
   "cell_type": "code",
   "execution_count": null,
   "metadata": {},
   "outputs": [],
   "source": [
    "[word.upper() for word in words]"
   ]
  },
  {
   "cell_type": "markdown",
   "metadata": {},
   "source": [
    "<div class=\"alert alert-success\">\n",
    "    <b>Do It Yourself!</b><br>\n",
    "    Remember our first exercise in this notebook? Use a comprehension to iterate over the list of words and add the words that start by 'a' to a new list.\n",
    "</div>"
   ]
  },
  {
   "cell_type": "code",
   "execution_count": null,
   "metadata": {},
   "outputs": [],
   "source": [
    "[word for word in words if word.startswith('a') ]"
   ]
  },
  {
   "cell_type": "markdown",
   "metadata": {},
   "source": [
    "<div class=\"alert alert-success\">\n",
    "    <b>Do It Yourself!</b><br>\n",
    "    We have a list of lists. The internal lists have numbers as elements. We would like to flatten the outer list; i.e. instead of have lists of lists of numbers we just want to have a list of numbers. Use a nested comprehension to achieve this goal.\n",
    "</div>"
   ]
  },
  {
   "cell_type": "code",
   "execution_count": null,
   "metadata": {},
   "outputs": [],
   "source": [
    "lst = [[1, 2, 3], [4, 5, 6, 7], [8, 9, 10], [11], [12, 13, 14, 15]]\n",
    "\n",
    "#Steps\n",
    "# aux = []\n",
    "# for num_lst  in lst:\n",
    "#     for num in num_lst:\n",
    "#         aux.append(num)\n",
    "\n",
    "#List comprehension\n",
    "[num for num_lst in lst for num in num_lst]"
   ]
  },
  {
   "cell_type": "markdown",
   "metadata": {},
   "source": [
    "<div class=\"alert alert-success\">\n",
    "    <b>Do It Yourself!</b><br>\n",
    "    We would like to use a set comprehension to create a set with all words of length 4 that are part of a given list. Remember that sets do not have duplicates and that is why we eant to use them as data type.\n",
    "</div>"
   ]
  },
  {
   "cell_type": "code",
   "execution_count": null,
   "metadata": {},
   "outputs": [],
   "source": [
    "lst = ['funny', 'that', 'little', 'yoke', 'sunny', 'side', 'up', 'in', 'the', 'span',\n",
    "       'of', 'the', 'lake']\n",
    "{word for word in lst if len(word) == 4}"
   ]
  },
  {
   "cell_type": "markdown",
   "metadata": {},
   "source": [
    "<div class=\"alert alert-success\">\n",
    "    <b>Do It Yourself!</b><br>\n",
    "    Use a comprehension to create a dictionary that stores the words within the list <i>lst</i> as keys and their length as values.\n",
    "</div>"
   ]
  },
  {
   "cell_type": "code",
   "execution_count": null,
   "metadata": {},
   "outputs": [],
   "source": [
    "from typing import Dict\n",
    "length: Dict[str, int] = {word: len(word) for word in lst}\n",
    "length"
   ]
  },
  {
   "cell_type": "markdown",
   "metadata": {},
   "source": [
    "<div class=\"alert alert-success\">\n",
    "    <b>Do It Yourself!</b><br>\n",
    "    Use a comprehension to generate a list of the numbers from 1 to 10 squared, but only conmpute the squares until you find a square that is greater than 50. Use a side effect function, such as the function to print a dot for each computation. Finally, print the generated list of squares. <br>\n",
    "<b>Hint:</b>   You may use the <code>trail</code> function\n",
    "</div>"
   ]
  },
  {
   "cell_type": "code",
   "execution_count": null,
   "metadata": {},
   "outputs": [],
   "source": [
    "# Generate list of squares with side effect\n",
    "squares = [trail(n * n) for n in range(1, 11) if n * n <= 50]\n",
    "\n",
    "# Print the generated list of squares\n",
    "squares"
   ]
  },
  {
   "cell_type": "markdown",
   "metadata": {},
   "source": [
    "<div class=\"alert alert-success\">\n",
    "    <b>Do It Yourself!</b><br>\n",
    "    Create the function <i>first_multiple_of_2</i> which gets an iterable as argument and returns the first number that is multiple of two. Build a generator that iterates over number from 1 to 10, and computes the result of multiplying a given number by 3. \n",
    "</div>"
   ]
  },
  {
   "cell_type": "code",
   "execution_count": null,
   "metadata": {},
   "outputs": [],
   "source": [
    "from typing import Iterable\n",
    "\n",
    "def first_multiple_of_2(iterable: Iterable) -> int:\n",
    "    \"\"\"\n",
    "    Returns the first number in an iterable that is a multiple of two.\n",
    "    :param iterable: an Iterable\n",
    "    \"\"\"\n",
    "    for item in iterable:\n",
    "        if item % 2 == 0:\n",
    "            return item\n",
    "        \n",
    "\n",
    "first_multiple_of_2((3 * n) for n in range(1, 10))"
   ]
  },
  {
   "cell_type": "markdown",
   "metadata": {},
   "source": [
    "<div class=\"alert alert-success\">\n",
    "    <b>Do It Yourself!</b><br>\n",
    "    Create a factory function to return the generator you created before: the one related to computing the multiplication of a number by 3.\n",
    "</div>"
   ]
  },
  {
   "cell_type": "code",
   "execution_count": null,
   "metadata": {},
   "outputs": [],
   "source": [
    "from typing import Generator\n",
    "\n",
    "def multiply_factory(m: int) -> Generator[int, None, None]:\n",
    "    \"\"\"\n",
    "    Returns a generator for the numbers that are a multiplication of a number 3 in the range [0, m)\n",
    "    :param m: an integer value\n",
    "    :returns: an iterable as a generator\n",
    "    \"\"\"\n",
    "    return (3 * n for n in range(m))\n",
    "    \n",
    "for i in multiply_factory(10):\n",
    "    print(i)"
   ]
  }
 ],
 "metadata": {
  "kernelspec": {
   "display_name": "Python 3",
   "language": "python",
   "name": "python3"
  },
  "language_info": {
   "codemirror_mode": {
    "name": "ipython",
    "version": 3
   },
   "file_extension": ".py",
   "mimetype": "text/x-python",
   "name": "python",
   "nbconvert_exporter": "python",
   "pygments_lexer": "ipython3",
   "version": "3.7.6"
  }
 },
 "nbformat": 4,
 "nbformat_minor": 4
}
