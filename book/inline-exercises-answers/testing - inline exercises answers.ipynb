{
 "cells": [
  {
   "cell_type": "markdown",
   "metadata": {},
   "source": [
    "<div class=\"alert alert-success\">\n",
    "    <b>Do It Yourself!</b><br>\n",
    "    Rewrite the else statement to an <b>assert</b> statement\n",
    "</div>"
   ]
  },
  {
   "cell_type": "code",
   "execution_count": null,
   "metadata": {},
   "outputs": [],
   "source": [
    "import math\n",
    "\n",
    "def volume(outer_radius: int, inner_radius: int, height: int) -> float:\n",
    "    \"\"\"\n",
    "    Computers the volume of a hollow cylinder based on the radius \n",
    "    of the outer and inner cylinder, using outer_radius >= inner_radius.\n",
    "    :param outer_radius: outer radius of the cylinder\n",
    "    :param inner_radius: inner radius of the cylinder\n",
    "    :param height: height of the cylinder\n",
    "    :returns volume of a hollow cylinder.\n",
    "    \"\"\"\n",
    "    assert outer_radius >= inner_radius, \"The outer cylinder should be larger than the inner cylinder\"\n",
    "    surface_c1: float = math.pi * outer_radius**2\n",
    "    surface_c2: float = math.pi * inner_radius**2\n",
    "    diff_surfaces: float = surface_c1 - surface_c2\n",
    "        \n",
    "    volume_cylinder: float = height * diff_surfaces  \n",
    "    return volume_cylinder\n",
    "\n",
    "print(volume(3, 1, 4))\n",
    "#print(volume(3, 4, 4)) #gives AssertionError"
   ]
  },
  {
   "cell_type": "markdown",
   "metadata": {},
   "source": [
    "<div class=\"alert alert-success\">\n",
    "    <b>Do It Yourself!</b><br>\n",
    "    Add at least two doctests to test the <code>volume</code> function\n",
    "</div>"
   ]
  },
  {
   "cell_type": "code",
   "execution_count": null,
   "metadata": {},
   "outputs": [],
   "source": [
    "import math\n",
    "\n",
    "def volume(outer_radius: int, inner_radius: int, height: int) -> float:\n",
    "    \"\"\"\n",
    "    Computers the volume of a hollow cylinder based on the radius \n",
    "    of the outer and inner cylinder, using outer_radius >= inner_radius.\n",
    "    :param outer_radius: outer radius of the cylinder\n",
    "    :param inner_radius: inner radius of the cylinder\n",
    "    :param height: height of the cylinder\n",
    "    :returns volume of a hollow cylinder.\n",
    "    \n",
    "    Examples and test cases:\n",
    "    >>> volume(3, 4, 4)\n",
    "    \"The outer cylinder should be larger than the inner cylinder\"\n",
    "    >>> volume (3, 1, 4)\n",
    "    100.53096491487338\n",
    "    \"\"\"\n",
    "    assert outer_radius >= inner_radius, \"The outer cylinder should be larger than the inner cylinder\"\n",
    "    surface_c1: float = math.pi * outer_radius**2\n",
    "    surface_c2: float = math.pi * inner_radius**2\n",
    "    diff_surfaces: float = surface_c1 - surface_c2\n",
    "        \n",
    "    volume_cylinder: float = height * diff_surfaces  \n",
    "    return volume_cylinder\n",
    "\n",
    "print(volume(3, 1, 4))\n",
    "#print(volume(3, 4, 4)) #gives AssertionError"
   ]
  },
  {
   "cell_type": "code",
   "execution_count": null,
   "metadata": {},
   "outputs": [],
   "source": [
    "import doctest\n",
    "doctest.run_docstring_examples(volume, globals(), verbose=True, name='volume')"
   ]
  }
 ],
 "metadata": {
  "kernelspec": {
   "display_name": "Python 3",
   "language": "python",
   "name": "python3"
  },
  "language_info": {
   "codemirror_mode": {
    "name": "ipython",
    "version": 3
   },
   "file_extension": ".py",
   "mimetype": "text/x-python",
   "name": "python",
   "nbconvert_exporter": "python",
   "pygments_lexer": "ipython3",
   "version": "3.7.6"
  }
 },
 "nbformat": 4,
 "nbformat_minor": 4
}
