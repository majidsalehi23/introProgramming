{
 "cells": [
  {
   "cell_type": "code",
   "execution_count": null,
   "metadata": {},
   "outputs": [],
   "source": [
    "import re"
   ]
  },
  {
   "cell_type": "markdown",
   "metadata": {},
   "source": [
    "<div class=\"alert alert-success\">\n",
    "    <b>Do It Yourself!</b><br>\n",
    "    Add all lines that start by 'Details:' to a list. Use the <i>search</i> function.\n",
    "</div>"
   ]
  },
  {
   "cell_type": "code",
   "execution_count": null,
   "metadata": {},
   "outputs": [],
   "source": [
    "file = open('datasets/mbox-short.txt')\n",
    "\n",
    "for line in file:\n",
    "    line: str = line.rstrip()\n",
    "    \n",
    "    if re.search('^Details:', line):\n",
    "        print(line)"
   ]
  },
  {
   "cell_type": "markdown",
   "metadata": {},
   "source": [
    "<div class=\"alert alert-success\">\n",
    "    <b>Do It Yourself!</b><br>\n",
    "    Print all lines that start by 'Received:', followed by zero-or-more charcaters, and that have the word 'nakamura'.\n",
    "</div>"
   ]
  },
  {
   "cell_type": "code",
   "execution_count": null,
   "metadata": {},
   "outputs": [],
   "source": [
    "file = open('datasets/mbox-short.txt')\n",
    "\n",
    "for line in file:\n",
    "    line: str = line.rstrip()\n",
    "    \n",
    "    if re.search('^Received.+nakamura', line):\n",
    "        print(line)"
   ]
  },
  {
   "cell_type": "markdown",
   "metadata": {},
   "source": [
    "<div class=\"alert alert-success\">\n",
    "    <b>Do It Yourself!</b><br>\n",
    "    Use regular expressions to count all the times that the email 'cwen@iupui.edu' appears on the file regardles of the line where it is placed.\n",
    "</div>"
   ]
  },
  {
   "cell_type": "code",
   "execution_count": null,
   "metadata": {},
   "outputs": [],
   "source": [
    "from typing import List\n",
    "file = open('datasets/mbox-short.txt')\n",
    "emails: List = list()\n",
    "    \n",
    "for line in file:\n",
    "    line: str = line.rstrip()\n",
    "    line_emails: List = re.findall('cwen@iupui.edu', line)\n",
    "    emails.extend(line_emails)\n",
    "    \n",
    "emails"
   ]
  },
  {
   "cell_type": "markdown",
   "metadata": {},
   "source": [
    "<div class=\"alert alert-success\">\n",
    "    <b>Do It Yourself!</b><br>\n",
    "    Use regular expressions to extract the IP numbers of lines with the following format (the IP number is the number that you find between the square brackets at the end of the string, e.g. 141.211.14.46):\n",
    "    \n",
    "    Received: from murder (mail.umich.edu [141.211.14.46])\n",
    "    \n",
    "    \n",
    "</div>"
   ]
  },
  {
   "cell_type": "markdown",
   "metadata": {},
   "source": [
    "Which of these two is correct? I think it is the second one."
   ]
  },
  {
   "cell_type": "code",
   "execution_count": null,
   "metadata": {},
   "outputs": [],
   "source": [
    "file = open('datasets/mbox-short.txt')\n",
    "\n",
    "for line in file:\n",
    "    line: str = line.rstrip()\n",
    "    \n",
    "    if re.search('\\[\\d{1,3}.\\d{1,3}.\\d{1,3}.\\d{1,3}\\]', line):\n",
    "        print(line)"
   ]
  },
  {
   "cell_type": "code",
   "execution_count": null,
   "metadata": {},
   "outputs": [],
   "source": [
    "from typing import List\n",
    "file = open('datasets/mbox-short.txt')\n",
    "ip_adresses: List = list()\n",
    "    \n",
    "for line in file:\n",
    "    line: str = line.rstrip()\n",
    "    line_ip: List = re.findall('\\[\\d{1,3}.\\d{1,3}.\\d{1,3}.\\d{1,3}\\]', line)\n",
    "    ip_adresses.extend(line_ip)\n",
    "\n",
    "ip_adresses"
   ]
  },
  {
   "cell_type": "markdown",
   "metadata": {},
   "source": [
    "<div class=\"alert alert-success\">\n",
    "    <b>Do It Yourself!</b><br>\n",
    "    Match all prices with the <i>receipt</i> string and return the sum of them all.\n",
    "</div>"
   ]
  },
  {
   "cell_type": "code",
   "execution_count": null,
   "metadata": {},
   "outputs": [],
   "source": [
    "receipt: str = \"Chocolate $2.0, Soap $10.0, Bread $1.4, Milk $2.4\"\n",
    "matches = re.findall('\\$([0-9]*(\\.[0-9]*)?)', receipt)\n",
    "matches = [float(x[0]) for x in matches]\n",
    "sum(matches)"
   ]
  },
  {
   "cell_type": "markdown",
   "metadata": {},
   "source": [
    "<div class=\"alert alert-success\">\n",
    "    <b>Do It Yourself!</b><br>\n",
    "    Write a program to look for lines of the form: 'New Revision: 39772'. Then, extract all numers and add them up.\n",
    "</div>"
   ]
  },
  {
   "cell_type": "code",
   "execution_count": null,
   "metadata": {},
   "outputs": [],
   "source": [
    "from typing import List\n",
    "file = open('datasets/mbox-short.txt')\n",
    "new_revision: List = list()\n",
    "    \n",
    "for line in file:\n",
    "    line: str = line.rstrip()\n",
    "    line_revision: List = re.findall('^New Revision: (\\d{5})', line)\n",
    "    new_revision.extend(line_revision)\n",
    "\n",
    "new_revision = [int(x) for x in new_revision]\n",
    "sum(new_revision)"
   ]
  }
 ],
 "metadata": {
  "kernelspec": {
   "display_name": "Python 3",
   "language": "python",
   "name": "python3"
  },
  "language_info": {
   "codemirror_mode": {
    "name": "ipython",
    "version": 3
   },
   "file_extension": ".py",
   "mimetype": "text/x-python",
   "name": "python",
   "nbconvert_exporter": "python",
   "pygments_lexer": "ipython3",
   "version": "3.7.6"
  }
 },
 "nbformat": 4,
 "nbformat_minor": 4
}
