{
 "cells": [
  {
   "cell_type": "markdown",
   "metadata": {},
   "source": [
    "<div class=\"alert alert-success\">\n",
    "    <b>Do It Yourself!</b><br>\n",
    "    Ask the age of a user with the <i>input</i> function. If the user is an adult (older than or equal to 18) print the message \"Hi adult!\".\n",
    "</div>"
   ]
  },
  {
   "cell_type": "code",
   "execution_count": null,
   "metadata": {},
   "outputs": [],
   "source": [
    "user: int = 17\n",
    "if user >= 18:\n",
    "    print(\"Hi adult!\")"
   ]
  },
  {
   "cell_type": "markdown",
   "metadata": {},
   "source": [
    "<div class=\"alert alert-success\">\n",
    "    <b>Do It Yourself!</b><br>\n",
    "    Ask the age of a user with the <i>input</i> function. If the user is an adult (older than or equal to 18) print the message \"Hi adult!\", otherwise print the message \"Hi kid!\".\n",
    "</div>"
   ]
  },
  {
   "cell_type": "code",
   "execution_count": null,
   "metadata": {},
   "outputs": [],
   "source": [
    "user: int = 17\n",
    "if user >= 18:\n",
    "    print(\"Hi adult!\")\n",
    "else:\n",
    "    print(\"Hi kid!\")"
   ]
  },
  {
   "cell_type": "markdown",
   "metadata": {},
   "source": [
    "<div class=\"alert alert-success\">\n",
    "    <b>Do It Yourself!</b><br>\n",
    "    Ask the age of a user with the <i>input</i> function. If the user is a kid (younger than 18) print the message \"Hi kid!\"; if the user is 18 years or older but younger than 69 print the message \"Hi adult!\"; otherwise, print the message \"Hi old pal!\".\n",
    "</div>"
   ]
  },
  {
   "cell_type": "code",
   "execution_count": null,
   "metadata": {},
   "outputs": [],
   "source": [
    "user: int = 69\n",
    "if user <18:\n",
    "    print(\"Hi kid!\")\n",
    "elif 18 <= user < 69:\n",
    "    print(\"Hi adult!\")\n",
    "else:\n",
    "    print(\"Hi old pal!\")"
   ]
  },
  {
   "cell_type": "markdown",
   "metadata": {},
   "source": [
    "<div class=\"alert alert-success\">\n",
    "    <b>Do It Yourself!</b><br>\n",
    "    Can you refactor the following program so we avoid having nested conditionals?\n",
    "</div>"
   ]
  },
  {
   "cell_type": "code",
   "execution_count": null,
   "metadata": {},
   "outputs": [],
   "source": [
    "# Modify this code\n",
    "day: int = 2\n",
    "\n",
    "if day < 3:\n",
    "    print('The week just started')\n",
    "else:\n",
    "    if day <= 5:\n",
    "        print('We are just in the middle of the week')\n",
    "    else:\n",
    "        if day < 7:\n",
    "            print('The week is ending')\n",
    "        else:\n",
    "            print('It is a fact, the week ends today')"
   ]
  },
  {
   "cell_type": "code",
   "execution_count": null,
   "metadata": {},
   "outputs": [],
   "source": [
    "day: int = 2\n",
    "\n",
    "if day < 3:\n",
    "    print('The week just started')\n",
    "elif 3 <= day <= 5:\n",
    "    print('We are just in the middle of the week')\n",
    "elif 5 < day < 7:\n",
    "    print('The week is ending')\n",
    "else:\n",
    "    print('It is a fact, the week ends today')"
   ]
  },
  {
   "cell_type": "markdown",
   "metadata": {},
   "source": [
    "<div class=\"alert alert-success\">\n",
    "    <b>Do It Yourself!</b><br>\n",
    "    Ask the user for two numbers (two calls of the <i>input</i> function can be used) so you can compute the addition of both of them. Then, print the message \"<i>num_1</i> + <i>num_2</i> = <i>sum</i>\". If the user inputs a value that cannot be converted to a number print the message \"Please, enter a valid number.\"\n",
    "</div>`"
   ]
  },
  {
   "cell_type": "code",
   "execution_count": null,
   "metadata": {},
   "outputs": [],
   "source": [
    "num_1: int = input('Give me a number ')\n",
    "num_2: int = input('Give me a number ')   \n",
    "\n",
    "try:\n",
    "    # The int(age) call can rise an exception\n",
    "    print(int(int(num_1) + int(num_2)))\n",
    "except:\n",
    "    print('Please, enter a valid number.')"
   ]
  }
 ],
 "metadata": {
  "kernelspec": {
   "display_name": "Python 3",
   "language": "python",
   "name": "python3"
  },
  "language_info": {
   "codemirror_mode": {
    "name": "ipython",
    "version": 3
   },
   "file_extension": ".py",
   "mimetype": "text/x-python",
   "name": "python",
   "nbconvert_exporter": "python",
   "pygments_lexer": "ipython3",
   "version": "3.7.6"
  }
 },
 "nbformat": 4,
 "nbformat_minor": 4
}
