{
 "cells": [
  {
   "cell_type": "markdown",
   "metadata": {},
   "source": [
    "<div class=\"alert alert-success\">\n",
    "    <b>Do It Yourself!</b><br>\n",
    "    Write <i>while</i> loop that substracts 3 from the number 81, 9 times.\n",
    "</div>"
   ]
  },
  {
   "cell_type": "code",
   "execution_count": null,
   "metadata": {},
   "outputs": [],
   "source": [
    "n: int = 81 \n",
    "i : int = 0\n",
    "    \n",
    "while i < 9:\n",
    "    n = n - 3\n",
    "    i += 1\n",
    "    \n",
    "print(n)    "
   ]
  },
  {
   "cell_type": "markdown",
   "metadata": {},
   "source": [
    "<div class=\"alert alert-success\">\n",
    "    <b>Do It Yourself!</b><br>\n",
    "    Try to rewrite the <i>while</i> loop without the <i>break</i> statement.\n",
    "</div>"
   ]
  },
  {
   "cell_type": "code",
   "execution_count": null,
   "metadata": {},
   "outputs": [],
   "source": [
    "#example in book\n",
    "count_words: int = 0\n",
    "\n",
    "while True:\n",
    "    line: str = input('> ')\n",
    "    if line == 'done':\n",
    "        break\n",
    "        \n",
    "    count_words += 1  # Same as count_words += count_words + 1\n",
    "    \n",
    "print('The number of words is', count_words)"
   ]
  },
  {
   "cell_type": "code",
   "execution_count": null,
   "metadata": {},
   "outputs": [],
   "source": [
    "#set word count to minus one because you do not want to count the 'done' as a word \n",
    "count_words_2: int = -1\n",
    "line_2: str = ''\n",
    "while line_2 != 'done':\n",
    "    line_2: str = input('> ')\n",
    "\n",
    "    count_words_2 += 1\n",
    "    \n",
    "print('The number of words is', count_words)"
   ]
  },
  {
   "cell_type": "markdown",
   "metadata": {},
   "source": [
    "<div class=\"alert alert-success\">\n",
    "    <b>Do It Yourself!</b><br>\n",
    "    Try to rewrite the <code>while</code> loop without the <code>break</code> and <code>continue</code> statements.\n",
    "</div>"
   ]
  },
  {
   "cell_type": "code",
   "execution_count": null,
   "metadata": {},
   "outputs": [],
   "source": [
    "#example in the book\n",
    "while True:\n",
    "    instruction = input('What to do next? ')\n",
    "    \n",
    "    if instruction == 'quit':\n",
    "        break\n",
    "    \n",
    "    if instruction == 'skip':\n",
    "        continue\n",
    "        print('Skip this line')\n",
    "        \n",
    "    print('Your instruction is ' + instruction)"
   ]
  },
  {
   "cell_type": "code",
   "execution_count": null,
   "metadata": {},
   "outputs": [],
   "source": [
    "#Do It Yourself exercise\n",
    "instruction: str = ''\n",
    "while instruction != 'quit':\n",
    "    instruction = input('What to do next? ')\n",
    "    \n",
    "    if instruction == 'skip':\n",
    "        pass\n",
    "        print('Skip this line')\n",
    "        \n",
    "    print('Your instruction is ' + instruction)"
   ]
  },
  {
   "cell_type": "markdown",
   "metadata": {},
   "source": [
    "<div class=\"alert alert-success\">\n",
    "    <b>Do It Yourself!</b><br>\n",
    "\n",
    "Write a program that does the following:\n",
    "\n",
    "1. Initialize a number of your choice.\n",
    "1. Initialize a counter to `0`.\n",
    "1. Initialize a `total` variable to `0`\n",
    "1. If the counter is **odd**, we add it to the `total`.\n",
    "1. If not, we do nothing.\n",
    "1. We increment the counter by `1`, and we go back to step 4.\n",
    "1. We loop until the counter is smaller than the input integer number.\n",
    "</div>"
   ]
  },
  {
   "cell_type": "code",
   "execution_count": null,
   "metadata": {},
   "outputs": [],
   "source": [
    "number: int = 9\n",
    "counter: int = 0\n",
    "total: int = 0\n",
    "    \n",
    "while counter <= number:\n",
    "    #print('counter = ', counter)\n",
    "    \n",
    "    if counter % 2 != 0:\n",
    "        total += counter\n",
    "        #print('total = ', total)\n",
    "    \n",
    "    counter += 1\n",
    "\n",
    "print('total = ', total)"
   ]
  }
 ],
 "metadata": {
  "kernelspec": {
   "display_name": "Python 3",
   "language": "python",
   "name": "python3"
  },
  "language_info": {
   "codemirror_mode": {
    "name": "ipython",
    "version": 3
   },
   "file_extension": ".py",
   "mimetype": "text/x-python",
   "name": "python",
   "nbconvert_exporter": "python",
   "pygments_lexer": "ipython3",
   "version": "3.7.6"
  }
 },
 "nbformat": 4,
 "nbformat_minor": 4
}
