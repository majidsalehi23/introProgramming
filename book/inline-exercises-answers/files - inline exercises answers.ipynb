{
 "cells": [
  {
   "cell_type": "markdown",
   "metadata": {},
   "source": [
    "<div class=\"alert alert-success\">\n",
    "    <b>Do It Yourself!</b><br>\n",
    "    Can you print the text: <br><br>\n",
    "    \"I am <br>\n",
    "    a Data Science student\" <br><br>\n",
    "    while using the newline character?\n",
    "</div>"
   ]
  },
  {
   "cell_type": "code",
   "execution_count": null,
   "metadata": {},
   "outputs": [],
   "source": [
    "print(\"I am\\na Data Science student\")"
   ]
  },
  {
   "cell_type": "markdown",
   "metadata": {},
   "source": [
    "<div class=\"alert alert-success\">\n",
    "    <b>Do It Yourself!</b><br>\n",
    "    Read the <i>logs.txt</i> file and print its lines one by one.\n",
    "</div>"
   ]
  },
  {
   "cell_type": "code",
   "execution_count": null,
   "metadata": {},
   "outputs": [],
   "source": [
    "file_logs = open('datasets/logs.txt')\n",
    "for line in file_logs:\n",
    "    print(line)"
   ]
  },
  {
   "cell_type": "markdown",
   "metadata": {},
   "source": [
    "<div class=\"alert alert-success\">\n",
    "    <b>Do It Yourself!</b><br>\n",
    "    Read the <i>logs.txt</i> file and count the ERROR lines.\n",
    "</div>"
   ]
  },
  {
   "cell_type": "code",
   "execution_count": null,
   "metadata": {},
   "outputs": [],
   "source": [
    "file_logs = open('datasets/logs.txt')\n",
    "\n",
    "count: int = 0\n",
    "for line in file_logs:\n",
    "    if line.startswith('ERROR'): \n",
    "        count += 1\n",
    "\n",
    "count"
   ]
  },
  {
   "cell_type": "markdown",
   "metadata": {},
   "source": [
    "<div class=\"alert alert-success\">\n",
    "    <b>Do It Yourself!</b><br>\n",
    "    Call the <i>content()</i> function in one of the folders of your file system.\n",
    "</div>"
   ]
  },
  {
   "cell_type": "code",
   "execution_count": null,
   "metadata": {},
   "outputs": [],
   "source": [
    "def content(dir_name: str) -> None:\n",
    "    \"\"\"\n",
    "    Prints all files in subdirectories starting from dir_name.\n",
    "    :param dir_name: starting directory\n",
    "    :returns everything in the path\n",
    "    \"\"\"\n",
    "    current_directories: str = os.listdir(dir_name)\n",
    "    \n",
    "    for name in current_directories:\n",
    "        path: str = os.path.join(dir_name, name)\n",
    "        \n",
    "        if os.path.isfile(path):\n",
    "            print(f'File is: {path}')\n",
    "        else:\n",
    "            print(f'Path is: {path}')"
   ]
  },
  {
   "cell_type": "code",
   "execution_count": null,
   "metadata": {},
   "outputs": [],
   "source": [
    "import os\n",
    "\n",
    "cwd: str = os.getcwd()\n",
    "content(cwd)"
   ]
  },
  {
   "cell_type": "markdown",
   "metadata": {},
   "source": [
    "<div class=\"alert alert-success\">\n",
    "    <b>Do It Yourself!</b><br>\n",
    "    Use the <i>walk()</i> method to check the content of a folder in your file system.\n",
    "</div>"
   ]
  },
  {
   "cell_type": "code",
   "execution_count": null,
   "metadata": {},
   "outputs": [],
   "source": [
    "for path in os.walk(cwd):\n",
    "    print(path)"
   ]
  },
  {
   "cell_type": "markdown",
   "metadata": {},
   "source": [
    "<div class=\"alert alert-success\">\n",
    "    <b>Do It Yourself!</b><br>\n",
    "    Handle the exception in the following code.\n",
    "</div>"
   ]
  },
  {
   "cell_type": "code",
   "execution_count": null,
   "metadata": {},
   "outputs": [],
   "source": [
    "# Modify the following code\n",
    "file = input('Enter the file name:')\n",
    "file_handle = open(file)\n",
    "\n",
    "print(file)"
   ]
  },
  {
   "cell_type": "code",
   "execution_count": null,
   "metadata": {},
   "outputs": [],
   "source": [
    "# Modify the following code\n",
    "file = input('Enter the file name:')\n",
    "try:\n",
    "    file_handle = open(file)\n",
    "except FileNotFoundError as e:\n",
    "    print(\"Didn't find the file!\")\n"
   ]
  },
  {
   "cell_type": "markdown",
   "metadata": {},
   "source": [
    "<div class=\"alert alert-success\">\n",
    "    <b>Do It Yourself!</b><br>\n",
    "    Copy the content of <i>logs.txt</i> in the <i>output.txt</i> file.\n",
    "</div>"
   ]
  },
  {
   "cell_type": "code",
   "execution_count": null,
   "metadata": {},
   "outputs": [],
   "source": [
    "file_out = open('datasets/output.txt', 'w')\n",
    "file_logs = open('datasets/logs.txt')\n",
    "for line in file_logs:\n",
    "    file_out.write(line)\n",
    "    \n",
    "file_out.close()"
   ]
  }
 ],
 "metadata": {
  "kernelspec": {
   "display_name": "Python 3",
   "language": "python",
   "name": "python3"
  },
  "language_info": {
   "codemirror_mode": {
    "name": "ipython",
    "version": 3
   },
   "file_extension": ".py",
   "mimetype": "text/x-python",
   "name": "python",
   "nbconvert_exporter": "python",
   "pygments_lexer": "ipython3",
   "version": "3.7.6"
  }
 },
 "nbformat": 4,
 "nbformat_minor": 4
}
