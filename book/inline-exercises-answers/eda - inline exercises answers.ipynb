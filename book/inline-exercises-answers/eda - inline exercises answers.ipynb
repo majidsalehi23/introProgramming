{
 "cells": [
  {
   "cell_type": "markdown",
   "metadata": {},
   "source": [
    "<div class=\"alert alert-success\">\n",
    "    <b>Do It Yourself!</b><br>\n",
    "       Write a program to calculate the mode of the following two lists using pure python <br>\n",
    "    <b>Hint:</b>   You could for example use a dictionary that keeps the count of each item and return the key with the highest value.\n",
    "</div>"
   ]
  },
  {
   "cell_type": "code",
   "execution_count": null,
   "metadata": {},
   "outputs": [],
   "source": [
    "words = ['pear', 'apple', 'kiwi', 'apple', 'pinapple', 'kiwi', 'apple']\n",
    "numbers = [1, 2, 1, 3, 2, 5, 1]\n",
    "from typing import List\n",
    "def compute_mode(lst: List):\n",
    "    count_dct = {}\n",
    "    for item in lst:\n",
    "        if item in count_dct:\n",
    "             count_dct[item] += 1\n",
    "        else:\n",
    "            count_dct[item] = 1\n",
    "    count_dct_sorted = sorted(count_dct.items(), key = lambda x: x[1], reverse = True)\n",
    "    return count_dct_sorted[0][0]\n",
    "\n",
    "print(compute_mode(words))\n",
    "print(compute_mode(numbers))"
   ]
  },
  {
   "cell_type": "markdown",
   "metadata": {},
   "source": [
    "<div class=\"alert alert-success\">\n",
    "    <b>Do It Yourself!</b><br>\n",
    "       Write a program to calculate the variance of the following list using pure python <br>\n",
    "</div>"
   ]
  },
  {
   "cell_type": "code",
   "execution_count": null,
   "metadata": {},
   "outputs": [],
   "source": [
    "points_lst = [84, 93, 86, 95]\n",
    "mean = sum(points_lst) / len(points_lst)\n",
    "summed = 0\n",
    "n = len(points_lst) - 1\n",
    "\n",
    "for point in points_lst:\n",
    "    summed += ((point - mean)**2)\n",
    "\n",
    "variance = summed/n\n",
    "variance "
   ]
  }
 ],
 "metadata": {
  "kernelspec": {
   "display_name": "Python 3",
   "language": "python",
   "name": "python3"
  },
  "language_info": {
   "codemirror_mode": {
    "name": "ipython",
    "version": 3
   },
   "file_extension": ".py",
   "mimetype": "text/x-python",
   "name": "python",
   "nbconvert_exporter": "python",
   "pygments_lexer": "ipython3",
   "version": "3.7.6"
  }
 },
 "nbformat": 4,
 "nbformat_minor": 4
}
