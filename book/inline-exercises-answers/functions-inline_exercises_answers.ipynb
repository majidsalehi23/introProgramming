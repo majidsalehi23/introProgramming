{
 "cells": [
  {
   "cell_type": "markdown",
   "metadata": {},
   "source": [
    "<div class=\"alert alert-success\">\n",
    "    <b>Do It Yourself!</b><br>\n",
    "    Call the function <code>type</code> taking the expression <code>'Hello world!'</code> as argument.\n",
    "</div>"
   ]
  },
  {
   "cell_type": "code",
   "execution_count": null,
   "metadata": {},
   "outputs": [],
   "source": [
    "type('Hello world!')"
   ]
  },
  {
   "cell_type": "markdown",
   "metadata": {},
   "source": [
    "<div class=\"alert alert-success\">\n",
    "    <b>Do It Yourself!</b><br>\n",
    "    Compute the length of the string \"Twist and shout\".\n",
    "</div>"
   ]
  },
  {
   "cell_type": "code",
   "execution_count": null,
   "metadata": {},
   "outputs": [],
   "source": [
    "len('Twist and shout')"
   ]
  },
  {
   "cell_type": "markdown",
   "metadata": {},
   "source": [
    "<div class=\"alert alert-success\">\n",
    "    <b>Do It Yourself!</b><br>\n",
    "    Use the <i>math</i> module to compute the square root of 361.\n",
    "</div>"
   ]
  },
  {
   "cell_type": "code",
   "execution_count": null,
   "metadata": {},
   "outputs": [],
   "source": [
    "import math\n",
    "math.sqrt(361)"
   ]
  },
  {
   "cell_type": "markdown",
   "metadata": {},
   "source": [
    "<div class=\"alert alert-success\">\n",
    "    <b>Do It Yourself!</b><br>\n",
    "    Use the <code>randint</code> function to generate 10 random integers between 20 and 80.\n",
    "</div>"
   ]
  },
  {
   "cell_type": "code",
   "execution_count": null,
   "metadata": {},
   "outputs": [],
   "source": [
    "import random\n",
    "\n",
    "i: int = 0\n",
    "\n",
    "while i < 10:\n",
    "    x = random.randint(20, 80)\n",
    "    print(x)\n",
    "    i += 1"
   ]
  },
  {
   "cell_type": "markdown",
   "metadata": {},
   "source": [
    "<div class=\"alert alert-success\">\n",
    "    <b>Do It Yourself!</b><br>\n",
    "    Re-write the program presented in the first cell of this section. Use functions composition to this aim.\n",
    "</div>"
   ]
  },
  {
   "cell_type": "code",
   "execution_count": null,
   "metadata": {},
   "outputs": [],
   "source": [
    "10 * math.log10(signal_power / noise_power)"
   ]
  },
  {
   "cell_type": "markdown",
   "metadata": {},
   "source": [
    "```{admonition} Do It Yourself!\n",
    ":class: seealso, dropdown\n",
    "Define the function `compute_area()` that computes the area of a circle. It takes an integer representing the radio of a circle as argument. The return value is the area of the circle.\n",
    "```"
   ]
  },
  {
   "cell_type": "code",
   "execution_count": null,
   "metadata": {},
   "outputs": [],
   "source": [
    "def compute_area(r: int):\n",
    "    return math.pi * r**2"
   ]
  },
  {
   "cell_type": "code",
   "execution_count": null,
   "metadata": {},
   "outputs": [],
   "source": [
    "compute_area(5)"
   ]
  },
  {
   "cell_type": "markdown",
   "metadata": {},
   "source": [
    "<div class=\"alert alert-success\">\n",
    "    <b>Do It Yourself!</b><br>\n",
    "    Define a new function <code>print_bye</code> that prints the word \"Bye\". Then define another function <code>print_all</code> that uses twice the <code>print_hello</code> function, once the <code>print_data_scientists</code> function, and twice the <code>print_bye</code> function in that order.\n",
    "</div>"
   ]
  },
  {
   "cell_type": "code",
   "execution_count": null,
   "metadata": {},
   "outputs": [],
   "source": [
    "def print_data_scientists():\n",
    "    \"\"\"\n",
    "    Prints 'Data Scientists' and it does not return a value.\n",
    "    \"\"\"\n",
    "    print('Data Scientists')\n",
    "\n",
    "    \n",
    "def print_hello():\n",
    "    \"\"\"\n",
    "    Prints 'Hello' and it does not return a value.\n",
    "    \"\"\"\n",
    "    print('Hello')\n",
    "\n",
    "\n",
    "def print_greeting():\n",
    "    \"\"\"\n",
    "    Prints the functions print_hello and print_data_scientist and it does not return a value.\n",
    "    \"\"\"\n",
    "    print_hello()\n",
    "    print_data_scientists()\n",
    "\n",
    "#Inline exercise\n",
    "def print_bye():\n",
    "    \"\"\"\n",
    "    Prints \"Bye\" and it does not return a value.\n",
    "    \"\"\"    \n",
    "    print(\"Bye\")\n",
    "\n",
    "def print_all():\n",
    "    \"\"\"\n",
    "    Prints the print_hello function twice, the print_data_scientists function once, and the print_bye function twice\n",
    "    in that order and it does not return a value.\n",
    "    \"\"\"\n",
    "    print_hello()\n",
    "    print_hello()\n",
    "    print_data_scientists()\n",
    "    print_bye()\n",
    "    print_bye()\n",
    "    \n",
    "print_all()"
   ]
  },
  {
   "cell_type": "markdown",
   "metadata": {},
   "source": [
    "\n",
    "Which value will the following code print?\n",
    "*Answer*: it will print Hello!, because that is the global variable"
   ]
  },
  {
   "cell_type": "code",
   "execution_count": null,
   "metadata": {},
   "outputs": [],
   "source": [
    "greeting : str = \"Hello!\"\n",
    "\n",
    "def print_greeting():\n",
    "    \"\"\"\n",
    "    Prints a greeting and it does not return a value.\n",
    "    \"\"\"\n",
    "    greeting : str = \"Hoi!\"\n",
    "    \n",
    "print(greeting)"
   ]
  },
  {
   "cell_type": "markdown",
   "metadata": {},
   "source": [
    "<div class=\"alert alert-success\">\n",
    "    <b>Do It Yourself!</b><br>\n",
    "    Identify returning and the void function.\n",
    "</div>"
   ]
  },
  {
   "cell_type": "code",
   "execution_count": null,
   "metadata": {},
   "outputs": [],
   "source": [
    "#Fruitful\n",
    "def sum(x: int, y: int) -> int:\n",
    "    \"\"\"\n",
    "    Returns the sum of two integers.\n",
    "    :param x: an integer value\n",
    "    :param y: an integer value\n",
    "    :returns: the sum of x and y\n",
    "    \"\"\"\n",
    "    return x + y\n",
    "\n",
    "\n",
    "sum(1, 2)"
   ]
  },
  {
   "cell_type": "code",
   "execution_count": null,
   "metadata": {},
   "outputs": [],
   "source": [
    "#Void function\n",
    "def sum(x: int, y: int) -> None:\n",
    "    \"\"\"\n",
    "    Prints the sum of two integers value and it does not return a value.\n",
    "    :param x: an integer value\n",
    "    :param y: an integer value\n",
    "    \"\"\"\n",
    "    print(x + y)\n",
    "\n",
    "\n",
    "sum(1, 2)"
   ]
  },
  {
   "cell_type": "markdown",
   "metadata": {},
   "source": [
    "<div class=\"alert alert-success\">\n",
    "    <b>Do It Yourself!</b><br>\n",
    "    Create a function that checks if a number is greater than another number. Use it in an if statement. If the number is greater print the message \"<i>num1</i> is greater than <i>num2</i>\", otherwise print \"<i>num1</i> is equal or less than <i>num2</i>\".\n",
    "</div>"
   ]
  },
  {
   "cell_type": "code",
   "execution_count": null,
   "metadata": {},
   "outputs": [],
   "source": [
    "def is_greater(num1: float, num2: float) -> str:\n",
    "    \"\"\"\n",
    "    Checks if a number is greater than another number \n",
    "    :param num 1: a float number\n",
    "    :param num 2: a float number\n",
    "    :returns a message containing if num1 is greater than num2 or not.\n",
    "    \"\"\"\n",
    "    if num1 > num2:\n",
    "        message = f\"{num1} is greater than {num2}\"\n",
    "    else:\n",
    "        message = f\"{num1} is equal or less than {num2}\"\n",
    "    return message"
   ]
  },
  {
   "cell_type": "markdown",
   "metadata": {},
   "source": [
    "<div class=\"alert alert-success\">\n",
    "    <b>Do It Yourself!</b><br>\n",
    "    Define the function <code>compute_py_hypotenuse</code> (<code>py</code> for Pythagorean) that computes the length of a right triangle's hypotenuse given the lengths of its two other sides. It takes two floats representing the sides of a right triangle as arguments. The return value is the hypotenuse of the triangle.\n",
    "</div>"
   ]
  },
  {
   "cell_type": "code",
   "execution_count": null,
   "metadata": {},
   "outputs": [],
   "source": [
    "def compute_py_hypotenuse(a: float, b: float) -> float:\n",
    "    \"\"\"\n",
    "    Computer the lenght of a right triangle's hypotenuse given the lenghts of its two other sides\n",
    "    :param a: a float representing one side of a right triangle\n",
    "    :param b: a float representing another side of a right triangle\n",
    "    :returns: the lenght of  a rights triangle's hypotenuse\n",
    "    \"\"\"\n",
    "    c = a**2 + b**2\n",
    "    return c**(1 / 2)\n",
    "\n",
    "compute_py_hypotenuse(3, 4)"
   ]
  },
  {
   "cell_type": "markdown",
   "metadata": {},
   "source": [
    "<div class=\"alert alert-success\">\n",
    "    <b>Do It Yourself!</b><br>\n",
    "    You can reuse your own function <code>compute_py_hypotenuse</code> for distance calculation. Change the implementation of <code>compute_distance</code> to reuse your <code>compute_py_hypotenuse</code>.\n",
    "</div>"
   ]
  },
  {
   "cell_type": "code",
   "execution_count": null,
   "metadata": {},
   "outputs": [],
   "source": [
    "def compute_distance(x1: int, y1: int, x2: int, y2: int) -> float:\n",
    "    \"\"\"\n",
    "    Calculates the distance between two Cartesian points.\n",
    "    :param x1: coordinate x of the first point\n",
    "    :param y1: coordinate y of the first point\n",
    "    :param x2: coordinate x of the second point\n",
    "    :param y2: coordinate y of the second point\n",
    "    :returns: the distance between the two points.\n",
    "    \"\"\"\n",
    "    \n",
    "    a = abs(x2 - x1)\n",
    "    b = abs(y2 - y1)\n",
    "    return compute_py_hypotenuse(a, b)\n",
    "\n",
    "compute_distance(1, 3, 4, 6)\n",
    "compute_distance(1, 1, 5, 4)"
   ]
  }
 ],
 "metadata": {
  "kernelspec": {
   "display_name": "Python 3 (ipykernel)",
   "language": "python",
   "name": "python3"
  },
  "language_info": {
   "codemirror_mode": {
    "name": "ipython",
    "version": 3
   },
   "file_extension": ".py",
   "mimetype": "text/x-python",
   "name": "python",
   "nbconvert_exporter": "python",
   "pygments_lexer": "ipython3",
   "version": "3.9.7"
  }
 },
 "nbformat": 4,
 "nbformat_minor": 4
}
