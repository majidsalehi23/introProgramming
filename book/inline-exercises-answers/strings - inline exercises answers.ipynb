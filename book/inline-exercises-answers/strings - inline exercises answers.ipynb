{
 "cells": [
  {
   "cell_type": "markdown",
   "metadata": {},
   "source": [
    "<div class=\"alert alert-success\">\n",
    "    <b>Do It Yourself!</b><br>\n",
    "    Assign the value 'Maurits Cornelis Escher' to the variable <i>artist</i>. Then, print the first letter of the first, middle and last name of the artist.\n",
    "</div>"
   ]
  },
  {
   "cell_type": "code",
   "execution_count": null,
   "metadata": {},
   "outputs": [],
   "source": [
    "artist: str = 'Maurits Cornelis Escher'\n",
    "\n",
    "#What I would do\n",
    "first_letters = [s[0] for s in artist.split()]\n",
    "for letter in first_letters:\n",
    "    print(letter)\n",
    "\n",
    "#What I think the exercises wanted me to do\n",
    "print(artist[0])\n",
    "print(artist[8])\n",
    "print(artist[17])"
   ]
  },
  {
   "cell_type": "markdown",
   "metadata": {},
   "source": [
    "<div class=\"alert alert-success\">\n",
    "    <b>Do It Yourself!</b><br>\n",
    "    Make sure you have declared the variable <i>artist</i> and you have assigned it the value 'Maurits Cornelis Escher'. Then, print the penultimate (second last) and antepenultimate (third last) letters of the artist name.\n",
    "</div>"
   ]
  },
  {
   "cell_type": "code",
   "execution_count": null,
   "metadata": {},
   "outputs": [],
   "source": [
    "len_artist: int = len(artist)\n",
    "print(artist[len_artist - 2])\n",
    "print(artist[len_artist - 3])"
   ]
  },
  {
   "cell_type": "markdown",
   "metadata": {},
   "source": [
    "<div class=\"alert alert-success\">\n",
    "    <b>Do It Yourself!</b><br>\n",
    "    Make sure you have declared the variable <i>artist</i> and you have assigned it the value 'Maurits Cornelis Escher'. Then, only print the characters located in an even position. Use a <i>while</i> loop.\n",
    "</div>"
   ]
  },
  {
   "cell_type": "code",
   "execution_count": null,
   "metadata": {},
   "outputs": [],
   "source": [
    "index : int = 0\n",
    "while index < len(artist):\n",
    "    if index % 2:\n",
    "        letter = artist[index]\n",
    "        print(letter)\n",
    "    index += 1"
   ]
  },
  {
   "cell_type": "markdown",
   "metadata": {},
   "source": [
    "<div class=\"alert alert-success\">\n",
    "    <b>Do It Yourself!</b><br>\n",
    "    There is a hidden text in the following cell. To find the hidden message you should print all characters in the variable <i>code</i> except for those that are equal to 'x', 'y', or 'z'. Use a <i>for</i> loop to solve this problem.\n",
    "</div>"
   ]
  },
  {
   "cell_type": "code",
   "execution_count": null,
   "metadata": {},
   "outputs": [],
   "source": [
    "code = 'Esxzcxxhyezrzy wyzyaxsz zyxbxoxrxxn yinz zyLxexxeuzwaryxdexyzn'\n",
    "##4 options given, all 4 work.\n",
    "# for letter in code:\n",
    "#     if letter not in ['x', 'y', 'z']:\n",
    "#         print(letter)\n",
    "        \n",
    "# for letter in code:\n",
    "#     if letter == 'x' or letter == 'y' or letter == 'z':\n",
    "#         continue\n",
    "#     else:\n",
    "#         print(letter)\n",
    "                \n",
    "for letter in code:\n",
    "    if letter != 'x' and letter != 'y' and letter != 'z':\n",
    "        print(letter)\n",
    "        \n",
    "# for letter in code:\n",
    "#     if letter != 'x':\n",
    "#         if letter != 'y':\n",
    "#             if letter != 'z': \n",
    "#                 print(letter)"
   ]
  },
  {
   "cell_type": "markdown",
   "metadata": {},
   "source": [
    "<div class=\"alert alert-success\">\n",
    "    <b>Do It Yourself!</b><br>\n",
    "    Assign the string 'skateboard' to the variable <i>word</i>. Now, print the first and second half in independent lines by just slicing the string and using the <i>len</i> function. \n",
    "</div>"
   ]
  },
  {
   "cell_type": "code",
   "execution_count": null,
   "metadata": {},
   "outputs": [],
   "source": [
    "word = 'skateboard'\n",
    "half = int(0.5 * len(word))\n",
    "word[:half]\n",
    "word[half:]"
   ]
  },
  {
   "cell_type": "markdown",
   "metadata": {},
   "source": [
    "<div class=\"alert alert-success\">\n",
    "    <b>Do It Yourself!</b><br>\n",
    "    Assign the string 'break' to a variable. Replace the first letter by 'g' and the last one by 't'.\n",
    "</div>"
   ]
  },
  {
   "cell_type": "code",
   "execution_count": null,
   "metadata": {},
   "outputs": [],
   "source": [
    "word_2 = 'break'\n",
    "word_2 = 'g' + word_2[1:]\n",
    "word_2 = word_2[:-1] + 't'\n",
    "word_2"
   ]
  },
  {
   "cell_type": "markdown",
   "metadata": {},
   "source": [
    "<div class=\"alert alert-success\">\n",
    "    <b>Do It Yourself!</b><br>\n",
    "    In the following cell there is information about the ticket of a concert. You want to extract the number of the ticket. Use the search pattern and previous string functions and operators to return the ticket reference.\n",
    "</div>"
   ]
  },
  {
   "cell_type": "code",
   "execution_count": null,
   "metadata": {},
   "outputs": [],
   "source": [
    "info: str = 'Ticket reference: 9090873982'\n",
    "\n",
    "for token in info:\n",
    "    if token in ['1', '2', '3', '4', '5', '6', '7', '8', '9', '0']:\n",
    "        print(token)"
   ]
  },
  {
   "cell_type": "markdown",
   "metadata": {},
   "source": [
    "<div class=\"alert alert-success\">\n",
    "    <b>Do It Yourself!</b><br>\n",
    "    Count the number of vowels in the word 'supercalifragilisticexpialidocious'.\n",
    "</div>"
   ]
  },
  {
   "cell_type": "code",
   "execution_count": null,
   "metadata": {},
   "outputs": [],
   "source": [
    "lng_word : str = 'supercalifragilisticexpialidocious'\n",
    "count : int = 0\n",
    "\n",
    "for letter in lng_word:\n",
    "    if letter == 'a' or letter == 'e' or letter == 'i' or letter == 'o' or letter == 'u':\n",
    "        count += 1\n",
    "        \n",
    "print(count)"
   ]
  },
  {
   "cell_type": "markdown",
   "metadata": {},
   "source": [
    "<div class=\"alert alert-success\">\n",
    "    <b>Do It Yourself!</b><br>\n",
    "    Count the number of vowels in the word 'supercalifragilisticexpialidocious' but this time use the <i>in</i> operator.\n",
    "</div>"
   ]
  },
  {
   "cell_type": "code",
   "execution_count": null,
   "metadata": {},
   "outputs": [],
   "source": [
    "lng_word: str = 'supercalifragilisticexpialidocious'\n",
    "count: int = 0\n",
    "\n",
    "for letter in lng_word:\n",
    "    if letter in \"aeiou\":\n",
    "        count += 1\n",
    "print(count)"
   ]
  },
  {
   "cell_type": "markdown",
   "metadata": {},
   "source": [
    "<div class=\"alert alert-success\">\n",
    "    <b>Do It Yourself!</b><br>\n",
    "    In the following cell you will find three words. Can you print them in alphabetical order? Use the comparison operator for that purpose.\n",
    "</div>"
   ]
  },
  {
   "cell_type": "code",
   "execution_count": null,
   "metadata": {},
   "outputs": [],
   "source": [
    "word1 : str = 'purple'\n",
    "word2 : str = 'green'\n",
    "word3 : str = 'red'\n",
    "    \n",
    "if (word1>word3):\n",
    "    tmp = word1\n",
    "    word1 = word3\n",
    "    word3 = tmp\n",
    "\n",
    "elif (word1>word2):\n",
    "    tmp = word1\n",
    "    word1 = word2\n",
    "    word2 = tmp\n",
    "\n",
    "elif (word2>word3):\n",
    "    tmp = word2\n",
    "    word2 = word3\n",
    "    word3 = tmp\n",
    "\n",
    "print(word1)\n",
    "print(word2)\n",
    "print(word3)"
   ]
  },
  {
   "cell_type": "markdown",
   "metadata": {},
   "source": [
    "<div class=\"alert alert-success\">\n",
    "    <b>Do It Yourself!</b><br>\n",
    "    Create three variables: the first one will contain your name, the second one your age, and the third one your passion. Print a string that says 'My name is <i>name</i>. I am <i>age</i> years old. And my passion is <i>passion</i>.' Use the format operator to create this string.\n",
    "</div>"
   ]
  },
  {
   "cell_type": "code",
   "execution_count": null,
   "metadata": {},
   "outputs": [],
   "source": [
    "name = \"Nora Bouwman\"\n",
    "age = 21\n",
    "passion = \"programming\"\n",
    "\n",
    "'My name is %s. I am %d years old. And my passion is %s' %(name, age, passion)"
   ]
  },
  {
   "cell_type": "markdown",
   "metadata": {},
   "source": [
    "<div class=\"alert alert-success\">\n",
    "    <b>Do It Yourself!</b><br>\n",
    "    Create three variables: the first one will contain your name, the second one your age, and the third one your passion. Print a string that says 'My name is <i>name</i>. I am <i>age</i> years old. And my passion is <i>passion</i>.' Use f-strings to create this string.\n",
    "</div>"
   ]
  },
  {
   "cell_type": "code",
   "execution_count": null,
   "metadata": {},
   "outputs": [],
   "source": [
    "name = \"Nora Bouwman\"\n",
    "age = 21\n",
    "passion = \"programming\"\n",
    "\n",
    "f'My name is {name}. I am {age} years old. And my passion is {passion}.'"
   ]
  }
 ],
 "metadata": {
  "kernelspec": {
   "display_name": "Python 3",
   "language": "python",
   "name": "python3"
  },
  "language_info": {
   "codemirror_mode": {
    "name": "ipython",
    "version": 3
   },
   "file_extension": ".py",
   "mimetype": "text/x-python",
   "name": "python",
   "nbconvert_exporter": "python",
   "pygments_lexer": "ipython3",
   "version": "3.7.6"
  }
 },
 "nbformat": 4,
 "nbformat_minor": 4
}
