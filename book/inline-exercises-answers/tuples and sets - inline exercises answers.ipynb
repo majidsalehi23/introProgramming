{
 "cells": [
  {
   "cell_type": "markdown",
   "metadata": {},
   "source": [
    "<div class=\"alert alert-success\">\n",
    "    <b>Do It Yourself!</b><br>\n",
    "    Create a tuple with the name of some countries as elements.\n",
    "</div>"
   ]
  },
  {
   "cell_type": "code",
   "execution_count": null,
   "metadata": {},
   "outputs": [],
   "source": [
    "#te is tuple exercise\n",
    "te1_1 : tuple = 'Netherlands', 'Belgium', 'France', 'Germany', 'Italy'\n",
    "te1_2 : tuple = ('Netherlands', 'Belgium', 'France', 'Germany', 'Italy')"
   ]
  },
  {
   "cell_type": "markdown",
   "metadata": {},
   "source": [
    "<div class=\"alert alert-success\">\n",
    "    <b>Do It Yourself!</b><br>\n",
    "    Create a tuple with your name as single element.\n",
    "</div>"
   ]
  },
  {
   "cell_type": "code",
   "execution_count": null,
   "metadata": {},
   "outputs": [],
   "source": [
    "te2_1: tuple = 'Nora',\n",
    "te2_2: tuple = ('Nora',)"
   ]
  },
  {
   "cell_type": "markdown",
   "metadata": {},
   "source": [
    "<div class=\"alert alert-success\">\n",
    "    <b>Do It Yourself!</b><br>\n",
    "    Create a tuple out of the <i>artists</i> list.\n",
    "</div>"
   ]
  },
  {
   "cell_type": "code",
   "execution_count": null,
   "metadata": {},
   "outputs": [],
   "source": [
    "artists: list = ['John Lennon', 'Amy Winehouse', 'Adele', 'Bon Jovi', 'The Rolling Stones']\n",
    "artists = tuple(artists)"
   ]
  },
  {
   "cell_type": "markdown",
   "metadata": {},
   "source": [
    "<div class=\"alert alert-success\">\n",
    "    <b>Do It Yourself!</b><br>\n",
    "    Use slicing to only return the values of 'Adele' and 'Bon Jovi' from your artists tuple.\n",
    "</div>"
   ]
  },
  {
   "cell_type": "code",
   "execution_count": null,
   "metadata": {},
   "outputs": [],
   "source": [
    "artists[2:4]"
   ]
  },
  {
   "cell_type": "markdown",
   "metadata": {},
   "source": [
    "<div class=\"alert alert-success\">\n",
    "    <b>Do It Yourself!</b><br>\n",
    "    Add a new artists to your artists tuple.\n",
    "</div>"
   ]
  },
  {
   "cell_type": "code",
   "execution_count": null,
   "metadata": {},
   "outputs": [],
   "source": [
    "artists: tuple = artists + ('Phil Collins',)\n",
    "artists"
   ]
  },
  {
   "cell_type": "markdown",
   "metadata": {},
   "source": [
    "<div class=\"alert alert-success\">\n",
    "    <b>Do It Yourself!</b><br>\n",
    "    Let's consider again the <i>poem</i> variable. We want to sort its words based on the number of times that the letter <i>a</i> appears on it. Use the DSU pattern.\n",
    "</div>"
   ]
  },
  {
   "cell_type": "code",
   "execution_count": null,
   "metadata": {},
   "outputs": [],
   "source": [
    "poem : str = 'My tactic is to talk to you and listen to you and construct with words an indestructible bridge'\n",
    "\n",
    "words : list = poem.split()\n",
    "a_words : list = list()\n",
    "\n",
    "    \n",
    "for word in words:\n",
    "    count: int = 0 \n",
    "    for letter in word:\n",
    "        if letter == 'a':\n",
    "            count += 1\n",
    "    a_words.append((count, word))\n",
    "\n",
    "    \n",
    "a_words.sort(reverse=True)\n",
    "a_words\n",
    "\n",
    "# sort_words : list = list()\n",
    "\n",
    "# for a_count, word in length_words:\n",
    "#     sort_words.append(word)\n",
    "    \n",
    "# print(sort_words)"
   ]
  },
  {
   "cell_type": "markdown",
   "metadata": {},
   "source": [
    "<div class=\"alert alert-success\">\n",
    "    <b>Do It Yourself!</b><br>\n",
    "    Assign the elements of the list <i>artist</i> to a tuple with three elements. Then, rearrange the tuple so we get them in the right order, i.e. The, Rolling, Stones.\n",
    "</div>"
   ]
  },
  {
   "cell_type": "code",
   "execution_count": null,
   "metadata": {},
   "outputs": [],
   "source": [
    "artist: list = ['Rolling', 'Stones', 'The']\n",
    "artist = tuple(artist)\n",
    "a, b, c = artist\n",
    "(a, b, c) = (c, a, b)\n",
    "artist = (a, b, c)\n",
    "artist"
   ]
  },
  {
   "cell_type": "markdown",
   "metadata": {},
   "source": [
    "<div class=\"alert alert-success\">\n",
    "    <b>Do It Yourself!</b><br>\n",
    "    Create a function that takes a list of strings and returns the shortest and longest words as a tuple.\n",
    "</div>"
   ]
  },
  {
   "cell_type": "code",
   "execution_count": null,
   "metadata": {},
   "outputs": [],
   "source": [
    "from typing import List, Tuple\n",
    "def shortest_longest(t: List[str]) -> Tuple:\n",
    "    \"\"\"\n",
    "    Returns the shortest and longest word given a list of strings\n",
    "    :param t: a list of strings\n",
    "    :returns: a tuple with the shortest and longest word\n",
    "    \n",
    "    \"\"\"\n",
    "    length_words : list = list()\n",
    "    for word in t:\n",
    "        length_words.append((len(word), word))\n",
    "    length_words.sort(reverse=True)\n",
    "    longest = length_words[0][1]\n",
    "    shortest = length_words[-1][1]\n",
    "    \n",
    "    return longest, shortest\n",
    "        \n",
    "\n",
    "words = ['What', 'matters', 'in', 'life', 'is', 'not', 'what', 'happens', 'to',\n",
    "         'you', 'but', 'what', 'you', 'remember', 'and', 'how', 'you', 'remember', 'it']\n",
    "shortest_longest(words)"
   ]
  },
  {
   "cell_type": "markdown",
   "metadata": {},
   "source": [
    "<div class=\"alert alert-success\">\n",
    "    <b>Do It Yourself!</b><br>\n",
    "    Create a function that receives a variable number of arguments and multiples all received items. Then, it returns the result.\n",
    "</div>"
   ]
  },
  {
   "cell_type": "code",
   "execution_count": null,
   "metadata": {},
   "outputs": [],
   "source": [
    "from typing import Tuple\n",
    "def multiply(*args: Tuple[int]):\n",
    "    \"\"\"\n",
    "    Returns the multiple of a variable number of arguments\n",
    "    :param *args: a variable number of arguments in the form of a tuple of integers\n",
    "    :returns: the multiple of all received items\n",
    "    \"\"\"\n",
    "    prod = 1\n",
    "    for num in args:\n",
    "        prod = prod * num\n",
    "    return prod\n",
    "\n",
    "multiply(1,2,3,4,5,6,7,8,9)"
   ]
  },
  {
   "cell_type": "markdown",
   "metadata": {},
   "source": [
    "<div class=\"alert alert-success\">\n",
    "    <b>Do It Yourself!</b><br>\n",
    "    Use the <i>zip</i> function to create a list of tuples out of <i>nums1</i> and <i>nums2</i>. Then, iterate over the zip object and return True if there is at least one pair where the first number is divisible by the second one, False otherwise.\n",
    "</div>"
   ]
  },
  {
   "cell_type": "code",
   "execution_count": null,
   "metadata": {},
   "outputs": [],
   "source": [
    "from typing import List\n",
    "nums1 = [2, 3, 4, 4, 5]\n",
    "nums2 = [5, 5, 3, 2, 5]\n",
    "\n",
    "#option 1\n",
    "is_divisible_v = False\n",
    "for x, y in zip(nums1, nums2):\n",
    "    if x % y == 0:\n",
    "        is_divisible_v = True\n",
    "\n",
    "print(is_divisible_v)\n",
    "\n",
    "#option 2\n",
    "def is_divisible(t1: List[int], t2: List[int]) -> bool:\n",
    "    \"\"\"\n",
    "    Returns a boolean indicating if there is at least one pair where the first number is divisible by the second one\n",
    "    at the same index\n",
    "    :param t1: a list of integers\n",
    "    :param t2: a list of integers\n",
    "    :returns: a boolean if there is at least one pair where the first number is divisible by the second one\n",
    "    \"\"\"\n",
    "    is_divisible_b = False\n",
    "    for x, y in zip(t1, t2):\n",
    "        if x % y == 0:\n",
    "            is_divisible_b = True\n",
    "    return is_divisible_b\n",
    "\n",
    "print(is_divisible(nums1, nums2))    "
   ]
  },
  {
   "cell_type": "markdown",
   "metadata": {},
   "source": [
    "<div class=\"alert alert-success\">\n",
    "    <b>Do It Yourself!</b><br>\n",
    "    Create a function that receives a list of integers and an integer as parameters. Use the <i>enumerate</i> function to traverse that list and return the position of the first number that is equal to the one received as parameter. If the number is not part of the list return -1.\n",
    "</div>"
   ]
  },
  {
   "cell_type": "code",
   "execution_count": null,
   "metadata": {},
   "outputs": [],
   "source": [
    "def find_index(l1: List[int], v1: int) -> int:\n",
    "    \"\"\"\n",
    "    Returns the index of first occurence of an integer in a list of integers or -1 if the integers is not in the list.\n",
    "    :param l1: a list of integers\n",
    "    :param v1: an integers of which you want to find the index in l1\n",
    "    :returns: the index of first occurence of an integer in a list of integers or -1 if the integers is not in the list. \n",
    "    \"\"\"\n",
    "    \n",
    "    for index, element in enumerate(l1):\n",
    "        if element == v1:\n",
    "            return index\n",
    "    return -1\n",
    "        \n",
    "print(find_index([1, 2, 3, 4], 5))\n",
    "print(find_index([1, 5, 5, 4], 5))"
   ]
  },
  {
   "cell_type": "markdown",
   "metadata": {},
   "source": [
    "<div class=\"alert alert-success\">\n",
    "    <b>Do It Yourself!</b><br>\n",
    "    Take the <i>eng_sp</i> dictionary and based on it create the <i>sp_eng</i> which swaps english words by spanish words. For instance, instead of having 'hello' : 'hola', the <i>sp_eng</i> dictionary will have 'hola' : 'hello'. Use the <i>items</i> method to achieve this goal.\n",
    "</div>"
   ]
  },
  {
   "cell_type": "code",
   "execution_count": null,
   "metadata": {},
   "outputs": [],
   "source": [
    "eng_sp = {'hello' : 'hola', 'dog' : 'perro', 'cat': 'gato', 'love': 'amor', 'sport' : 'deporte'}\n",
    "sp_eng = {}\n",
    "for english, spanish in eng_sp.items():\n",
    "    sp_eng[spanish] = english\n",
    "sp_eng"
   ]
  },
  {
   "cell_type": "markdown",
   "metadata": {},
   "source": [
    "<div class=\"alert alert-success\">\n",
    "    <b>Do It Yourself!</b><br>\n",
    "    Create a set of <i>proteins</i> and add some items to it.\n",
    "</div>"
   ]
  },
  {
   "cell_type": "code",
   "execution_count": null,
   "metadata": {},
   "outputs": [],
   "source": [
    "from typing import Set\n",
    "protiens: Set = set()\n",
    "protiens.add('cheese')\n",
    "protiens.add('beans')\n",
    "protiens.add('eggs')"
   ]
  },
  {
   "cell_type": "markdown",
   "metadata": {},
   "source": [
    "<div class=\"alert alert-success\">\n",
    "    <b>Do It Yourself!</b><br>\n",
    "    Create a function that receives two dictionaries as input and prints the name of the keys shared by both of them. Use sets to solve this problem.\n",
    "</div>"
   ]
  },
  {
   "cell_type": "code",
   "execution_count": null,
   "metadata": {},
   "outputs": [],
   "source": [
    "dict1: Dict = {'a' : 1, 'b': 2, 'c': 3}\n",
    "dict2: Dict = {'b': 1, 'z': 2, 'y': 3, 'c': 4}\n",
    "\n",
    "set(dict1) & set(dict2)"
   ]
  }
 ],
 "metadata": {
  "kernelspec": {
   "display_name": "Python 3",
   "language": "python",
   "name": "python3"
  },
  "language_info": {
   "codemirror_mode": {
    "name": "ipython",
    "version": 3
   },
   "file_extension": ".py",
   "mimetype": "text/x-python",
   "name": "python",
   "nbconvert_exporter": "python",
   "pygments_lexer": "ipython3",
   "version": "3.7.6"
  }
 },
 "nbformat": 4,
 "nbformat_minor": 4
}
