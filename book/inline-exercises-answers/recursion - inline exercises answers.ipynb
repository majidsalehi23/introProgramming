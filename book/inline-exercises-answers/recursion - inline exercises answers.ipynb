{
 "cells": [
  {
   "cell_type": "markdown",
   "metadata": {},
   "source": [
    "<div class=\"alert alert-success\">\n",
    "    <b>Do It Yourself!</b><br>\n",
    "    Create the recursive version of the function <i>sum_digits</i>. As before, the function takes a number as input and returns the sum of all the digits of such number. For instance, the output for the input 13450 is 13. \n",
    "</div>"
   ]
  },
  {
   "cell_type": "code",
   "execution_count": null,
   "metadata": {},
   "outputs": [],
   "source": [
    "#This is not a recursive function \n",
    "def sum_digits(num: int) -> int:\n",
    "    \"\"\"\n",
    "    Returns the sum of all digits of a number\n",
    "    :param num: an integer number\n",
    "    :returns: the sum of all digits of a number\n",
    "    \"\"\"\n",
    "    if num == 0:\n",
    "        return 0\n",
    "    return (num % 10 + sum_digits(int(num / 10)))\n",
    "\n",
    "sum_digits(13450)"
   ]
  },
  {
   "cell_type": "markdown",
   "metadata": {},
   "source": [
    "<div class=\"alert alert-success\">\n",
    "    <b>Do It Yourself!</b><br>\n",
    "    Which is the base case of the recursive function <i>sum_digits</i>? \n",
    "</div>"
   ]
  },
  {
   "cell_type": "code",
   "execution_count": null,
   "metadata": {},
   "outputs": [],
   "source": [
    "#The base case is num=0."
   ]
  },
  {
   "cell_type": "markdown",
   "metadata": {},
   "source": [
    "<div class=\"alert alert-success\">\n",
    "    <b>Do It Yourself!</b><br>\n",
    "    Add at least two tests to check the output of the <i>sum_digits</i> function. Check the base case output and other arbitrary case. Verify the output given by the <i>doctest</i> module.\n",
    "</div>"
   ]
  },
  {
   "cell_type": "code",
   "execution_count": null,
   "metadata": {},
   "outputs": [],
   "source": [
    "#This is not a recursive function \n",
    "def sum_digits(num: int) -> int:\n",
    "    \"\"\"\n",
    "    Returns the sum of all digits of a number\n",
    "    :param num: an integer number\n",
    "    :returns: the sum of all digits of a number\n",
    "    \n",
    "    >>> sum_digits(0) # base case\n",
    "    0\n",
    "    >>> sum_digits(13450) # arbitrary number\n",
    "    13\n",
    "    >>> sum_digits(123) # arbitrary number\n",
    "    6\n",
    "    \"\"\"    \n",
    "    \n",
    "    if num == 0:\n",
    "        return 0\n",
    "    return (num % 10 + sum_digits(int(num / 10)))\n",
    "\n",
    "sum_digits(13450)"
   ]
  },
  {
   "cell_type": "code",
   "execution_count": null,
   "metadata": {},
   "outputs": [],
   "source": [
    "import doctest"
   ]
  },
  {
   "cell_type": "code",
   "execution_count": null,
   "metadata": {},
   "outputs": [],
   "source": [
    "doctest.testmod(verbose=True)  # with details"
   ]
  },
  {
   "cell_type": "markdown",
   "metadata": {},
   "source": [
    "<div class=\"alert alert-success\">\n",
    "    <b>Do It Yourself!</b><br>\n",
    "    Create the recursive function <i>countup</i>, which takes an integer as parameter and prints numbers from 1 until the input number in a recursive way.\n",
    "</div>"
   ]
  },
  {
   "cell_type": "code",
   "execution_count": null,
   "metadata": {},
   "outputs": [],
   "source": [
    "def countup(n: int) -> None:\n",
    "    \"\"\" \n",
    "    Prints by means of recursion increasing values from 1 to n \n",
    "    and prints \"Ready!\" for n = 0.\n",
    "    :param n: integer value as counter\n",
    "    \"\"\"\n",
    "    if n <= 0:\n",
    "        print('Ready!')\n",
    "    else:\n",
    "        countup(n - 1)\n",
    "        print(n)\n",
    "        \n",
    "countup(3)"
   ]
  }
 ],
 "metadata": {
  "kernelspec": {
   "display_name": "Python 3",
   "language": "python",
   "name": "python3"
  },
  "language_info": {
   "codemirror_mode": {
    "name": "ipython",
    "version": 3
   },
   "file_extension": ".py",
   "mimetype": "text/x-python",
   "name": "python",
   "nbconvert_exporter": "python",
   "pygments_lexer": "ipython3",
   "version": "3.7.6"
  }
 },
 "nbformat": 4,
 "nbformat_minor": 4
}
