{
 "cells": [
  {
   "cell_type": "markdown",
   "metadata": {
    "slideshow": {
     "slide_type": "slide"
    }
   },
   "source": [
    "# Function Definition"
   ]
  },
  {
   "cell_type": "markdown",
   "metadata": {},   "source": [
    "## Table of Contents\n",
    "\n",
    "- [1. Introduction](#1.-Introduction)\n",
    "- [2. Function Definition](#2.-Function-Definition)\n",
    "- [3. Docstring and Type Hints](#3.-Docstring-and-Type-Hints)\n",
    "- [4. Parameters, Arguments, and Local Variables](#4.-Parameters,-Arguments,-and-Local-Variables)\n",
    "- [5. Return Values](#5.-Return-Values)\n",
    "- [6. List as Arguments](#6.-List-as-Arguments)\n",
    "- [7. Flow of Execution](#7.-Flow-of-Execution)\n",
    "- [8. Function Composition](#8.-Function-Composition)\n",
    "- [9. Encapsulation](#9.-Encapsulation)\n",
    "- [10. Generalization](#10.-Generalization)\n",
    "- [11. Summary](#11.-summary)"
   ]
  },
  {
   "cell_type": "markdown",
   "metadata": {
    "slideshow": {
     "slide_type": "slide"
    }
   },
   "source": [
    "## 1. Introduction\n",
    "\n",
    "Using functions defined by third parties might be useful especially when you want to focus on the development of your core functionality.\n",
    "For instance, if you need to compute the logarithm on base 10 of a number, it might be useful to use the `math` module, rather than implementing it from scratch.\n",
    "When relying on these external implementations, you do not need to reinvent the wheel.\n",
    "However, functions do not appear only on external modules or packages, or as part of the Python built-in functions.\n",
    "Sometimes, you might experience the need to use *your own code* in several parts of your program.\n",
    "In such cases, you are in charge of defining your own functions offering the features you need in your program.\n",
    "\n",
    "When defining your functions, you should give them a **meaningful name** and then follow computational thinking steps where you:\n",
    "- Identify the inputs or **parameters** of your function.\n",
    "- Decide on the output or **result** of your function.\n",
    "- Consider any **side effects** (e.g. printing, raising exceptions).\n",
    "- Implement the steps or **algorithm** to use the inputs to produce the output.\n",
    "\n",
    "In parallel, don't forget to use **coding style conventions**, write **readable code**, and document your function with a proper **docstring** and **type hints** (for both your inputs and output).\n",
    "(You should also start considering your **test cases** but this topic won't be covered in this chapter.)\n",
    "In the end, the code is a way to *communicate not just with the computer but also with other people!*\n",
    "\n",
    "In this chapter, you will get to know how to define a function and its main components (e.g. parameters, return type, docstring, assumptions and assertions).\n",
    "We will also reflect upon the main computer science concepts behind the use and definition of functions (e.g. encapsulation, generalization)."
   ]
  },
  {
   "cell_type": "markdown",
   "metadata": {
    "slideshow": {
     "slide_type": "slide"
    }
   },
   "source": [
    "## 2. Function Definition\n",
    "\n",
    "So far, we have only been using existing Python functions, but it is also possible\n",
    "to define our own functions. This gives us a very powerful tool when developing software.\n",
    "It allows us to structure our code by means of abstraction and hiding the internal computations on the body of a function.\n",
    "Additionally, recall that a function is a mechanism to facilitate reuse. \n",
    "\n",
    "A lot of programmers are lazy and use the principle of *copy-and-paste*. \n",
    "If they see a few lines of code that do the job, they copy and paste them, instead of creating a proper function. \n",
    "This behavior leads to *code clones* and code clones\n",
    "hamper maintenance in the long run. \n",
    "If it is one or few (the rule of thumb would be three) statements it is fine, but if you copy and paste more statements, please, extract that functionality and create a proper function.\n",
    "\n",
    "A **function definition** specifies the name of a new function and the\n",
    "sequence of statements that run when the function is called.\n",
    "(You can have also function calls of your own functions.)\n",
    "In Python, it looks as follows:\n",
    "\n",
    "```python\n",
    "def function_name(param1, param2, ...):\n",
    "    # function_body: instructions\n",
    "```\n",
    "\n",
    "As you can see, we always start with the `def` keyword, followed by the function name (i.e. `function_name`).\n",
    "We then open parentheses `(` and we write down the sequence of **parameters** the function is expecting.\n",
    "This sequence can be *empty* but needs to be *finite*.\n",
    "Afterward, we close parentheses `)` and add a colon `:` to indicate that the function body is about to start.\n",
    "Using the right indentation, we write the **body** of the function, which is nothing more than the sequence of instructions that offer the functionality.\n",
    "By convention, indentation is always four spaces or a tab.\n",
    "Optionally, you can **return** a value if that is the intention of the function.\n",
    "We do not usually write the `...`. \n",
    "In this example, the symbol indicates that you can expect more parameters.\n",
    "Do not confuse it with the *ellipsis* symbol in Python (which serves different purposes depending on its use). \n",
    "\n",
    "The challenge for a programmer is to identify which group of instructions is suited to transform into a function, which name should be givenn to the function, which parameters to include, and which value to return. \n",
    "Additionally, when you have written too many parameters, this might be an indication that you should split your functionality even more or better design your function (for instance, by expecting a list rather than independent values as a parameter).\n",
    "It is a matter of experience but also of continuously reflecting on your code\n",
    "and applying refactorings when you are not satisfied.\n",
    "\n",
    "Let us see a real example of a function definition."
   ]
  },
  {
   "cell_type": "code",
   "execution_count": null,
   "metadata": {
    "slideshow": {
     "slide_type": "fragment"
    }
   },
   "outputs": [],
   "source": [
    "def print_hello():\n",
    "    print('Hello')"
   ]
  },
  {
   "cell_type": "markdown",
   "metadata": {
    "slideshow": {
     "slide_type": "fragment"
    }
   },
   "source": [
    "The name of the new function, in this case, is `print_hello`, it has no parameters, and returns no value.\n",
    "On the contrary, it only prints the word \"Hello\".\n",
    "Printing is not the same as returning a value, instead it is considered to be a side effect of your code: \n",
    "the print function is actually writing some text in the console.\n",
    "Regarding the function body, it only has one statement, namely `print('Hello')`."
   ]
  },
  {
   "cell_type": "markdown",
   "metadata": {},
   "source": [
    "\n",
    "<div class=\"alert alert-info\">\n",
    "    <b>Function names</b><br>\n",
    "    The rules for function names are the same as for variable names: letters, numbers, and underscores are valid chracters to use, but the first character cannot be a number. \n",
    "    You cannot use a keyword as the name of a function, and you should ensure a variable and a function do not have the same name.\n",
    "</div>"
   ]
  },
  {
   "cell_type": "markdown",
   "metadata": {
    "slideshow": {
     "slide_type": "slide"
    }
   },
   "source": [
    "Defining a function creates a **function object**, which has type `function`."
   ]
  },
  {
   "cell_type": "code",
   "execution_count": null,
   "metadata": {
    "slideshow": {
     "slide_type": "fragment"
    }
   },
   "outputs": [],
   "source": [
    "type(print_hello)"
   ]
  },
  {
   "cell_type": "markdown",
   "metadata": {},
   "source": [
    "After executing the cell with the definition of the `print_hello` function, you might have noticed that there was no observable output or effect.\n",
    "Function definitions get executed just like other statements, but the effect is that function objects are created (you cannot really observe this by just executing the previous cell). \n",
    "However, the statements inside the function do not run until the function is called.\n",
    "You need to define a function before you can run it.\n",
    "\n",
    "In other words, when you define a function you are telling your program that it can use this functionality; it makes it available to the rest of the program.\n",
    "However, to call it, you need to proceed as we did in the previous chapter:\n",
    "write the name of the function (i.e. `print_hello`) with the right number and value of expected arguments (in this case, we have none)."
   ]
  },
  {
   "cell_type": "code",
   "execution_count": null,
   "metadata": {},
   "outputs": [],
   "source": [
    "print_hello()"
   ]
  },
  {
   "cell_type": "markdown",
   "metadata": {},
   "source": [
    "Voilá! Now we can see the word \"Hello\" after being printed in the console."
   ]
  },
  {
   "cell_type": "markdown",
   "metadata": {
    "slideshow": {
     "slide_type": "slide"
    }
   },
   "source": [
    "Let us define another function `print_data_scientists`."
   ]
  },
  {
   "cell_type": "code",
   "execution_count": null,
   "metadata": {
    "slideshow": {
     "slide_type": "fragment"
    }
   },
   "outputs": [],
   "source": [
    "# First define the function to make it available\n",
    "def print_data_scientists():\n",
    "    print('Data Scientists')"
   ]
  },
  {
   "cell_type": "code",
   "execution_count": null,
   "metadata": {},
   "outputs": [],
   "source": [
    "# Then, you will be able to call it\n",
    "print_data_scientists()"
   ]
  },
  {
   "cell_type": "markdown",
   "metadata": {
    "slideshow": {
     "slide_type": "fragment"
    }
   },
   "source": [
    "You can define a new function `print_greeting` that calls the other 2 functions."
   ]
  },
  {
   "cell_type": "code",
   "execution_count": null,
   "metadata": {
    "slideshow": {
     "slide_type": "fragment"
    }
   },
   "outputs": [],
   "source": [
    "# First define the function to make it available\n",
    "def print_greeting():\n",
    "    print_hello()\n",
    "    print_data_scientists()"
   ]
  },
  {
   "cell_type": "code",
   "execution_count": null,
   "metadata": {
    "slideshow": {
     "slide_type": "fragment"
    }
   },
   "outputs": [],
   "source": [
    "# Then, you will be able to call it\n",
    "print_greeting()"
   ]
  },
  {
   "cell_type": "markdown",
   "metadata": {
    "tags": []
   },
   "source": [
    "### The `pass` Statement\n",
    "\n",
    "When you are still thinking about the design of a function but your would like to avoid having compilation errors raised due to the absence of a function body, you can always use the `pass` statement.\n",
    "It can, in general, be used as a placeholder for your coming implementations.\n",
    "In the end, the `pass` statement has no effect on your program and you can place it wherever a regular statement is expected.\n",
    "\n",
    "For example, suppose you want to implement the `print_greeting_in _lan` function, which prints a greeting in a language given as parameter.\n",
    "If you so not write anything, after the colon, you will get a compilation error."
   ]
  },
  {
   "cell_type": "code",
   "execution_count": null,
   "metadata": {},
   "outputs": [],
   "source": [
    "def print_greeting_in_lang(language):"
   ]
  },
  {
   "cell_type": "markdown",
   "metadata": {},
   "source": [
    "However, if you write `pass` as its unique statetment, the problem will be solved without introducing any effect in your program.\n",
    "(Later, you can replace it with the expected code.)"
   ]
  },
  {
   "cell_type": "code",
   "execution_count": null,
   "metadata": {},
   "outputs": [],
   "source": [
    "def print_greeting_in_lang(language):\n",
    "    pass"
   ]
  },
  {
   "cell_type": "markdown",
   "metadata": {
    "slideshow": {
     "slide_type": "slide"
    }
   },
   "source": [
    "## 3. Docstring and Type Hints\n",
    "\n",
    "### Docstring\n",
    "One of the elements you need to specify when writing a function is its *docstring*.\n",
    "A **docstring** is a string at the beginning of a function that explains its interface.\n",
    "An **interface** indicates what functionality is offered by the function, which parameters have been defined, and what return values or side effects are to be expected.\n",
    "Writing this kind of documentation is an important part of the interface design. \n",
    "A well designed interface should be simple to explain; if you have a hard time explaining one of your functions, maybe the interface should be improved.\n",
    "\n",
    "In Python, docstrings are written as follows:\n",
    "\n",
    "```python\n",
    "def function_name(param1, param2, ...):\n",
    "    \"\"\" Your docstring goes here!\n",
    "    \"\"\"\n",
    "    # This is just a normal comment, not a docstring\n",
    "```\n",
    "Just immediately after the function header (after the colon `:`), we write the docstring as a triple-quoted  or multiline strings (in between simple or double quotes, either `'''` or `\"\"\"`).\n",
    "You need to have three at the beginning and three at the end.\n",
    "The docstring should include:\n",
    "- Description of the **purpose** of the function.\n",
    "- Any considered **assumptions**.\n",
    "- Description of the **parameters**.\n",
    "- Information about the type and value of the **result**.\n",
    "\n",
    "There are different styles to properly write a docstring, for instance:\n",
    "- [Sphinx format](https://sphinx-rtd-tutorial.readthedocs.io/en/latest/docstrings.html)\n",
    "- [Google format](https://sphinxcontrib-napoleon.readthedocs.io/en/latest/example_google.html)\n",
    "- [NumPy format](https://sphinxcontrib-napoleon.readthedocs.io/en/latest/example_numpy.html)\n",
    "\n",
    "In this course, we use the Sphinx format, but feel free to use the one you prefer! \n",
    "Just be consistent throughout the program."
   ]
  },
  {
   "cell_type": "markdown",
   "metadata": {},
   "source": [
    "In our previous examples, we did not write any docstring.\n",
    "We definitely need to fix this, because, even though the program still works, other people or our future selves won't be able to understand the purpose of such a code.\n",
    "Lack of proper documentation can bring millionaire losses to a company!"
   ]
  },
  {
   "cell_type": "code",
   "execution_count": null,
   "metadata": {
    "slideshow": {
     "slide_type": "fragment"
    }
   },
   "outputs": [],
   "source": [
    "def print_hello():\n",
    "    \"\"\"\n",
    "    Prints 'Hello' and it does not return a value.\n",
    "    \"\"\"\n",
    "    print('Hello')\n",
    "\n",
    "def print_data_scientists():\n",
    "    \"\"\"\n",
    "    Prints 'Data Scientists' and it does not return a value.\n",
    "    \"\"\"\n",
    "    print('Data Scientists')\n",
    "    \n",
    "def print_greeting():\n",
    "    \"\"\"\n",
    "    Prints the functions print_hello and print_data_scientist \n",
    "    and it does not return a value.\n",
    "    \"\"\"\n",
    "    print_hello()\n",
    "    print_data_scientists()"
   ]
  },
  {
   "cell_type": "code",
   "execution_count": null,
   "metadata": {},
   "outputs": [],
   "source": [
    "print_greeting()"
   ]
  },
  {
   "cell_type": "markdown",
   "metadata": {},
   "source": [
    "If you reflect upon this code, you can see that we can abstract the functionality even more.\n",
    "For instance, `print_hello` and `print_data_scientists` are both calling the function `print`.\n",
    "The only difference is the string they are passing as argument.\n",
    "Let us abstract the common functionality and also see the role of type hints."
   ]
  },
  {
   "cell_type": "code",
   "execution_count": null,
   "metadata": {},
   "outputs": [],
   "source": [
    "def print_word(word: str) -> None:\n",
    "    \"\"\"\n",
    "    Prints a word and it does not return a value.\n",
    "    :param word: word to be printed.\n",
    "    \"\"\"\n",
    "    print(word)\n",
    "\n",
    "    \n",
    "def print_greeting() -> None:\n",
    "    \"\"\"\n",
    "    Prints the words \"Hello\" and \"Data Scientists\" \n",
    "    and it does not return a value.\n",
    "    \"\"\"\n",
    "    print_word('Hello')\n",
    "    print_word('Data Scientists')"
   ]
  },
  {
   "cell_type": "markdown",
   "metadata": {},
   "source": [
    "### Type Hints\n",
    "\n",
    "We extracted a new function called `print_word`, which takes a string as argument and prints it.\n",
    "Notice that we added `word` as the only parameter of the function, however, it has additional information:\n",
    "After the parameter there is a colon `:` followed by the expected type (**type hint**) of such parameter (in this case, `str`) and the docstring has been updated.\n",
    "We also added a type hint to the result: `-> None`.\n",
    "`None` indicates that the function returns no value.\n",
    "Return type hints are always preceeded by an arrow `->` and followed by the colon `:` that indicates the start of the function body.\n",
    "Type hints are not enforced during the execution of your program, meaning that without any external tool, they are used as documentation rather than as part of the program execution.\n",
    "To know more about type hints you can read the Python Enhancement Proposal (PEP) that introduced it [here](https://peps.python.org/pep-0484/).\n",
    "\n",
    "In this book, we use the [`typing` module](https://docs.python.org/3.9/library/typing.html) to write more complex type hints but Python 3.9 already offers native support (e.g. lists and dictionaries)."
   ]
  },
  {
   "cell_type": "markdown",
   "metadata": {},
   "source": [
    "But now, wait a minute... `print_word` is not doing anything else than calling the `print` function.\n",
    "Can we refactor our code even more?"
   ]
  },
  {
   "cell_type": "code",
   "execution_count": null,
   "metadata": {},
   "outputs": [],
   "source": [
    "def print_greeting() -> None:\n",
    "    \"\"\"\n",
    "    Prints the words \"Hello\" and \"Data Scientists\" \n",
    "    and it does not return a value.\n",
    "    \"\"\"\n",
    "    print('Hello')\n",
    "    print('Data Scientists')"
   ]
  },
  {
   "cell_type": "markdown",
   "metadata": {},
   "source": [
    "Notice that more is not always synonym of better (especially in programming)! \n",
    "The simpler, the better."
   ]
  },
  {
   "cell_type": "markdown",
   "metadata": {
    "tags": []
   },
   "source": [
    "<div class=\"alert alert-success\">\n",
    "    <b>Do It Yourself!</b><br>\n",
    "    Define a new function <code>print_bye</code> that prints the word \"Bye\". Then define another function <code>print_all</code> that uses twice the <code>print_hello</code> function, once the <code>print_data_scientists</code> function, and twice the <code>print_bye</code> function in that order.\n",
    "</div>"
   ]
  },
  {
   "cell_type": "code",
   "execution_count": null,
   "metadata": {
    "tags": []
   },
   "outputs": [],
   "source": [
    "# Remove this line and add your code here"
   ]
  },
  {
   "cell_type": "markdown",
   "metadata": {},
   "source": [
    "## 4. Parameters, Arguments, and Local Variables\n",
    "\n",
    "Functions may require **arguments**. For instance, `math.sin` requires a number as argument.\n",
    "Some functions take more than one argument. For instance, `math.pow` takes the base and exponent as arguments.\n",
    "Inside the function, the arguments are assigned to variables called **parameters**."
   ]
  },
  {
   "cell_type": "markdown",
   "metadata": {},
   "source": [
    "<div class=\"alert alert-info\">\n",
    "    <b>Dynamically typed language</b><br>\n",
    "    Python is a <i>dynamically typed language</i>, this means that the Python interpreter computes the types of variables and arguments.\n",
    "</div>"
   ]
  },
  {
   "cell_type": "markdown",
   "metadata": {},
   "source": [
    "Python does not require to add types to the function arguments.\n",
    "However, it is a good practice to provide the types of the arguments and return value of a function explicitly by means of *type hints* when they are known in advance! \n",
    "This must be done just as *strongly-typed languages* do it.\n",
    "Currently, Python does not check the use of type hints, but in the future who knows..."
   ]
  },
  {
   "cell_type": "code",
   "execution_count": null,
   "metadata": {
    "slideshow": {
     "slide_type": "fragment"
    }
   },
   "outputs": [],
   "source": [
    "def print_text_twice(text_arg: str) -> None:\n",
    "    \"\"\"\n",
    "    Prints the text given as parameter twice and it does not return a value.\n",
    "    :param text_arg: text to print \n",
    "    \"\"\"\n",
    "    print(text_arg)\n",
    "    print(text_arg)"
   ]
  },
  {
   "cell_type": "markdown",
   "metadata": {
    "slideshow": {
     "slide_type": "slide"
    }
   },
   "source": [
    "In the next cell we do not know the type of the arguments, so we  provide the type `Any` from the `typing` module."
   ]
  },
  {
   "cell_type": "code",
   "execution_count": null,
   "metadata": {
    "slideshow": {
     "slide_type": "fragment"
    }
   },
   "outputs": [],
   "source": [
    "from typing import Any \n",
    "\n",
    "def print_twice(any_arg: Any) -> None:\n",
    "    \"\"\"\n",
    "    Prints the text given as parameter twice and it does not return a value.\n",
    "    :param any_arg: argument to print \n",
    "    \"\"\"\n",
    "    print(any_arg)\n",
    "    print(any_arg)"
   ]
  },
  {
   "cell_type": "markdown",
   "metadata": {
    "slideshow": {
     "slide_type": "fragment"
    }
   },
   "source": [
    "The function `print_twice` assigns the argument to a parameter named `any_arg`. \n",
    "When the function is called, it prints the value of the parameter (whatever it is) twice.\n",
    "This function works with any value that can be printed."
   ]
  },
  {
   "cell_type": "code",
   "execution_count": null,
   "metadata": {
    "slideshow": {
     "slide_type": "fragment"
    }
   },
   "outputs": [],
   "source": [
    "print_twice(42)"
   ]
  },
  {
   "cell_type": "code",
   "execution_count": null,
   "metadata": {
    "slideshow": {
     "slide_type": "fragment"
    }
   },
   "outputs": [],
   "source": [
    "import math\n",
    "print_twice(math.pi)"
   ]
  },
  {
   "cell_type": "code",
   "execution_count": null,
   "metadata": {
    "slideshow": {
     "slide_type": "fragment"
    }
   },
   "outputs": [],
   "source": [
    "print_twice('Data Science ' * 6)"
   ]
  },
  {
   "cell_type": "markdown",
   "metadata": {
    "slideshow": {
     "slide_type": "fragment"
    }
   },
   "source": [
    "The argument is always evaluated before the function is called, so in the example, the expression `'Data Science ' * 6` is only evaluated once.\n",
    "\n",
    "It is also possible to pass a variable as argument to a function parameter.\n",
    "*The name of the variable is independent of the name of the argument.*"
   ]
  },
  {
   "cell_type": "code",
   "execution_count": null,
   "metadata": {
    "slideshow": {
     "slide_type": "fragment"
    }
   },
   "outputs": [],
   "source": [
    "cs_str: str = 'Computer Science'\n",
    "print_twice(cs_str)"
   ]
  },
  {
   "cell_type": "markdown",
   "metadata": {
    "slideshow": {
     "slide_type": "slide"
    }
   },
   "source": [
    "### Local Variables\n",
    "\n",
    "It is possible to create a local variable inside a function, which means that it only exists inside the function.\n",
    "This is what we call the scope of the variable.\n",
    "In other words, the **scope** is the block of code where the variable is declared and used. "
   ]
  },
  {
   "cell_type": "code",
   "execution_count": null,
   "metadata": {
    "slideshow": {
     "slide_type": "fragment"
    }
   },
   "outputs": [],
   "source": [
    "def concat_and_print_twice(part1: str, part2: str) -> None:\n",
    "    \"\"\"\n",
    "    Concantenates two strings and prints the result twice and it does not return a value.\n",
    "    :param part1: first string\n",
    "    :param part2: second string\n",
    "    \"\"\"\n",
    "    cc_result: str = part1 + part2\n",
    "    print_twice(cc_result)\n",
    "\n",
    "\n",
    "concat_and_print_twice('Data ', 'Science')"
   ]
  },
  {
   "cell_type": "markdown",
   "metadata": {
    "slideshow": {
     "slide_type": "fragment"
    }
   },
   "source": [
    "You cannot use the local variables nor the parameters outside the function."
   ]
  },
  {
   "cell_type": "code",
   "execution_count": null,
   "metadata": {
    "slideshow": {
     "slide_type": "fragment"
    }
   },
   "outputs": [],
   "source": [
    "# Trying to use the local variable cc_result\n",
    "print(cc_result)"
   ]
  },
  {
   "cell_type": "code",
   "execution_count": null,
   "metadata": {
    "slideshow": {
     "slide_type": "fragment"
    }
   },
   "outputs": [],
   "source": [
    "# Trying to use the parameter part1\n",
    "print(part1)"
   ]
  },
  {
   "cell_type": "markdown",
   "metadata": {
    "tags": []
   },
   "source": [
    "Considering the scope of variables in mind, which value will the following code print?"
   ]
  },
  {
   "cell_type": "code",
   "execution_count": null,
   "metadata": {
    "tags": []
   },
   "outputs": [],
   "source": [
    "greeting: str = 'Hello!'\n",
    "\n",
    "def print_greeting() -> None:\n",
    "    \"\"\"\n",
    "    Prints a greeting and it does not return a value.\n",
    "    \"\"\"\n",
    "    greeting: str = 'Hoi!'\n",
    "    print(greeting)\n",
    "\n",
    "\n",
    "print_greeting()\n",
    "print(greeting)"
   ]
  },
  {
   "cell_type": "markdown",
   "metadata": {},
   "source": [
    "The two `greeting` variables are not the same, they are actually stored in different locations of your computer memory.\n",
    "One of the main differences is that they have a different scope.\n",
    "The first `greeting` is declared outside the function and can also be used at this level, while the second one is only visible within the function.\n",
    "The second `greeting` variable does not update the value of the first one.\n",
    "On the contrary, it creates a brand new variable.\n",
    "To modify the external `greeting` variable we would need to use the `global` statement, which is explained below."
   ]
  },
  {
   "cell_type": "markdown",
   "metadata": {},
   "source": [
    "### Global Variables\n",
    "\n",
    "Variables that are created outside functions belong to the special frame called **__main__** and they are called **global**.\n",
    "They can be accessed from any function. \n",
    "Unlike local variables, which disappear when their\n",
    "function ends, global variables persist from one function call to the next.\n",
    "\n",
    "It is common to use global variables for **flags**; that is, boolean variables that indicate (“flag”) whether a condition is true. \n",
    "\n",
    "For example, some programs use a flag named verbose to\n",
    "control the level of detail in the output."
   ]
  },
  {
   "cell_type": "code",
   "execution_count": null,
   "metadata": {},
   "outputs": [],
   "source": [
    "verbose: bool = False\n",
    "\n",
    "def print_issue(issue: str, extra_info: str):\n",
    "    \"\"\"\n",
    "    Prints an issue. If the verbose is set to True, extra \n",
    "    information is also printed.\n",
    "    :param issue: issue to be printed\n",
    "    :param extra_info: extra information to print if the \n",
    "    verbose mode is set to True.\n",
    "    \"\"\"\n",
    "    print(issue)\n",
    "    \n",
    "    if verbose:\n",
    "        print(extra_info)\n",
    "        \n",
    "        \n",
    "print_issue('No trains between Eindhoven and Amsterdam',\n",
    "           'The storm has caused some damage in the rails.')"
   ]
  },
  {
   "cell_type": "markdown",
   "metadata": {},
   "source": [
    "However, you can not just reassign a global variable."
   ]
  },
  {
   "cell_type": "code",
   "execution_count": null,
   "metadata": {},
   "outputs": [],
   "source": [
    "verbose: bool = False\n",
    "\n",
    "def print_issue(issue: str, extra_info: str):\n",
    "    \"\"\"\n",
    "    Prints an issue. If the verbose is set to True, extra \n",
    "    information is also printed.\n",
    "    :param issue: issue to be printed\n",
    "    :param extra_info: extra information to print if the \n",
    "    verbose mode is set to True.\n",
    "    \"\"\"\n",
    "    verbose = True\n",
    "    print(issue)\n",
    "    \n",
    "    if verbose:\n",
    "        print(extra_info)\n",
    "        \n",
    "        \n",
    "print(verbose)\n",
    "print_issue('No trains between Eindhoven and Amsterdam',\n",
    "           'The storm has caused some damage in the rails.')\n",
    "print(verbose)"
   ]
  },
  {
   "cell_type": "markdown",
   "metadata": {},
   "source": [
    "What went wrong?"
   ]
  },
  {
   "cell_type": "markdown",
   "metadata": {},
   "source": [
    "The value of `verbose` did not change, because `verbose` in the function `print_issue` is considered a local variable.\n",
    "The local variable goes away when the function ends, and has no effect on the global variable.\n",
    "\n",
    "To reassign a global variable inside a function you have to declare the global variable before you use it using the `global` keyword."
   ]
  },
  {
   "cell_type": "code",
   "execution_count": null,
   "metadata": {},
   "outputs": [],
   "source": [
    "verbose: bool = False\n",
    "\n",
    "def print_issue(issue: str, extra_info: str):\n",
    "    \"\"\"\n",
    "    Prints an issue. If the verbose is set to True, extra \n",
    "    information is also printed.\n",
    "    :param issue: issue to be printed\n",
    "    :param extra_info: extra information to print if the \n",
    "    verbose mode is set to True.\n",
    "    \"\"\"\n",
    "    global verbose\n",
    "    verbose = True\n",
    "    \n",
    "    print(issue)\n",
    "    \n",
    "    if verbose:\n",
    "        print(extra_info)\n",
    "        \n",
    "        \n",
    "print(verbose)\n",
    "print_issue('No trains between Eindhoven and Amsterdam',\n",
    "           'The storm has caused some damage in the rails.')\n",
    "print(verbose)"
   ]
  },
  {
   "cell_type": "markdown",
   "metadata": {},
   "source": [
    "The **global statement** tells the interpreter: “In this function, when I say `verbose`, I mean the global variable; do not create a local one.”\n",
    "\n",
    "Let us now consider our `print_greeting` example.\n",
    "In this case, we want to modify the global variable to \"Hoi\"."
   ]
  },
  {
   "cell_type": "code",
   "execution_count": null,
   "metadata": {},
   "outputs": [],
   "source": [
    "greeting: str = 'Hello!'\n",
    "\n",
    "def print_greeting() -> None:\n",
    "    \"\"\"\n",
    "    Prints a greeting and it does not return a value.\n",
    "    \"\"\"\n",
    "    global greeting\n",
    "    greeting = 'Hoi!'\n",
    "    print(greeting)\n",
    "\n",
    "\n",
    "print(greeting)\n",
    "print_greeting()\n",
    "print(greeting)"
   ]
  },
  {
   "cell_type": "markdown",
   "metadata": {},
   "source": [
    "<div class=\"alert alert-info\">\n",
    "    <b>A note on global variables</b><br>\n",
    "    Global variables can be useful, but if you have a lot of them, and you modify them frequently, they can make your programs hard to debug.\n",
    "</div>"
   ]
  },
  {
   "cell_type": "markdown",
   "metadata": {
    "slideshow": {
     "slide_type": "slide"
    }
   },
   "source": [
    "## 5. Return Values\n",
    "\n",
    "Sometimes, functions are designed and defined to return a value. \n",
    "This value can be later used in an expression.\n",
    "\n",
    "Let us see an example of a function returning a value.\n",
    "The next cell defines the function `area`, which returns the area of a circle with a given radius."
   ]
  },
  {
   "cell_type": "code",
   "execution_count": null,
   "metadata": {
    "slideshow": {
     "slide_type": "fragment"
    }
   },
   "outputs": [],
   "source": [
    "import math\n",
    "\n",
    "def compute_area(radius: int) -> float:\n",
    "    \"\"\"\n",
    "    Calculates the area of a circle given its radius.\n",
    "    :param radius: radius of the circle\n",
    "    :returns: the area of the circle.\n",
    "    \"\"\"\n",
    "    area: float = math.pi * radius**2\n",
    "    return area\n",
    "\n",
    "\n",
    "# This varible is different from the one defined in the function\n",
    "area: float = compute_area(5)\n",
    "print(area)"
   ]
  },
  {
   "cell_type": "markdown",
   "metadata": {},
   "source": [
    "Let us understand the design of the previous function:\n",
    "   - **Name:** `area`\n",
    "   - **Goal:** Calculate the area of a circle given its radius.\n",
    "   - **Parameter(s):** `radius` of a circle as an integer.\n",
    "   - **Result:** Area of the circle based on its radius as a floating-point number.\n",
    "   - **Algorithm:** Implement the circle area formula $area = \\pi * radius^2$."
   ]
  },
  {
   "cell_type": "markdown",
   "metadata": {
    "slideshow": {
     "slide_type": "fragment"
    }
   },
   "source": [
    "We have seen the `return` statement before.\n",
    "In a function, the return statement includes an expression, which is the value that will be retrieved by the function after executing the algorithm steps. \n",
    "Additionally, this expression can be arbitrarily complicated, so we could have written this function more concisely (but not necessarily more readable), as follows."
   ]
  },
  {
   "cell_type": "code",
   "execution_count": null,
   "metadata": {
    "slideshow": {
     "slide_type": "fragment"
    }
   },
   "outputs": [],
   "source": [
    "def compute_area(radius: int) -> float:\n",
    "    \"\"\"\n",
    "    Calculates the area of a circle given its radius.\n",
    "    :param radius: radius of the circle\n",
    "    :returns: the area of the circle.\n",
    "    \"\"\"\n",
    "    return math.pi * radius**2\n",
    "\n",
    "\n",
    "print(compute_area(5))"
   ]
  },
  {
   "cell_type": "markdown",
   "metadata": {},
   "source": [
    "In order to \"capture\" the value you have to assign the result of the function to a variable."
   ]
  },
  {
   "cell_type": "code",
   "execution_count": null,
   "metadata": {},
   "outputs": [],
   "source": [
    "area: float = compute_area(5)\n",
    "print(area)"
   ]
  },
  {
   "cell_type": "markdown",
   "metadata": {},
   "source": [
    "<div class=\"alert alert-success\">\n",
    "    <b>Do It Yourself!</b><br>\n",
    "    Define the function <code>compute_py_hypotenuse</code> (<code>py</code> for Pythagorean) that computes the length of a right triangle's hypotenuse given the lengths of its two other sides. It takes two floats representing the sides of a right triangle as arguments. The return value is the hypotenuse of the triangle.\n",
    "</div>"
   ]
  },
  {
   "cell_type": "code",
   "execution_count": null,
   "metadata": {},
   "outputs": [],
   "source": [
    "# Remove this line and add your code here"
   ]
  },
  {
   "cell_type": "markdown",
   "metadata": {
    "slideshow": {
     "slide_type": "fragment"
    }
   },
   "source": [
    "<div class=\"alert alert-info\">\n",
    "    <b>Temporary variables</b><br>\n",
    "    Temporary variables make debugging a function easier. You can print intermediate results.\n",
    "</div>\n"
   ]
  },
  {
   "cell_type": "markdown",
   "metadata": {},
   "source": [
    "Sometimes it is useful to have multiple return statements, one in each branch of a conditional.\n",
    "Othertimes, it is better to have just one `return` statement in a function. For longer functions it is claimed that for understandability it is better to have just one `return` statement in a function."
   ]
  },
  {
   "cell_type": "code",
   "execution_count": null,
   "metadata": {
    "slideshow": {
     "slide_type": "fragment"
    }
   },
   "outputs": [],
   "source": [
    "def compute_absolute_value(val: int) -> int:\n",
    "    \"\"\"\n",
    "    Transforms a negative value into a positive value.\n",
    "    :param val: number to transform\n",
    "    :returns: absolute value of the input number.\n",
    "    \"\"\"\n",
    "    if val < 0:\n",
    "        return -val\n",
    "    else:\n",
    "        return val\n",
    "    \n",
    "\n",
    "abs_val = compute_absolute_value(-10)\n",
    "print(abs_val)"
   ]
  },
  {
   "cell_type": "markdown",
   "metadata": {
    "slideshow": {
     "slide_type": "fragment"
    }
   },
   "source": [
    "Since these `return` statements are in different branches of the condition, only one branch is executed, and thus just one `return` statement is reached.\n",
    "As soon as a `return` statement is executed, the function terminates without executing any following statements. \n",
    "This means, that statements that appear after a return statement, or any other place the flow of execution cannot reach, are called **dead code**.\n",
    "\n",
    "Let us see the following example."
   ]
  },
  {
   "cell_type": "code",
   "execution_count": null,
   "metadata": {
    "slideshow": {
     "slide_type": "fragment"
    }
   },
   "outputs": [],
   "source": [
    "def compute_absolute_value(val : int) -> int:\n",
    "    \"\"\"\n",
    "    Transforms a negative value into a positive value.\n",
    "    :param val: number to transform\n",
    "    :returns: absolute value of the input number.\n",
    "    \"\"\"\n",
    "    if val < 0:\n",
    "        return -val\n",
    "    \n",
    "    if val > 0:\n",
    "        return val\n",
    "\n",
    "\n",
    "abs_val = compute_absolute_value(-10)\n",
    "print(abs_val + abs_val)"
   ]
  },
  {
   "cell_type": "markdown",
   "metadata": {
    "slideshow": {
     "slide_type": "fragment"
    }
   },
   "source": [
    "What is problematic about this code?\n",
    "\n",
    "This function is incomplete because if `val` happens to be `0`, neither condition is `True`, and the function ends without reaching a `return` statement.\n",
    "If the flow of execution gets to the end of a function, the return value is `None`, which is not the absolute value of `0`.\n",
    "Thus, when defining a function, ensure that every possible path through the program hits a `return` statement."
   ]
  },
  {
   "cell_type": "code",
   "execution_count": null,
   "metadata": {
    "slideshow": {
     "slide_type": "fragment"
    }
   },
   "outputs": [],
   "source": [
    "val: int = compute_absolute_value(0)\n",
    "print(val)"
   ]
  },
  {
   "cell_type": "markdown",
   "metadata": {},
   "source": [
    "Functions that return no result are know as **void functions**. \n",
    "If we want to use the result of a function call in an expression, the function has to return a value.\n",
    "Void functions might display something on the screen or have some other **side effect**, but they do not have a return value. \n",
    "So, it makes no sense to call a void function in the right hand side of an assignment statement. \n",
    "If you assign the result to a variable, you get a special value\n",
    "called `None`."
   ]
  },
  {
   "cell_type": "code",
   "execution_count": null,
   "metadata": {
    "slideshow": {
     "slide_type": "fragment"
    }
   },
   "outputs": [],
   "source": [
    "ai: str = print_twice('Artifial Intelligence')"
   ]
  },
  {
   "cell_type": "code",
   "execution_count": null,
   "metadata": {
    "slideshow": {
     "slide_type": "fragment"
    }
   },
   "outputs": [],
   "source": [
    "print(ai)"
   ]
  },
  {
   "cell_type": "markdown",
   "metadata": {},
   "source": [
    "<div class=\"alert alert-info\">\n",
    "    <b>Return versus print</b><br>\n",
    "    A common mistake we do when we are learning to program is to get confused between functions returning values and void functions printing values.\n",
    "Printing a value has an effect on the console but cannot retrieve any real value in an expression.\n",
    "Ensure that when requested to return a value you actually use the <code>return</code> statement instead of the <code>print</code> function.\n",
    "</div>"
   ]
  },
  {
   "cell_type": "markdown",
   "metadata": {
    "tags": []
   },
   "source": [
    "<div class=\"alert alert-success\">\n",
    "    <b>Do It Yourself!</b><br>\n",
    "    Identify the returning and void functions.\n",
    "</div>"
   ]
  },
  {
   "cell_type": "code",
   "execution_count": null,
   "metadata": {
    "tags": []
   },
   "outputs": [],
   "source": [
    "def sum(x: int, y: int) -> int:\n",
    "    \"\"\"\n",
    "    Returns the sum of two integers.\n",
    "    :param x: an integer value\n",
    "    :param y: an integer value\n",
    "    :returns: the sum of x and y\n",
    "    \"\"\"\n",
    "    return x + y\n",
    "\n",
    "\n",
    "sum(1, 2)"
   ]
  },
  {
   "cell_type": "code",
   "execution_count": null,
   "metadata": {
    "tags": []
   },
   "outputs": [],
   "source": [
    "def sum(x: int, y: int) -> None:\n",
    "    \"\"\"\n",
    "    Prints the sum of two integers value and it does not return a value.\n",
    "    :param x: an integer value\n",
    "    :param y: an integer value\n",
    "    \"\"\"\n",
    "    print(x + y)\n",
    "\n",
    "\n",
    "sum(1, 2)"
   ]
  },
  {
   "cell_type": "markdown",
   "metadata": {
    "slideshow": {
     "slide_type": "slide"
    }
   },
   "source": [
    "So far, we have seen **functions** returning integer and floating-point values.\n",
    "Functions can also return Booleans."
   ]
  },
  {
   "cell_type": "code",
   "execution_count": null,
   "metadata": {
    "slideshow": {
     "slide_type": "fragment"
    }
   },
   "outputs": [],
   "source": [
    "def is_divisible(x: int, y: int) -> bool:\n",
    "    \"\"\"\n",
    "    Verifies whether x is divisible by y.\n",
    "    :param x: dividend number\n",
    "    :param y: divisor number\n",
    "    :returns: `True` if x is divisible by y, `False` otherwise.\n",
    "    \"\"\"\n",
    "    if x % y == 0:\n",
    "        return True\n",
    "    else:\n",
    "        return False\n",
    "\n",
    "\n",
    "is_divisible(9, 3)"
   ]
  },
  {
   "cell_type": "markdown",
   "metadata": {
    "slideshow": {
     "slide_type": "fragment"
    }
   },
   "source": [
    "The result of the `==` operator is a Boolean, so the `is_divisible` function can be more concise."
   ]
  },
  {
   "cell_type": "code",
   "execution_count": null,
   "metadata": {
    "slideshow": {
     "slide_type": "fragment"
    }
   },
   "outputs": [],
   "source": [
    "def is_divisible(x: int, y: int) -> bool:\n",
    "    \"\"\"\n",
    "    Verifies whether x is divisible by y.\n",
    "    :param x: dividend number\n",
    "    :param y: divisor number\n",
    "    :returns: `True` if x is divisible by y, `False` otherwise.\n",
    "    \"\"\"\n",
    "    return x % y == 0\n",
    "\n",
    "\n",
    "is_divisible(6, 3)"
   ]
  },
  {
   "cell_type": "markdown",
   "metadata": {
    "slideshow": {
     "slide_type": "fragment"
    }
   },
   "source": [
    "Functions that return Boolean values can be used in conditional expressions."
   ]
  },
  {
   "cell_type": "code",
   "execution_count": null,
   "metadata": {
    "slideshow": {
     "slide_type": "fragment"
    }
   },
   "outputs": [],
   "source": [
    "x: int = 15    \n",
    "y: int = 5\n",
    "\n",
    "if is_divisible(x, y):\n",
    "    print('x is divisible by y')"
   ]
  },
  {
   "cell_type": "markdown",
   "metadata": {
    "slideshow": {
     "slide_type": "fragment"
    }
   },
   "source": [
    "Notice that it is not neccesary to write the conditional expression as `is_divisible(x, y) == True`."
   ]
  },
  {
   "cell_type": "markdown",
   "metadata": {
    "tags": []
   },
   "source": [
    "<div class=\"alert alert-success\">\n",
    "    <b>Do It Yourself!</b><br>\n",
    "    Create a function that checks if a number is greater than another number. Use it in an if statement. If the number is greater print the message \"<i>num1</i> is greater than <i>num2</i>\", otherwise print \"<i>num1</i> is equal or less than <i>num2</i>\".\n",
    "</div>"
   ]
  },
  {
   "cell_type": "code",
   "execution_count": null,
   "metadata": {
    "tags": []
   },
   "outputs": [],
   "source": [
    "# Remove this line and add your code here"
   ]
  },
  {
   "cell_type": "markdown",
   "metadata": {},
   "source": [
    "## 6. List as Arguments\n",
    "\n",
    "If you pass a list as an argument to a function, you have to be aware of the aliases.\n",
    "The function gets a reference to the list, which is a mutable object, so every modification\n",
    "to the list has effect on the original list."
   ]
  },
  {
   "cell_type": "code",
   "execution_count": null,
   "metadata": {},
   "outputs": [],
   "source": [
    "from typing import Any, List\n",
    "\n",
    "def delete_head(lst: List[Any]) -> None:\n",
    "    \"\"\" \n",
    "    Deletes the head of a list.\n",
    "    :param lst: list from which the head is deleted\n",
    "    \"\"\"\n",
    "    del lst[0]\n",
    "    \n",
    "topics = ['Data science', 'Computer science', 'Programming']\n",
    "delete_head(topics)\n",
    "\n",
    "print(topics)"
   ]
  },
  {
   "cell_type": "markdown",
   "metadata": {},
   "source": [
    "The parameter `lst` and the variable `topics` refer to the same object, are aliases.\n",
    "\n",
    "<div class=\"alert alert-info\">\n",
    "    <b>Side effect free</b><br>\n",
    "    Such a function has a so-called <b>side effect</b>, when developing functions make sure they are side effect free in order to increase the understandability of your software.\n",
    "</div>\n",
    "\n",
    "It is important to distinguish between operations that modify lists and operations that create new lists. \n",
    "The `append` method modifies a list, whereas the `+` operator creates a\n",
    "new list."
   ]
  },
  {
   "cell_type": "code",
   "execution_count": null,
   "metadata": {},
   "outputs": [],
   "source": [
    "lst1: List = [1, 2]\n",
    "lst2: List = lst1.append(3)\n",
    "\n",
    "print(lst1)\n",
    "print(lst2)"
   ]
  },
  {
   "cell_type": "markdown",
   "metadata": {},
   "source": [
    "The return value of the function `append` is `None`."
   ]
  },
  {
   "cell_type": "code",
   "execution_count": null,
   "metadata": {},
   "outputs": [],
   "source": [
    "lst3: List = lst1 + [4]\n",
    "\n",
    "print(lst1)\n",
    "print(lst3)"
   ]
  },
  {
   "cell_type": "markdown",
   "metadata": {},
   "source": [
    "It is important to beware of aliases when you are writing functions that are supposed to modify lists.\n",
    "The following function does not delete the head of a list.\n",
    "\n",
    "<div class=\"alert alert-info\">\n",
    "    <b>List with arbitrary elements</b><br>\n",
    "    The type hint of the <code>lst</code> argument of <code>bad_delete_head</code> is <code>List[any]</code> because this function operates on lists with arbitrary elements.\n",
    "</div>"
   ]
  },
  {
   "cell_type": "code",
   "execution_count": null,
   "metadata": {},
   "outputs": [],
   "source": [
    "print(lst3)\n",
    "\n",
    "def bad_delete_head(lst: List[any]) -> None:\n",
    "    \"\"\" \n",
    "    Deletes the head of a list.\n",
    "    :param lst: list from which the head is deleted\n",
    "    \"\"\"\n",
    "    lst = lst[1:]   #WRONG!\n",
    "    print(lst)\n",
    "    \n",
    "bad_delete_head(lst3)\n",
    "print(lst3)"
   ]
  },
  {
   "cell_type": "markdown",
   "metadata": {},
   "source": [
    "At the beginning of `bad_delete_head`, `lst` and `lst3` refer to the same list. \n",
    "At the end, `lst` refers to a new list, but `lst3` still refers to the original, unmodified list.\n",
    "\n",
    "An alternative is to write a function that creates and returns a new list. For example, `tail`\n",
    "returns all but the first element of a list."
   ]
  },
  {
   "cell_type": "code",
   "execution_count": null,
   "metadata": {},
   "outputs": [],
   "source": [
    "def tail(lst: List[any]) -> List[any]:\n",
    "    \"\"\" \n",
    "    Removes the head of a list\n",
    "    :param lst: list from which head is deleted\n",
    "    :returns: list without head\n",
    "    \"\"\"\n",
    "    return lst[1:]\n",
    "    \n",
    "letters = ['a', 'b', 'c']\n",
    "rest = tail(letters)\n",
    "\n",
    "print(rest)"
   ]
  },
  {
   "cell_type": "markdown",
   "metadata": {
    "slideshow": {
     "slide_type": "slide"
    }
   },
   "source": [
    "## 7. Flow of Execution\n",
    "\n",
    "Functions have to be defined before they can be executed, this is similar to a variable\n",
    "definition. \n",
    "You cannot use a variable in an expression if it is not introduced in the left hand side of a preceding assignment.\n",
    "\n",
    "The execution of a Python progam always starts with the first statement of the program.\n",
    "All statements are run one at a time (*sequential*), from top to bottom.\n",
    "This is also called the **flow of execution**.\n",
    "\n",
    "<div class=\"alert alert-info\">\n",
    "    <b>Executing cells</b><br>\n",
    "    This is also the case in the Jupyter notebooks. If you forget to execute a <i>cell</i> than variables and functions defined in that cell are not available in later cells.\n",
    "</div>"
   ]
  },
  {
   "cell_type": "markdown",
   "metadata": {
    "slideshow": {
     "slide_type": "fragment"
    }
   },
   "source": [
    "Function definitions do not alter the flow of execution of the program, but remember that\n",
    "statements inside the function do not run until the function is called.\n",
    "\n",
    "You could consider a function call as a *detour* in the flow of execution of a program. \n",
    "Instead of going to the next statement,\n",
    "the flow jumps to the body of the function, runs the statements there, and \n",
    "continues with the execution of the statements after the function call.\n",
    "\n",
    "That sounds simple enough, until you remember that one function can call another. \n",
    "While in the middle of one function, the program might have to run the statements in another\n",
    "function. \n",
    "Then, while running that new function, the program might have to run yet another function, and so on!\n",
    "In principle this is going to stop because there are a finite number of functions."
   ]
  },
  {
   "cell_type": "markdown",
   "metadata": {
    "slideshow": {
     "slide_type": "slide"
    }
   },
   "source": [
    "## 8. Function Composition\n",
    "\n",
    "For more complicated computations it maybe necessary to compose functions. Function composition contributes to\n",
    "reuse, but also structures our software in a more understandable manner. \n",
    "\n",
    "Let us see an example of function composition. Consider the following piece of \"non-trivial\" code. "
   ]
  },
  {
   "cell_type": "code",
   "execution_count": null,
   "metadata": {
    "slideshow": {
     "slide_type": "fragment"
    }
   },
   "outputs": [],
   "source": [
    "import math\n",
    "\n",
    "dx: int = 4 - 1\n",
    "dy: int = 6 - 3\n",
    "dsquared: int = dx**2 + dy**2\n",
    "radius: float = math.sqrt(dsquared)\n",
    "math.pi * radius**2"
   ]
  },
  {
   "cell_type": "markdown",
   "metadata": {
    "slideshow": {
     "slide_type": "slide"
    }
   },
   "source": [
    "The code in the cell above calculates the area of a circle based on the center\n",
    "of the circle and a point on the perimeter.\n",
    "Suppose you want to develop a function for this calculation.\n",
    "Suppose the center point of the circle is `(xc, yc)` and the point on the perimeter is `(xp, yp)`.\n",
    "The first step is to calculate the radius of the circle.\n",
    "We have created the two relevant functions `compute_distance` and `compute_circle_area`."
   ]
  },
  {
   "cell_type": "code",
   "execution_count": null,
   "metadata": {
    "slideshow": {
     "slide_type": "fragment"
    }
   },
   "outputs": [],
   "source": [
    "def compute_distance(x1: int, y1: int, x2: int, y2: int) -> float:\n",
    "    \"\"\"\n",
    "    Calculates the distance between two Cartesian points.\n",
    "    :param x1: coordinate x of the first point\n",
    "    :param y1: coordinate y of the first point\n",
    "    :param x2: coordinate x of the second point\n",
    "    :param y2: coordinate y of the second point\n",
    "    :returns: the distance between the two points.\n",
    "    \"\"\"\n",
    "    dx: int = x2 - x1\n",
    "    dy: int = y2 - y1\n",
    "    dsquared: int = dx**2 + dy**2\n",
    "    result: float = math.sqrt(dsquared)\n",
    "    \n",
    "    return result\n",
    "\n",
    "\n",
    "def compute_circle_area(xc: int, yc: int, xp: int, yp: int) -> float:\n",
    "    \"\"\"\n",
    "    Calculates the area of a circle based on its central point\n",
    "    and a point on its perimeter.\n",
    "    :param xc: coordinate x of the central point\n",
    "    :param yc: coordinate y of the central point\n",
    "    :param xp: coordinate x of the peripheral point\n",
    "    :param yp: coordinate y of the peripheral point\n",
    "    :returns: the area of the circle.\n",
    "    \"\"\"\n",
    "    radius: float = compute_distance(xc, yc, xp, yp)\n",
    "    result: float = math.pi * radius**2\n",
    "    return(result)\n",
    "\n",
    "\n",
    "area: float = compute_circle_area(1, 3, 4, 6)\n",
    "print(area)"
   ]
  },
  {
   "cell_type": "markdown",
   "metadata": {},
   "source": [
    "The `compute_circle_area` function can also be written without the local variables.\n",
    "(At the cost of losing readability snd/or understandability!)"
   ]
  },
  {
   "cell_type": "code",
   "execution_count": null,
   "metadata": {},
   "outputs": [],
   "source": [
    "def circle_area(xc : int, yc : int, xp : int, yp : int) -> float:\n",
    "    \"\"\"\n",
    "    Calculates the area of a circle based on its central point\n",
    "    and a point on its perimeter.\n",
    "    :param xc: coordinate x of the central point\n",
    "    :param yc: coordinate y of the central point\n",
    "    :param xp: coordinate x of the peripheral point\n",
    "    :param yp: coordinate y of the peripheral point\n",
    "    :returns: the area of the circle.\n",
    "    \"\"\"\n",
    "    return math.pi * compute_distance(xc, yc, xp, yp)**2\n",
    "\n",
    "\n",
    "circle_area(1, 3, 4, 6)"
   ]
  },
  {
   "cell_type": "markdown",
   "metadata": {},
   "source": [
    "<div class=\"alert alert-success\">\n",
    "    <b>Do It Yourself!</b><br>\n",
    "    You can reuse your own function <code>compute_py_hypotenuse</code> for distance calculation. Change the implementation of <code>compute_distance</code> to reuse your <code>compute_py_hypotenuse</code>.\n",
    "</div>"
   ]
  },
  {
   "cell_type": "code",
   "execution_count": null,
   "metadata": {},
   "outputs": [],
   "source": [
    "def compute_distance(x1: int, y1: int, x2: int, y2: int) -> float:\n",
    "    \"\"\"\n",
    "    Calculates the distance between two Cartesian points.\n",
    "    :param x1: coordinate x of the first point\n",
    "    :param y1: coordinate y of the first point\n",
    "    :param x2: coordinate x of the second point\n",
    "    :param y2: coordinate y of the second point\n",
    "    :returns: the distance between the two points.\n",
    "    \"\"\"\n",
    "    \n",
    "    # Remove this line and add your code here\\n\",\n",
    "\n",
    "compute_distance(1, 3, 4, 6)"
   ]
  },
  {
   "cell_type": "markdown",
   "metadata": {
    "slideshow": {
     "slide_type": "fragment"
    }
   },
   "source": [
    "## 9. Encapsulation\n",
    "\n",
    "What we were doing in the previous sections was capturing instructions in a function. This allows us to later reuse the instructions in other parts of our programs.\n",
    "\n",
    "We already mentioned that the details of the computation are shielded by the function.\n",
    "In other words, a programmer can reuse this function, based on the name and the arguments (and sometimes, docstring), without diving into the details of the code.\n",
    "\n",
    "Wrapping a piece of code up in a function is called **encapsulation**. The important step in *encapsulation* is to come up with a good name for the function at hand, and well-defined parameters that give us more information about the interface. \n",
    "Consider the function `compute_circle_area` being renamed to `foo`. \n",
    "In order to understand what the function `foo` does, we need to study the body.\n",
    "There is no perfect name, an alternative, could be `compute_circle_size`."
   ]
  },
  {
   "cell_type": "code",
   "execution_count": null,
   "metadata": {
    "slideshow": {
     "slide_type": "fragment"
    }
   },
   "outputs": [],
   "source": [
    "def compute_circle_size(xc: int, yc: int, xp: int, yp: int) -> float:\n",
    "    \"\"\"\n",
    "    Calculates the area of a circle based on its central point\n",
    "    and a point on its perimeter.\n",
    "    :param xc: coordinate x of the central point\n",
    "    :param yc: coordinate y of the central point\n",
    "    :param xp: coordinate x of the peripheral point\n",
    "    :param yp: coordinate y of the peripheral point\n",
    "    :returns: the area of the circle.\n",
    "    \"\"\"\n",
    "    return math.pi * compute_distance(xc, yc, xp, yp)**2\n",
    "\n",
    "compute_circle_size(1, 3, 4, 6)"
   ]
  },
  {
   "cell_type": "markdown",
   "metadata": {
    "slideshow": {
     "slide_type": "fragment"
    }
   },
   "source": [
    "It is more concise to call a function multiple times than to **copy-and-paste** the code fragment of body multiple times!"
   ]
  },
  {
   "cell_type": "markdown",
   "metadata": {
    "slideshow": {
     "slide_type": "slide"
    }
   },
   "source": [
    "## 10. Generalization\n",
    "\n",
    "Consider the function `print_important_message`.\n",
    "This function is a void function as there is no `return` statement.\n",
    "It prints the messages \"Computer science is important\" and \"Data science is more important\" 7 times.\n",
    "Be reminded that *printing* only has an effect on the console, but the function has no real result that can be used in an expression."
   ]
  },
  {
   "cell_type": "code",
   "execution_count": null,
   "metadata": {
    "slideshow": {
     "slide_type": "fragment"
    }
   },
   "outputs": [],
   "source": [
    "# First define the function\n",
    "def print_important_message() -> None:\n",
    "    \"\"\"\n",
    "    Prints the important messages 7 times.\n",
    "    \"\"\"\n",
    "    i: int = 0\n",
    "    while i < 7:\n",
    "        print('Computer science is important')\n",
    "        print('Data science is more important')\n",
    "        i += 1"
   ]
  },
  {
   "cell_type": "code",
   "execution_count": null,
   "metadata": {},
   "outputs": [],
   "source": [
    "# Then call it\n",
    "print_important_message()"
   ]
  },
  {
   "cell_type": "markdown",
   "metadata": {},
   "source": [
    "Now, suppose we want to re-use the function `print_important_message`, but with a different number of printed messages.\n",
    "We can modify the function definition as follows."
   ]
  },
  {
   "cell_type": "code",
   "execution_count": null,
   "metadata": {
    "slideshow": {
     "slide_type": "fragment"
    }
   },
   "outputs": [],
   "source": [
    "def print_important_messages(freq : int) -> None:\n",
    "    \"\"\"\n",
    "    Prints the important messages <freq> times.\n",
    "    :param freq: number of times to print the messages\n",
    "    \"\"\"\n",
    "    i: int = 0\n",
    "    while i < freq:\n",
    "        print('Computer science is important')\n",
    "        print('Data science is more important')\n",
    "        i += 1\n",
    "        \n",
    "print_important_messages(6)\n",
    "print_important_messages(17)"
   ]
  },
  {
   "cell_type": "markdown",
   "metadata": {
    "slideshow": {
     "slide_type": "fragment"
    }
   },
   "source": [
    "Adding a parameter to a function is called generalization because it makes the function\n",
    "more general: in the previous version, the messages are printed 7 times; in this version it\n",
    "can be any number.\n",
    "\n",
    "Another step in the generalization is to make the disciplines flexible. "
   ]
  },
  {
   "cell_type": "code",
   "execution_count": null,
   "metadata": {},
   "outputs": [],
   "source": [
    "def print_important_messages(freq: int, discipline1: str, discipline2: str) -> None:\n",
    "    \"\"\"\n",
    "    Prints the important messages <freq> times.\n",
    "    :param freq: number of times to print the messages\n",
    "    :param discipline1: string representing a discipline\n",
    "    :param discipline2: string representing another discipline\n",
    "    \"\"\"\n",
    "    i: int = 0\n",
    "    \n",
    "    while i <  freq:\n",
    "        print(f'{discipline1} is important')\n",
    "        print(f'{discipline2} is more important')\n",
    "        i += 1\n",
    "        \n",
    "print_important_messages(3, 'Artificial intelligence', 'Statistics')"
   ]
  },
  {
   "cell_type": "markdown",
   "metadata": {},
   "source": [
    "When a function has more than a few numeric arguments, it is easy to forget what they are,\n",
    "or what order they should be in. \n",
    "In that case it is often a good idea to include the names of\n",
    "the parameters in the argument list."
   ]
  },
  {
   "cell_type": "code",
   "execution_count": null,
   "metadata": {
    "slideshow": {
     "slide_type": "fragment"
    }
   },
   "outputs": [],
   "source": [
    "print_important_messages(freq=7, discipline1='Computer science', discipline2='Statistics')"
   ]
  },
  {
   "cell_type": "markdown",
   "metadata": {},
   "source": [
    "These arguments are called keyword arguments because they include the parameter names as “keywords” (not to be confused with Python keywords like `while` and `def`).\n",
    "\n",
    "This syntax makes the program more readable. \n",
    "It is also a reminder about how arguments and parameters work: when you call a function, the arguments are assigned to the parameters.\n",
    "It follows that in addition to a good function name, it is also important to come up with good parameter names."
   ]
  },
  {
   "cell_type": "markdown",
   "metadata": {},
   "source": [
    "## 11. Summary\n",
    "\n",
    "In this chapter, we learned that functions are a way of encapsulating and generalizing functionality.\n",
    "We also discovered how to define our own functions by providing a meaningful function *name*, the inputs of the function also known as **parameters** (also with meaningful names), the output or **result** of the function (if any), the **algorithm** implementation, and additional elements such as the **docstring** and **type hints**, which are used as documentation.\n",
    "\n",
    "We also identify the difference between a **parameter** and an **argument**.\n",
    "In particular, a parameter is a variable that captures the value of a real expression passed as an argument to the function.\n",
    "Remember that parameters and **local variables** are available only within the **scope** of the function body.\n",
    "\n",
    "Additionally, we got to know that functions that retrieve a value *must* have at least one `return` statement and alternative paths must be considered to place the statement(s) in the right location(s).\n",
    "Functions that have no `return` statement are known as **void functions**.\n",
    "Any function (including void functions) can produce **side effects** during execution.\n",
    "A side effect can be, for example, printing in the console or raising an exception.\n",
    "Beware that *printing is not the same as returning!*"
   ]
  },
  {
   "cell_type": "markdown",
   "metadata": {},
   "source": [
    "---\n",
    "This Jupyter Notebook is based on Chapter 4 of the book Python for Everybody and Chapters 3 and 6 of the book Think Python."
   ]
  },
  {
   "cell_type": "markdown",
   "metadata": {},
   "source": [
    "---\n",
    "\n",
    "# (End of Notebook)\n",
    "\n",
    "&copy; 2023 - **TU/e** - Eindhoven University of Technology"
   ]
  }
 ],
 "metadata": {
  "anaconda-cloud": {},
  "kernelspec": {
   "display_name": "Python 3 (ipykernel)",
   "language": "python",
   "name": "python3"
  },
  "language_info": {
   "codemirror_mode": {
    "name": "ipython",
    "version": 3
   },
   "file_extension": ".py",
   "mimetype": "text/x-python",
   "name": "python",
   "nbconvert_exporter": "python",
   "pygments_lexer": "ipython3",
   "version": "3.11.5"
  },
  "vscode": {
   "interpreter": {
    "hash": "3aea9d04d643a3dad58bd6e15bcfdd921ab432a7c2b9a15d89f108cc0c05ed72"
   }
  }
 },
 "nbformat": 4,
 "nbformat_minor": 4
}
