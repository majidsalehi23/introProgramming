{
 "cells": [
  {
   "cell_type": "markdown",
   "metadata": {
    "slideshow": {
     "slide_type": "slide"
    }
   },
   "source": [
    "# Comprehensions and Generators\n",
    "\n"
   ]
  },
  {
   "cell_type": "markdown",
   "metadata": {},
   "source": [
    "## Table of Contents\n",
    "- [1. Introduction](#1.-Introduction)\n",
    "- [2. Collections of Data](#2.-Collections-of-Data)\n",
    "- [3. Iterables and Iterators](#3.-Iterables-and-Iterators)\n",
    "- [4. Comprehensions](#4.-Comprehensions)\n",
    "- [5. Selective Inclusion in a Comprehension](#5.-Selective-Inclusion-in-a-Comprehension)\n",
    "- [6. Nested Comprehensions](#6.-Nested-Comprehensions)\n",
    "- [7. Set and Dictionary Comprehensions](#7.-Set-and-Dictionary-Comprehensions)\n",
    "- [8. Comprehensions Evaluation](#8.-Comprehensions-Evaluation)\n",
    "- [9. Generators](#9.-Generators)\n",
    "- [10. Factories](#10.-Factories)\n",
    "- [11. Summary](#summary)"
   ]
  },
  {
   "cell_type": "markdown",
   "metadata": {},
   "source": [
    "## 1. Introduction\n",
    "\n",
    "What is a **comprehension**?\n",
    "\n",
    "<img src=\"assets/Webster_comprehension.png\" alt=\"Meaning of Comprehension\" width=\"500\"/>\n",
    "\n",
    "<div style=\"text-align:center\">\n",
    "    <span style=\"font-size:0.9em; font-weight: bold;\"><b>Meaning of Comprehension.</b></span>\n",
    "</div>"
   ]
  },
  {
   "cell_type": "markdown",
   "metadata": {},
   "source": [
    "**Comprehensions** and **Generators** in Python are both powerful tools for managing and transforming data efficiently. \n",
    "\n",
    "**Comprehensions** in Python are concise and powerful constructs that allow you to create, for example, **lists**, **dictionaries**, and **sets** by performing operations on elements from an iterable while optionally applying filters, all in a single line of code. \n",
    "They enhance code readability and efficiency compared to traditional `for` loops, making them a fundamental tool for data manipulation and transformation tasks. \n",
    "Comprehensions are widely used in Python for their ability to simplify common programming tasks involving iteration and transformation of data.\n",
    "\n",
    "**Generators**, on the other hand, offer memory-efficient iterable sequences, generating values as needed rather than storing them in memory, making them ideal for handling large datasets. \n",
    "\n",
    "In general, comprehensions and generators provide you with essential techniques for concise, readable, and efficient data manipulation and iteration."
   ]
  },
  {
   "cell_type": "markdown",
   "metadata": {},
   "source": [
    "## 2. Collections of Data\n",
    "\n",
    "Comprehensions and generators are ways of transforming\n",
    "collections of data.\n",
    "So, let us first look at such data collections.\n",
    "\n",
    "A collection of data can be **stored** in a **tuple**, **list**, **set**, or **dictionary**. The difference between using one or the other will depend on the properties you need to represent your data. In the following table, we briefly present the properties of each of these collections.\n",
    "\n",
    "| Collection | Mutable | Ordered | Allows duplicates | Indexed | Representation |\n",
    "|------------|:-------:|:-------:|:----------------:|:-------:|:--------------:|\n",
    "| `tuple` | ✖︎ | ✔︎ | ✔︎ | ✔︎ | `(...)` |\n",
    "| `list`  | ✔︎ | ✔︎ | ✔︎ | ✔︎ | `[...]` |\n",
    "| `set`   | ✔︎ | ✖︎ | ✖︎ | ✖︎ | `{...}` |\n",
    "| `dict`  | ✔︎ | ✖︎ | ✖︎ | ✔︎ * | `{key: val, ...}` |\n",
    "\n",
    "<sup>*</sup> You access key-value pairs via a key.\n",
    "\n",
    "Additionally, we have already seen a number of built-in operations on lists, such as\n",
    "* **indexing**, to access an item at a given index:\n",
    "  `s[i]`, where `0 <= i < len(s)`\n",
    "* **slicing**, to extract a subsequence of items:\n",
    "  `s[a:b]` extracts the list of `s[i]` with `a <= i < b`,\n",
    "  or `s[a:b:c]` where `c` is the step size\n",
    "* **concatenation**: `s + t`\n",
    "* **length**: `len(s)`\n",
    "* **aggregation**: `sum(s)`, `min(s)`, `max(s)`\n",
    "* **sorting**: `sorted(s)`"
   ]
  },
  {
   "cell_type": "code",
   "execution_count": 1,
   "metadata": {},
   "outputs": [],
   "source": [
    "from typing import Dict, List, Set, Tuple"
   ]
  },
  {
   "cell_type": "markdown",
   "metadata": {},
   "source": [
    "## 3. Iterables and Iterators\n",
    "\n",
    "What collections of data have in common is that they are _iterable_.\n",
    "An **iterable** is any collection that you can step through one by one.\n",
    "To traverse an *iterable* you require an **iterator**.\n",
    "An *iterator* is an object that traverses your iterable and returns one element at a time. \n",
    "To transform a collection into an iterator, we use the `iter` method.\n",
    "Afterwards, each element in the iterator can be accessed by repeatedly calling the `next` method.\n",
    "\n",
    "<img src=\"assets/iterable-iterator.png\" alt=\"Iterables and Iterators\" width=\"500\"/>\n",
    "\n",
    "<div style=\"text-align:center\">\n",
    "    <span style=\"font-size:0.9em; font-weight: bold;\">Iterables and iterators in Python.</span>\n",
    "</div>"
   ]
  },
  {
   "cell_type": "code",
   "execution_count": 2,
   "metadata": {},
   "outputs": [
    {
     "name": "stdout",
     "output_type": "stream",
     "text": [
      "<class 'list'>\n"
     ]
    },
    {
     "data": {
      "text/plain": [
       "[1, 2, 3, 4, 5]"
      ]
     },
     "execution_count": 2,
     "metadata": {},
     "output_type": "execute_result"
    }
   ],
   "source": [
    "# Create a list of integers, which is an iterable\n",
    "iterable: List[int] = [1, 2, 3, 4, 5]\n",
    "print(type(iterable))\n",
    "iterable"
   ]
  },
  {
   "cell_type": "code",
   "execution_count": 3,
   "metadata": {},
   "outputs": [
    {
     "data": {
      "text/plain": [
       "list_iterator"
      ]
     },
     "execution_count": 3,
     "metadata": {},
     "output_type": "execute_result"
    }
   ],
   "source": [
    "from typing import Iterator \n",
    "\n",
    "# Create an iterator out from the \"iterable\" list\n",
    "iterator: Iterator = iter(iterable)\n",
    "type(iterator)"
   ]
  },
  {
   "cell_type": "code",
   "execution_count": 4,
   "metadata": {},
   "outputs": [
    {
     "name": "stdout",
     "output_type": "stream",
     "text": [
      "First iteration: 1\n",
      "Second iteration: 2\n",
      "Third iteration: 3\n",
      "Fourth iteration: 4\n",
      "Fifth iteration: 5\n"
     ]
    }
   ],
   "source": [
    "# Traverse the iterable via the iterator\n",
    "num_one = next(iterator)\n",
    "print(f'First iteration: {num_one}')\n",
    "\n",
    "num_two = next(iterator)\n",
    "print(f'Second iteration: {num_two}')\n",
    "\n",
    "num_three = next(iterator)\n",
    "print(f'Third iteration: {num_three}')\n",
    "\n",
    "num_four = next(iterator)\n",
    "print(f'Fourth iteration: {num_four}')\n",
    "\n",
    "num_five = next(iterator)\n",
    "print(f'Fifth iteration: {num_five}')"
   ]
  },
  {
   "cell_type": "markdown",
   "metadata": {},
   "source": [
    "If the collection has been traversed and you call the `next()` function one more time, you will get a `StopIteration` error."
   ]
  },
  {
   "cell_type": "code",
   "execution_count": 5,
   "metadata": {},
   "outputs": [
    {
     "ename": "StopIteration",
     "evalue": "",
     "output_type": "error",
     "traceback": [
      "\u001b[0;31m---------------------------------------------------------------------------\u001b[0m",
      "\u001b[0;31mStopIteration\u001b[0m                             Traceback (most recent call last)",
      "\u001b[1;32m/Users/lochoavenegas/Documents/teaching/courses/jbi010/course-material-jbi010/202324/exams/exam-30102023/material/13_comprehensions_generators.ipynb Cell 12\u001b[0m line \u001b[0;36m1\n\u001b[0;32m----> <a href='vscode-notebook-cell:/Users/lochoavenegas/Documents/teaching/courses/jbi010/course-material-jbi010/202324/exams/exam-30102023/material/13_comprehensions_generators.ipynb#X14sZmlsZQ%3D%3D?line=0'>1</a>\u001b[0m \u001b[39mnext\u001b[39;49m(iterator)\n",
      "\u001b[0;31mStopIteration\u001b[0m: "
     ]
    }
   ],
   "source": [
    "next(iterator)"
   ]
  },
  {
   "cell_type": "markdown",
   "metadata": {},
   "source": [
    "Let us now use the `while` loop to iterate over our iterable in a smarter way."
   ]
  },
  {
   "cell_type": "code",
   "execution_count": 6,
   "metadata": {},
   "outputs": [
    {
     "name": "stdout",
     "output_type": "stream",
     "text": [
      "1\n",
      "2\n",
      "3\n",
      "4\n",
      "5\n"
     ]
    }
   ],
   "source": [
    "iterable: List[int] = [1, 2, 3, 4, 5]\n",
    "iterator: Iterator = iter(iterable)\n",
    "i: int = 0\n",
    "\n",
    "while i < len(iterable):\n",
    "    val: int = next(iterator)\n",
    "    print(val)\n",
    "    i += 1"
   ]
  },
  {
   "cell_type": "markdown",
   "metadata": {},
   "source": [
    "When using a `for` loop, you do not need to call these methods. The previous procedure is done under the hood by Python!\n",
    "\n",
    "Furthermore, one *iterable* can be iterated over or traversed multiple times. Each new traversal involves a new *iterator*.\n",
    "In fact, multiple iterators can be active concurrently on the same collection, as it is the case of nested loops."
   ]
  },
  {
   "cell_type": "code",
   "execution_count": 7,
   "metadata": {
    "scrolled": true,
    "slideshow": {
     "slide_type": "fragment"
    }
   },
   "outputs": [
    {
     "name": "stdout",
     "output_type": "stream",
     "text": [
      "aa ab ac \n",
      "ba bb bc \n",
      "ca cb cc \n"
     ]
    }
   ],
   "source": [
    "letters: Tuple = ('a', 'b', 'c')\n",
    "\n",
    "for i in letters:\n",
    "    for j in letters:\n",
    "        print('{}{}'.format(i, j), end=\" \")\n",
    "    print()"
   ]
  },
  {
   "cell_type": "markdown",
   "metadata": {
    "jupyter": {
     "source_hidden": true
    },
    "tags": []
   },
   "source": [
    "<div class=\"alert alert-success\">\n",
    "    <b>Do It Yourself!</b><br>\n",
    "    Iterate over the list of words and add the words that start by 'a' to a new list.\n",
    "</div>"
   ]
  },
  {
   "cell_type": "code",
   "execution_count": 8,
   "metadata": {
    "jupyter": {
     "source_hidden": true
    },
    "tags": []
   },
   "outputs": [],
   "source": [
    "words = ['age', 'bee', 'ask', 'cut', 'clean', 'zoo', 'add']\n",
    "# Remove this line and add your code here"
   ]
  },
  {
   "cell_type": "markdown",
   "metadata": {
    "slideshow": {
     "slide_type": "slide"
    }
   },
   "source": [
    "## 4. Comprehensions\n",
    "\n",
    "A **list comprehension** is an _expression_ that constructs a list\n",
    "based on some *iterable*.\n",
    "The items taken from the iterable can be _transformed_ in an expression\n",
    "before being collected in the list.\n",
    "\n",
    "Suppose you want to create a list of 10 numbers where each integer value is the squared value of the index, so 1, 4, 9, 16, etc.\n",
    "\n",
    "The following program fragment\n",
    "with a `for` statement and an auxiliary variable (`aux`)."
   ]
  },
  {
   "cell_type": "code",
   "execution_count": 9,
   "metadata": {},
   "outputs": [
    {
     "data": {
      "text/plain": [
       "[0, 1, 4, 9, 16, 25, 36, 49, 64, 81]"
      ]
     },
     "execution_count": 9,
     "metadata": {},
     "output_type": "execute_result"
    }
   ],
   "source": [
    "aux: List[int] = []\n",
    "\n",
    "for n in range(10):\n",
    "    aux.append(n * n)\n",
    "\n",
    "aux"
   ]
  },
  {
   "cell_type": "markdown",
   "metadata": {
    "slideshow": {
     "slide_type": "slide"
    }
   },
   "source": [
    "In the next example, the iterable is `range(10)`, and we collect the squares of the numbers in that range:"
   ]
  },
  {
   "cell_type": "code",
   "execution_count": 10,
   "metadata": {
    "slideshow": {
     "slide_type": "fragment"
    }
   },
   "outputs": [
    {
     "data": {
      "text/plain": [
       "[0, 1, 4, 9, 16, 25, 36, 49, 64, 81]"
      ]
     },
     "execution_count": 10,
     "metadata": {},
     "output_type": "execute_result"
    }
   ],
   "source": [
    "[n * n for n in range(10)]"
   ]
  },
  {
   "cell_type": "markdown",
   "metadata": {
    "slideshow": {
     "slide_type": "fragment"
    }
   },
   "source": [
    "The list comprehension above defines the same list, but the comprehension is more compact, and\n",
    "does not need an explicit list variable."
   ]
  },
  {
   "cell_type": "markdown",
   "metadata": {
    "jupyter": {
     "source_hidden": true
    },
    "tags": []
   },
   "source": [
    "<div class=\"alert alert-success\">\n",
    "    <b>Do It Yourself!</b><br>\n",
    "    Remember our first exercise in this notebook? Use a comprehension to iterate over the list of words and add the words that start by 'a' to a new list.\n",
    "</div>"
   ]
  },
  {
   "cell_type": "code",
   "execution_count": 11,
   "metadata": {
    "jupyter": {
     "source_hidden": true
    },
    "tags": []
   },
   "outputs": [],
   "source": [
    "words: List['str'] = ['age', 'bee', 'ask', 'cut', 'clean', 'zoo', 'add']\n",
    "# Remove this line and add your code here"
   ]
  },
  {
   "cell_type": "markdown",
   "metadata": {
    "slideshow": {
     "slide_type": "subslide"
    }
   },
   "source": [
    "## 5. Selective Inclusion in a Comprehension\n",
    "\n",
    "You can also _selectively_ include items in the constructed list,\n",
    "by using an `if` clause.\n",
    "\n",
    "The behaviour is similar to *filter* we saw previously.\n",
    "\n",
    "For instance, the numbers less than 10\n",
    "that have a remainder of more than 2 when divided by 7:"
   ]
  },
  {
   "cell_type": "code",
   "execution_count": 12,
   "metadata": {},
   "outputs": [
    {
     "name": "stdout",
     "output_type": "stream",
     "text": [
      "[3, 4, 5, 6]\n"
     ]
    }
   ],
   "source": [
    "from typing import List\n",
    "\n",
    "def remainders() -> List[int]:\n",
    "    \"\"\"\n",
    "    Filters all numbers not having a remainder of more than 2 when divided by 7.\n",
    "    :returns: list of numbers having a remainder of more than 2 when divided by 7.\n",
    "    \"\"\"\n",
    "    result_nums: List[int] = []\n",
    "    for n in range(10):\n",
    "        if n % 7 > 2:\n",
    "            result_nums.append(n)\n",
    "    return result_nums\n",
    "\n",
    "\n",
    "print(remainders())"
   ]
  },
  {
   "cell_type": "markdown",
   "metadata": {},
   "source": [
    "Now with a comprehension:"
   ]
  },
  {
   "cell_type": "code",
   "execution_count": 13,
   "metadata": {
    "slideshow": {
     "slide_type": "fragment"
    }
   },
   "outputs": [
    {
     "data": {
      "text/plain": [
       "[3, 4, 5, 6]"
      ]
     },
     "execution_count": 13,
     "metadata": {},
     "output_type": "execute_result"
    }
   ],
   "source": [
    "[n for n in range(10) if n % 7 > 2]"
   ]
  },
  {
   "cell_type": "markdown",
   "metadata": {
    "slideshow": {
     "slide_type": "fragment"
    }
   },
   "source": [
    "And here is the list of _squares_ of those numbers\n",
    "that have a remainder of more than 2 when divided by 7."
   ]
  },
  {
   "cell_type": "code",
   "execution_count": 14,
   "metadata": {
    "slideshow": {
     "slide_type": "fragment"
    }
   },
   "outputs": [
    {
     "data": {
      "text/plain": [
       "[9, 16, 25, 36]"
      ]
     },
     "execution_count": 14,
     "metadata": {},
     "output_type": "execute_result"
    }
   ],
   "source": [
    "[n * n for n in range(10) if n % 7 > 2]"
   ]
  },
  {
   "cell_type": "markdown",
   "metadata": {
    "slideshow": {
     "slide_type": "fragment"
    }
   },
   "source": [
    "Note that the condition is applied to the items\n",
    "_before_ they are transformed.\n",
    "\n",
    "This is like putting an `if` statement inside the `for` loop."
   ]
  },
  {
   "cell_type": "code",
   "execution_count": 15,
   "metadata": {
    "slideshow": {
     "slide_type": "fragment"
    }
   },
   "outputs": [
    {
     "data": {
      "text/plain": [
       "[9, 16, 25, 36]"
      ]
     },
     "execution_count": 15,
     "metadata": {},
     "output_type": "execute_result"
    }
   ],
   "source": [
    "aux: List[int] = []\n",
    "    \n",
    "for n in range(10):\n",
    "    if n % 7 > 2:\n",
    "        aux.append(n * n)\n",
    "\n",
    "aux"
   ]
  },
  {
   "cell_type": "markdown",
   "metadata": {},
   "source": [
    "In summary, a **list comprehension**\n",
    "```python\n",
    "[E(v) for v in iterable if C(v)]\n",
    "```\n",
    "  \n",
    "* takes items from an _**iterable**_:\n",
    "  ```python\n",
    "  for v in iterable\n",
    "  ```\n",
    "* _**selects**_ items based on a condition:\n",
    "  ```python\n",
    "  if C(v)\n",
    "  ```\n",
    "* _**transforms**_ the selected items using an expression:\n",
    "  ```python\n",
    "  E(v)\n",
    "  ```\n",
    "* and _**collects**_ the expression results in a list:\n",
    "  ```python\n",
    "  [...]\n",
    "  ```\n",
    "\n",
    "Note the order: first select, then transform\n",
    "(even though you write the transformation first, and the selection last)."
   ]
  },
  {
   "cell_type": "markdown",
   "metadata": {
    "jupyter": {
     "source_hidden": true
    },
    "tags": []
   },
   "source": [
    "<div class=\"alert alert-success\">\n",
    "    <b>Do It Yourself!</b><br>\n",
    "    Use a comprehension to create a list where all words in the given list are transformed into capital letters.\n",
    "</div>"
   ]
  },
  {
   "cell_type": "code",
   "execution_count": 16,
   "metadata": {
    "jupyter": {
     "source_hidden": true
    },
    "tags": []
   },
   "outputs": [],
   "source": [
    "words: List[str] = ['age', 'bee', 'ask', 'cut', 'clean', 'zoo', 'add']\n",
    "# Remove this line and add your code here"
   ]
  },
  {
   "cell_type": "markdown",
   "metadata": {
    "slideshow": {
     "slide_type": "slide"
    }
   },
   "source": [
    "## 6. Nested Comprehensions\n",
    "\n",
    "If you need to select _after_ transforming the items,\n",
    "then you can use a _nested_ comprehension\n",
    "(but do read the **warning** after the following example)."
   ]
  },
  {
   "cell_type": "code",
   "execution_count": 17,
   "metadata": {
    "slideshow": {
     "slide_type": "fragment"
    }
   },
   "outputs": [
    {
     "data": {
      "text/plain": [
       "[4, 25, 81]"
      ]
     },
     "execution_count": 17,
     "metadata": {},
     "output_type": "execute_result"
    }
   ],
   "source": [
    "[sq for sq in [n * n for n in range(10)] if sq % 7 > 2]"
   ]
  },
  {
   "cell_type": "markdown",
   "metadata": {
    "slideshow": {
     "slide_type": "fragment"
    }
   },
   "source": [
    "Observe that the result is different with `[n * n for n in range(10) if n % 7 > 2]`, why?"
   ]
  },
  {
   "cell_type": "markdown",
   "metadata": {
    "slideshow": {
     "slide_type": "fragment"
    }
   },
   "source": [
    "<div class=\"alert alert-info\">\n",
    "    <b>Evaluation of nested comprehensions</b><br>\n",
    "    In a <b>nested comprehension</b>,\n",
    "    the <i>inner</i> comprehension is <b>completely evaluated and stored</b>\n",
    "    before it is being used in the <i>outer</i> comprehension.\n",
    "</div>"
   ]
  },
  {
   "cell_type": "markdown",
   "metadata": {
    "jupyter": {
     "source_hidden": true
    },
    "tags": []
   },
   "source": [
    "<div class=\"alert alert-success\">\n",
    "    <b>Do It Yourself!</b><br>\n",
    "    We have a list of lists. The internal lists have numbers as elements. We would like to flatten the outer list; i.e. instead of have lists of lists of numbers we just want to have a list of numbers. Use a nested comprehension to achieve this goal.\n",
    "</div>"
   ]
  },
  {
   "cell_type": "code",
   "execution_count": 18,
   "metadata": {
    "jupyter": {
     "source_hidden": true
    },
    "tags": []
   },
   "outputs": [],
   "source": [
    "lst = [[1, 2, 3], [4, 5, 6, 7], [8, 9, 10], [11], [12, 13, 14, 15]]\n",
    "# Remove this line and add your code here"
   ]
  },
  {
   "cell_type": "markdown",
   "metadata": {
    "slideshow": {
     "slide_type": "slide"
    }
   },
   "source": [
    "### Alternative Approaches for Selection _After_ Transformation\n",
    "\n",
    "Perfom the transformation (in this case: squaring)\n",
    "also in the `if` clause:"
   ]
  },
  {
   "cell_type": "code",
   "execution_count": 19,
   "metadata": {
    "slideshow": {
     "slide_type": "fragment"
    }
   },
   "outputs": [
    {
     "data": {
      "text/plain": [
       "[4, 25, 81]"
      ]
     },
     "execution_count": 19,
     "metadata": {},
     "output_type": "execute_result"
    }
   ],
   "source": [
    "[n * n for n in range(10) if n * n % 7 > 2]"
   ]
  },
  {
   "cell_type": "markdown",
   "metadata": {
    "slideshow": {
     "slide_type": "fragment"
    }
   },
   "source": [
    "A disadvantage of this approach is that every transformation is done *twice*,\n",
    "which can be costly if the transformation is expensive."
   ]
  },
  {
   "cell_type": "markdown",
   "metadata": {
    "slideshow": {
     "slide_type": "subslide"
    }
   },
   "source": [
    "## 7. Set and Dictionary Comprehensions\n",
    "\n",
    "* [Comprehensions also work for _sets_ and _dictionaries_](https://docs.python.org/3/reference/expressions.html#displays-for-lists-sets-and-dictionaries).\n",
    "* Comprehensions can involve multiple `for` and `if` clauses\n",
    "  (but always start with an expression and a `for` clause).\n",
    "  \n",
    "Here are some examples.\n",
    "The _set_ of non-prime numbers up to 100:"
   ]
  },
  {
   "cell_type": "code",
   "execution_count": 20,
   "metadata": {
    "scrolled": true,
    "slideshow": {
     "slide_type": "fragment"
    }
   },
   "outputs": [
    {
     "data": {
      "text/plain": [
       "{4,\n",
       " 6,\n",
       " 8,\n",
       " 9,\n",
       " 10,\n",
       " 12,\n",
       " 14,\n",
       " 15,\n",
       " 16,\n",
       " 18,\n",
       " 20,\n",
       " 21,\n",
       " 22,\n",
       " 24,\n",
       " 25,\n",
       " 26,\n",
       " 27,\n",
       " 28,\n",
       " 30,\n",
       " 32,\n",
       " 33,\n",
       " 34,\n",
       " 35,\n",
       " 36,\n",
       " 38,\n",
       " 39,\n",
       " 40,\n",
       " 42,\n",
       " 44,\n",
       " 45,\n",
       " 46,\n",
       " 48,\n",
       " 49,\n",
       " 50,\n",
       " 51,\n",
       " 52,\n",
       " 54,\n",
       " 55,\n",
       " 56,\n",
       " 57,\n",
       " 58,\n",
       " 60,\n",
       " 62,\n",
       " 63,\n",
       " 64,\n",
       " 65,\n",
       " 66,\n",
       " 68,\n",
       " 69,\n",
       " 70,\n",
       " 72,\n",
       " 74,\n",
       " 75,\n",
       " 76,\n",
       " 77,\n",
       " 78,\n",
       " 80,\n",
       " 81,\n",
       " 82,\n",
       " 84,\n",
       " 85,\n",
       " 86,\n",
       " 87,\n",
       " 88,\n",
       " 90,\n",
       " 91,\n",
       " 92,\n",
       " 93,\n",
       " 94,\n",
       " 95,\n",
       " 96,\n",
       " 98,\n",
       " 99,\n",
       " 100}"
      ]
     },
     "execution_count": 20,
     "metadata": {},
     "output_type": "execute_result"
    }
   ],
   "source": [
    "composites: Set[int] = {i * j for i in range(2, 10 + 1) for j in range(2, 100 // i + 1)}\n",
    "composites"
   ]
  },
  {
   "cell_type": "markdown",
   "metadata": {},
   "source": [
    "Let us decompose this rather complex comprehension by looking what each step does, both as `list` and `set`."
   ]
  },
  {
   "cell_type": "code",
   "execution_count": 21,
   "metadata": {
    "scrolled": true,
    "slideshow": {
     "slide_type": "fragment"
    }
   },
   "outputs": [
    {
     "data": {
      "text/plain": [
       "[2, 3, 4, 5, 6, 7, 8, 9, 10]"
      ]
     },
     "execution_count": 21,
     "metadata": {},
     "output_type": "execute_result"
    }
   ],
   "source": [
    "[i for i in range(2, 10 + 1)]"
   ]
  },
  {
   "cell_type": "code",
   "execution_count": 22,
   "metadata": {
    "scrolled": true,
    "slideshow": {
     "slide_type": "fragment"
    }
   },
   "outputs": [
    {
     "data": {
      "text/plain": [
       "{2, 3, 4, 5, 6, 7, 8, 9, 10}"
      ]
     },
     "execution_count": 22,
     "metadata": {},
     "output_type": "execute_result"
    }
   ],
   "source": [
    "{i for i in range(2, 10 + 1)}"
   ]
  },
  {
   "cell_type": "markdown",
   "metadata": {},
   "source": [
    "Let us add the second comprehension and first see the result when a list is being returned."
   ]
  },
  {
   "cell_type": "code",
   "execution_count": 23,
   "metadata": {},
   "outputs": [
    {
     "name": "stdout",
     "output_type": "stream",
     "text": [
      "50\n",
      "33\n",
      "25\n",
      "20\n",
      "16\n",
      "14\n",
      "12\n",
      "11\n",
      "10\n"
     ]
    }
   ],
   "source": [
    "for i in range(2, 10 + 1):\n",
    "    print(100 // i)"
   ]
  },
  {
   "cell_type": "code",
   "execution_count": 24,
   "metadata": {},
   "outputs": [
    {
     "name": "stdout",
     "output_type": "stream",
     "text": [
      "51\n",
      "34\n",
      "26\n",
      "21\n",
      "17\n",
      "15\n",
      "13\n",
      "12\n",
      "11\n"
     ]
    }
   ],
   "source": [
    "for i in range(2, 10 + 1):\n",
    "    print(100 // i + 1)"
   ]
  },
  {
   "cell_type": "code",
   "execution_count": 25,
   "metadata": {
    "scrolled": true,
    "slideshow": {
     "slide_type": "fragment"
    }
   },
   "outputs": [
    {
     "data": {
      "text/plain": [
       "[2,\n",
       " 3,\n",
       " 4,\n",
       " 5,\n",
       " 6,\n",
       " 7,\n",
       " 8,\n",
       " 9,\n",
       " 10,\n",
       " 11,\n",
       " 12,\n",
       " 13,\n",
       " 14,\n",
       " 15,\n",
       " 16,\n",
       " 17,\n",
       " 18,\n",
       " 19,\n",
       " 20,\n",
       " 21,\n",
       " 22,\n",
       " 23,\n",
       " 24,\n",
       " 25,\n",
       " 26,\n",
       " 27,\n",
       " 28,\n",
       " 29,\n",
       " 30,\n",
       " 31,\n",
       " 32,\n",
       " 33,\n",
       " 34,\n",
       " 35,\n",
       " 36,\n",
       " 37,\n",
       " 38,\n",
       " 39,\n",
       " 40,\n",
       " 41,\n",
       " 42,\n",
       " 43,\n",
       " 44,\n",
       " 45,\n",
       " 46,\n",
       " 47,\n",
       " 48,\n",
       " 49,\n",
       " 50,\n",
       " 2,\n",
       " 3,\n",
       " 4,\n",
       " 5,\n",
       " 6,\n",
       " 7,\n",
       " 8,\n",
       " 9,\n",
       " 10,\n",
       " 11,\n",
       " 12,\n",
       " 13,\n",
       " 14,\n",
       " 15,\n",
       " 16,\n",
       " 17,\n",
       " 18,\n",
       " 19,\n",
       " 20,\n",
       " 21,\n",
       " 22,\n",
       " 23,\n",
       " 24,\n",
       " 25,\n",
       " 26,\n",
       " 27,\n",
       " 28,\n",
       " 29,\n",
       " 30,\n",
       " 31,\n",
       " 32,\n",
       " 33,\n",
       " 2,\n",
       " 3,\n",
       " 4,\n",
       " 5,\n",
       " 6,\n",
       " 7,\n",
       " 8,\n",
       " 9,\n",
       " 10,\n",
       " 11,\n",
       " 12,\n",
       " 13,\n",
       " 14,\n",
       " 15,\n",
       " 16,\n",
       " 17,\n",
       " 18,\n",
       " 19,\n",
       " 20,\n",
       " 21,\n",
       " 22,\n",
       " 23,\n",
       " 24,\n",
       " 25,\n",
       " 2,\n",
       " 3,\n",
       " 4,\n",
       " 5,\n",
       " 6,\n",
       " 7,\n",
       " 8,\n",
       " 9,\n",
       " 10,\n",
       " 11,\n",
       " 12,\n",
       " 13,\n",
       " 14,\n",
       " 15,\n",
       " 16,\n",
       " 17,\n",
       " 18,\n",
       " 19,\n",
       " 20,\n",
       " 2,\n",
       " 3,\n",
       " 4,\n",
       " 5,\n",
       " 6,\n",
       " 7,\n",
       " 8,\n",
       " 9,\n",
       " 10,\n",
       " 11,\n",
       " 12,\n",
       " 13,\n",
       " 14,\n",
       " 15,\n",
       " 16,\n",
       " 2,\n",
       " 3,\n",
       " 4,\n",
       " 5,\n",
       " 6,\n",
       " 7,\n",
       " 8,\n",
       " 9,\n",
       " 10,\n",
       " 11,\n",
       " 12,\n",
       " 13,\n",
       " 14,\n",
       " 2,\n",
       " 3,\n",
       " 4,\n",
       " 5,\n",
       " 6,\n",
       " 7,\n",
       " 8,\n",
       " 9,\n",
       " 10,\n",
       " 11,\n",
       " 12,\n",
       " 2,\n",
       " 3,\n",
       " 4,\n",
       " 5,\n",
       " 6,\n",
       " 7,\n",
       " 8,\n",
       " 9,\n",
       " 10,\n",
       " 11,\n",
       " 2,\n",
       " 3,\n",
       " 4,\n",
       " 5,\n",
       " 6,\n",
       " 7,\n",
       " 8,\n",
       " 9,\n",
       " 10]"
      ]
     },
     "execution_count": 25,
     "metadata": {},
     "output_type": "execute_result"
    }
   ],
   "source": [
    "[j for i in range(2, 10 + 1) for j in range(2, 100 // i + 1)]"
   ]
  },
  {
   "cell_type": "code",
   "execution_count": 26,
   "metadata": {},
   "outputs": [
    {
     "data": {
      "text/plain": [
       "{2,\n",
       " 3,\n",
       " 4,\n",
       " 5,\n",
       " 6,\n",
       " 7,\n",
       " 8,\n",
       " 9,\n",
       " 10,\n",
       " 11,\n",
       " 12,\n",
       " 13,\n",
       " 14,\n",
       " 15,\n",
       " 16,\n",
       " 17,\n",
       " 18,\n",
       " 19,\n",
       " 20,\n",
       " 21,\n",
       " 22,\n",
       " 23,\n",
       " 24,\n",
       " 25,\n",
       " 26,\n",
       " 27,\n",
       " 28,\n",
       " 29,\n",
       " 30,\n",
       " 31,\n",
       " 32,\n",
       " 33,\n",
       " 34,\n",
       " 35,\n",
       " 36,\n",
       " 37,\n",
       " 38,\n",
       " 39,\n",
       " 40,\n",
       " 41,\n",
       " 42,\n",
       " 43,\n",
       " 44,\n",
       " 45,\n",
       " 46,\n",
       " 47,\n",
       " 48,\n",
       " 49,\n",
       " 50}"
      ]
     },
     "execution_count": 26,
     "metadata": {},
     "output_type": "execute_result"
    }
   ],
   "source": [
    "{j for i in range(2, 10 + 1) for j in range(2, 100 // i + 1)}"
   ]
  },
  {
   "cell_type": "markdown",
   "metadata": {
    "jupyter": {
     "source_hidden": true
    },
    "tags": []
   },
   "source": [
    "<div class=\"alert alert-success\">\n",
    "    <b>Do It Yourself!</b><br>\n",
    "    We would like to use a set comprehension to create a set with all words of length 4 that are part of a given list. Remember that sets do not have duplicates and that is why we eant to use them as data type.\n",
    "</div>"
   ]
  },
  {
   "cell_type": "code",
   "execution_count": 27,
   "metadata": {
    "jupyter": {
     "source_hidden": true
    },
    "tags": []
   },
   "outputs": [],
   "source": [
    "lst: List[str] = ['funny', 'that', 'little', 'yoke', 'sunny', 'side', 'up', 'in', 'the', 'span',\n",
    "       'of', 'the', 'lake']\n",
    "# Remove this line and add your code here"
   ]
  },
  {
   "cell_type": "markdown",
   "metadata": {
    "slideshow": {
     "slide_type": "fragment"
    }
   },
   "source": [
    "A _dictionary_ that associates the numbers 13 through 32\n",
    "to their squares:"
   ]
  },
  {
   "cell_type": "code",
   "execution_count": 28,
   "metadata": {
    "slideshow": {
     "slide_type": "fragment"
    }
   },
   "outputs": [
    {
     "data": {
      "text/plain": [
       "{13: 169,\n",
       " 14: 196,\n",
       " 15: 225,\n",
       " 16: 256,\n",
       " 17: 289,\n",
       " 18: 324,\n",
       " 19: 361,\n",
       " 20: 400,\n",
       " 21: 441,\n",
       " 22: 484,\n",
       " 23: 529,\n",
       " 24: 576,\n",
       " 25: 625,\n",
       " 26: 676,\n",
       " 27: 729,\n",
       " 28: 784,\n",
       " 29: 841,\n",
       " 30: 900,\n",
       " 31: 961,\n",
       " 32: 1024}"
      ]
     },
     "execution_count": 28,
     "metadata": {},
     "output_type": "execute_result"
    }
   ],
   "source": [
    "squares: Dict[int, int] = {n: n * n for n in range(13, 32 + 1)}\n",
    "squares"
   ]
  },
  {
   "cell_type": "markdown",
   "metadata": {
    "slideshow": {
     "slide_type": "fragment"
    }
   },
   "source": [
    "A _list_ of powers\n",
    "where the base is a prime less than 10 and\n",
    "exponents run from 2 through 5\n",
    "(it uses `composites` defined earlier);\n",
    "note the clause order `for if for`:"
   ]
  },
  {
   "cell_type": "code",
   "execution_count": 29,
   "metadata": {
    "slideshow": {
     "slide_type": "fragment"
    }
   },
   "outputs": [
    {
     "data": {
      "text/plain": [
       "[4, 8, 16, 32, 9, 27, 81, 243, 25, 125, 625, 3125, 49, 343, 2401, 16807]"
      ]
     },
     "execution_count": 29,
     "metadata": {},
     "output_type": "execute_result"
    }
   ],
   "source": [
    "[base ** exp for base in range(2, 10 + 1) if base not in composites for exp in range(2, 5 + 1)]"
   ]
  },
  {
   "cell_type": "markdown",
   "metadata": {},
   "source": [
    "In order to understand it may be again helpful to look at the individual results of each comprehension."
   ]
  },
  {
   "cell_type": "markdown",
   "metadata": {
    "jupyter": {
     "source_hidden": true
    },
    "tags": []
   },
   "source": [
    "<div class=\"alert alert-success\">\n",
    "    <b>Do It Yourself!</b><br>\n",
    "    Use a comprehension to create a dictionary that stores the words within the list <i>lst</i> as keys and their length as values.\n",
    "</div>"
   ]
  },
  {
   "cell_type": "code",
   "execution_count": 30,
   "metadata": {
    "jupyter": {
     "source_hidden": true
    },
    "tags": []
   },
   "outputs": [],
   "source": [
    "lst: List[str] = ['funny', 'that', 'little', 'yoke', 'sunny', 'side', 'up', 'in', 'the', 'span',\n",
    "       'of', 'the', 'lake']\n",
    "# Remove this line and add your code here"
   ]
  },
  {
   "cell_type": "markdown",
   "metadata": {
    "slideshow": {
     "slide_type": "subslide"
    }
   },
   "source": [
    "## 8. Comprehensions Evaluation\n",
    "\n",
    "Comprehensions are completely evaluated before further use.\n",
    "\n",
    "What if you do not need the whole list constructed by the comprehension?\n",
    "Suppose, for instance, you only want the first element.\n",
    "Will the whole list still be computed?\n",
    "\n",
    "To illustrate what we mean,\n",
    "we first show a version with explicit\n",
    "**`for`**, **`if`**, and **`break`** statements,\n",
    "that avoids computing all values in the list.\n",
    "It stops when the first item has been computed."
   ]
  },
  {
   "cell_type": "code",
   "execution_count": 31,
   "metadata": {
    "slideshow": {
     "slide_type": "fragment"
    }
   },
   "outputs": [
    {
     "name": "stdout",
     "output_type": "stream",
     "text": [
      "[9]\n"
     ]
    },
    {
     "data": {
      "text/plain": [
       "9"
      ]
     },
     "execution_count": 31,
     "metadata": {},
     "output_type": "execute_result"
    }
   ],
   "source": [
    "aux: List[int] = []\n",
    "\n",
    "for n in range(10):\n",
    "    if n % 7 > 2:\n",
    "        aux.append(n * n)\n",
    "        break\n",
    "\n",
    "print(aux)\n",
    "aux[0]"
   ]
  },
  {
   "cell_type": "markdown",
   "metadata": {
    "slideshow": {
     "slide_type": "fragment"
    }
   },
   "source": [
    "Let's try this with our comprehension,\n",
    "by extracting the first item (at index 0)."
   ]
  },
  {
   "cell_type": "code",
   "execution_count": 32,
   "metadata": {
    "slideshow": {
     "slide_type": "fragment"
    }
   },
   "outputs": [
    {
     "data": {
      "text/plain": [
       "9"
      ]
     },
     "execution_count": 32,
     "metadata": {},
     "output_type": "execute_result"
    }
   ],
   "source": [
    "[n * n for n in range(20) if n % 7 > 2][0]"
   ]
  },
  {
   "cell_type": "markdown",
   "metadata": {
    "slideshow": {
     "slide_type": "fragment"
    }
   },
   "source": [
    "Actually, we now cannot see whether the whole list got computed.\n",
    "So, let us introduce a function `f` with a **side effect**\n",
    "to make this visible.\n",
    "A *side effect* is the modification of any sort of state such as changing a mutable variable, using IO (Input/Output), or throwing an exception.\n",
    "As a function, `trail` does nothing to its argument:\n",
    "it returns _n_ unchanged.\n",
    "But it also prints a dot, and this is a (visible) side effect."
   ]
  },
  {
   "cell_type": "code",
   "execution_count": 33,
   "metadata": {
    "slideshow": {
     "slide_type": "fragment"
    }
   },
   "outputs": [],
   "source": [
    "from typing import Any\n",
    "\n",
    "def trail(n: Any) -> Any:\n",
    "    \"\"\" \n",
    "    Print a dot and return n.\n",
    "    :param n: any value\n",
    "    :returns: value given as parameter without any change\n",
    "    \"\"\"\n",
    "    print('.', end='')\n",
    "    return n"
   ]
  },
  {
   "cell_type": "markdown",
   "metadata": {
    "slideshow": {
     "slide_type": "fragment"
    }
   },
   "source": [
    "Let us try again."
   ]
  },
  {
   "cell_type": "code",
   "execution_count": 34,
   "metadata": {
    "slideshow": {
     "slide_type": "fragment"
    }
   },
   "outputs": [
    {
     "name": "stdout",
     "output_type": "stream",
     "text": [
      "..........."
     ]
    },
    {
     "data": {
      "text/plain": [
       "9"
      ]
     },
     "execution_count": 34,
     "metadata": {},
     "output_type": "execute_result"
    }
   ],
   "source": [
    "[trail(n * n) for n in range(20) if n % 7 > 2][0]"
   ]
  },
  {
   "cell_type": "markdown",
   "metadata": {
    "slideshow": {
     "slide_type": "fragment"
    }
   },
   "source": [
    "Apparently, the whole list got computed first."
   ]
  },
  {
   "cell_type": "markdown",
   "metadata": {},
   "source": [
    "<div class=\"alert alert-success\">\n",
    "    <b>Do It Yourself!</b><br>\n",
    "    Use a comprehension to generate a list of the numbers from 1 to 10 squared, but only conmpute the squares until you find a square that is greater than 50. Use a side effect function, such as the function to print a dot for each computation. Finally, print the generated list of squares. <br>\n",
    "<b>Hint:</b>   You may use the <code>trail</code> function\n",
    "</div>"
   ]
  },
  {
   "cell_type": "code",
   "execution_count": 35,
   "metadata": {},
   "outputs": [],
   "source": [
    "# Remove this line and add your code here"
   ]
  },
  {
   "cell_type": "markdown",
   "metadata": {
    "slideshow": {
     "slide_type": "slide"
    }
   },
   "source": [
    "## 9. Generators\n",
    "\n",
    "We can fix this by using a generator.\n",
    "* A [**generator expression**](https://docs.python.org/3/reference/expressions.html#generator-expressions) is like a comprehension:\n",
    "it _selectively_ takes items from an _iterable_ and\n",
    "_transforms_ them.\n",
    "* But a generator does not construct a list to store all items.\n",
    "* A generator is **lazy**,\n",
    "in the sense that a generator will not be computed completely in advance.\n",
    "(In fact, a generator can be endless/infinite.)\n",
    "* Instead,\n",
    "a generator is only evaluated to the extent that its values are needed.\n",
    "The evaluation of a generator is **demand driven**.\n",
    "\n",
    "A generator is not a list, but it is itself again an _iterable_.\n",
    "In fact, a generator is an _iterator_.\n",
    "(A list is also an iterable, but a list is completely stored in memory.)\n",
    "\n",
    "Let us define a function `first`\n",
    "that will only extract the first element of an iterable.\n",
    "(We need this function `first`,\n",
    "because we cannot extract the first item from an iterable by indexing it at 0,\n",
    "like we did with the list comprehension.)"
   ]
  },
  {
   "cell_type": "code",
   "execution_count": 36,
   "metadata": {
    "slideshow": {
     "slide_type": "fragment"
    }
   },
   "outputs": [],
   "source": [
    "from typing import Iterable\n",
    "\n",
    "def first(iterable: Iterable) -> Any:\n",
    "    \"\"\" \n",
    "    Returns first item from iterable.\n",
    "    :param iterable: the set which has to be iterated\n",
    "    :returns: the first element of the iterable.\n",
    "    \"\"\"\n",
    "    for item in iterable:\n",
    "        return item  # and ignore everything else"
   ]
  },
  {
   "cell_type": "markdown",
   "metadata": {
    "slideshow": {
     "slide_type": "fragment"
    }
   },
   "source": [
    "If we apply this to the list comprehension, we (again) see that the whole list still gets computed."
   ]
  },
  {
   "cell_type": "code",
   "execution_count": 37,
   "metadata": {
    "slideshow": {
     "slide_type": "fragment"
    }
   },
   "outputs": [
    {
     "name": "stdout",
     "output_type": "stream",
     "text": [
      "..........."
     ]
    },
    {
     "data": {
      "text/plain": [
       "9"
      ]
     },
     "execution_count": 37,
     "metadata": {},
     "output_type": "execute_result"
    }
   ],
   "source": [
    "first([trail(n * n) for n in range(20) if n % 7 > 2])"
   ]
  },
  {
   "cell_type": "markdown",
   "metadata": {
    "slideshow": {
     "slide_type": "fragment"
    }
   },
   "source": [
    "Now, let us apply it to the generator version of the comprehension.\n",
    "Note the use of **round parentheses** instead of square brackets.\n",
    "By the way, since the function call also involves round parentheses,\n",
    "we don't have to repeat another pair."
   ]
  },
  {
   "cell_type": "code",
   "execution_count": 38,
   "metadata": {
    "slideshow": {
     "slide_type": "fragment"
    }
   },
   "outputs": [
    {
     "name": "stdout",
     "output_type": "stream",
     "text": [
      "."
     ]
    },
    {
     "data": {
      "text/plain": [
       "9"
      ]
     },
     "execution_count": 38,
     "metadata": {},
     "output_type": "execute_result"
    }
   ],
   "source": [
    "first(trail(n * n) for n in range(20) if n % 7 > 2)"
   ]
  },
  {
   "cell_type": "markdown",
   "metadata": {
    "slideshow": {
     "slide_type": "fragment"
    }
   },
   "source": [
    "We see that now only one item got computed (the first one)."
   ]
  },
  {
   "cell_type": "markdown",
   "metadata": {
    "jupyter": {
     "source_hidden": true
    },
    "tags": []
   },
   "source": [
    "<div class=\"alert alert-success\">\n",
    "    <b>Do It Yourself!</b><br>\n",
    "    Create the function <i>first_multiple_of_2</i> which gets an iterable as argument and returns the first number that is multiple of two. Build a generator that iterates over number from 1 to 10, and computes the result of multiplying a given number by 3. \n",
    "</div>"
   ]
  },
  {
   "cell_type": "code",
   "execution_count": 39,
   "metadata": {
    "jupyter": {
     "source_hidden": true
    },
    "tags": []
   },
   "outputs": [],
   "source": [
    "# Remove this line and add your code here"
   ]
  },
  {
   "cell_type": "markdown",
   "metadata": {
    "slideshow": {
     "slide_type": "subslide"
    }
   },
   "source": [
    "### A Generator Can be Used Only Once"
   ]
  },
  {
   "cell_type": "markdown",
   "metadata": {
    "slideshow": {
     "slide_type": "fragment"
    }
   },
   "source": [
    "Because a generator is a (special kind of) iterator,\n",
    "it can be used only once."
   ]
  },
  {
   "cell_type": "markdown",
   "metadata": {
    "slideshow": {
     "slide_type": "fragment"
    }
   },
   "source": [
    "Let us store our generator in a variable:"
   ]
  },
  {
   "cell_type": "code",
   "execution_count": 40,
   "metadata": {
    "slideshow": {
     "slide_type": "fragment"
    }
   },
   "outputs": [],
   "source": [
    "my_gen = (trail(n * n) for n in range(10) if n % 7 > 2)"
   ]
  },
  {
   "cell_type": "markdown",
   "metadata": {
    "slideshow": {
     "slide_type": "fragment"
    }
   },
   "source": [
    "You can then use this variable as an iterable."
   ]
  },
  {
   "cell_type": "code",
   "execution_count": 41,
   "metadata": {
    "slideshow": {
     "slide_type": "fragment"
    }
   },
   "outputs": [
    {
     "name": "stdout",
     "output_type": "stream",
     "text": [
      "."
     ]
    },
    {
     "data": {
      "text/plain": [
       "9"
      ]
     },
     "execution_count": 41,
     "metadata": {},
     "output_type": "execute_result"
    }
   ],
   "source": [
    "first(my_gen)"
   ]
  },
  {
   "cell_type": "code",
   "execution_count": 42,
   "metadata": {
    "slideshow": {
     "slide_type": "fragment"
    }
   },
   "outputs": [
    {
     "name": "stdout",
     "output_type": "stream",
     "text": [
      ".16 .25 .36 "
     ]
    }
   ],
   "source": [
    "for i in my_gen:\n",
    "    print(i, end=\" \")"
   ]
  },
  {
   "cell_type": "markdown",
   "metadata": {
    "slideshow": {
     "slide_type": "fragment"
    }
   },
   "source": [
    "Observe that the generator continued where it left off after its first (partial) use.\n",
    "Once a generator is exhausted (has reached the end), it becomes useless."
   ]
  },
  {
   "cell_type": "code",
   "execution_count": 43,
   "metadata": {
    "slideshow": {
     "slide_type": "fragment"
    }
   },
   "outputs": [],
   "source": [
    "for i in my_gen:\n",
    "    print(i, end=\" \")"
   ]
  },
  {
   "cell_type": "markdown",
   "metadata": {
    "slideshow": {
     "slide_type": "fragment"
    }
   },
   "source": [
    "(There is no output, because the generator was already exhausted.)"
   ]
  },
  {
   "cell_type": "markdown",
   "metadata": {
    "slideshow": {
     "slide_type": "subslide"
    }
   },
   "source": [
    "## 10. Factories\n",
    "\n",
    "Since generators (like iterators) are not reusable,\n",
    "it is more common to define a **function that returns a fresh generator** on each call.\n",
    "Such a function is also known as a **factory**.\n",
    "If that function is parameterized,\n",
    "then you can produce _customized_ generators.\n",
    "\n",
    "Here is an example of a parameterized factory:"
   ]
  },
  {
   "cell_type": "code",
   "execution_count": 44,
   "metadata": {
    "slideshow": {
     "slide_type": "fragment"
    }
   },
   "outputs": [],
   "source": [
    "from typing import Generator\n",
    "\n",
    "def square_factory(m: int) -> Generator[int, None, None]:\n",
    "    \"\"\" \n",
    "    Returns a generator for the squares of numbers in the range [0, m).\n",
    "    :param m: an integer value\n",
    "    :returns: an iterable as generator\n",
    "    \"\"\"\n",
    "    return (n * n for n in range(m) if n % 7 > 2)"
   ]
  },
  {
   "cell_type": "markdown",
   "metadata": {
    "slideshow": {
     "slide_type": "fragment"
    }
   },
   "source": [
    "The call `square_factory(10)` returns (a fresh copy of) the generator\n",
    "that we considered above.\n",
    "\n",
    "Let's try the same things again, using this factory."
   ]
  },
  {
   "cell_type": "code",
   "execution_count": 45,
   "metadata": {
    "slideshow": {
     "slide_type": "fragment"
    }
   },
   "outputs": [
    {
     "data": {
      "text/plain": [
       "9"
      ]
     },
     "execution_count": 45,
     "metadata": {},
     "output_type": "execute_result"
    }
   ],
   "source": [
    "first(square_factory(10))"
   ]
  },
  {
   "cell_type": "code",
   "execution_count": 46,
   "metadata": {
    "slideshow": {
     "slide_type": "fragment"
    }
   },
   "outputs": [
    {
     "name": "stdout",
     "output_type": "stream",
     "text": [
      "9 16 25 36 \n",
      "9 16 25 36 "
     ]
    }
   ],
   "source": [
    "for i in square_factory(10):\n",
    "    print(i, end=\" \")\n",
    "    \n",
    "print()\n",
    "\n",
    "for i in square_factory(10):\n",
    "    print(i, end=\" \")"
   ]
  },
  {
   "cell_type": "markdown",
   "metadata": {
    "slideshow": {
     "slide_type": "fragment"
    }
   },
   "source": [
    "That looks better.\n",
    "The **`for`** loop starts all over again."
   ]
  },
  {
   "cell_type": "markdown",
   "metadata": {
    "jupyter": {
     "source_hidden": true
    },
    "tags": []
   },
   "source": [
    "<div class=\"alert alert-success\">\n",
    "    <b>Do It Yourself!</b><br>\n",
    "    Create a factory function to return the generator you created before: the one related to computing the multiplication of a number by 3.\n",
    "</div>"
   ]
  },
  {
   "cell_type": "code",
   "execution_count": 47,
   "metadata": {
    "jupyter": {
     "source_hidden": true
    },
    "tags": []
   },
   "outputs": [],
   "source": [
    "# Remove this line and add your code here"
   ]
  },
  {
   "cell_type": "markdown",
   "metadata": {},
   "source": [
    "## 11. Summary <a class=\"anchor\" id=\"summary\"></a>\n",
    "\n",
    "\n",
    "This chapter provides a comprehensive overview of Python **comprehensions** and **generators**. \n",
    "\n",
    "**Comprehensions** are powerful constructs for creating lists, dictionaries, and sets by performing operations on iterable elements while optionally applying filters, enhancing code readability and efficiency. \n",
    "\n",
    "On the other hand, **Generators** are a memory-efficient way to create iterable sequences of data, allowing you to generate values as needed, rather than storing them in memory. \n",
    "This makes generators particularly useful for, for example, handling large datasets.\n",
    "\n",
    "This chapter also covers iterables, iterators, collections (like lists, sets, and dictionaries), selective inclusion in comprehensions, nested comprehensions, set and dictionary comprehensions, comprehension evaluation, and the one-time use limitation of generators. \n",
    "Factory functions are explored as a means to create customized generators.\n",
    "\n",
    "By delving into these concepts, the chapter provides a comprehensive understanding of how Python comprehensions and generators are fundamental tools for concise, efficient, and readable data manipulation and iteration."
   ]
  },
  {
   "cell_type": "markdown",
   "metadata": {},
   "source": [
    "---\n",
    "This Jupyter Notebook is based on Chapter 19 (Sections 19.2-19.5) of the book Think Python. \n",
    "The extra material presented is based on Jupyter notebooks developed by Tom Verhoeff (TU/e)."
   ]
  },
  {
   "cell_type": "markdown",
   "metadata": {},
   "source": [
    "---\n",
    "\n",
    "# (End of Notebook)\n",
    "\n",
    "&copy; 2023 - **TU/e** - Eindhoven University of Technology"
   ]
  }
 ],
 "metadata": {
  "anaconda-cloud": {},
  "kernelspec": {
   "display_name": "Python 3",
   "language": "python",
   "name": "python3"
  },
  "language_info": {
   "codemirror_mode": {
    "name": "ipython",
    "version": 3
   },
   "file_extension": ".py",
   "mimetype": "text/x-python",
   "name": "python",
   "nbconvert_exporter": "python",
   "pygments_lexer": "ipython3",
   "version": "3.11.5"
  }
 },
 "nbformat": 4,
 "nbformat_minor": 4
}
